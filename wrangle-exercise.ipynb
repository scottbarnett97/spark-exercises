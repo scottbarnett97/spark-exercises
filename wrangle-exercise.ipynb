{
 "cells": [
  {
   "cell_type": "code",
   "execution_count": null,
   "id": "ede63e6a-eaad-4092-b397-71b9763d56b5",
   "metadata": {},
   "outputs": [],
   "source": [
    "import pyspark\n",
    "import pandas as pd\n",
    "import numpy as np\n",
    "from pyspark.sql.functions import col, expr\n",
    "from pyspark.sql.functions import *\n",
    "from pyspark.sql.functions import lit\n",
    "from pyspark.sql.functions import asc, desc\n",
    "from pyspark.sql.functions import month, year, quarter\n",
    "from pyspark.sql.functions import current_date, datediff\n",
    "from pyspark.sql.functions import col\n",
    "from pyspark.sql import SparkSession\n",
    "from sqlalchemy import text, create_engine\n",
    "from env import host, user, password\n",
    "from pyspark.sql.functions import avg\n",
    "\n",
    "# The SparkSession is where you would specify the JDBC driver and additional connection details.\n",
    "# We'll use pd.read_sql to simplify here so we can focus on the Spark API and not the IT setup.\n",
    "# When using Spark on the job, you'll work with the operations team to install the right Java drivers and configure your connection\n",
    "spark = SparkSession.builder.getOrCreate()\n",
    "\n",
    "from pydataset import data"
   ]
  },
  {
   "cell_type": "markdown",
   "id": "5f4a93ee-c8df-48f8-9bff-e46ed01d83ed",
   "metadata": {},
   "source": [
    "# Spark Wrangle Exercises"
   ]
  },
  {
   "cell_type": "code",
   "execution_count": null,
   "id": "b2c2da0b-f3e8-45d8-8eea-8c28a7683b05",
   "metadata": {},
   "outputs": [],
   "source": []
  },
  {
   "cell_type": "markdown",
   "id": "b115ffc3-6817-4309-b027-2f4597a55b67",
   "metadata": {},
   "source": [
    "## 1. Read the case, department, and source data into their own spark dataframes.\n",
    "\n"
   ]
  },
  {
   "cell_type": "code",
   "execution_count": null,
   "id": "30903ad0-3673-4522-9620-70bc87173bd2",
   "metadata": {},
   "outputs": [],
   "source": []
  },
  {
   "cell_type": "code",
   "execution_count": 6,
   "id": "c919a676-5e7b-410d-a4b3-073e084ad9a0",
   "metadata": {},
   "outputs": [],
   "source": [
    "def get_db_url(database, host=host, user=user, password=password):\n",
    "    return f'mysql+pymysql://{user}:{password}@{host}/{database}'"
   ]
  },
  {
   "cell_type": "code",
   "execution_count": 14,
   "id": "8d74942d-9109-4636-8bdd-dbd292db5c70",
   "metadata": {},
   "outputs": [
    {
     "name": "stderr",
     "output_type": "stream",
     "text": [
      "23/07/05 13:55:22 WARN SparkSession: Using an existing Spark session; only runtime SQL configurations will take effect.\n"
     ]
    }
   ],
   "source": [
    "from pyspark.sql import SparkSession\n",
    "\n",
    "# Create SparkSession\n",
    "spark = SparkSession.builder \\\n",
    "    .appName(\"311 Data Assignment\") \\\n",
    "    .getOrCreate()\n"
   ]
  },
  {
   "cell_type": "code",
   "execution_count": 16,
   "id": "656bd586-f663-40c2-987e-9a250ca1fca4",
   "metadata": {},
   "outputs": [],
   "source": [
    "query = \"\"\"SELECT * FROM cases\"\"\"\n",
    "url = get_db_url(\"311_data\")\n",
    "engine = create_engine(url)\n",
    "df = pd.read_sql(text(query), engine.connect())\n",
    "df = spark.createDataFrame(df)\n"
   ]
  },
  {
   "cell_type": "code",
   "execution_count": 18,
   "id": "474ce74e-9c97-4342-9b0b-4bb5ef836a3b",
   "metadata": {},
   "outputs": [
    {
     "name": "stderr",
     "output_type": "stream",
     "text": [
      "23/07/05 13:59:36 WARN TaskSetManager: Stage 1 contains a task of very large size (12597 KiB). The maximum recommended task size is 1000 KiB.\n",
      "23/07/05 13:59:41 WARN PythonRunner: Detected deadlock while completing task 0.0 in stage 1 (TID 1): Attempting to kill Python Worker\n",
      "                                                                                \r"
     ]
    },
    {
     "name": "stdout",
     "output_type": "stream",
     "text": [
      "+----------+----------------+----------------+------------+---------+-------------------+-----------+----------------+--------------------+------------------+-----------+---------+--------------------+----------------+\n",
      "|   case_id|case_opened_date|case_closed_date|SLA_due_date|case_late|      num_days_late|case_closed|   dept_division|service_request_type|          SLA_days|case_status|source_id|     request_address|council_district|\n",
      "+----------+----------------+----------------+------------+---------+-------------------+-----------+----------------+--------------------+------------------+-----------+---------+--------------------+----------------+\n",
      "|1014127332|     1/1/18 0:42|    1/1/18 12:29|9/26/20 0:42|       NO|       -998.5087616|        YES|Field Operations|        Stray Animal|             999.0|     Closed| svcCRMLS|2315  EL PASO ST,...|               5|\n",
      "|1014127333|     1/1/18 0:46|     1/3/18 8:11| 1/5/18 8:30|       NO|       -2.012604167|        YES|     Storm Water|Removal Of Obstru...|       4.322222222|     Closed| svcCRMSS|2215  GOLIAD RD, ...|               3|\n",
      "|1014127334|     1/1/18 0:48|     1/2/18 7:57| 1/5/18 8:30|       NO|       -3.022337963|        YES|     Storm Water|Removal Of Obstru...|       4.320729167|     Closed| svcCRMSS|102  PALFREY ST W...|               3|\n",
      "|1014127335|     1/1/18 1:29|     1/2/18 8:13|1/17/18 8:30|       NO|       -15.01148148|        YES|Code Enforcement|Front Or Side Yar...|       16.29188657|     Closed| svcCRMSS|114  LA GARDE ST,...|               3|\n",
      "|1014127336|     1/1/18 1:34|    1/1/18 13:29| 1/1/18 4:34|      YES|        0.372164352|        YES|Field Operations|Animal Cruelty(Cr...|             0.125|     Closed| svcCRMSS|734  CLEARVIEW DR...|               7|\n",
      "|1014127337|     1/1/18 6:28|    1/1/18 14:38|1/31/18 8:30|       NO|       -29.74398148|        YES|         Signals|Traffic Signal Op...|       30.08446759|     Closed| svcCRMSS|BANDERA RD and BR...|               7|\n",
      "|1014127338|     1/1/18 6:57|    1/2/18 15:32|1/17/18 8:30|       NO|       -14.70673611|        YES|Code Enforcement|Front Or Side Yar...|       16.06429398|     Closed| svcCRMSS|10133  FIGARO CAN...|               4|\n",
      "|1014127339|     1/1/18 6:58|    1/2/18 15:32|1/17/18 8:30|       NO|       -14.70662037|        YES|Code Enforcement|Front Or Side Yar...|16.063796300000003|     Closed| svcCRMSS|10133  FIGARO CAN...|               4|\n",
      "|1014127340|     1/1/18 6:58|    1/2/18 15:32|1/17/18 8:30|       NO|       -14.70662037|        YES|Code Enforcement|Right Of Way/Side...|       16.06333333|     Closed| svcCRMSS|10133  FIGARO CAN...|               4|\n",
      "|1014127341|     1/1/18 6:59|    1/2/18 15:32|1/17/18 8:30|       NO|       -14.70649306|        YES|Code Enforcement|Front Or Side Yar...|        16.0628588|     Closed| svcCRMSS|10133  FIGARO CAN...|               4|\n",
      "|1014127342|     1/1/18 7:00|    1/2/18 15:32|1/17/18 8:30|       NO|       -14.70649306|        YES|Code Enforcement|Front Or Side Yar...|       16.06237269|     Closed| svcCRMSS|10133  FIGARO CAN...|               4|\n",
      "|1014127343|     1/1/18 7:02|    1/2/18 15:32|1/17/18 8:30|       NO|       -14.70636574|        YES|Code Enforcement|Right Of Way/Side...|       16.06104167|     Closed| svcCRMSS|10133  FIGARO CAN...|               4|\n",
      "|1014127344|     1/1/18 7:02|    1/2/18 15:33|1/17/18 8:30|       NO|          -14.70625|        YES|Code Enforcement|Front Or Side Yar...|       16.06059028|     Closed| svcCRMSS|10129  BOXING PAS...|               4|\n",
      "|1014127345|     1/1/18 7:03|    1/2/18 15:32|1/17/18 8:30|       NO|       -14.70636574|        YES|Code Enforcement|Front Or Side Yar...|       16.06011574|     Closed| svcCRMSS|10129  BOXING PAS...|               4|\n",
      "|1014127346|     1/1/18 7:04|    1/2/18 15:33|1/17/18 8:30|       NO|       -14.70623843|        YES|Code Enforcement|Right Of Way/Side...|       16.05953704|     Closed| svcCRMSS|10129  BOXING PAS...|               4|\n",
      "|1014127347|     1/1/18 7:04|    1/2/18 15:33|1/17/18 8:30|       NO|-14.705891199999998|        YES|Code Enforcement|Front Or Side Yar...|       16.05907407|     Closed| svcCRMSS|834  BARREL POINT...|               4|\n",
      "|1014127348|     1/1/18 7:05|    1/2/18 15:33|1/17/18 8:30|       NO|       -14.70600694|        YES|Code Enforcement|Front Or Side Yar...|       16.05864583|     Closed| svcCRMSS|834  BARREL POINT...|               4|\n",
      "|1014127349|     1/1/18 7:06|    1/2/18 15:33|1/17/18 8:30|       NO|       -14.70576389|        YES|Code Enforcement|Right Of Way/Side...|       16.05819444|     Closed| svcCRMSS|834  BARREL POINT...|               4|\n",
      "|1014127350|     1/1/18 7:06|    1/2/18 15:33|1/17/18 8:30|       NO|       -14.70576389|        YES|Code Enforcement|Front Or Side Yar...|       16.05775463|     Closed| svcCRMSS|834  BARREL POINT...|               4|\n",
      "|1014127351|     1/1/18 7:07|    1/2/18 15:33|1/17/18 8:30|       NO|       -14.70564815|        YES|Code Enforcement|Front Or Side Yar...|       16.05733796|     Closed| svcCRMSS|834  BARREL POINT...|               4|\n",
      "+----------+----------------+----------------+------------+---------+-------------------+-----------+----------------+--------------------+------------------+-----------+---------+--------------------+----------------+\n",
      "only showing top 20 rows\n",
      "\n"
     ]
    }
   ],
   "source": [
    "df.show()"
   ]
  },
  {
   "cell_type": "code",
   "execution_count": 23,
   "id": "b13fac97-c2be-430f-ae03-2472f898aa4f",
   "metadata": {},
   "outputs": [],
   "source": [
    "query = \"\"\"SELECT * FROM dept\"\"\"\n",
    "url = get_db_url(\"311_data\")\n",
    "engine = create_engine(url)\n",
    "dept_df = pd.read_sql(text(query), engine.connect())\n",
    "dept_df = spark.createDataFrame(dept_df)\n"
   ]
  },
  {
   "cell_type": "code",
   "execution_count": 25,
   "id": "20763058-48a3-470c-8314-10ec2051d727",
   "metadata": {},
   "outputs": [
    {
     "name": "stdout",
     "output_type": "stream",
     "text": [
      "+--------------------+--------------------+----------------------+-------------------+\n",
      "|       dept_division|           dept_name|standardized_dept_name|dept_subject_to_SLA|\n",
      "+--------------------+--------------------+----------------------+-------------------+\n",
      "|     311 Call Center|    Customer Service|      Customer Service|                YES|\n",
      "|               Brush|Solid Waste Manag...|           Solid Waste|                YES|\n",
      "|     Clean and Green|Parks and Recreation|    Parks & Recreation|                YES|\n",
      "|Clean and Green N...|Parks and Recreation|    Parks & Recreation|                YES|\n",
      "|    Code Enforcement|Code Enforcement ...|  DSD/Code Enforcement|                YES|\n",
      "|Code Enforcement ...|Code Enforcement ...|  DSD/Code Enforcement|                YES|\n",
      "|Code Enforcement ...|                null|  DSD/Code Enforcement|                YES|\n",
      "|   Dangerous Premise|Code Enforcement ...|  DSD/Code Enforcement|                YES|\n",
      "|Dangerous Premise...|Code Enforcement ...|  DSD/Code Enforcement|                YES|\n",
      "|Director's Office...|Trans & Cap Impro...|  Trans & Cap Impro...|                YES|\n",
      "|          District 1|        City Council|          City Council|                 NO|\n",
      "|         District 10|        City Council|          City Council|                 NO|\n",
      "|          District 2|        City Council|          City Council|                 NO|\n",
      "|          District 3|        City Council|          City Council|                 NO|\n",
      "|          District 6|        City Council|          City Council|                 NO|\n",
      "|          District 7|        City Council|          City Council|                 NO|\n",
      "|          District 8|        City Council|          City Council|                 NO|\n",
      "|          District 9|        City Council|          City Council|                 NO|\n",
      "|Engineering Division|Development Services|  DSD/Code Enforcement|                YES|\n",
      "|    Facility License|        Metro Health|          Metro Health|                YES|\n",
      "+--------------------+--------------------+----------------------+-------------------+\n",
      "only showing top 20 rows\n",
      "\n"
     ]
    }
   ],
   "source": [
    "dept_df.show()"
   ]
  },
  {
   "cell_type": "code",
   "execution_count": 26,
   "id": "1aa4a92e-8ff5-4aaf-ad9b-8b9ddbce2692",
   "metadata": {},
   "outputs": [],
   "source": [
    "query = \"\"\"SELECT * FROM source\"\"\"\n",
    "url = get_db_url(\"311_data\")\n",
    "engine = create_engine(url)\n",
    "source_df = pd.read_sql(text(query), engine.connect())\n",
    "source_df = spark.createDataFrame(source_df)"
   ]
  },
  {
   "cell_type": "code",
   "execution_count": 30,
   "id": "a3bd1a16-54b7-4546-9e96-34cbc20c654a",
   "metadata": {},
   "outputs": [
    {
     "name": "stdout",
     "output_type": "stream",
     "text": [
      "+-----+---------+--------------------+\n",
      "|index|source_id|     source_username|\n",
      "+-----+---------+--------------------+\n",
      "|    0|   100137|    Merlene Blodgett|\n",
      "|    1|   103582|         Carmen Cura|\n",
      "|    2|   106463|     Richard Sanchez|\n",
      "|    3|   119403|      Betty De Hoyos|\n",
      "|    4|   119555|      Socorro Quiara|\n",
      "|    5|   119868| Michelle San Miguel|\n",
      "|    6|   120752|      Eva T. Kleiber|\n",
      "|    7|   124405|           Lori Lara|\n",
      "|    8|   132408|       Leonard Silva|\n",
      "|    9|   135723|        Amy Cardenas|\n",
      "|   10|   136202|    Michelle Urrutia|\n",
      "|   11|   136979|      Leticia Garcia|\n",
      "|   12|   137943|    Pamela K. Baccus|\n",
      "|   13|   138605|        Marisa Ozuna|\n",
      "|   14|   138650|      Kimberly Green|\n",
      "|   15|   138650|Kimberly Green-Woods|\n",
      "|   16|   138793| Guadalupe Rodriguez|\n",
      "|   17|   138810|       Tawona Martin|\n",
      "|   18|   139342|     Jessica Mendoza|\n",
      "|   19|   139344|        Isis Mendoza|\n",
      "+-----+---------+--------------------+\n",
      "only showing top 20 rows\n",
      "\n"
     ]
    }
   ],
   "source": [
    "source_df.show()"
   ]
  },
  {
   "cell_type": "markdown",
   "id": "4050e6b8-bd93-4188-8f8a-927df47f6499",
   "metadata": {},
   "source": [
    "## 2. Let's see how writing to the local disk works in spark:\n",
    "\n",
    "* Write the code necessary to store the source data in both csv and json format, store these as sources_csv and sources_json\n",
    "* Inspect your folder structure. What do you notice?\n"
   ]
  },
  {
   "cell_type": "code",
   "execution_count": 31,
   "id": "69eaaf14-a4f4-46df-9fab-c96ca3c6be91",
   "metadata": {},
   "outputs": [
    {
     "name": "stderr",
     "output_type": "stream",
     "text": [
      "                                                                                \r"
     ]
    }
   ],
   "source": [
    "# Write the 'source' DataFrame to CSV format\n",
    "source_df.write.csv(\"sources_csv\", mode=\"overwrite\", header=True)\n",
    "\n",
    "# Write the 'source' DataFrame to JSON format\n",
    "source_df.write.json(\"sources_json\", mode=\"overwrite\")\n"
   ]
  },
  {
   "cell_type": "markdown",
   "id": "0924b6ed-b070-49a6-a236-16ec537f61b5",
   "metadata": {},
   "source": [
    "#It added 2 new folders with contents"
   ]
  },
  {
   "cell_type": "markdown",
   "id": "18691381-d210-4581-8c3d-21e70a4f4f89",
   "metadata": {},
   "source": [
    "## 3. Inspect the data in your dataframes. Are the data types appropriate? Write the code necessary to cast the values to the appropriate types."
   ]
  },
  {
   "cell_type": "code",
   "execution_count": 33,
   "id": "a2253df6-1537-45ed-b299-236055803f32",
   "metadata": {},
   "outputs": [
    {
     "name": "stdout",
     "output_type": "stream",
     "text": [
      "['sources_csv', 'spark101.ipynb', '.DS_Store', 'env.py', 'wrangle-exercise.ipynb', '__pycache__', 'sources_json', 'README.md', '.gitignore', '.ipynb_checkpoints', '.git']\n",
      "root\n",
      " |-- case_id: long (nullable = true)\n",
      " |-- case_opened_date: string (nullable = true)\n",
      " |-- case_closed_date: string (nullable = true)\n",
      " |-- SLA_due_date: string (nullable = true)\n",
      " |-- case_late: string (nullable = true)\n",
      " |-- num_days_late: double (nullable = true)\n",
      " |-- case_closed: string (nullable = true)\n",
      " |-- dept_division: string (nullable = true)\n",
      " |-- service_request_type: string (nullable = true)\n",
      " |-- SLA_days: double (nullable = true)\n",
      " |-- case_status: string (nullable = true)\n",
      " |-- source_id: string (nullable = true)\n",
      " |-- request_address: string (nullable = true)\n",
      " |-- council_district: long (nullable = true)\n",
      "\n",
      "root\n",
      " |-- dept_division: string (nullable = true)\n",
      " |-- dept_name: string (nullable = true)\n",
      " |-- standardized_dept_name: string (nullable = true)\n",
      " |-- dept_subject_to_SLA: string (nullable = true)\n",
      "\n",
      "root\n",
      " |-- index: long (nullable = true)\n",
      " |-- source_id: string (nullable = true)\n",
      " |-- source_username: string (nullable = true)\n",
      "\n"
     ]
    }
   ],
   "source": [
    "# Inspect folder structure\n",
    "import os\n",
    "folder_contents = os.listdir(\".\")\n",
    "print(folder_contents)\n",
    "\n",
    "# Inspect DataFrame data types\n",
    "df.printSchema()\n",
    "dept_df.printSchema()\n",
    "source_df.printSchema()\n"
   ]
  },
  {
   "cell_type": "code",
   "execution_count": 34,
   "id": "227efc2f-fd8f-4e3b-ab24-d00fa1a5dad6",
   "metadata": {},
   "outputs": [
    {
     "name": "stdout",
     "output_type": "stream",
     "text": [
      "root\n",
      " |-- case_id: long (nullable = true)\n",
      " |-- case_opened_date: date (nullable = true)\n",
      " |-- case_closed_date: date (nullable = true)\n",
      " |-- SLA_due_date: date (nullable = true)\n",
      " |-- case_late: boolean (nullable = true)\n",
      " |-- num_days_late: double (nullable = true)\n",
      " |-- case_closed: boolean (nullable = true)\n",
      " |-- dept_division: string (nullable = true)\n",
      " |-- service_request_type: string (nullable = true)\n",
      " |-- SLA_days: double (nullable = true)\n",
      " |-- case_status: string (nullable = true)\n",
      " |-- source_id: string (nullable = true)\n",
      " |-- request_address: string (nullable = true)\n",
      " |-- council_district: integer (nullable = true)\n",
      "\n"
     ]
    }
   ],
   "source": [
    "from pyspark.sql.functions import col\n",
    "from pyspark.sql.types import DateType\n",
    "\n",
    "# Cast columns to appropriate data types\n",
    "df = df.withColumn(\"case_opened_date\", col(\"case_opened_date\").cast(DateType()))\n",
    "df = df.withColumn(\"case_closed_date\", col(\"case_closed_date\").cast(DateType()))\n",
    "df = df.withColumn(\"SLA_due_date\", col(\"SLA_due_date\").cast(DateType()))\n",
    "df = df.withColumn(\"case_late\", col(\"case_late\").cast(\"boolean\"))\n",
    "df = df.withColumn(\"case_closed\", col(\"case_closed\").cast(\"boolean\"))\n",
    "df = df.withColumn(\"council_district\", col(\"council_district\").cast(\"integer\"))\n",
    "\n",
    "# Print the updated schema\n",
    "df.printSchema()\n"
   ]
  },
  {
   "cell_type": "markdown",
   "id": "4cc28a17-2529-4f75-8f86-b9dfb5592e7f",
   "metadata": {},
   "source": [
    "## 1. How old is the latest (in terms of days past SLA) currently open issue? How long has the oldest (in terms of days since opened) currently opened issue been open?"
   ]
  },
  {
   "cell_type": "code",
   "execution_count": 37,
   "id": "2e02b762-9317-474e-af79-5c009cfc6ca5",
   "metadata": {},
   "outputs": [],
   "source": [
    "from pyspark.sql.functions import current_date, datediff\n",
    "\n",
    "# Filter the DataFrame for currently open issues\n",
    "open_issues_df = df.filter(df.case_closed == False)"
   ]
  },
  {
   "cell_type": "code",
   "execution_count": 38,
   "id": "ccaae14c-8cb2-4ffb-a1d3-e23d6f04a80e",
   "metadata": {},
   "outputs": [
    {
     "name": "stderr",
     "output_type": "stream",
     "text": [
      "23/07/05 15:07:53 WARN TaskSetManager: Stage 11 contains a task of very large size (12597 KiB). The maximum recommended task size is 1000 KiB.\n",
      "                                                                                \r"
     ]
    }
   ],
   "source": [
    "# Calculate the age of the latest (in terms of days past SLA) currently open issue\n",
    "latest_age = open_issues_df.select(datediff(current_date(), \"SLA_due_date\").alias(\"age\")).orderBy(col(\"age\").desc()).first()[0]"
   ]
  },
  {
   "cell_type": "code",
   "execution_count": 39,
   "id": "e69b3caf-fc0c-493f-a36c-ebab0348e95c",
   "metadata": {},
   "outputs": [
    {
     "name": "stderr",
     "output_type": "stream",
     "text": [
      "23/07/05 15:08:20 WARN TaskSetManager: Stage 12 contains a task of very large size (12597 KiB). The maximum recommended task size is 1000 KiB.\n",
      "[Stage 12:===================================================>    (11 + 1) / 12]\r"
     ]
    },
    {
     "name": "stdout",
     "output_type": "stream",
     "text": [
      "The latest currently open issue is None days past SLA.\n",
      "The oldest currently open issue has been open for None days.\n"
     ]
    },
    {
     "name": "stderr",
     "output_type": "stream",
     "text": [
      "                                                                                \r"
     ]
    }
   ],
   "source": [
    "# Calculate the age of the oldest (in terms of days since opened) currently open issue\n",
    "oldest_age = open_issues_df.select(datediff(current_date(), \"case_opened_date\").alias(\"age\")).orderBy(col(\"age\")).first()[0]\n",
    "\n",
    "print(\"The latest currently open issue is\", latest_age, \"days past SLA.\")\n",
    "print(\"The oldest currently open issue has been open for\", oldest_age, \"days.\")"
   ]
  },
  {
   "cell_type": "markdown",
   "id": "17e5aabe-e8d5-4314-b7fc-4a0bc755928f",
   "metadata": {},
   "source": [
    "## 2. How many Stray Animal cases are there?"
   ]
  },
  {
   "cell_type": "code",
   "execution_count": 40,
   "id": "92110cf7-dec1-4065-9e1f-07f6d10e321f",
   "metadata": {},
   "outputs": [
    {
     "name": "stderr",
     "output_type": "stream",
     "text": [
      "23/07/05 15:10:07 WARN TaskSetManager: Stage 13 contains a task of very large size (12597 KiB). The maximum recommended task size is 1000 KiB.\n",
      "[Stage 13:===================================================>    (11 + 1) / 12]\r"
     ]
    },
    {
     "name": "stdout",
     "output_type": "stream",
     "text": [
      "The number of Stray Animal cases is: 26760\n"
     ]
    },
    {
     "name": "stderr",
     "output_type": "stream",
     "text": [
      "                                                                                \r"
     ]
    }
   ],
   "source": [
    "# Filter the DataFrame for Stray Animal cases\n",
    "stray_animal_cases = df.filter(col(\"service_request_type\") == \"Stray Animal\")\n",
    "\n",
    "# Count the number of Stray Animal cases\n",
    "stray_animal_case_count = stray_animal_cases.count()\n",
    "\n",
    "print(\"The number of Stray Animal cases is:\", stray_animal_case_count)\n"
   ]
  },
  {
   "cell_type": "markdown",
   "id": "2ba6a8c1-e129-45df-9449-dce68a503869",
   "metadata": {},
   "source": [
    "## 3. How many service requests that are assigned to the Field Operations department (dept_division) are not classified as \"Officer Standby\" request type (service_request_type)?"
   ]
  },
  {
   "cell_type": "code",
   "execution_count": 41,
   "id": "bd654a53-1512-4550-b05e-b94e37bf3b2e",
   "metadata": {},
   "outputs": [
    {
     "name": "stderr",
     "output_type": "stream",
     "text": [
      "23/07/05 15:11:52 WARN TaskSetManager: Stage 16 contains a task of very large size (12597 KiB). The maximum recommended task size is 1000 KiB.\n",
      "[Stage 16:===================================================>    (11 + 1) / 12]\r"
     ]
    },
    {
     "name": "stdout",
     "output_type": "stream",
     "text": [
      "The number of service requests in Field Operations department that are not Officer Standby: 113902\n"
     ]
    },
    {
     "name": "stderr",
     "output_type": "stream",
     "text": [
      "                                                                                \r"
     ]
    }
   ],
   "source": [
    "# Filter the DataFrame for service requests assigned to Field Operations department\n",
    "field_operations_requests = df.filter(col(\"dept_division\") == \"Field Operations\")\n",
    "\n",
    "# Filter the Field Operations requests that are not classified as \"Officer Standby\"\n",
    "non_officer_standby_requests = field_operations_requests.filter(col(\"service_request_type\") != \"Officer Standby\")\n",
    "\n",
    "# Count the number of non-Officer Standby requests in Field Operations department\n",
    "non_officer_standby_count = non_officer_standby_requests.count()\n",
    "\n",
    "print(\"The number of service requests in Field Operations department that are not Officer Standby:\", non_officer_standby_count)\n"
   ]
  },
  {
   "cell_type": "markdown",
   "id": "49c5883d-d5b3-4ee0-bb18-c7f2fb9c7453",
   "metadata": {},
   "source": [
    "## 4. Convert the council_district column to a string column."
   ]
  },
  {
   "cell_type": "code",
   "execution_count": 42,
   "id": "1cc070e2-8ed0-43d0-b5d8-9799f51f2fe2",
   "metadata": {},
   "outputs": [
    {
     "name": "stdout",
     "output_type": "stream",
     "text": [
      "root\n",
      " |-- case_id: long (nullable = true)\n",
      " |-- case_opened_date: date (nullable = true)\n",
      " |-- case_closed_date: date (nullable = true)\n",
      " |-- SLA_due_date: date (nullable = true)\n",
      " |-- case_late: boolean (nullable = true)\n",
      " |-- num_days_late: double (nullable = true)\n",
      " |-- case_closed: boolean (nullable = true)\n",
      " |-- dept_division: string (nullable = true)\n",
      " |-- service_request_type: string (nullable = true)\n",
      " |-- SLA_days: double (nullable = true)\n",
      " |-- case_status: string (nullable = true)\n",
      " |-- source_id: string (nullable = true)\n",
      " |-- request_address: string (nullable = true)\n",
      " |-- council_district: string (nullable = true)\n",
      "\n"
     ]
    }
   ],
   "source": [
    "# Convert council_district column to string\n",
    "df = df.withColumn(\"council_district\", col(\"council_district\").cast(\"string\"))\n",
    "\n",
    "# Print the schema to verify the column type conversion\n",
    "df.printSchema()\n"
   ]
  },
  {
   "cell_type": "markdown",
   "id": "82d89cda-0b66-476c-948b-30e4ddc0a2f9",
   "metadata": {},
   "source": [
    "## 5. Extract the year from the case_closed_date column.\n"
   ]
  },
  {
   "cell_type": "code",
   "execution_count": 54,
   "id": "426fd4f4-d55e-471e-a34c-3f2ad6f722d1",
   "metadata": {},
   "outputs": [
    {
     "name": "stderr",
     "output_type": "stream",
     "text": [
      "23/07/05 15:38:11 WARN TaskSetManager: Stage 95 contains a task of very large size (12597 KiB). The maximum recommended task size is 1000 KiB.\n",
      "23/07/05 15:38:16 WARN PythonRunner: Detected deadlock while completing task 5.0 in stage 95 (TID 435): Attempting to kill Python Worker\n",
      "23/07/05 15:38:16 WARN PythonRunner: Detected deadlock while completing task 10.0 in stage 95 (TID 440): Attempting to kill Python Worker\n",
      "23/07/05 15:38:16 WARN PythonRunner: Detected deadlock while completing task 9.0 in stage 95 (TID 439): Attempting to kill Python Worker\n",
      "23/07/05 15:38:16 WARN PythonRunner: Detected deadlock while completing task 6.0 in stage 95 (TID 436): Attempting to kill Python Worker\n",
      "23/07/05 15:38:16 WARN PythonRunner: Detected deadlock while completing task 11.0 in stage 95 (TID 441): Attempting to kill Python Worker\n",
      "23/07/05 15:38:16 WARN PythonRunner: Detected deadlock while completing task 8.0 in stage 95 (TID 438): Attempting to kill Python Worker\n",
      "23/07/05 15:38:16 WARN PythonRunner: Detected deadlock while completing task 4.0 in stage 95 (TID 434): Attempting to kill Python Worker\n",
      "23/07/05 15:38:16 WARN PythonRunner: Detected deadlock while completing task 7.0 in stage 95 (TID 437): Attempting to kill Python Worker\n",
      "23/07/05 15:38:16 WARN PythonRunner: Detected deadlock while completing task 1.0 in stage 95 (TID 431): Attempting to kill Python Worker\n",
      "23/07/05 15:38:16 WARN PythonRunner: Detected deadlock while completing task 0.0 in stage 95 (TID 430): Attempting to kill Python Worker\n",
      "23/07/05 15:38:16 WARN PythonRunner: Detected deadlock while completing task 3.0 in stage 95 (TID 433): Attempting to kill Python Worker\n",
      "23/07/05 15:38:16 WARN PythonRunner: Detected deadlock while completing task 2.0 in stage 95 (TID 432): Attempting to kill Python Worker\n",
      "                                                                                \r"
     ]
    },
    {
     "name": "stdout",
     "output_type": "stream",
     "text": [
      "-RECORD 0--------------------------------------\n",
      " dept_division          | Storm Water          \n",
      " source_id              | svcCRMSS             \n",
      " case_id                | 1014127333           \n",
      " case_opened_date       | null                 \n",
      " case_closed_date       | null                 \n",
      " SLA_due_date           | null                 \n",
      " case_late              | false                \n",
      " num_days_late          | -2.012604167         \n",
      " case_closed            | true                 \n",
      " service_request_type   | Removal Of Obstru... \n",
      " SLA_days               | 4.322222222          \n",
      " case_status            | Closed               \n",
      " request_address        | 2215  GOLIAD RD, ... \n",
      " council_district       | 3                    \n",
      " closed_year            | null                 \n",
      " num_hours_late         | -48.302500008        \n",
      " index                  | 133                  \n",
      " source_username        | svcCRMSS             \n",
      " dept_name              | Trans & Cap Impro... \n",
      " standardized_dept_name | Trans & Cap Impro... \n",
      " dept_subject_to_SLA    | YES                  \n",
      "-RECORD 1--------------------------------------\n",
      " dept_division          | Storm Water          \n",
      " source_id              | svcCRMSS             \n",
      " case_id                | 1014127334           \n",
      " case_opened_date       | null                 \n",
      " case_closed_date       | null                 \n",
      " SLA_due_date           | null                 \n",
      " case_late              | false                \n",
      " num_days_late          | -3.022337963         \n",
      " case_closed            | true                 \n",
      " service_request_type   | Removal Of Obstru... \n",
      " SLA_days               | 4.320729167          \n",
      " case_status            | Closed               \n",
      " request_address        | 102  PALFREY ST W... \n",
      " council_district       | 3                    \n",
      " closed_year            | null                 \n",
      " num_hours_late         | -72.536111112        \n",
      " index                  | 133                  \n",
      " source_username        | svcCRMSS             \n",
      " dept_name              | Trans & Cap Impro... \n",
      " standardized_dept_name | Trans & Cap Impro... \n",
      " dept_subject_to_SLA    | YES                  \n",
      "-RECORD 2--------------------------------------\n",
      " dept_division          | Code Enforcement     \n",
      " source_id              | svcCRMSS             \n",
      " case_id                | 1014127335           \n",
      " case_opened_date       | null                 \n",
      " case_closed_date       | null                 \n",
      " SLA_due_date           | null                 \n",
      " case_late              | false                \n",
      " num_days_late          | -15.01148148         \n",
      " case_closed            | true                 \n",
      " service_request_type   | Front Or Side Yar... \n",
      " SLA_days               | 16.29188657          \n",
      " case_status            | Closed               \n",
      " request_address        | 114  LA GARDE ST,... \n",
      " council_district       | 3                    \n",
      " closed_year            | null                 \n",
      " num_hours_late         | -360.27555552        \n",
      " index                  | 133                  \n",
      " source_username        | svcCRMSS             \n",
      " dept_name              | Code Enforcement ... \n",
      " standardized_dept_name | DSD/Code Enforcement \n",
      " dept_subject_to_SLA    | YES                  \n",
      "-RECORD 3--------------------------------------\n",
      " dept_division          | Field Operations     \n",
      " source_id              | svcCRMSS             \n",
      " case_id                | 1014127336           \n",
      " case_opened_date       | null                 \n",
      " case_closed_date       | null                 \n",
      " SLA_due_date           | null                 \n",
      " case_late              | true                 \n",
      " num_days_late          | 0.372164352          \n",
      " case_closed            | true                 \n",
      " service_request_type   | Animal Cruelty(Cr... \n",
      " SLA_days               | 0.125                \n",
      " case_status            | Closed               \n",
      " request_address        | 734  CLEARVIEW DR... \n",
      " council_district       | 7                    \n",
      " closed_year            | null                 \n",
      " num_hours_late         | 8.931944448          \n",
      " index                  | 133                  \n",
      " source_username        | svcCRMSS             \n",
      " dept_name              | Animal Care Services \n",
      " standardized_dept_name | Animal Care Services \n",
      " dept_subject_to_SLA    | YES                  \n",
      "-RECORD 4--------------------------------------\n",
      " dept_division          | Signals              \n",
      " source_id              | svcCRMSS             \n",
      " case_id                | 1014127337           \n",
      " case_opened_date       | null                 \n",
      " case_closed_date       | null                 \n",
      " SLA_due_date           | null                 \n",
      " case_late              | false                \n",
      " num_days_late          | -29.74398148         \n",
      " case_closed            | true                 \n",
      " service_request_type   | Traffic Signal Op... \n",
      " SLA_days               | 30.08446759          \n",
      " case_status            | Closed               \n",
      " request_address        | BANDERA RD and BR... \n",
      " council_district       | 7                    \n",
      " closed_year            | null                 \n",
      " num_hours_late         | -713.8555555199999   \n",
      " index                  | 133                  \n",
      " source_username        | svcCRMSS             \n",
      " dept_name              | Trans & Cap Impro... \n",
      " standardized_dept_name | Trans & Cap Impro... \n",
      " dept_subject_to_SLA    | YES                  \n",
      "-RECORD 5--------------------------------------\n",
      " dept_division          | Code Enforcement     \n",
      " source_id              | svcCRMSS             \n",
      " case_id                | 1014127338           \n",
      " case_opened_date       | null                 \n",
      " case_closed_date       | null                 \n",
      " SLA_due_date           | null                 \n",
      " case_late              | false                \n",
      " num_days_late          | -14.70673611         \n",
      " case_closed            | true                 \n",
      " service_request_type   | Front Or Side Yar... \n",
      " SLA_days               | 16.06429398          \n",
      " case_status            | Closed               \n",
      " request_address        | 10133  FIGARO CAN... \n",
      " council_district       | 4                    \n",
      " closed_year            | null                 \n",
      " num_hours_late         | -352.96166664        \n",
      " index                  | 133                  \n",
      " source_username        | svcCRMSS             \n",
      " dept_name              | Code Enforcement ... \n",
      " standardized_dept_name | DSD/Code Enforcement \n",
      " dept_subject_to_SLA    | YES                  \n",
      "-RECORD 6--------------------------------------\n",
      " dept_division          | Code Enforcement     \n",
      " source_id              | svcCRMSS             \n",
      " case_id                | 1014127339           \n",
      " case_opened_date       | null                 \n",
      " case_closed_date       | null                 \n",
      " SLA_due_date           | null                 \n",
      " case_late              | false                \n",
      " num_days_late          | -14.70662037         \n",
      " case_closed            | true                 \n",
      " service_request_type   | Front Or Side Yar... \n",
      " SLA_days               | 16.063796300000003   \n",
      " case_status            | Closed               \n",
      " request_address        | 10133  FIGARO CAN... \n",
      " council_district       | 4                    \n",
      " closed_year            | null                 \n",
      " num_hours_late         | -352.95888888        \n",
      " index                  | 133                  \n",
      " source_username        | svcCRMSS             \n",
      " dept_name              | Code Enforcement ... \n",
      " standardized_dept_name | DSD/Code Enforcement \n",
      " dept_subject_to_SLA    | YES                  \n",
      "-RECORD 7--------------------------------------\n",
      " dept_division          | Code Enforcement     \n",
      " source_id              | svcCRMSS             \n",
      " case_id                | 1014127340           \n",
      " case_opened_date       | null                 \n",
      " case_closed_date       | null                 \n",
      " SLA_due_date           | null                 \n",
      " case_late              | false                \n",
      " num_days_late          | -14.70662037         \n",
      " case_closed            | true                 \n",
      " service_request_type   | Right Of Way/Side... \n",
      " SLA_days               | 16.06333333          \n",
      " case_status            | Closed               \n",
      " request_address        | 10133  FIGARO CAN... \n",
      " council_district       | 4                    \n",
      " closed_year            | null                 \n",
      " num_hours_late         | -352.95888888        \n",
      " index                  | 133                  \n",
      " source_username        | svcCRMSS             \n",
      " dept_name              | Code Enforcement ... \n",
      " standardized_dept_name | DSD/Code Enforcement \n",
      " dept_subject_to_SLA    | YES                  \n",
      "-RECORD 8--------------------------------------\n",
      " dept_division          | Code Enforcement     \n",
      " source_id              | svcCRMSS             \n",
      " case_id                | 1014127341           \n",
      " case_opened_date       | null                 \n",
      " case_closed_date       | null                 \n",
      " SLA_due_date           | null                 \n",
      " case_late              | false                \n",
      " num_days_late          | -14.70649306         \n",
      " case_closed            | true                 \n",
      " service_request_type   | Front Or Side Yar... \n",
      " SLA_days               | 16.0628588           \n",
      " case_status            | Closed               \n",
      " request_address        | 10133  FIGARO CAN... \n",
      " council_district       | 4                    \n",
      " closed_year            | null                 \n",
      " num_hours_late         | -352.95583344        \n",
      " index                  | 133                  \n",
      " source_username        | svcCRMSS             \n",
      " dept_name              | Code Enforcement ... \n",
      " standardized_dept_name | DSD/Code Enforcement \n",
      " dept_subject_to_SLA    | YES                  \n",
      "-RECORD 9--------------------------------------\n",
      " dept_division          | Code Enforcement     \n",
      " source_id              | svcCRMSS             \n",
      " case_id                | 1014127342           \n",
      " case_opened_date       | null                 \n",
      " case_closed_date       | null                 \n",
      " SLA_due_date           | null                 \n",
      " case_late              | false                \n",
      " num_days_late          | -14.70649306         \n",
      " case_closed            | true                 \n",
      " service_request_type   | Front Or Side Yar... \n",
      " SLA_days               | 16.06237269          \n",
      " case_status            | Closed               \n",
      " request_address        | 10133  FIGARO CAN... \n",
      " council_district       | 4                    \n",
      " closed_year            | null                 \n",
      " num_hours_late         | -352.95583344        \n",
      " index                  | 133                  \n",
      " source_username        | svcCRMSS             \n",
      " dept_name              | Code Enforcement ... \n",
      " standardized_dept_name | DSD/Code Enforcement \n",
      " dept_subject_to_SLA    | YES                  \n",
      "-RECORD 10-------------------------------------\n",
      " dept_division          | Code Enforcement     \n",
      " source_id              | svcCRMSS             \n",
      " case_id                | 1014127343           \n",
      " case_opened_date       | null                 \n",
      " case_closed_date       | null                 \n",
      " SLA_due_date           | null                 \n",
      " case_late              | false                \n",
      " num_days_late          | -14.70636574         \n",
      " case_closed            | true                 \n",
      " service_request_type   | Right Of Way/Side... \n",
      " SLA_days               | 16.06104167          \n",
      " case_status            | Closed               \n",
      " request_address        | 10133  FIGARO CAN... \n",
      " council_district       | 4                    \n",
      " closed_year            | null                 \n",
      " num_hours_late         | -352.95277776        \n",
      " index                  | 133                  \n",
      " source_username        | svcCRMSS             \n",
      " dept_name              | Code Enforcement ... \n",
      " standardized_dept_name | DSD/Code Enforcement \n",
      " dept_subject_to_SLA    | YES                  \n",
      "-RECORD 11-------------------------------------\n",
      " dept_division          | Code Enforcement     \n",
      " source_id              | svcCRMSS             \n",
      " case_id                | 1014127344           \n",
      " case_opened_date       | null                 \n",
      " case_closed_date       | null                 \n",
      " SLA_due_date           | null                 \n",
      " case_late              | false                \n",
      " num_days_late          | -14.70625            \n",
      " case_closed            | true                 \n",
      " service_request_type   | Front Or Side Yar... \n",
      " SLA_days               | 16.06059028          \n",
      " case_status            | Closed               \n",
      " request_address        | 10129  BOXING PAS... \n",
      " council_district       | 4                    \n",
      " closed_year            | null                 \n",
      " num_hours_late         | -352.95000000000005  \n",
      " index                  | 133                  \n",
      " source_username        | svcCRMSS             \n",
      " dept_name              | Code Enforcement ... \n",
      " standardized_dept_name | DSD/Code Enforcement \n",
      " dept_subject_to_SLA    | YES                  \n",
      "-RECORD 12-------------------------------------\n",
      " dept_division          | Code Enforcement     \n",
      " source_id              | svcCRMSS             \n",
      " case_id                | 1014127345           \n",
      " case_opened_date       | null                 \n",
      " case_closed_date       | null                 \n",
      " SLA_due_date           | null                 \n",
      " case_late              | false                \n",
      " num_days_late          | -14.70636574         \n",
      " case_closed            | true                 \n",
      " service_request_type   | Front Or Side Yar... \n",
      " SLA_days               | 16.06011574          \n",
      " case_status            | Closed               \n",
      " request_address        | 10129  BOXING PAS... \n",
      " council_district       | 4                    \n",
      " closed_year            | null                 \n",
      " num_hours_late         | -352.95277776        \n",
      " index                  | 133                  \n",
      " source_username        | svcCRMSS             \n",
      " dept_name              | Code Enforcement ... \n",
      " standardized_dept_name | DSD/Code Enforcement \n",
      " dept_subject_to_SLA    | YES                  \n",
      "-RECORD 13-------------------------------------\n",
      " dept_division          | Code Enforcement     \n",
      " source_id              | svcCRMSS             \n",
      " case_id                | 1014127346           \n",
      " case_opened_date       | null                 \n",
      " case_closed_date       | null                 \n",
      " SLA_due_date           | null                 \n",
      " case_late              | false                \n",
      " num_days_late          | -14.70623843         \n",
      " case_closed            | true                 \n",
      " service_request_type   | Right Of Way/Side... \n",
      " SLA_days               | 16.05953704          \n",
      " case_status            | Closed               \n",
      " request_address        | 10129  BOXING PAS... \n",
      " council_district       | 4                    \n",
      " closed_year            | null                 \n",
      " num_hours_late         | -352.94972232000003  \n",
      " index                  | 133                  \n",
      " source_username        | svcCRMSS             \n",
      " dept_name              | Code Enforcement ... \n",
      " standardized_dept_name | DSD/Code Enforcement \n",
      " dept_subject_to_SLA    | YES                  \n",
      "-RECORD 14-------------------------------------\n",
      " dept_division          | Code Enforcement     \n",
      " source_id              | svcCRMSS             \n",
      " case_id                | 1014127347           \n",
      " case_opened_date       | null                 \n",
      " case_closed_date       | null                 \n",
      " SLA_due_date           | null                 \n",
      " case_late              | false                \n",
      " num_days_late          | -14.705891199999998  \n",
      " case_closed            | true                 \n",
      " service_request_type   | Front Or Side Yar... \n",
      " SLA_days               | 16.05907407          \n",
      " case_status            | Closed               \n",
      " request_address        | 834  BARREL POINT... \n",
      " council_district       | 4                    \n",
      " closed_year            | null                 \n",
      " num_hours_late         | -352.94138879999997  \n",
      " index                  | 133                  \n",
      " source_username        | svcCRMSS             \n",
      " dept_name              | Code Enforcement ... \n",
      " standardized_dept_name | DSD/Code Enforcement \n",
      " dept_subject_to_SLA    | YES                  \n",
      "-RECORD 15-------------------------------------\n",
      " dept_division          | Code Enforcement     \n",
      " source_id              | svcCRMSS             \n",
      " case_id                | 1014127348           \n",
      " case_opened_date       | null                 \n",
      " case_closed_date       | null                 \n",
      " SLA_due_date           | null                 \n",
      " case_late              | false                \n",
      " num_days_late          | -14.70600694         \n",
      " case_closed            | true                 \n",
      " service_request_type   | Front Or Side Yar... \n",
      " SLA_days               | 16.05864583          \n",
      " case_status            | Closed               \n",
      " request_address        | 834  BARREL POINT... \n",
      " council_district       | 4                    \n",
      " closed_year            | null                 \n",
      " num_hours_late         | -352.94416656        \n",
      " index                  | 133                  \n",
      " source_username        | svcCRMSS             \n",
      " dept_name              | Code Enforcement ... \n",
      " standardized_dept_name | DSD/Code Enforcement \n",
      " dept_subject_to_SLA    | YES                  \n",
      "-RECORD 16-------------------------------------\n",
      " dept_division          | Code Enforcement     \n",
      " source_id              | svcCRMSS             \n",
      " case_id                | 1014127349           \n",
      " case_opened_date       | null                 \n",
      " case_closed_date       | null                 \n",
      " SLA_due_date           | null                 \n",
      " case_late              | false                \n",
      " num_days_late          | -14.70576389         \n",
      " case_closed            | true                 \n",
      " service_request_type   | Right Of Way/Side... \n",
      " SLA_days               | 16.05819444          \n",
      " case_status            | Closed               \n",
      " request_address        | 834  BARREL POINT... \n",
      " council_district       | 4                    \n",
      " closed_year            | null                 \n",
      " num_hours_late         | -352.93833336        \n",
      " index                  | 133                  \n",
      " source_username        | svcCRMSS             \n",
      " dept_name              | Code Enforcement ... \n",
      " standardized_dept_name | DSD/Code Enforcement \n",
      " dept_subject_to_SLA    | YES                  \n",
      "-RECORD 17-------------------------------------\n",
      " dept_division          | Code Enforcement     \n",
      " source_id              | svcCRMSS             \n",
      " case_id                | 1014127350           \n",
      " case_opened_date       | null                 \n",
      " case_closed_date       | null                 \n",
      " SLA_due_date           | null                 \n",
      " case_late              | false                \n",
      " num_days_late          | -14.70576389         \n",
      " case_closed            | true                 \n",
      " service_request_type   | Front Or Side Yar... \n",
      " SLA_days               | 16.05775463          \n",
      " case_status            | Closed               \n",
      " request_address        | 834  BARREL POINT... \n",
      " council_district       | 4                    \n",
      " closed_year            | null                 \n",
      " num_hours_late         | -352.93833336        \n",
      " index                  | 133                  \n",
      " source_username        | svcCRMSS             \n",
      " dept_name              | Code Enforcement ... \n",
      " standardized_dept_name | DSD/Code Enforcement \n",
      " dept_subject_to_SLA    | YES                  \n",
      "-RECORD 18-------------------------------------\n",
      " dept_division          | Code Enforcement     \n",
      " source_id              | svcCRMSS             \n",
      " case_id                | 1014127351           \n",
      " case_opened_date       | null                 \n",
      " case_closed_date       | null                 \n",
      " SLA_due_date           | null                 \n",
      " case_late              | false                \n",
      " num_days_late          | -14.70564815         \n",
      " case_closed            | true                 \n",
      " service_request_type   | Front Or Side Yar... \n",
      " SLA_days               | 16.05733796          \n",
      " case_status            | Closed               \n",
      " request_address        | 834  BARREL POINT... \n",
      " council_district       | 4                    \n",
      " closed_year            | null                 \n",
      " num_hours_late         | -352.9355556         \n",
      " index                  | 133                  \n",
      " source_username        | svcCRMSS             \n",
      " dept_name              | Code Enforcement ... \n",
      " standardized_dept_name | DSD/Code Enforcement \n",
      " dept_subject_to_SLA    | YES                  \n",
      "-RECORD 19-------------------------------------\n",
      " dept_division          | Code Enforcement     \n",
      " source_id              | svcCRMSS             \n",
      " case_id                | 1014127352           \n",
      " case_opened_date       | null                 \n",
      " case_closed_date       | null                 \n",
      " SLA_due_date           | null                 \n",
      " case_late              | false                \n",
      " num_days_late          | -14.70540509         \n",
      " case_closed            | true                 \n",
      " service_request_type   | Right Of Way/Side... \n",
      " SLA_days               | 16.05690972          \n",
      " case_status            | Closed               \n",
      " request_address        | 834  BARREL POINT... \n",
      " council_district       | 4                    \n",
      " closed_year            | null                 \n",
      " num_hours_late         | -352.92972216        \n",
      " index                  | 133                  \n",
      " source_username        | svcCRMSS             \n",
      " dept_name              | Code Enforcement ... \n",
      " standardized_dept_name | DSD/Code Enforcement \n",
      " dept_subject_to_SLA    | YES                  \n",
      "only showing top 20 rows\n",
      "\n"
     ]
    }
   ],
   "source": [
    "from pyspark.sql.functions import year\n",
    "\n",
    "# Extract the year from case_closed_date\n",
    "df = df.withColumn(\"closed_year\", year(\"case_closed_date\"))\n",
    "\n",
    "# Show the updated DataFrame with the extracted year\n",
    "df.show(vertical=True)\n"
   ]
  },
  {
   "cell_type": "markdown",
   "id": "9189fc2d-ca6a-466a-b0f8-7a026c9c1b02",
   "metadata": {},
   "source": [
    "## 6. Convert num_days_late from days to hours in new columns num_hours_late."
   ]
  },
  {
   "cell_type": "code",
   "execution_count": 44,
   "id": "37a73e9b-c7c6-4a3e-af94-f2caaf3868e6",
   "metadata": {},
   "outputs": [
    {
     "name": "stderr",
     "output_type": "stream",
     "text": [
      "23/07/05 15:15:23 WARN TaskSetManager: Stage 20 contains a task of very large size (12597 KiB). The maximum recommended task size is 1000 KiB.\n",
      "[Stage 20:>                                                         (0 + 1) / 1]\r"
     ]
    },
    {
     "name": "stdout",
     "output_type": "stream",
     "text": [
      "+----------+----------------+----------------+------------+---------+-------------------+-----------+----------------+--------------------+------------------+-----------+---------+--------------------+----------------+-----------+-------------------+\n",
      "|   case_id|case_opened_date|case_closed_date|SLA_due_date|case_late|      num_days_late|case_closed|   dept_division|service_request_type|          SLA_days|case_status|source_id|     request_address|council_district|closed_year|     num_hours_late|\n",
      "+----------+----------------+----------------+------------+---------+-------------------+-----------+----------------+--------------------+------------------+-----------+---------+--------------------+----------------+-----------+-------------------+\n",
      "|1014127332|            null|            null|        null|    false|       -998.5087616|       true|Field Operations|        Stray Animal|             999.0|     Closed| svcCRMLS|2315  EL PASO ST,...|               5|       null|-23964.210278399998|\n",
      "|1014127333|            null|            null|        null|    false|       -2.012604167|       true|     Storm Water|Removal Of Obstru...|       4.322222222|     Closed| svcCRMSS|2215  GOLIAD RD, ...|               3|       null|      -48.302500008|\n",
      "|1014127334|            null|            null|        null|    false|       -3.022337963|       true|     Storm Water|Removal Of Obstru...|       4.320729167|     Closed| svcCRMSS|102  PALFREY ST W...|               3|       null|      -72.536111112|\n",
      "|1014127335|            null|            null|        null|    false|       -15.01148148|       true|Code Enforcement|Front Or Side Yar...|       16.29188657|     Closed| svcCRMSS|114  LA GARDE ST,...|               3|       null|      -360.27555552|\n",
      "|1014127336|            null|            null|        null|     true|        0.372164352|       true|Field Operations|Animal Cruelty(Cr...|             0.125|     Closed| svcCRMSS|734  CLEARVIEW DR...|               7|       null|        8.931944448|\n",
      "|1014127337|            null|            null|        null|    false|       -29.74398148|       true|         Signals|Traffic Signal Op...|       30.08446759|     Closed| svcCRMSS|BANDERA RD and BR...|               7|       null| -713.8555555199999|\n",
      "|1014127338|            null|            null|        null|    false|       -14.70673611|       true|Code Enforcement|Front Or Side Yar...|       16.06429398|     Closed| svcCRMSS|10133  FIGARO CAN...|               4|       null|      -352.96166664|\n",
      "|1014127339|            null|            null|        null|    false|       -14.70662037|       true|Code Enforcement|Front Or Side Yar...|16.063796300000003|     Closed| svcCRMSS|10133  FIGARO CAN...|               4|       null|      -352.95888888|\n",
      "|1014127340|            null|            null|        null|    false|       -14.70662037|       true|Code Enforcement|Right Of Way/Side...|       16.06333333|     Closed| svcCRMSS|10133  FIGARO CAN...|               4|       null|      -352.95888888|\n",
      "|1014127341|            null|            null|        null|    false|       -14.70649306|       true|Code Enforcement|Front Or Side Yar...|        16.0628588|     Closed| svcCRMSS|10133  FIGARO CAN...|               4|       null|      -352.95583344|\n",
      "|1014127342|            null|            null|        null|    false|       -14.70649306|       true|Code Enforcement|Front Or Side Yar...|       16.06237269|     Closed| svcCRMSS|10133  FIGARO CAN...|               4|       null|      -352.95583344|\n",
      "|1014127343|            null|            null|        null|    false|       -14.70636574|       true|Code Enforcement|Right Of Way/Side...|       16.06104167|     Closed| svcCRMSS|10133  FIGARO CAN...|               4|       null|      -352.95277776|\n",
      "|1014127344|            null|            null|        null|    false|          -14.70625|       true|Code Enforcement|Front Or Side Yar...|       16.06059028|     Closed| svcCRMSS|10129  BOXING PAS...|               4|       null|-352.95000000000005|\n",
      "|1014127345|            null|            null|        null|    false|       -14.70636574|       true|Code Enforcement|Front Or Side Yar...|       16.06011574|     Closed| svcCRMSS|10129  BOXING PAS...|               4|       null|      -352.95277776|\n",
      "|1014127346|            null|            null|        null|    false|       -14.70623843|       true|Code Enforcement|Right Of Way/Side...|       16.05953704|     Closed| svcCRMSS|10129  BOXING PAS...|               4|       null|-352.94972232000003|\n",
      "|1014127347|            null|            null|        null|    false|-14.705891199999998|       true|Code Enforcement|Front Or Side Yar...|       16.05907407|     Closed| svcCRMSS|834  BARREL POINT...|               4|       null|-352.94138879999997|\n",
      "|1014127348|            null|            null|        null|    false|       -14.70600694|       true|Code Enforcement|Front Or Side Yar...|       16.05864583|     Closed| svcCRMSS|834  BARREL POINT...|               4|       null|      -352.94416656|\n",
      "|1014127349|            null|            null|        null|    false|       -14.70576389|       true|Code Enforcement|Right Of Way/Side...|       16.05819444|     Closed| svcCRMSS|834  BARREL POINT...|               4|       null|      -352.93833336|\n",
      "|1014127350|            null|            null|        null|    false|       -14.70576389|       true|Code Enforcement|Front Or Side Yar...|       16.05775463|     Closed| svcCRMSS|834  BARREL POINT...|               4|       null|      -352.93833336|\n",
      "|1014127351|            null|            null|        null|    false|       -14.70564815|       true|Code Enforcement|Front Or Side Yar...|       16.05733796|     Closed| svcCRMSS|834  BARREL POINT...|               4|       null|       -352.9355556|\n",
      "+----------+----------------+----------------+------------+---------+-------------------+-----------+----------------+--------------------+------------------+-----------+---------+--------------------+----------------+-----------+-------------------+\n",
      "only showing top 20 rows\n",
      "\n"
     ]
    },
    {
     "name": "stderr",
     "output_type": "stream",
     "text": [
      "23/07/05 15:15:27 WARN PythonRunner: Detected deadlock while completing task 0.0 in stage 20 (TID 101): Attempting to kill Python Worker\n",
      "                                                                                \r"
     ]
    }
   ],
   "source": [
    "# Convert num_days_late to hours\n",
    "df = df.withColumn(\"num_hours_late\", col(\"num_days_late\") * 24)\n",
    "\n",
    "# Show the updated DataFrame with the converted column\n",
    "df.show()\n"
   ]
  },
  {
   "cell_type": "code",
   "execution_count": null,
   "id": "c427ceb0-3209-490b-b3d9-2973e248e189",
   "metadata": {},
   "outputs": [],
   "source": [
    "## 7. Join the case data with the source and department data."
   ]
  },
  {
   "cell_type": "code",
   "execution_count": 45,
   "id": "3683edee-ba96-48c5-90e6-a4608d7d0efe",
   "metadata": {},
   "outputs": [
    {
     "name": "stderr",
     "output_type": "stream",
     "text": [
      "23/07/05 15:18:07 WARN TaskSetManager: Stage 21 contains a task of very large size (12597 KiB). The maximum recommended task size is 1000 KiB.\n",
      "23/07/05 15:18:11 WARN PythonRunner: Detected deadlock while completing task 8.0 in stage 21 (TID 110): Attempting to kill Python Worker\n",
      "23/07/05 15:18:11 WARN PythonRunner: Detected deadlock while completing task 4.0 in stage 21 (TID 106): Attempting to kill Python Worker\n",
      "23/07/05 15:18:11 WARN PythonRunner: Detected deadlock while completing task 9.0 in stage 21 (TID 111): Attempting to kill Python Worker\n",
      "23/07/05 15:18:11 WARN PythonRunner: Detected deadlock while completing task 1.0 in stage 21 (TID 103): Attempting to kill Python Worker\n",
      "23/07/05 15:18:11 WARN PythonRunner: Detected deadlock while completing task 5.0 in stage 21 (TID 107): Attempting to kill Python Worker\n",
      "23/07/05 15:18:11 WARN PythonRunner: Detected deadlock while completing task 11.0 in stage 21 (TID 113): Attempting to kill Python Worker\n",
      "23/07/05 15:18:11 WARN PythonRunner: Detected deadlock while completing task 3.0 in stage 21 (TID 105): Attempting to kill Python Worker\n",
      "23/07/05 15:18:11 WARN PythonRunner: Detected deadlock while completing task 6.0 in stage 21 (TID 108): Attempting to kill Python Worker\n",
      "23/07/05 15:18:11 WARN PythonRunner: Detected deadlock while completing task 0.0 in stage 21 (TID 102): Attempting to kill Python Worker\n",
      "23/07/05 15:18:11 WARN PythonRunner: Detected deadlock while completing task 10.0 in stage 21 (TID 112): Attempting to kill Python Worker\n",
      "23/07/05 15:18:11 WARN PythonRunner: Detected deadlock while completing task 7.0 in stage 21 (TID 109): Attempting to kill Python Worker\n",
      "23/07/05 15:18:11 WARN PythonRunner: Detected deadlock while completing task 2.0 in stage 21 (TID 104): Attempting to kill Python Worker\n",
      "                                                                                \r"
     ]
    },
    {
     "name": "stdout",
     "output_type": "stream",
     "text": [
      "+----------------+---------+----------+----------------+----------------+------------+---------+-------------------+-----------+--------------------+------------------+-----------+--------------------+----------------+-----------+-------------------+-----+---------------+--------------------+----------------------+-------------------+\n",
      "|   dept_division|source_id|   case_id|case_opened_date|case_closed_date|SLA_due_date|case_late|      num_days_late|case_closed|service_request_type|          SLA_days|case_status|     request_address|council_district|closed_year|     num_hours_late|index|source_username|           dept_name|standardized_dept_name|dept_subject_to_SLA|\n",
      "+----------------+---------+----------+----------------+----------------+------------+---------+-------------------+-----------+--------------------+------------------+-----------+--------------------+----------------+-----------+-------------------+-----+---------------+--------------------+----------------------+-------------------+\n",
      "|     Storm Water| svcCRMSS|1014127333|            null|            null|        null|    false|       -2.012604167|       true|Removal Of Obstru...|       4.322222222|     Closed|2215  GOLIAD RD, ...|               3|       null|      -48.302500008|  133|       svcCRMSS|Trans & Cap Impro...|  Trans & Cap Impro...|                YES|\n",
      "|     Storm Water| svcCRMSS|1014127334|            null|            null|        null|    false|       -3.022337963|       true|Removal Of Obstru...|       4.320729167|     Closed|102  PALFREY ST W...|               3|       null|      -72.536111112|  133|       svcCRMSS|Trans & Cap Impro...|  Trans & Cap Impro...|                YES|\n",
      "|Code Enforcement| svcCRMSS|1014127335|            null|            null|        null|    false|       -15.01148148|       true|Front Or Side Yar...|       16.29188657|     Closed|114  LA GARDE ST,...|               3|       null|      -360.27555552|  133|       svcCRMSS|Code Enforcement ...|  DSD/Code Enforcement|                YES|\n",
      "|Field Operations| svcCRMSS|1014127336|            null|            null|        null|     true|        0.372164352|       true|Animal Cruelty(Cr...|             0.125|     Closed|734  CLEARVIEW DR...|               7|       null|        8.931944448|  133|       svcCRMSS|Animal Care Services|  Animal Care Services|                YES|\n",
      "|         Signals| svcCRMSS|1014127337|            null|            null|        null|    false|       -29.74398148|       true|Traffic Signal Op...|       30.08446759|     Closed|BANDERA RD and BR...|               7|       null| -713.8555555199999|  133|       svcCRMSS|Trans & Cap Impro...|  Trans & Cap Impro...|                YES|\n",
      "|Code Enforcement| svcCRMSS|1014127338|            null|            null|        null|    false|       -14.70673611|       true|Front Or Side Yar...|       16.06429398|     Closed|10133  FIGARO CAN...|               4|       null|      -352.96166664|  133|       svcCRMSS|Code Enforcement ...|  DSD/Code Enforcement|                YES|\n",
      "|Code Enforcement| svcCRMSS|1014127339|            null|            null|        null|    false|       -14.70662037|       true|Front Or Side Yar...|16.063796300000003|     Closed|10133  FIGARO CAN...|               4|       null|      -352.95888888|  133|       svcCRMSS|Code Enforcement ...|  DSD/Code Enforcement|                YES|\n",
      "|Code Enforcement| svcCRMSS|1014127340|            null|            null|        null|    false|       -14.70662037|       true|Right Of Way/Side...|       16.06333333|     Closed|10133  FIGARO CAN...|               4|       null|      -352.95888888|  133|       svcCRMSS|Code Enforcement ...|  DSD/Code Enforcement|                YES|\n",
      "|Code Enforcement| svcCRMSS|1014127341|            null|            null|        null|    false|       -14.70649306|       true|Front Or Side Yar...|        16.0628588|     Closed|10133  FIGARO CAN...|               4|       null|      -352.95583344|  133|       svcCRMSS|Code Enforcement ...|  DSD/Code Enforcement|                YES|\n",
      "|Code Enforcement| svcCRMSS|1014127342|            null|            null|        null|    false|       -14.70649306|       true|Front Or Side Yar...|       16.06237269|     Closed|10133  FIGARO CAN...|               4|       null|      -352.95583344|  133|       svcCRMSS|Code Enforcement ...|  DSD/Code Enforcement|                YES|\n",
      "|Code Enforcement| svcCRMSS|1014127343|            null|            null|        null|    false|       -14.70636574|       true|Right Of Way/Side...|       16.06104167|     Closed|10133  FIGARO CAN...|               4|       null|      -352.95277776|  133|       svcCRMSS|Code Enforcement ...|  DSD/Code Enforcement|                YES|\n",
      "|Code Enforcement| svcCRMSS|1014127344|            null|            null|        null|    false|          -14.70625|       true|Front Or Side Yar...|       16.06059028|     Closed|10129  BOXING PAS...|               4|       null|-352.95000000000005|  133|       svcCRMSS|Code Enforcement ...|  DSD/Code Enforcement|                YES|\n",
      "|Code Enforcement| svcCRMSS|1014127345|            null|            null|        null|    false|       -14.70636574|       true|Front Or Side Yar...|       16.06011574|     Closed|10129  BOXING PAS...|               4|       null|      -352.95277776|  133|       svcCRMSS|Code Enforcement ...|  DSD/Code Enforcement|                YES|\n",
      "|Code Enforcement| svcCRMSS|1014127346|            null|            null|        null|    false|       -14.70623843|       true|Right Of Way/Side...|       16.05953704|     Closed|10129  BOXING PAS...|               4|       null|-352.94972232000003|  133|       svcCRMSS|Code Enforcement ...|  DSD/Code Enforcement|                YES|\n",
      "|Code Enforcement| svcCRMSS|1014127347|            null|            null|        null|    false|-14.705891199999998|       true|Front Or Side Yar...|       16.05907407|     Closed|834  BARREL POINT...|               4|       null|-352.94138879999997|  133|       svcCRMSS|Code Enforcement ...|  DSD/Code Enforcement|                YES|\n",
      "|Code Enforcement| svcCRMSS|1014127348|            null|            null|        null|    false|       -14.70600694|       true|Front Or Side Yar...|       16.05864583|     Closed|834  BARREL POINT...|               4|       null|      -352.94416656|  133|       svcCRMSS|Code Enforcement ...|  DSD/Code Enforcement|                YES|\n",
      "|Code Enforcement| svcCRMSS|1014127349|            null|            null|        null|    false|       -14.70576389|       true|Right Of Way/Side...|       16.05819444|     Closed|834  BARREL POINT...|               4|       null|      -352.93833336|  133|       svcCRMSS|Code Enforcement ...|  DSD/Code Enforcement|                YES|\n",
      "|Code Enforcement| svcCRMSS|1014127350|            null|            null|        null|    false|       -14.70576389|       true|Front Or Side Yar...|       16.05775463|     Closed|834  BARREL POINT...|               4|       null|      -352.93833336|  133|       svcCRMSS|Code Enforcement ...|  DSD/Code Enforcement|                YES|\n",
      "|Code Enforcement| svcCRMSS|1014127351|            null|            null|        null|    false|       -14.70564815|       true|Front Or Side Yar...|       16.05733796|     Closed|834  BARREL POINT...|               4|       null|       -352.9355556|  133|       svcCRMSS|Code Enforcement ...|  DSD/Code Enforcement|                YES|\n",
      "|Code Enforcement| svcCRMSS|1014127352|            null|            null|        null|    false|       -14.70540509|       true|Right Of Way/Side...|       16.05690972|     Closed|834  BARREL POINT...|               4|       null|      -352.92972216|  133|       svcCRMSS|Code Enforcement ...|  DSD/Code Enforcement|                YES|\n",
      "+----------------+---------+----------+----------------+----------------+------------+---------+-------------------+-----------+--------------------+------------------+-----------+--------------------+----------------+-----------+-------------------+-----+---------------+--------------------+----------------------+-------------------+\n",
      "only showing top 20 rows\n",
      "\n"
     ]
    }
   ],
   "source": [
    "# Join case data with source data\n",
    "df = df.join(source_df, \"source_id\", \"left\")\n",
    "\n",
    "# Join case data with department data\n",
    "df = df.join(dept_df, \"dept_division\", \"left\")\n",
    "\n",
    "# Show the joined DataFrame\n",
    "df.show()\n"
   ]
  },
  {
   "cell_type": "markdown",
   "id": "66d551e5-ad84-4220-b7d5-a11975ecf6ca",
   "metadata": {},
   "source": [
    "## 8. Are there any cases that do not have a request source?"
   ]
  },
  {
   "cell_type": "code",
   "execution_count": 46,
   "id": "5370d2e3-c09f-4145-a07b-f60072f4308b",
   "metadata": {},
   "outputs": [
    {
     "name": "stderr",
     "output_type": "stream",
     "text": [
      "23/07/05 15:19:44 WARN TaskSetManager: Stage 30 contains a task of very large size (12597 KiB). The maximum recommended task size is 1000 KiB.\n",
      "[Stage 30:===================================================>    (11 + 1) / 12]\r"
     ]
    },
    {
     "name": "stdout",
     "output_type": "stream",
     "text": [
      "All cases have a request source.\n"
     ]
    },
    {
     "name": "stderr",
     "output_type": "stream",
     "text": [
      "                                                                                \r"
     ]
    }
   ],
   "source": [
    "from pyspark.sql.functions import isnull\n",
    "\n",
    "# Filter cases with null request source\n",
    "cases_without_source = df.filter(isnull(df.source_id))\n",
    "\n",
    "# Check if there are any cases without a request source\n",
    "if cases_without_source.count() > 0:\n",
    "    print(\"There are cases without a request source.\")\n",
    "    cases_without_source.show()\n",
    "else:\n",
    "    print(\"All cases have a request source.\")\n"
   ]
  },
  {
   "cell_type": "markdown",
   "id": "0f547403-b6be-4a1f-9eb9-b34563ad0226",
   "metadata": {},
   "source": [
    "## 9. What are the top 10 service request types in terms of number of requests?"
   ]
  },
  {
   "cell_type": "code",
   "execution_count": 47,
   "id": "2e03c0fa-d1a0-4fa2-b51b-3ecdb89c49db",
   "metadata": {},
   "outputs": [
    {
     "name": "stderr",
     "output_type": "stream",
     "text": [
      "23/07/05 15:20:39 WARN TaskSetManager: Stage 37 contains a task of very large size (12597 KiB). The maximum recommended task size is 1000 KiB.\n",
      "[Stage 45:=======>                                                  (1 + 7) / 8]\r"
     ]
    },
    {
     "name": "stdout",
     "output_type": "stream",
     "text": [
      "+--------------------+-----+\n",
      "|service_request_type|count|\n",
      "+--------------------+-----+\n",
      "|           No Pickup|89210|\n",
      "|Overgrown Yard/Trash|66403|\n",
      "|        Bandit Signs|32968|\n",
      "|        Damaged Cart|31163|\n",
      "|Front Or Side Yar...|28920|\n",
      "|        Stray Animal|27361|\n",
      "|Aggressive Animal...|25492|\n",
      "|Cart Exchange Req...|22608|\n",
      "|Junk Vehicle On P...|21649|\n",
      "|     Pot Hole Repair|20827|\n",
      "+--------------------+-----+\n",
      "only showing top 10 rows\n",
      "\n"
     ]
    },
    {
     "name": "stderr",
     "output_type": "stream",
     "text": [
      "                                                                                \r"
     ]
    }
   ],
   "source": [
    "from pyspark.sql.functions import desc\n",
    "\n",
    "# Group by service_request_type and count the number of requests\n",
    "top_service_request_types = df.groupBy(\"service_request_type\").count()\n",
    "\n",
    "# Sort in descending order based on the count\n",
    "top_service_request_types = top_service_request_types.orderBy(desc(\"count\"))\n",
    "\n",
    "# Show the top 10 service request types\n",
    "top_service_request_types.show(10)\n"
   ]
  },
  {
   "cell_type": "markdown",
   "id": "83f789ea-9cd5-41a7-9211-f9fa013aa49c",
   "metadata": {},
   "source": [
    "## 10. What are the top 10 service request types in terms of average days late?\n"
   ]
  },
  {
   "cell_type": "code",
   "execution_count": 48,
   "id": "2e24f6ff-9436-451d-98b7-b51f0e7c653f",
   "metadata": {},
   "outputs": [
    {
     "name": "stderr",
     "output_type": "stream",
     "text": [
      "23/07/05 15:21:34 WARN TaskSetManager: Stage 49 contains a task of very large size (12597 KiB). The maximum recommended task size is 1000 KiB.\n",
      "[Stage 57:=====>                                                  (1 + 10) / 11]\r"
     ]
    },
    {
     "name": "stdout",
     "output_type": "stream",
     "text": [
      "+--------------------+------------------+\n",
      "|service_request_type|avg(num_days_late)|\n",
      "+--------------------+------------------+\n",
      "|Request for Resea...|               NaN|\n",
      "|CCO_Request for R...|               NaN|\n",
      "|  Zoning: Junk Yards|175.95636210420943|\n",
      "|Labeling for Used...|162.43032902285717|\n",
      "|Record Keeping of...| 153.9972403942857|\n",
      "|Signage Requied f...|151.63868055333333|\n",
      "|Storage of Used M...|142.11255641500003|\n",
      "|Zoning: Recycle Yard|  135.928516124798|\n",
      "|Donation Containe...|131.75610506358706|\n",
      "|License Requied U...|128.79828704142858|\n",
      "+--------------------+------------------+\n",
      "only showing top 10 rows\n",
      "\n"
     ]
    },
    {
     "name": "stderr",
     "output_type": "stream",
     "text": [
      "                                                                                \r"
     ]
    }
   ],
   "source": [
    "from pyspark.sql.functions import desc\n",
    "\n",
    "# Group by service_request_type and calculate the average days late\n",
    "top_service_request_types = df.groupBy(\"service_request_type\").mean(\"num_days_late\")\n",
    "\n",
    "# Sort in descending order based on the average days late\n",
    "top_service_request_types = top_service_request_types.orderBy(desc(\"avg(num_days_late)\"))\n",
    "\n",
    "# Show the top 10 service request types\n",
    "top_service_request_types.show(10)\n"
   ]
  },
  {
   "cell_type": "markdown",
   "id": "5c9621c2-c2e1-4566-b2a9-8ed2a2e1940a",
   "metadata": {},
   "source": [
    "## 11. Does number of days late depend on department?"
   ]
  },
  {
   "cell_type": "code",
   "execution_count": 52,
   "id": "0e3de208-b5b0-4334-9d95-704b1f1bd4cf",
   "metadata": {},
   "outputs": [],
   "source": [
    "# Group by dept_division and calculate the average num_days_late\n",
    "avg_days_late_by_dept = df.groupBy(\"dept_division\").agg(avg(\"num_days_late\").alias(\"avg_days_late\"))"
   ]
  },
  {
   "cell_type": "code",
   "execution_count": 53,
   "id": "03dd0693-f701-49c2-9b61-c24e63b0e7ad",
   "metadata": {},
   "outputs": [
    {
     "name": "stderr",
     "output_type": "stream",
     "text": [
      "23/07/05 15:28:50 WARN TaskSetManager: Stage 83 contains a task of very large size (12597 KiB). The maximum recommended task size is 1000 KiB.\n",
      "                                                                                \r"
     ]
    },
    {
     "name": "stdout",
     "output_type": "stream",
     "text": [
      "+--------------------+-------------------+\n",
      "|       dept_division|      avg_days_late|\n",
      "+--------------------+-------------------+\n",
      "|       Miscellaneous|-1.7218576838926687|\n",
      "|         Solid Waste| 3.5190239198762256|\n",
      "|    Field Operations| -226.5178394055037|\n",
      "|    Waste Collection|-2.1706522384798994|\n",
      "|             Streets|-24.037123211992807|\n",
      "|Code Enforcement ...|-44.468611946863874|\n",
      "|              Vector|-1.1206532993223444|\n",
      "|   Dangerous Premise|-42.234884997542245|\n",
      "|     311 Call Center| 59.737091496300756|\n",
      "|               Brush|-3.9857905714570996|\n",
      "|Dangerous Premise...| -43.20829057269444|\n",
      "|Traffic Engineeri...| -33.44708001774808|\n",
      "|Code Enforcement ...| 135.92851612479797|\n",
      "|          District 2|                NaN|\n",
      "|             Signals|-28.809523320694538|\n",
      "|Engineering Division| 13.433724555869716|\n",
      "|Director's Office...|  37.57064670295008|\n",
      "|         Storm Water|-14.055678397031896|\n",
      "|               Shops|   9.64126176872269|\n",
      "|Storm Water Engin...|-15.075511976006071|\n",
      "+--------------------+-------------------+\n",
      "only showing top 20 rows\n",
      "\n"
     ]
    }
   ],
   "source": [
    "# Show the average number of days late by department\n",
    "avg_days_late_by_dept.show()"
   ]
  },
  {
   "cell_type": "markdown",
   "id": "93438639-a03d-44d6-85fc-17d4376a7fac",
   "metadata": {},
   "source": [
    "## 12. How do number of days late depend on department and request type?\n"
   ]
  },
  {
   "cell_type": "code",
   "execution_count": 50,
   "id": "0b8ee2ef-0f75-4c1e-9068-4941daa50a95",
   "metadata": {},
   "outputs": [
    {
     "name": "stderr",
     "output_type": "stream",
     "text": [
      "23/07/05 15:24:57 WARN TaskSetManager: Stage 64 contains a task of very large size (12597 KiB). The maximum recommended task size is 1000 KiB.\n",
      "[Stage 72:>                                                       (0 + 11) / 11]\r"
     ]
    },
    {
     "name": "stdout",
     "output_type": "stream",
     "text": [
      "+--------------------+--------------------+--------------------+\n",
      "|       dept_division|service_request_type|       avg_days_late|\n",
      "+--------------------+--------------------+--------------------+\n",
      "|    Code Enforcement|Overgrown Yard/Trash|  -46.35747521842478|\n",
      "|    Shops (Internal)|Major Park Improv...|  -280.2546235360405|\n",
      "|    Waste Collection|Organics Info / L...|  14.251441689631402|\n",
      "|Traffic Engineeri...|       Parking Issue|  -15.07585572790985|\n",
      "|    Code Enforcement|     Permits, Fences| -14.198422204579083|\n",
      "|             Streets| Rebarb Sticking Out|-0.41349038699999996|\n",
      "|Traffic Engineeri...|Flashing Beacon N...|  -68.60608196375308|\n",
      "|    Shops (Internal)|         Playgrounds|  -6.624961567266341|\n",
      "|    Code Enforcement|Used/Scrap Tire F...|  -71.23635577898261|\n",
      "|             Signals|Signal Timing Mod...|  -80.29628127803407|\n",
      "| Food Establishments|      Food Poisoning|  -7.783637740071429|\n",
      "|    Code Enforcement|Temporary Obstruc...| -119.75801638405595|\n",
      "|    Field Operations|Aggressive Animal...|  2.6450338831632694|\n",
      "|     311 Call Center|           Complaint|    72.8705023031169|\n",
      "|    Field Operations|City Council Anim...| -1.5475013634821915|\n",
      "|Traffic Engineeri...|  Speed Hump Request| -13.910156654139534|\n",
      "|Code Enforcement ...|Right Of Way/Side...| -10.661805029454545|\n",
      "|    Code Enforcement|    Brush Violations|  -56.70430377033244|\n",
      "|    Field Operations|Animal Cruelty(Cr...|-0.06219277353522...|\n",
      "|    Shops (Internal)|        Graffiti Int| -0.7482359768503275|\n",
      "+--------------------+--------------------+--------------------+\n",
      "only showing top 20 rows\n",
      "\n"
     ]
    },
    {
     "name": "stderr",
     "output_type": "stream",
     "text": [
      "                                                                                \r"
     ]
    }
   ],
   "source": [
    "from pyspark.sql.functions import avg\n",
    "\n",
    "# Group by dept_division and service_request_type, and calculate the average num_days_late\n",
    "avg_days_late_by_dept_request = df.groupBy(\"dept_division\", \"service_request_type\").agg(avg(\"num_days_late\").alias(\"avg_days_late\"))\n",
    "\n",
    "# Show the average number of days late by department and request type\n",
    "avg_days_late_by_dept_request.show()\n"
   ]
  },
  {
   "cell_type": "code",
   "execution_count": null,
   "id": "03a38fe3-5ff2-4b4d-b935-1e06cfc6f500",
   "metadata": {},
   "outputs": [],
   "source": []
  }
 ],
 "metadata": {
  "kernelspec": {
   "display_name": "Python 3 (ipykernel)",
   "language": "python",
   "name": "python3"
  },
  "language_info": {
   "codemirror_mode": {
    "name": "ipython",
    "version": 3
   },
   "file_extension": ".py",
   "mimetype": "text/x-python",
   "name": "python",
   "nbconvert_exporter": "python",
   "pygments_lexer": "ipython3",
   "version": "3.9.13"
  }
 },
 "nbformat": 4,
 "nbformat_minor": 5
}
