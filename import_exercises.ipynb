<html lang="en" data-color-mode="auto" data-light-theme="light" data-dark-theme="dark" data-a11y-animated-images="system" class="js-focus-visible" data-js-focus-visible="" data-turbo-loaded=""><head><style type="text/css">.turbo-progress-bar {
  position: fixed;
  display: block;
  top: 0;
  left: 0;
  height: 3px;
  background: #0076ff;
  z-index: 2147483647;
  transition:
    width 300ms ease-out,
    opacity 150ms 150ms ease-in;
  transform: translate3d(0, 0, 0);
}
</style>
    <meta charset="utf-8">
  <link rel="dns-prefetch" href="https://github.githubassets.com">
  <link rel="dns-prefetch" href="https://avatars.githubusercontent.com">
  <link rel="dns-prefetch" href="https://github-cloud.s3.amazonaws.com">
  <link rel="dns-prefetch" href="https://user-images.githubusercontent.com/">
  <link rel="preconnect" href="https://github.githubassets.com" crossorigin="">
  <link rel="preconnect" href="https://avatars.githubusercontent.com">

  


  <link crossorigin="anonymous" media="all" rel="stylesheet" href="https://github.githubassets.com/assets/light-8cafbcbd78f4.css"><link crossorigin="anonymous" media="all" rel="stylesheet" href="https://github.githubassets.com/assets/dark-31dc14e38457.css"><link data-color-theme="dark_dimmed" crossorigin="anonymous" media="all" rel="stylesheet" data-href="https://github.githubassets.com/assets/dark_dimmed-71414d661fe2.css"><link data-color-theme="dark_high_contrast" crossorigin="anonymous" media="all" rel="stylesheet" data-href="https://github.githubassets.com/assets/dark_high_contrast-ba96c7f1d660.css"><link data-color-theme="dark_colorblind" crossorigin="anonymous" media="all" rel="stylesheet" data-href="https://github.githubassets.com/assets/dark_colorblind-7471c22cdb6a.css"><link data-color-theme="light_colorblind" crossorigin="anonymous" media="all" rel="stylesheet" data-href="https://github.githubassets.com/assets/light_colorblind-80180bed15ed.css"><link data-color-theme="light_high_contrast" crossorigin="anonymous" media="all" rel="stylesheet" data-href="https://github.githubassets.com/assets/light_high_contrast-e89b9cdecb75.css"><link data-color-theme="light_tritanopia" crossorigin="anonymous" media="all" rel="stylesheet" data-href="https://github.githubassets.com/assets/light_tritanopia-77f15e9154df.css"><link data-color-theme="dark_tritanopia" crossorigin="anonymous" media="all" rel="stylesheet" data-href="https://github.githubassets.com/assets/dark_tritanopia-f598f8dd18ae.css">
  
    <link crossorigin="anonymous" media="all" rel="stylesheet" href="https://github.githubassets.com/assets/primer-primitives-fb1d51d1ef66.css">
    <link crossorigin="anonymous" media="all" rel="stylesheet" href="https://github.githubassets.com/assets/primer-60c5e476b0dc.css">
    <link crossorigin="anonymous" media="all" rel="stylesheet" href="https://github.githubassets.com/assets/global-5f348e729995.css">
    <link crossorigin="anonymous" media="all" rel="stylesheet" href="https://github.githubassets.com/assets/github-17b9a2af8801.css">
  <link crossorigin="anonymous" media="all" rel="stylesheet" href="https://github.githubassets.com/assets/code-5aae01d45c34.css">

  

  <script type="application/json" id="client-env">{"locale":"en","featureFlags":["failbot_handle_non_errors","geojson_azure_maps","image_metric_tracking","turbo_experiment_risky"]}</script>
<script crossorigin="anonymous" defer="defer" type="application/javascript" src="https://github.githubassets.com/assets/wp-runtime-a697275f0b01.js"></script>
<script crossorigin="anonymous" defer="defer" type="application/javascript" src="https://github.githubassets.com/assets/vendors-node_modules_stacktrace-parser_dist_stack-trace-parser_esm_js-node_modules_github_bro-a4c183-ae93d3fba59c.js"></script>
<script crossorigin="anonymous" defer="defer" type="application/javascript" src="https://github.githubassets.com/assets/ui_packages_soft-nav_soft-nav_ts-5bbac172fb2f.js"></script>
<script crossorigin="anonymous" defer="defer" type="application/javascript" src="https://github.githubassets.com/assets/environment-0eb35af480ad.js"></script>
<script crossorigin="anonymous" defer="defer" type="application/javascript" src="https://github.githubassets.com/assets/vendors-node_modules_dompurify_dist_purify_js-64d590970fa6.js"></script>
<script crossorigin="anonymous" defer="defer" type="application/javascript" src="https://github.githubassets.com/assets/vendors-node_modules_github_selector-observer_dist_index_esm_js-2646a2c533e3.js"></script>
<script crossorigin="anonymous" defer="defer" type="application/javascript" src="https://github.githubassets.com/assets/vendors-node_modules_github_relative-time-element_dist_index_js-99e288659d4f.js"></script>
<script crossorigin="anonymous" defer="defer" type="application/javascript" src="https://github.githubassets.com/assets/vendors-node_modules_fzy_js_index_js-node_modules_github_markdown-toolbar-element_dist_index_js-e3de700a4c9d.js"></script>
<script crossorigin="anonymous" defer="defer" type="application/javascript" src="https://github.githubassets.com/assets/vendors-node_modules_delegated-events_dist_index_js-node_modules_github_auto-complete-element-5b3870-9b38c0812424.js"></script>
<script crossorigin="anonymous" defer="defer" type="application/javascript" src="https://github.githubassets.com/assets/vendors-node_modules_github_file-attachment-element_dist_index_js-node_modules_github_text-ex-3415a8-7ecc10fb88d0.js"></script>
<script crossorigin="anonymous" defer="defer" type="application/javascript" src="https://github.githubassets.com/assets/vendors-node_modules_github_filter-input-element_dist_index_js-node_modules_github_remote-inp-8873b7-5771678648e0.js"></script>
<script crossorigin="anonymous" defer="defer" type="application/javascript" src="https://github.githubassets.com/assets/vendors-node_modules_primer_view-components_app_components_primer_primer_js-node_modules_gith-e7a1e2-49659aed34cc.js"></script>
<script crossorigin="anonymous" defer="defer" type="application/javascript" src="https://github.githubassets.com/assets/github-elements-2045016b52fa.js"></script>
<script crossorigin="anonymous" defer="defer" type="application/javascript" src="https://github.githubassets.com/assets/element-registry-3d2fb738661a.js"></script>
<script crossorigin="anonymous" defer="defer" type="application/javascript" src="https://github.githubassets.com/assets/vendors-node_modules_lit-html_lit-html_js-9d9fe1859ce5.js"></script>
<script crossorigin="anonymous" defer="defer" type="application/javascript" src="https://github.githubassets.com/assets/vendors-node_modules_github_hydro-analytics-client_dist_analytics-client_js-node_modules_gith-f3aee1-fd3c22610e40.js"></script>
<script crossorigin="anonymous" defer="defer" type="application/javascript" src="https://github.githubassets.com/assets/vendors-node_modules_morphdom_dist_morphdom-esm_js-b1fdd7158cf0.js"></script>
<script crossorigin="anonymous" defer="defer" type="application/javascript" src="https://github.githubassets.com/assets/vendors-node_modules_github_mini-throttle_dist_index_js-node_modules_github_alive-client_dist-bf5aa2-424aa982deef.js"></script>
<script crossorigin="anonymous" defer="defer" type="application/javascript" src="https://github.githubassets.com/assets/vendors-node_modules_github_turbo_dist_turbo_es2017-esm_js-ba0e4d5b3207.js"></script>
<script crossorigin="anonymous" defer="defer" type="application/javascript" src="https://github.githubassets.com/assets/vendors-node_modules_github_remote-form_dist_index_js-node_modules_scroll-anchoring_dist_scro-52dc4b-e1e33bfc0b7e.js"></script>
<script crossorigin="anonymous" defer="defer" type="application/javascript" src="https://github.githubassets.com/assets/vendors-node_modules_color-convert_index_js-35b3ae68c408.js"></script>
<script crossorigin="anonymous" defer="defer" type="application/javascript" src="https://github.githubassets.com/assets/vendors-node_modules_github_paste-markdown_dist_index_esm_js-node_modules_github_quote-select-7a8e2b-f036384374ea.js"></script>
<script crossorigin="anonymous" defer="defer" type="application/javascript" src="https://github.githubassets.com/assets/ui_packages_form-utils_form-utils_ts-ui_packages_morpheus_index_ts-ui_packages_trusted-types--01a936-8d42d79dbcc1.js"></script>
<script crossorigin="anonymous" defer="defer" type="application/javascript" src="https://github.githubassets.com/assets/app_assets_modules_github_behaviors_task-list_ts-app_assets_modules_github_has-interactions_t-bed59b-04d19d8e32bf.js"></script>
<script crossorigin="anonymous" defer="defer" type="application/javascript" src="https://github.githubassets.com/assets/app_assets_modules_github_sticky-scroll-into-view_ts-050ad6637d58.js"></script>
<script crossorigin="anonymous" defer="defer" type="application/javascript" src="https://github.githubassets.com/assets/app_assets_modules_github_behaviors_ajax-error_ts-app_assets_modules_github_behaviors_include-f12a82-c9c7859d8645.js"></script>
<script crossorigin="anonymous" defer="defer" type="application/javascript" src="https://github.githubassets.com/assets/app_assets_modules_github_behaviors_commenting_edit_ts-app_assets_modules_github_behaviors_ht-83c235-f22ac6b94445.js"></script>
<script crossorigin="anonymous" defer="defer" type="application/javascript" src="https://github.githubassets.com/assets/app_assets_modules_github_blob-anchor_ts-app_assets_modules_github_filter-sort_ts-app_assets_-c96432-3460172f1b1f.js"></script>
<script crossorigin="anonymous" defer="defer" type="application/javascript" src="https://github.githubassets.com/assets/behaviors-425cc3e83f10.js"></script>
<script crossorigin="anonymous" defer="defer" type="application/javascript" src="https://github.githubassets.com/assets/vendors-node_modules_delegated-events_dist_index_js-node_modules_github_catalyst_lib_index_js-06ff531-fe0b8ccc90a5.js"></script>
<script crossorigin="anonymous" defer="defer" type="application/javascript" src="https://github.githubassets.com/assets/notifications-global-f57687007bfc.js"></script>
<script crossorigin="anonymous" defer="defer" type="application/javascript" src="https://github.githubassets.com/assets/code-menu-082003a113a7.js"></script>
  
  <script crossorigin="anonymous" defer="defer" type="application/javascript" src="https://github.githubassets.com/assets/react-lib-210c4b5934c3.js"></script>
<script crossorigin="anonymous" defer="defer" type="application/javascript" src="https://github.githubassets.com/assets/vendors-node_modules_primer_octicons-react_dist_index_esm_js-node_modules_primer_react_lib-es-ca6dae-997b5be9ae26.js"></script>
<script crossorigin="anonymous" defer="defer" type="application/javascript" src="https://github.githubassets.com/assets/vendors-node_modules_primer_react_lib-esm_Button_index_js-node_modules_primer_react_lib-esm_L-5634ab-88e75d034f00.js"></script>
<script crossorigin="anonymous" defer="defer" type="application/javascript" src="https://github.githubassets.com/assets/vendors-node_modules_primer_behaviors_dist_esm_focus-zone_js-d55308df5023.js"></script>
<script crossorigin="anonymous" defer="defer" type="application/javascript" src="https://github.githubassets.com/assets/vendors-node_modules_primer_react_lib-esm_ActionList_index_js-node_modules_primer_react_lib-e-6c83fc-f575f8ee0ebf.js"></script>
<script crossorigin="anonymous" defer="defer" type="application/javascript" src="https://github.githubassets.com/assets/vendors-node_modules_primer_react_lib-esm_TextInput_TextInput_js-bda16ad5f5c0.js"></script>
<script crossorigin="anonymous" defer="defer" type="application/javascript" src="https://github.githubassets.com/assets/vendors-node_modules_primer_react_lib-esm_ActionMenu_js-9f46ef9292fe.js"></script>
<script crossorigin="anonymous" defer="defer" type="application/javascript" src="https://github.githubassets.com/assets/vendors-node_modules_primer_behaviors_dist_esm_scroll-into-view_js-node_modules_primer_react_-04bb1b-f1078ffd63d6.js"></script>
<script crossorigin="anonymous" defer="defer" type="application/javascript" src="https://github.githubassets.com/assets/vendors-node_modules_primer_react_lib-esm_FormControl_FormControl_js-f73cfd5e1065.js"></script>
<script crossorigin="anonymous" defer="defer" type="application/javascript" src="https://github.githubassets.com/assets/vendors-node_modules_primer_react_lib-esm_Heading_Heading_js-node_modules_primer_react_lib-es-20c766-3952b4d6d547.js"></script>
<script crossorigin="anonymous" defer="defer" type="application/javascript" src="https://github.githubassets.com/assets/vendors-node_modules_primer_react_lib-esm_Dialog_ConfirmationDialog_js-a160e95ee1e8.js"></script>
<script crossorigin="anonymous" defer="defer" type="application/javascript" src="https://github.githubassets.com/assets/vendors-node_modules_primer_react_lib-esm_TreeView_TreeView_js-2d5a3fb3b8ec.js"></script>
<script crossorigin="anonymous" defer="defer" type="application/javascript" src="https://github.githubassets.com/assets/vendors-node_modules_primer_react_lib-esm_Avatar_Avatar_js-node_modules_primer_react_lib-esm_-11e656-b2b35bb64b8b.js"></script>
<script crossorigin="anonymous" defer="defer" type="application/javascript" src="https://github.githubassets.com/assets/vendors-node_modules_primer_react_lib-esm_Dialog_js-node_modules_primer_react_lib-esm_TabNav_-8321f5-f6c3aa4bc5a3.js"></script>
<script crossorigin="anonymous" defer="defer" type="application/javascript" src="https://github.githubassets.com/assets/vendors-node_modules_js-yaml_index_js-node_modules_leven_index_js-09eaf6f363f5.js"></script>
<script crossorigin="anonymous" defer="defer" type="application/javascript" src="https://github.githubassets.com/assets/vendors-node_modules_github_blackbird-parser_dist_blackbird_js-fcd9d30e9b7e.js"></script>
<script crossorigin="anonymous" defer="defer" type="application/javascript" src="https://github.githubassets.com/assets/vendors-node_modules_cronstrue_dist_cronstrue_js-25a1d4fa28bf.js"></script>
<script crossorigin="anonymous" defer="defer" type="application/javascript" src="https://github.githubassets.com/assets/vendors-node_modules_primer_react_lib-esm_BranchName_BranchName_js-node_modules_primer_react_-c4e0ac-925df4a62d0b.js"></script>
<script crossorigin="anonymous" defer="defer" type="application/javascript" src="https://github.githubassets.com/assets/vendors-node_modules_primer_react_lib-esm_NavList_NavList_js-node_modules_primer_react_lib-es-ff3f14-9a81ecfa3742.js"></script>
<script crossorigin="anonymous" defer="defer" type="application/javascript" src="https://github.githubassets.com/assets/vendors-node_modules_primer_react_lib-esm_AvatarStack_AvatarStack_js-node_modules_primer_reac-0b4173-d8ba3894d9e9.js"></script>
<script crossorigin="anonymous" defer="defer" type="application/javascript" src="https://github.githubassets.com/assets/vendors-node_modules_primer_react_lib-esm_CircleOcticon_CircleOcticon_js-node_modules_primer_-81352b-3a2584cfd4bc.js"></script>
<script crossorigin="anonymous" defer="defer" type="application/javascript" src="https://github.githubassets.com/assets/ui_packages_ref-selector_RefSelector_tsx-ui_packages_safe-html_SafeHTML_tsx-2af6f0685693.js"></script>
<script crossorigin="anonymous" defer="defer" type="application/javascript" src="https://github.githubassets.com/assets/app_assets_modules_github_editor_yaml-editors_workflow_workflow-rules_ts-ui_packages_trusted--45f807-888142cb0316.js"></script>
<script crossorigin="anonymous" defer="defer" type="application/javascript" src="https://github.githubassets.com/assets/app_assets_modules_blackbird-monolith_hooks_use-navigate-to-query_ts-app_assets_modules_black-8527d4-06ab362654e6.js"></script>
<script crossorigin="anonymous" defer="defer" type="application/javascript" src="https://github.githubassets.com/assets/ui_packages_react-core_deferred-registry_ts-app_assets_modules_react-code-view_pages_CodeView-2db536-250821549526.js"></script>
<script crossorigin="anonymous" defer="defer" type="application/javascript" src="https://github.githubassets.com/assets/react-code-view-69aaeb8dc29b.js"></script>


  <title>python-exercises/import_exercises.ipynb at main · scottbarnett97/python-exercises · GitHub</title>



  <meta name="route-pattern" content="/:user_id/:repository/blob/*name(/*path)">

    
  <meta name="current-catalog-service-hash" content="82c569b93da5c18ed649ebd4c2c79437db4611a6a1373e805a3cb001c64130b7">


  <meta name="request-id" content="D8B5:70D6:351A:4899:64A88976" data-pjax-transient="true"><meta name="html-safe-nonce" content="7268435d111220992306305a8330f1f6015903e98d66df5be7cc55099a44489e" data-pjax-transient="true"><meta name="visitor-payload" content="eyJyZWZlcnJlciI6IiIsInJlcXVlc3RfaWQiOiJEOEI1OjcwRDY6MzUxQTo0ODk5OjY0QTg4OTc2IiwidmlzaXRvcl9pZCI6Ijg1MjM3OTcxNjUzOTE3NzYxMTMiLCJyZWdpb25fZWRnZSI6ImlhZCIsInJlZ2lvbl9yZW5kZXIiOiJpYWQifQ==" data-pjax-transient="true"><meta name="visitor-hmac" content="3618359f83464db2354df46ba05fa8d4a09d0481de627e8401eac349bcbe673c" data-pjax-transient="true">


    <meta name="hovercard-subject-tag" content="repository:615129265" data-turbo-transient="">


  <meta name="github-keyboard-shortcuts" content="repository,source-code,file-tree" data-turbo-transient="true">
  

  <meta name="selected-link" value="repo_source" data-turbo-transient="">
  <link rel="assets" href="https://github.githubassets.com/">

    <meta name="google-site-verification" content="c1kuD-K2HIVF635lypcsWPoD4kilo5-jA_wBFyT4uMY">
  <meta name="google-site-verification" content="KT5gs8h0wvaagLKAVWq8bbeNwnZZK1r1XQysX3xurLU">
  <meta name="google-site-verification" content="ZzhVyEFwb7w3e0-uOTltm8Jsck2F5StVihD0exw2fsA">
  <meta name="google-site-verification" content="GXs5KoUUkNCoaAZn7wPN-t01Pywp9M3sEjnt_3_ZWPc">
  <meta name="google-site-verification" content="Apib7-x98H0j5cPqHWwSMm6dNU4GmODRoqxLiDzdx9I">

<meta name="octolytics-url" content="https://collector.github.com/github/collect">

  <meta name="analytics-location" content="/<user-name>/<repo-name>/blob/show" data-turbo-transient="true">

  




  

    <meta name="user-login" content="">

  

    <meta name="viewport" content="width=device-width">
    
      <meta name="description" content="Contribute to scottbarnett97/python-exercises development by creating an account on GitHub.">
      <link rel="search" type="application/opensearchdescription+xml" href="/opensearch.xml" title="GitHub">
    <link rel="fluid-icon" href="https://github.com/fluidicon.png" title="GitHub">
    <meta property="fb:app_id" content="1401488693436528">
    <meta name="apple-itunes-app" content="app-id=1477376905, app-argument=https://github.com/scottbarnett97/python-exercises/blob/main/import_exercises.ipynb">
      <meta name="twitter:image:src" content="https://opengraph.githubassets.com/73723ee8bfdd16c5475cd16c133af22b66c9682efe781455789e999c6caed003/scottbarnett97/python-exercises"><meta name="twitter:site" content="@github"><meta name="twitter:card" content="summary_large_image"><meta name="twitter:title" content="python-exercises/import_exercises.ipynb at main · scottbarnett97/python-exercises"><meta name="twitter:description" content="Contribute to scottbarnett97/python-exercises development by creating an account on GitHub.">
      <meta property="og:image" content="https://opengraph.githubassets.com/73723ee8bfdd16c5475cd16c133af22b66c9682efe781455789e999c6caed003/scottbarnett97/python-exercises"><meta property="og:image:alt" content="Contribute to scottbarnett97/python-exercises development by creating an account on GitHub."><meta property="og:image:width" content="1200"><meta property="og:image:height" content="600"><meta property="og:site_name" content="GitHub"><meta property="og:type" content="object"><meta property="og:title" content="python-exercises/import_exercises.ipynb at main · scottbarnett97/python-exercises"><meta property="og:url" content="https://github.com/scottbarnett97/python-exercises"><meta property="og:description" content="Contribute to scottbarnett97/python-exercises development by creating an account on GitHub.">
      



        <meta name="hostname" content="github.com">



        <meta name="expected-hostname" content="github.com">

    <meta name="enabled-features" content="FAILBOT_HANDLE_NON_ERRORS,GEOJSON_AZURE_MAPS,IMAGE_METRIC_TRACKING,TURBO_EXPERIMENT_RISKY">


  <meta http-equiv="x-pjax-version" content="ad9586a3818c32e32959e251063560b53c7c4b990d7d3395f8fa14b1c018d4ee" data-turbo-track="reload">
  <meta http-equiv="x-pjax-csp-version" content="0db263f9a873141d8256f783c35f244c06d490aacc3b680f99794dd8fd59fb59" data-turbo-track="reload">
  <meta http-equiv="x-pjax-css-version" content="872fe602d2fa616d5996908fe6b3270e01c8d5623b35b40383b6052facb909bd" data-turbo-track="reload">
  <meta http-equiv="x-pjax-js-version" content="90a1d349190915bbfe2b358033c08a722380728c9c8aa1ca2d922d9180089758" data-turbo-track="reload">

  <meta name="turbo-cache-control" content="no-preview" data-turbo-transient="">

      <meta name="turbo-cache-control" content="no-cache" data-turbo-transient="">
    <meta data-hydrostats="publish">

  <meta name="go-import" content="github.com/scottbarnett97/python-exercises git https://github.com/scottbarnett97/python-exercises.git">

  <meta name="octolytics-dimension-user_id" content="126615545"><meta name="octolytics-dimension-user_login" content="scottbarnett97"><meta name="octolytics-dimension-repository_id" content="615129265"><meta name="octolytics-dimension-repository_nwo" content="scottbarnett97/python-exercises"><meta name="octolytics-dimension-repository_public" content="true"><meta name="octolytics-dimension-repository_is_fork" content="false"><meta name="octolytics-dimension-repository_network_root_id" content="615129265"><meta name="octolytics-dimension-repository_network_root_nwo" content="scottbarnett97/python-exercises">



  <meta name="turbo-body-classes" content="logged-out env-production page-responsive">


  <meta name="browser-stats-url" content="https://api.github.com/_private/browser/stats">

  <meta name="browser-errors-url" content="https://api.github.com/_private/browser/errors">

  <meta name="browser-optimizely-client-errors-url" content="https://api.github.com/_private/browser/optimizely_client/errors">

  <link rel="mask-icon" href="https://github.githubassets.com/pinned-octocat.svg" color="#000000">
  <link rel="alternate icon" class="js-site-favicon" type="image/png" href="https://github.githubassets.com/favicons/favicon.png">
  <link rel="icon" class="js-site-favicon" type="image/svg+xml" href="https://github.githubassets.com/favicons/favicon.svg">

<meta name="theme-color" content="#1e2327">
<meta name="color-scheme" content="light dark">


  <link rel="manifest" href="/manifest.json" crossorigin="use-credentials">

  <script charset="utf-8" src="https://github.githubassets.com/assets/chunk-app_components_primer_experimental_toggle-switch-element_ts-1a94f616784e.js" crossorigin="anonymous"></script><script charset="utf-8" src="https://github.githubassets.com/assets/chunk-app_components_search_custom-scopes-element_ts-e5c5e4a6c5a2.js" crossorigin="anonymous"></script><script charset="utf-8" src="https://github.githubassets.com/assets/chunk-vendors-node_modules_github_mini-throttle_dist_index_js-node_modules_primer_behaviors_dist_es-f08e9d-ba009a291901.js" crossorigin="anonymous"></script><script charset="utf-8" src="https://github.githubassets.com/assets/chunk-app_assets_modules_github_jump-to_ts-6e3e8cb2643a.js" crossorigin="anonymous"></script><script charset="utf-8" src="https://github.githubassets.com/assets/chunk-app_assets_modules_github_onfocus_ts-app_components_search_qbsearch-input-element_ts-ui_packa-52ba59-55ee13ce9983.js" crossorigin="anonymous"></script><script charset="utf-8" src="https://github.githubassets.com/assets/ui_packages_query-builder-element_query-builder-element_ts-1ad139af7b33.js" crossorigin="anonymous"></script><script charset="utf-8" src="https://github.githubassets.com/assets/chunk-ui_packages_trusted-types-policies_policy_ts-ui_packages_trusted-types_trusted-types_ts-node_-03b76d-6f21c3d0855c.js" crossorigin="anonymous"></script><script charset="utf-8" src="https://github.githubassets.com/assets/chunk-ui_packages_webauthn-get-element_webauthn-get-element_ts-e119439d7139.js" crossorigin="anonymous"></script><style data-styled="active" data-styled-version="5.3.6"></style></head>

  <body class="logged-out env-production page-responsive" style="word-wrap: break-word;">
    <div data-turbo-body="" class="logged-out env-production page-responsive" style="word-wrap: break-word;">
      


    <div class="position-relative js-header-wrapper ">
      <a href="#start-of-content" class="px-2 py-4 color-bg-accent-emphasis color-fg-on-emphasis show-on-focus js-skip-to-content">Skip to content</a>
      <span data-view-component="true" class="progress-pjax-loader Progress position-fixed width-full">
    <span style="width: 0%;" data-view-component="true" class="Progress-item progress-pjax-loader-bar left-0 top-0 color-bg-accent-emphasis"></span>
</span>      
      


      

        

            

<script crossorigin="anonymous" defer="defer" type="application/javascript" src="https://github.githubassets.com/assets/vendors-node_modules_github_remote-form_dist_index_js-node_modules_github_memoize_dist_esm_in-687f35-d131f0b6de8e.js"></script>
<script crossorigin="anonymous" defer="defer" type="application/javascript" src="https://github.githubassets.com/assets/sessions-2638decb9ee5.js"></script>
<header class="Header-old header-logged-out js-details-container Details position-relative f4 py-3" role="banner" data-color-mode="light" data-light-theme="light" data-dark-theme="dark">
  <button type="button" class="Header-backdrop d-lg-none border-0 position-fixed top-0 left-0 width-full height-full js-details-target" aria-label="Toggle navigation">
    <span class="d-none">Toggle navigation</span>
  </button>

  <div class=" d-flex flex-column flex-lg-row flex-items-center p-responsive height-full position-relative z-1">
    <div class="d-flex flex-justify-between flex-items-center width-full width-lg-auto">
      <a class="mr-lg-3 color-fg-inherit flex-order-2" href="https://github.com/" aria-label="Homepage" data-ga-click="(Logged out) Header, go to homepage, icon:logo-wordmark">
        <svg height="32" aria-hidden="true" viewBox="0 0 16 16" version="1.1" width="32" data-view-component="true" class="octicon octicon-mark-github">
    <path d="M8 0c4.42 0 8 3.58 8 8a8.013 8.013 0 0 1-5.45 7.59c-.4.08-.55-.17-.55-.38 0-.27.01-1.13.01-2.2 0-.75-.25-1.23-.54-1.48 1.78-.2 3.65-.88 3.65-3.95 0-.88-.31-1.59-.82-2.15.08-.2.36-1.02-.08-2.12 0 0-.67-.22-2.2.82-.64-.18-1.32-.27-2-.27-.68 0-1.36.09-2 .27-1.53-1.03-2.2-.82-2.2-.82-.44 1.1-.16 1.92-.08 2.12-.51.56-.82 1.28-.82 2.15 0 3.06 1.86 3.75 3.64 3.95-.23.2-.44.55-.51 1.07-.46.21-1.61.55-2.33-.66-.15-.24-.6-.83-1.23-.82-.67.01-.27.38.01.53.34.19.73.9.82 1.13.16.45.68 1.31 2.69.94 0 .67.01 1.3.01 1.49 0 .21-.15.45-.55.38A7.995 7.995 0 0 1 0 8c0-4.42 3.58-8 8-8Z"></path>
</svg>
      </a>

        <div class="flex-1">
          <a href="/signup?ref_cta=Sign+up&amp;ref_loc=header+logged+out&amp;ref_page=%2F%3Cuser-name%3E%2F%3Crepo-name%3E%2Fblob%2Fshow&amp;source=header-repo" class="d-inline-block d-lg-none flex-order-1 f5 no-underline border color-border-default rounded-2 px-2 py-1 color-fg-inherit" data-hydro-click="{&quot;event_type&quot;:&quot;authentication.click&quot;,&quot;payload&quot;:{&quot;location_in_page&quot;:&quot;site header&quot;,&quot;repository_id&quot;:null,&quot;auth_type&quot;:&quot;SIGN_UP&quot;,&quot;originating_url&quot;:&quot;https://github.com/scottbarnett97/python-exercises/blob/main/import_exercises.ipynb&quot;,&quot;user_id&quot;:null}}" data-hydro-click-hmac="dcbe183e398b6baf1d180a21f41fff4d3bde4bbbe0e838e841ac16d3b9f40b9b">
            Sign&nbsp;up
          </a>
        </div>

      <div class="flex-1 flex-order-2 text-right">
          <button aria-label="Toggle navigation" aria-expanded="false" type="button" data-view-component="true" class="js-details-target Button--link Button--medium Button d-lg-none color-fg-inherit p-1">    <span class="Button-content">
      <span class="Button-label"><div class="HeaderMenu-toggle-bar rounded my-1"></div>
            <div class="HeaderMenu-toggle-bar rounded my-1"></div>
            <div class="HeaderMenu-toggle-bar rounded my-1"></div></span>
    </span>
</button>  
      </div>
    </div>


    <div class="HeaderMenu--logged-out p-responsive height-fit position-lg-relative d-lg-flex flex-column flex-auto pt-7 pb-4 top-0">
      <div class="header-menu-wrapper d-flex flex-column flex-self-end flex-lg-row flex-justify-between flex-auto p-3 p-lg-0 rounded rounded-lg-0 mt-3 mt-lg-0">
          <nav class="mt-0 px-3 px-lg-0 mb-3 mb-lg-0" aria-label="Global">
            <ul class="d-lg-flex list-style-none">
                <li class="HeaderMenu-item position-relative flex-wrap flex-justify-between flex-items-center d-block d-lg-flex flex-lg-nowrap flex-lg-items-center js-details-container js-header-menu-item">
      <button type="button" class="HeaderMenu-link border-0 width-full width-lg-auto px-0 px-lg-2 py-3 py-lg-2 no-wrap d-flex flex-items-center flex-justify-between js-details-target" aria-expanded="false">
        Product
        <svg opacity="0.5" aria-hidden="true" height="16" viewBox="0 0 16 16" version="1.1" width="16" data-view-component="true" class="octicon octicon-chevron-down HeaderMenu-icon ml-1">
    <path d="M12.78 5.22a.749.749 0 0 1 0 1.06l-4.25 4.25a.749.749 0 0 1-1.06 0L3.22 6.28a.749.749 0 1 1 1.06-1.06L8 8.939l3.72-3.719a.749.749 0 0 1 1.06 0Z"></path>
</svg>
      </button>
      <div class="HeaderMenu-dropdown dropdown-menu rounded m-0 p-0 py-2 py-lg-4 position-relative position-lg-absolute left-0 left-lg-n3 d-lg-flex dropdown-menu-wide">
          <div class="px-lg-4 border-lg-right mb-4 mb-lg-0 pr-lg-7">
            <ul class="list-style-none f5">
                <li>
  <a class="HeaderMenu-dropdown-link lh-condensed d-block no-underline position-relative py-2 Link--secondary d-flex flex-items-center pb-lg-3" data-analytics-event="{&quot;category&quot;:&quot;Header dropdown (logged out), Product&quot;,&quot;action&quot;:&quot;click to go to Actions&quot;,&quot;label&quot;:&quot;ref_cta:Actions;&quot;}" href="/features/actions">
      <svg aria-hidden="true" height="24" viewBox="0 0 24 24" version="1.1" width="24" data-view-component="true" class="octicon octicon-workflow color-fg-subtle mr-3">
    <path d="M1 3a2 2 0 0 1 2-2h6.5a2 2 0 0 1 2 2v6.5a2 2 0 0 1-2 2H7v4.063C7 16.355 7.644 17 8.438 17H12.5v-2.5a2 2 0 0 1 2-2H21a2 2 0 0 1 2 2V21a2 2 0 0 1-2 2h-6.5a2 2 0 0 1-2-2v-2.5H8.437A2.939 2.939 0 0 1 5.5 15.562V11.5H3a2 2 0 0 1-2-2Zm2-.5a.5.5 0 0 0-.5.5v6.5a.5.5 0 0 0 .5.5h6.5a.5.5 0 0 0 .5-.5V3a.5.5 0 0 0-.5-.5ZM14.5 14a.5.5 0 0 0-.5.5V21a.5.5 0 0 0 .5.5H21a.5.5 0 0 0 .5-.5v-6.5a.5.5 0 0 0-.5-.5Z"></path>
</svg>
      <div>
        <div class="color-fg-default h4">Actions</div>
        Automate any workflow
      </div>

    
</a></li>

                <li>
  <a class="HeaderMenu-dropdown-link lh-condensed d-block no-underline position-relative py-2 Link--secondary d-flex flex-items-center pb-lg-3" data-analytics-event="{&quot;category&quot;:&quot;Header dropdown (logged out), Product&quot;,&quot;action&quot;:&quot;click to go to Packages&quot;,&quot;label&quot;:&quot;ref_cta:Packages;&quot;}" href="/features/packages">
      <svg aria-hidden="true" height="24" viewBox="0 0 24 24" version="1.1" width="24" data-view-component="true" class="octicon octicon-package color-fg-subtle mr-3">
    <path d="M12.876.64V.639l8.25 4.763c.541.313.875.89.875 1.515v9.525a1.75 1.75 0 0 1-.875 1.516l-8.25 4.762a1.748 1.748 0 0 1-1.75 0l-8.25-4.763a1.75 1.75 0 0 1-.875-1.515V6.917c0-.625.334-1.202.875-1.515L11.126.64a1.748 1.748 0 0 1 1.75 0Zm-1 1.298L4.251 6.34l7.75 4.474 7.75-4.474-7.625-4.402a.248.248 0 0 0-.25 0Zm.875 19.123 7.625-4.402a.25.25 0 0 0 .125-.216V7.639l-7.75 4.474ZM3.501 7.64v8.803c0 .09.048.172.125.216l7.625 4.402v-8.947Z"></path>
</svg>
      <div>
        <div class="color-fg-default h4">Packages</div>
        Host and manage packages
      </div>

    
</a></li>

                <li>
  <a class="HeaderMenu-dropdown-link lh-condensed d-block no-underline position-relative py-2 Link--secondary d-flex flex-items-center pb-lg-3" data-analytics-event="{&quot;category&quot;:&quot;Header dropdown (logged out), Product&quot;,&quot;action&quot;:&quot;click to go to Security&quot;,&quot;label&quot;:&quot;ref_cta:Security;&quot;}" href="/features/security">
      <svg aria-hidden="true" height="24" viewBox="0 0 24 24" version="1.1" width="24" data-view-component="true" class="octicon octicon-shield-check color-fg-subtle mr-3">
    <path d="M16.53 9.78a.75.75 0 0 0-1.06-1.06L11 13.19l-1.97-1.97a.75.75 0 0 0-1.06 1.06l2.5 2.5a.75.75 0 0 0 1.06 0l5-5Z"></path><path d="m12.54.637 8.25 2.675A1.75 1.75 0 0 1 22 4.976V10c0 6.19-3.771 10.704-9.401 12.83a1.704 1.704 0 0 1-1.198 0C5.77 20.705 2 16.19 2 10V4.976c0-.758.489-1.43 1.21-1.664L11.46.637a1.748 1.748 0 0 1 1.08 0Zm-.617 1.426-8.25 2.676a.249.249 0 0 0-.173.237V10c0 5.46 3.28 9.483 8.43 11.426a.199.199 0 0 0 .14 0C17.22 19.483 20.5 15.461 20.5 10V4.976a.25.25 0 0 0-.173-.237l-8.25-2.676a.253.253 0 0 0-.154 0Z"></path>
</svg>
      <div>
        <div class="color-fg-default h4">Security</div>
        Find and fix vulnerabilities
      </div>

    
</a></li>

                <li>
  <a class="HeaderMenu-dropdown-link lh-condensed d-block no-underline position-relative py-2 Link--secondary d-flex flex-items-center pb-lg-3" data-analytics-event="{&quot;category&quot;:&quot;Header dropdown (logged out), Product&quot;,&quot;action&quot;:&quot;click to go to Codespaces&quot;,&quot;label&quot;:&quot;ref_cta:Codespaces;&quot;}" href="/features/codespaces">
      <svg aria-hidden="true" height="24" viewBox="0 0 24 24" version="1.1" width="24" data-view-component="true" class="octicon octicon-codespaces color-fg-subtle mr-3">
    <path d="M3.5 3.75C3.5 2.784 4.284 2 5.25 2h13.5c.966 0 1.75.784 1.75 1.75v7.5A1.75 1.75 0 0 1 18.75 13H5.25a1.75 1.75 0 0 1-1.75-1.75Zm-2 12c0-.966.784-1.75 1.75-1.75h17.5c.966 0 1.75.784 1.75 1.75v4a1.75 1.75 0 0 1-1.75 1.75H3.25a1.75 1.75 0 0 1-1.75-1.75ZM5.25 3.5a.25.25 0 0 0-.25.25v7.5c0 .138.112.25.25.25h13.5a.25.25 0 0 0 .25-.25v-7.5a.25.25 0 0 0-.25-.25Zm-2 12a.25.25 0 0 0-.25.25v4c0 .138.112.25.25.25h17.5a.25.25 0 0 0 .25-.25v-4a.25.25 0 0 0-.25-.25Z"></path><path d="M10 17.75a.75.75 0 0 1 .75-.75h6.5a.75.75 0 0 1 0 1.5h-6.5a.75.75 0 0 1-.75-.75Zm-4 0a.75.75 0 0 1 .75-.75h.5a.75.75 0 0 1 0 1.5h-.5a.75.75 0 0 1-.75-.75Z"></path>
</svg>
      <div>
        <div class="color-fg-default h4">Codespaces</div>
        Instant dev environments
      </div>

    
</a></li>

                <li>
  <a class="HeaderMenu-dropdown-link lh-condensed d-block no-underline position-relative py-2 Link--secondary d-flex flex-items-center pb-lg-3" data-analytics-event="{&quot;category&quot;:&quot;Header dropdown (logged out), Product&quot;,&quot;action&quot;:&quot;click to go to Copilot&quot;,&quot;label&quot;:&quot;ref_cta:Copilot;&quot;}" href="/features/copilot">
      <svg aria-hidden="true" height="24" viewBox="0 0 24 24" version="1.1" width="24" data-view-component="true" class="octicon octicon-copilot color-fg-subtle mr-3">
    <path d="M9.75 14a.75.75 0 0 1 .75.75v2.5a.75.75 0 0 1-1.5 0v-2.5a.75.75 0 0 1 .75-.75Zm4.5 0a.75.75 0 0 1 .75.75v2.5a.75.75 0 0 1-1.5 0v-2.5a.75.75 0 0 1 .75-.75Z"></path><path d="M12 2c2.214 0 4.248.657 5.747 1.756.136.099.268.204.397.312.584.235 1.077.546 1.474.952.85.869 1.132 2.037 1.132 3.368 0 .368-.014.733-.052 1.086l.633 1.478.043.022A4.75 4.75 0 0 1 24 15.222v1.028c0 .529-.309.987-.565 1.293-.28.336-.636.653-.966.918a13.84 13.84 0 0 1-1.299.911l-.024.015-.006.004-.039.025c-.223.135-.45.264-.68.386-.46.245-1.122.571-1.941.895C16.845 21.344 14.561 22 12 22c-2.561 0-4.845-.656-6.479-1.303a19.046 19.046 0 0 1-1.942-.894 14.081 14.081 0 0 1-.535-.3l-.144-.087-.04-.025-.006-.004-.024-.015a13.16 13.16 0 0 1-1.299-.911 6.913 6.913 0 0 1-.967-.918C.31 17.237 0 16.779 0 16.25v-1.028a4.75 4.75 0 0 1 2.626-4.248l.043-.022.633-1.478a10.195 10.195 0 0 1-.052-1.086c0-1.331.282-2.498 1.132-3.368.397-.406.89-.717 1.474-.952.129-.108.261-.213.397-.312C7.752 2.657 9.786 2 12 2Zm-8 9.654v6.669a17.59 17.59 0 0 0 2.073.98C7.595 19.906 9.686 20.5 12 20.5c2.314 0 4.405-.594 5.927-1.197a17.59 17.59 0 0 0 2.073-.98v-6.669l-.038-.09c-.046.061-.095.12-.145.177-.793.9-2.057 1.259-3.782 1.259-1.59 0-2.738-.544-3.508-1.492a4.323 4.323 0 0 1-.355-.508h-.344a4.323 4.323 0 0 1-.355.508C10.704 12.456 9.555 13 7.965 13c-1.725 0-2.989-.359-3.782-1.259a3.026 3.026 0 0 1-.145-.177Zm6.309-1.092c.445-.547.708-1.334.851-2.301.057-.357.087-.718.09-1.079v-.031c-.001-.762-.166-1.26-.43-1.568l-.008-.01c-.341-.391-1.046-.689-2.533-.529-1.505.163-2.347.537-2.824 1.024-.462.473-.705 1.18-.705 2.32 0 .605.044 1.087.135 1.472.092.384.231.672.423.89.365.413 1.084.75 2.657.75.91 0 1.527-.223 1.964-.564.14-.11.268-.235.38-.374Zm2.504-2.497c.136 1.057.403 1.913.878 2.497.442.545 1.134.938 2.344.938 1.573 0 2.292-.337 2.657-.751.384-.435.558-1.151.558-2.361 0-1.14-.243-1.847-.705-2.319-.477-.488-1.318-.862-2.824-1.025-1.487-.161-2.192.139-2.533.529-.268.308-.437.808-.438 1.578v.02c.002.299.023.598.063.894Z"></path>
</svg>
      <div>
        <div class="color-fg-default h4">Copilot</div>
        Write better code with AI
      </div>

    
</a></li>

                <li>
  <a class="HeaderMenu-dropdown-link lh-condensed d-block no-underline position-relative py-2 Link--secondary d-flex flex-items-center pb-lg-3" data-analytics-event="{&quot;category&quot;:&quot;Header dropdown (logged out), Product&quot;,&quot;action&quot;:&quot;click to go to Code review&quot;,&quot;label&quot;:&quot;ref_cta:Code review;&quot;}" href="/features/code-review">
      <svg aria-hidden="true" height="24" viewBox="0 0 24 24" version="1.1" width="24" data-view-component="true" class="octicon octicon-code-review color-fg-subtle mr-3">
    <path d="M10.3 6.74a.75.75 0 0 1-.04 1.06l-2.908 2.7 2.908 2.7a.75.75 0 1 1-1.02 1.1l-3.5-3.25a.75.75 0 0 1 0-1.1l3.5-3.25a.75.75 0 0 1 1.06.04Zm3.44 1.06a.75.75 0 1 1 1.02-1.1l3.5 3.25a.75.75 0 0 1 0 1.1l-3.5 3.25a.75.75 0 1 1-1.02-1.1l2.908-2.7-2.908-2.7Z"></path><path d="M1.5 4.25c0-.966.784-1.75 1.75-1.75h17.5c.966 0 1.75.784 1.75 1.75v12.5a1.75 1.75 0 0 1-1.75 1.75h-9.69l-3.573 3.573A1.458 1.458 0 0 1 5 21.043V18.5H3.25a1.75 1.75 0 0 1-1.75-1.75ZM3.25 4a.25.25 0 0 0-.25.25v12.5c0 .138.112.25.25.25h2.5a.75.75 0 0 1 .75.75v3.19l3.72-3.72a.749.749 0 0 1 .53-.22h10a.25.25 0 0 0 .25-.25V4.25a.25.25 0 0 0-.25-.25Z"></path>
</svg>
      <div>
        <div class="color-fg-default h4">Code review</div>
        Manage code changes
      </div>

    
</a></li>

                <li>
  <a class="HeaderMenu-dropdown-link lh-condensed d-block no-underline position-relative py-2 Link--secondary d-flex flex-items-center pb-lg-3" data-analytics-event="{&quot;category&quot;:&quot;Header dropdown (logged out), Product&quot;,&quot;action&quot;:&quot;click to go to Issues&quot;,&quot;label&quot;:&quot;ref_cta:Issues;&quot;}" href="/features/issues">
      <svg aria-hidden="true" height="24" viewBox="0 0 24 24" version="1.1" width="24" data-view-component="true" class="octicon octicon-issue-opened color-fg-subtle mr-3">
    <path d="M12 1c6.075 0 11 4.925 11 11s-4.925 11-11 11S1 18.075 1 12 5.925 1 12 1ZM2.5 12a9.5 9.5 0 0 0 9.5 9.5 9.5 9.5 0 0 0 9.5-9.5A9.5 9.5 0 0 0 12 2.5 9.5 9.5 0 0 0 2.5 12Zm9.5 2a2 2 0 1 1-.001-3.999A2 2 0 0 1 12 14Z"></path>
</svg>
      <div>
        <div class="color-fg-default h4">Issues</div>
        Plan and track work
      </div>

    
</a></li>

                <li>
  <a class="HeaderMenu-dropdown-link lh-condensed d-block no-underline position-relative py-2 Link--secondary d-flex flex-items-center" data-analytics-event="{&quot;category&quot;:&quot;Header dropdown (logged out), Product&quot;,&quot;action&quot;:&quot;click to go to Discussions&quot;,&quot;label&quot;:&quot;ref_cta:Discussions;&quot;}" href="/features/discussions">
      <svg aria-hidden="true" height="24" viewBox="0 0 24 24" version="1.1" width="24" data-view-component="true" class="octicon octicon-comment-discussion color-fg-subtle mr-3">
    <path d="M1.75 1h12.5c.966 0 1.75.784 1.75 1.75v9.5A1.75 1.75 0 0 1 14.25 14H8.061l-2.574 2.573A1.458 1.458 0 0 1 3 15.543V14H1.75A1.75 1.75 0 0 1 0 12.25v-9.5C0 1.784.784 1 1.75 1ZM1.5 2.75v9.5c0 .138.112.25.25.25h2a.75.75 0 0 1 .75.75v2.19l2.72-2.72a.749.749 0 0 1 .53-.22h6.5a.25.25 0 0 0 .25-.25v-9.5a.25.25 0 0 0-.25-.25H1.75a.25.25 0 0 0-.25.25Z"></path><path d="M22.5 8.75a.25.25 0 0 0-.25-.25h-3.5a.75.75 0 0 1 0-1.5h3.5c.966 0 1.75.784 1.75 1.75v9.5A1.75 1.75 0 0 1 22.25 20H21v1.543a1.457 1.457 0 0 1-2.487 1.03L15.939 20H10.75A1.75 1.75 0 0 1 9 18.25v-1.465a.75.75 0 0 1 1.5 0v1.465c0 .138.112.25.25.25h5.5a.75.75 0 0 1 .53.22l2.72 2.72v-2.19a.75.75 0 0 1 .75-.75h2a.25.25 0 0 0 .25-.25v-9.5Z"></path>
</svg>
      <div>
        <div class="color-fg-default h4">Discussions</div>
        Collaborate outside of code
      </div>

    
</a></li>

            </ul>
          </div>
          <div class="px-lg-4">
              <span class="d-block h4 color-fg-default my-1" id="product-explore-heading">Explore</span>
            <ul class="list-style-none f5" aria-labelledby="product-explore-heading">
                <li>
  <a class="HeaderMenu-dropdown-link lh-condensed d-block no-underline position-relative py-2 Link--secondary" data-analytics-event="{&quot;category&quot;:&quot;Header dropdown (logged out), Product&quot;,&quot;action&quot;:&quot;click to go to All features&quot;,&quot;label&quot;:&quot;ref_cta:All features;&quot;}" href="/features">
      All features

    
</a></li>

                <li>
  <a class="HeaderMenu-dropdown-link lh-condensed d-block no-underline position-relative py-2 Link--secondary" target="_blank" data-analytics-event="{&quot;category&quot;:&quot;Header dropdown (logged out), Product&quot;,&quot;action&quot;:&quot;click to go to Documentation&quot;,&quot;label&quot;:&quot;ref_cta:Documentation;&quot;}" href="https://docs.github.com">
      Documentation

    <svg aria-hidden="true" height="16" viewBox="0 0 16 16" version="1.1" width="16" data-view-component="true" class="octicon octicon-link-external HeaderMenu-external-icon color-fg-subtle">
    <path d="M3.75 2h3.5a.75.75 0 0 1 0 1.5h-3.5a.25.25 0 0 0-.25.25v8.5c0 .138.112.25.25.25h8.5a.25.25 0 0 0 .25-.25v-3.5a.75.75 0 0 1 1.5 0v3.5A1.75 1.75 0 0 1 12.25 14h-8.5A1.75 1.75 0 0 1 2 12.25v-8.5C2 2.784 2.784 2 3.75 2Zm6.854-1h4.146a.25.25 0 0 1 .25.25v4.146a.25.25 0 0 1-.427.177L13.03 4.03 9.28 7.78a.751.751 0 0 1-1.042-.018.751.751 0 0 1-.018-1.042l3.75-3.75-1.543-1.543A.25.25 0 0 1 10.604 1Z"></path>
</svg>
</a></li>

                <li>
  <a class="HeaderMenu-dropdown-link lh-condensed d-block no-underline position-relative py-2 Link--secondary" target="_blank" data-analytics-event="{&quot;category&quot;:&quot;Header dropdown (logged out), Product&quot;,&quot;action&quot;:&quot;click to go to GitHub Skills&quot;,&quot;label&quot;:&quot;ref_cta:GitHub Skills;&quot;}" href="https://skills.github.com/">
      GitHub Skills

    <svg aria-hidden="true" height="16" viewBox="0 0 16 16" version="1.1" width="16" data-view-component="true" class="octicon octicon-link-external HeaderMenu-external-icon color-fg-subtle">
    <path d="M3.75 2h3.5a.75.75 0 0 1 0 1.5h-3.5a.25.25 0 0 0-.25.25v8.5c0 .138.112.25.25.25h8.5a.25.25 0 0 0 .25-.25v-3.5a.75.75 0 0 1 1.5 0v3.5A1.75 1.75 0 0 1 12.25 14h-8.5A1.75 1.75 0 0 1 2 12.25v-8.5C2 2.784 2.784 2 3.75 2Zm6.854-1h4.146a.25.25 0 0 1 .25.25v4.146a.25.25 0 0 1-.427.177L13.03 4.03 9.28 7.78a.751.751 0 0 1-1.042-.018.751.751 0 0 1-.018-1.042l3.75-3.75-1.543-1.543A.25.25 0 0 1 10.604 1Z"></path>
</svg>
</a></li>

                <li>
  <a class="HeaderMenu-dropdown-link lh-condensed d-block no-underline position-relative py-2 Link--secondary" target="_blank" data-analytics-event="{&quot;category&quot;:&quot;Header dropdown (logged out), Product&quot;,&quot;action&quot;:&quot;click to go to Blog&quot;,&quot;label&quot;:&quot;ref_cta:Blog;&quot;}" href="https://github.blog">
      Blog

    <svg aria-hidden="true" height="16" viewBox="0 0 16 16" version="1.1" width="16" data-view-component="true" class="octicon octicon-link-external HeaderMenu-external-icon color-fg-subtle">
    <path d="M3.75 2h3.5a.75.75 0 0 1 0 1.5h-3.5a.25.25 0 0 0-.25.25v8.5c0 .138.112.25.25.25h8.5a.25.25 0 0 0 .25-.25v-3.5a.75.75 0 0 1 1.5 0v3.5A1.75 1.75 0 0 1 12.25 14h-8.5A1.75 1.75 0 0 1 2 12.25v-8.5C2 2.784 2.784 2 3.75 2Zm6.854-1h4.146a.25.25 0 0 1 .25.25v4.146a.25.25 0 0 1-.427.177L13.03 4.03 9.28 7.78a.751.751 0 0 1-1.042-.018.751.751 0 0 1-.018-1.042l3.75-3.75-1.543-1.543A.25.25 0 0 1 10.604 1Z"></path>
</svg>
</a></li>

            </ul>
          </div>
      </div>
</li>


                <li class="HeaderMenu-item position-relative flex-wrap flex-justify-between flex-items-center d-block d-lg-flex flex-lg-nowrap flex-lg-items-center js-details-container js-header-menu-item">
      <button type="button" class="HeaderMenu-link border-0 width-full width-lg-auto px-0 px-lg-2 py-3 py-lg-2 no-wrap d-flex flex-items-center flex-justify-between js-details-target" aria-expanded="false">
        Solutions
        <svg opacity="0.5" aria-hidden="true" height="16" viewBox="0 0 16 16" version="1.1" width="16" data-view-component="true" class="octicon octicon-chevron-down HeaderMenu-icon ml-1">
    <path d="M12.78 5.22a.749.749 0 0 1 0 1.06l-4.25 4.25a.749.749 0 0 1-1.06 0L3.22 6.28a.749.749 0 1 1 1.06-1.06L8 8.939l3.72-3.719a.749.749 0 0 1 1.06 0Z"></path>
</svg>
      </button>
      <div class="HeaderMenu-dropdown dropdown-menu rounded m-0 p-0 py-2 py-lg-4 position-relative position-lg-absolute left-0 left-lg-n3 px-lg-4">
          <div class="border-bottom pb-3 mb-3">
              <span class="d-block h4 color-fg-default my-1" id="solutions-for-heading">For</span>
            <ul class="list-style-none f5" aria-labelledby="solutions-for-heading">
                <li>
  <a class="HeaderMenu-dropdown-link lh-condensed d-block no-underline position-relative py-2 Link--secondary" data-analytics-event="{&quot;category&quot;:&quot;Header dropdown (logged out), Solutions&quot;,&quot;action&quot;:&quot;click to go to Enterprise&quot;,&quot;label&quot;:&quot;ref_cta:Enterprise;&quot;}" href="/enterprise">
      Enterprise

    
</a></li>

                <li>
  <a class="HeaderMenu-dropdown-link lh-condensed d-block no-underline position-relative py-2 Link--secondary" data-analytics-event="{&quot;category&quot;:&quot;Header dropdown (logged out), Solutions&quot;,&quot;action&quot;:&quot;click to go to Teams&quot;,&quot;label&quot;:&quot;ref_cta:Teams;&quot;}" href="/team">
      Teams

    
</a></li>

                <li>
  <a class="HeaderMenu-dropdown-link lh-condensed d-block no-underline position-relative py-2 Link--secondary" data-analytics-event="{&quot;category&quot;:&quot;Header dropdown (logged out), Solutions&quot;,&quot;action&quot;:&quot;click to go to Startups&quot;,&quot;label&quot;:&quot;ref_cta:Startups;&quot;}" href="/enterprise/startups">
      Startups

    
</a></li>

                <li>
  <a class="HeaderMenu-dropdown-link lh-condensed d-block no-underline position-relative py-2 Link--secondary" target="_blank" data-analytics-event="{&quot;category&quot;:&quot;Header dropdown (logged out), Solutions&quot;,&quot;action&quot;:&quot;click to go to Education&quot;,&quot;label&quot;:&quot;ref_cta:Education;&quot;}" href="https://education.github.com">
      Education

    <svg aria-hidden="true" height="16" viewBox="0 0 16 16" version="1.1" width="16" data-view-component="true" class="octicon octicon-link-external HeaderMenu-external-icon color-fg-subtle">
    <path d="M3.75 2h3.5a.75.75 0 0 1 0 1.5h-3.5a.25.25 0 0 0-.25.25v8.5c0 .138.112.25.25.25h8.5a.25.25 0 0 0 .25-.25v-3.5a.75.75 0 0 1 1.5 0v3.5A1.75 1.75 0 0 1 12.25 14h-8.5A1.75 1.75 0 0 1 2 12.25v-8.5C2 2.784 2.784 2 3.75 2Zm6.854-1h4.146a.25.25 0 0 1 .25.25v4.146a.25.25 0 0 1-.427.177L13.03 4.03 9.28 7.78a.751.751 0 0 1-1.042-.018.751.751 0 0 1-.018-1.042l3.75-3.75-1.543-1.543A.25.25 0 0 1 10.604 1Z"></path>
</svg>
</a></li>

            </ul>
          </div>
          <div class="border-bottom pb-3 mb-3">
              <span class="d-block h4 color-fg-default my-1" id="solutions-by-solution-heading">By Solution</span>
            <ul class="list-style-none f5" aria-labelledby="solutions-by-solution-heading">
                <li>
  <a class="HeaderMenu-dropdown-link lh-condensed d-block no-underline position-relative py-2 Link--secondary" data-analytics-event="{&quot;category&quot;:&quot;Header dropdown (logged out), Solutions&quot;,&quot;action&quot;:&quot;click to go to CI/CD &amp;amp; Automation&quot;,&quot;label&quot;:&quot;ref_cta:CI/CD &amp;amp; Automation;&quot;}" href="/solutions/ci-cd/">
      CI/CD &amp; Automation

    
</a></li>

                <li>
  <a class="HeaderMenu-dropdown-link lh-condensed d-block no-underline position-relative py-2 Link--secondary" target="_blank" data-analytics-event="{&quot;category&quot;:&quot;Header dropdown (logged out), Solutions&quot;,&quot;action&quot;:&quot;click to go to DevOps&quot;,&quot;label&quot;:&quot;ref_cta:DevOps;&quot;}" href="https://resources.github.com/devops/">
      DevOps

    <svg aria-hidden="true" height="16" viewBox="0 0 16 16" version="1.1" width="16" data-view-component="true" class="octicon octicon-link-external HeaderMenu-external-icon color-fg-subtle">
    <path d="M3.75 2h3.5a.75.75 0 0 1 0 1.5h-3.5a.25.25 0 0 0-.25.25v8.5c0 .138.112.25.25.25h8.5a.25.25 0 0 0 .25-.25v-3.5a.75.75 0 0 1 1.5 0v3.5A1.75 1.75 0 0 1 12.25 14h-8.5A1.75 1.75 0 0 1 2 12.25v-8.5C2 2.784 2.784 2 3.75 2Zm6.854-1h4.146a.25.25 0 0 1 .25.25v4.146a.25.25 0 0 1-.427.177L13.03 4.03 9.28 7.78a.751.751 0 0 1-1.042-.018.751.751 0 0 1-.018-1.042l3.75-3.75-1.543-1.543A.25.25 0 0 1 10.604 1Z"></path>
</svg>
</a></li>

                <li>
  <a class="HeaderMenu-dropdown-link lh-condensed d-block no-underline position-relative py-2 Link--secondary" target="_blank" data-analytics-event="{&quot;category&quot;:&quot;Header dropdown (logged out), Solutions&quot;,&quot;action&quot;:&quot;click to go to DevSecOps&quot;,&quot;label&quot;:&quot;ref_cta:DevSecOps;&quot;}" href="https://resources.github.com/devops/fundamentals/devsecops/">
      DevSecOps

    <svg aria-hidden="true" height="16" viewBox="0 0 16 16" version="1.1" width="16" data-view-component="true" class="octicon octicon-link-external HeaderMenu-external-icon color-fg-subtle">
    <path d="M3.75 2h3.5a.75.75 0 0 1 0 1.5h-3.5a.25.25 0 0 0-.25.25v8.5c0 .138.112.25.25.25h8.5a.25.25 0 0 0 .25-.25v-3.5a.75.75 0 0 1 1.5 0v3.5A1.75 1.75 0 0 1 12.25 14h-8.5A1.75 1.75 0 0 1 2 12.25v-8.5C2 2.784 2.784 2 3.75 2Zm6.854-1h4.146a.25.25 0 0 1 .25.25v4.146a.25.25 0 0 1-.427.177L13.03 4.03 9.28 7.78a.751.751 0 0 1-1.042-.018.751.751 0 0 1-.018-1.042l3.75-3.75-1.543-1.543A.25.25 0 0 1 10.604 1Z"></path>
</svg>
</a></li>

            </ul>
          </div>
          <div class="">
              <span class="d-block h4 color-fg-default my-1" id="solutions-case-studies-heading">Case Studies</span>
            <ul class="list-style-none f5" aria-labelledby="solutions-case-studies-heading">
                <li>
  <a class="HeaderMenu-dropdown-link lh-condensed d-block no-underline position-relative py-2 Link--secondary" data-analytics-event="{&quot;category&quot;:&quot;Header dropdown (logged out), Solutions&quot;,&quot;action&quot;:&quot;click to go to Customer Stories&quot;,&quot;label&quot;:&quot;ref_cta:Customer Stories;&quot;}" href="/customer-stories">
      Customer Stories

    
</a></li>

                <li>
  <a class="HeaderMenu-dropdown-link lh-condensed d-block no-underline position-relative py-2 Link--secondary" target="_blank" data-analytics-event="{&quot;category&quot;:&quot;Header dropdown (logged out), Solutions&quot;,&quot;action&quot;:&quot;click to go to Resources&quot;,&quot;label&quot;:&quot;ref_cta:Resources;&quot;}" href="https://resources.github.com/">
      Resources

    <svg aria-hidden="true" height="16" viewBox="0 0 16 16" version="1.1" width="16" data-view-component="true" class="octicon octicon-link-external HeaderMenu-external-icon color-fg-subtle">
    <path d="M3.75 2h3.5a.75.75 0 0 1 0 1.5h-3.5a.25.25 0 0 0-.25.25v8.5c0 .138.112.25.25.25h8.5a.25.25 0 0 0 .25-.25v-3.5a.75.75 0 0 1 1.5 0v3.5A1.75 1.75 0 0 1 12.25 14h-8.5A1.75 1.75 0 0 1 2 12.25v-8.5C2 2.784 2.784 2 3.75 2Zm6.854-1h4.146a.25.25 0 0 1 .25.25v4.146a.25.25 0 0 1-.427.177L13.03 4.03 9.28 7.78a.751.751 0 0 1-1.042-.018.751.751 0 0 1-.018-1.042l3.75-3.75-1.543-1.543A.25.25 0 0 1 10.604 1Z"></path>
</svg>
</a></li>

            </ul>
          </div>
      </div>
</li>


                <li class="HeaderMenu-item position-relative flex-wrap flex-justify-between flex-items-center d-block d-lg-flex flex-lg-nowrap flex-lg-items-center js-details-container js-header-menu-item">
      <button type="button" class="HeaderMenu-link border-0 width-full width-lg-auto px-0 px-lg-2 py-3 py-lg-2 no-wrap d-flex flex-items-center flex-justify-between js-details-target" aria-expanded="false">
        Open Source
        <svg opacity="0.5" aria-hidden="true" height="16" viewBox="0 0 16 16" version="1.1" width="16" data-view-component="true" class="octicon octicon-chevron-down HeaderMenu-icon ml-1">
    <path d="M12.78 5.22a.749.749 0 0 1 0 1.06l-4.25 4.25a.749.749 0 0 1-1.06 0L3.22 6.28a.749.749 0 1 1 1.06-1.06L8 8.939l3.72-3.719a.749.749 0 0 1 1.06 0Z"></path>
</svg>
      </button>
      <div class="HeaderMenu-dropdown dropdown-menu rounded m-0 p-0 py-2 py-lg-4 position-relative position-lg-absolute left-0 left-lg-n3 px-lg-4">
          <div class="border-bottom pb-3 mb-3">
            <ul class="list-style-none f5">
                <li>
  <a class="HeaderMenu-dropdown-link lh-condensed d-block no-underline position-relative py-2 Link--secondary d-flex flex-items-center" data-analytics-event="{&quot;category&quot;:&quot;Header dropdown (logged out), Open Source&quot;,&quot;action&quot;:&quot;click to go to GitHub Sponsors&quot;,&quot;label&quot;:&quot;ref_cta:GitHub Sponsors;&quot;}" href="/sponsors">
      
      <div>
        <div class="color-fg-default h4">GitHub Sponsors</div>
        Fund open source developers
      </div>

    
</a></li>

            </ul>
          </div>
          <div class="border-bottom pb-3 mb-3">
            <ul class="list-style-none f5">
                <li>
  <a class="HeaderMenu-dropdown-link lh-condensed d-block no-underline position-relative py-2 Link--secondary d-flex flex-items-center" data-analytics-event="{&quot;category&quot;:&quot;Header dropdown (logged out), Open Source&quot;,&quot;action&quot;:&quot;click to go to The ReadME Project&quot;,&quot;label&quot;:&quot;ref_cta:The ReadME Project;&quot;}" href="/readme">
      
      <div>
        <div class="color-fg-default h4">The ReadME Project</div>
        GitHub community articles
      </div>

    
</a></li>

            </ul>
          </div>
          <div class="">
              <span class="d-block h4 color-fg-default my-1" id="open-source-repositories-heading">Repositories</span>
            <ul class="list-style-none f5" aria-labelledby="open-source-repositories-heading">
                <li>
  <a class="HeaderMenu-dropdown-link lh-condensed d-block no-underline position-relative py-2 Link--secondary" data-analytics-event="{&quot;category&quot;:&quot;Header dropdown (logged out), Open Source&quot;,&quot;action&quot;:&quot;click to go to Topics&quot;,&quot;label&quot;:&quot;ref_cta:Topics;&quot;}" href="/topics">
      Topics

    
</a></li>

                <li>
  <a class="HeaderMenu-dropdown-link lh-condensed d-block no-underline position-relative py-2 Link--secondary" data-analytics-event="{&quot;category&quot;:&quot;Header dropdown (logged out), Open Source&quot;,&quot;action&quot;:&quot;click to go to Trending&quot;,&quot;label&quot;:&quot;ref_cta:Trending;&quot;}" href="/trending">
      Trending

    
</a></li>

                <li>
  <a class="HeaderMenu-dropdown-link lh-condensed d-block no-underline position-relative py-2 Link--secondary" data-analytics-event="{&quot;category&quot;:&quot;Header dropdown (logged out), Open Source&quot;,&quot;action&quot;:&quot;click to go to Collections&quot;,&quot;label&quot;:&quot;ref_cta:Collections;&quot;}" href="/collections">
      Collections

    
</a></li>

            </ul>
          </div>
      </div>
</li>


                <li class="HeaderMenu-item position-relative flex-wrap flex-justify-between flex-items-center d-block d-lg-flex flex-lg-nowrap flex-lg-items-center js-details-container js-header-menu-item">
    <a class="HeaderMenu-link no-underline px-0 px-lg-2 py-3 py-lg-2 d-block d-lg-inline-block" data-analytics-event="{&quot;category&quot;:&quot;Header menu top item (logged out)&quot;,&quot;action&quot;:&quot;click to go to Pricing&quot;,&quot;label&quot;:&quot;ref_cta:Pricing;&quot;}" href="/pricing">Pricing</a>
</li>

            </ul>
          </nav>

        <div class="d-lg-flex flex-items-center mb-3 mb-lg-0 text-center text-lg-left ml-3" style="">
                


<qbsearch-input class="search-input" data-scope="repo:scottbarnett97/python-exercises" data-custom-scopes-path="/search/custom_scopes" data-delete-custom-scopes-csrf="BAQV7Rt8kZpxfz9UfBNjJwmK9NJ8kh2e9cY1OiikuL5GR8DRHNOJSkB7dUEejEegf3qkyRAWFXGWYanM4Z81Ow" data-max-custom-scopes="10" data-header-redesign-enabled="false" data-initial-value="" data-blackbird-suggestions-path="/search/suggestions" data-jump-to-suggestions-path="/_graphql/GetSuggestedNavigationDestinations" data-current-repository="scottbarnett97/python-exercises" data-current-org="" data-current-owner="scottbarnett97" data-logged-in="false">
  <div class="search-input-container search-with-dialog position-relative d-flex flex-row flex-items-center mr-4 rounded" data-action="click:qbsearch-input#searchInputContainerClicked">
      <button type="button" class="header-search-button placeholder  input-button form-control d-flex flex-1 flex-self-stretch flex-items-center no-wrap width-full py-0 pl-2 pr-0 text-left border-0 box-shadow-none" data-target="qbsearch-input.inputButton" placeholder="Search or jump to..." data-hotkey="s,/" autocapitalize="off" data-action="click:qbsearch-input#handleExpand">
        <div class="mr-2 color-fg-muted">
          <svg aria-hidden="true" height="16" viewBox="0 0 16 16" version="1.1" width="16" data-view-component="true" class="octicon octicon-search">
    <path d="M10.68 11.74a6 6 0 0 1-7.922-8.982 6 6 0 0 1 8.982 7.922l3.04 3.04a.749.749 0 0 1-.326 1.275.749.749 0 0 1-.734-.215ZM11.5 7a4.499 4.499 0 1 0-8.997 0A4.499 4.499 0 0 0 11.5 7Z"></path>
</svg>
        </div>
        <span class="flex-1" data-target="qbsearch-input.inputButtonText">Search or jump to...</span>
          <div class="d-flex" data-target="qbsearch-input.hotkeyIndicator">
            <svg xmlns="http://www.w3.org/2000/svg" width="22" height="20" aria-hidden="true" class="mr-1"><path fill="none" stroke="#979A9C" opacity=".4" d="M3.5.5h12c1.7 0 3 1.3 3 3v13c0 1.7-1.3 3-3 3h-12c-1.7 0-3-1.3-3-3v-13c0-1.7 1.3-3 3-3z"></path><path fill="#979A9C" d="M11.8 6L8 15.1h-.9L10.8 6h1z"></path></svg>

          </div>
      </button>

    <input type="hidden" name="type" class="js-site-search-type-field">

    
<div class="Overlay--hidden " data-modal-dialog-overlay="">
  <modal-dialog data-action="close:qbsearch-input#handleClose cancel:qbsearch-input#handleClose" data-target="qbsearch-input.searchSuggestionsDialog" role="dialog" id="search-suggestions-dialog" aria-modal="true" aria-labelledby="search-suggestions-dialog-header" data-view-component="true" class="Overlay Overlay--width-large Overlay--height-auto">
      <h1 id="search-suggestions-dialog-header" class="sr-only">Search code, repositories, users, issues, pull requests...</h1>
    <div class="Overlay-body Overlay-body--paddingNone">
      
          <div data-view-component="true">        <div class="search-suggestions position-fixed width-full color-shadow-large border color-fg-default color-bg-default overflow-hidden d-flex flex-column query-builder-container" style="border-radius: 12px;" data-target="qbsearch-input.queryBuilderContainer" hidden="">
          <!-- '"` --><!-- </textarea></xmp> --><form id="query-builder-test-form" action="" accept-charset="UTF-8" method="get">
  <query-builder data-target="qbsearch-input.queryBuilder" id="query-builder-query-builder-test" data-filter-key=":" data-view-component="true" class="QueryBuilder search-query-builder">
    <div class="FormControl FormControl--fullWidth">
      <label id="query-builder-test-label" for="query-builder-test" class="FormControl-label sr-only">
        Search
      </label>
      <div class="QueryBuilder-StyledInput width-fit" data-target="query-builder.styledInput">
          <span id="query-builder-test-leadingvisual-wrap" class="FormControl-input-leadingVisualWrap QueryBuilder-leadingVisualWrap">
            <svg aria-hidden="true" height="16" viewBox="0 0 16 16" version="1.1" width="16" data-view-component="true" class="octicon octicon-search FormControl-input-leadingVisual">
    <path d="M10.68 11.74a6 6 0 0 1-7.922-8.982 6 6 0 0 1 8.982 7.922l3.04 3.04a.749.749 0 0 1-.326 1.275.749.749 0 0 1-.734-.215ZM11.5 7a4.499 4.499 0 1 0-8.997 0A4.499 4.499 0 0 0 11.5 7Z"></path>
</svg>
          </span>
        <div data-target="query-builder.styledInputContainer" class="QueryBuilder-StyledInputContainer">
          <div aria-hidden="true" class="QueryBuilder-StyledInputContent" data-target="query-builder.styledInputContent"></div>
          <div class="QueryBuilder-InputWrapper">
            <div aria-hidden="true" class="QueryBuilder-Sizer" data-target="query-builder.sizer"></div>
            <input id="query-builder-test" name="query-builder-test" value="" autocomplete="off" type="text" role="combobox" spellcheck="false" aria-expanded="false" data-target="query-builder.input" data-action="
          input:query-builder#inputChange
          blur:query-builder#inputBlur
          keydown:query-builder#inputKeydown
          focus:query-builder#inputFocus
        " data-view-component="true" class="FormControl-input QueryBuilder-Input FormControl-medium">
          </div>
        </div>
          <span class="sr-only" id="query-builder-test-clear">Clear</span>
          
  <button role="button" id="query-builder-test-clear-button" aria-labelledby="query-builder-test-clear query-builder-test-label" data-target="query-builder.clearButton" data-action="
                click:query-builder#clear
                focus:query-builder#clearButtonFocus
                blur:query-builder#clearButtonBlur
              " variant="small" hidden="hidden" type="button" data-view-component="true" class="Button Button--iconOnly Button--invisible Button--medium mr-1 px-2 py-0 d-flex flex-items-center rounded-1 color-fg-muted">    <svg aria-hidden="true" height="16" viewBox="0 0 16 16" version="1.1" width="16" data-view-component="true" class="octicon octicon-x-circle-fill Button-visual">
    <path d="M2.343 13.657A8 8 0 1 1 13.658 2.343 8 8 0 0 1 2.343 13.657ZM6.03 4.97a.751.751 0 0 0-1.042.018.751.751 0 0 0-.018 1.042L6.94 8 4.97 9.97a.749.749 0 0 0 .326 1.275.749.749 0 0 0 .734-.215L8 9.06l1.97 1.97a.749.749 0 0 0 1.275-.326.749.749 0 0 0-.215-.734L9.06 8l1.97-1.97a.749.749 0 0 0-.326-1.275.749.749 0 0 0-.734.215L8 6.94Z"></path>
</svg>
</button>  

      </div>
      <template id="search-icon">
  <svg aria-hidden="true" height="16" viewBox="0 0 16 16" version="1.1" width="16" data-view-component="true" class="octicon octicon-search">
    <path d="M10.68 11.74a6 6 0 0 1-7.922-8.982 6 6 0 0 1 8.982 7.922l3.04 3.04a.749.749 0 0 1-.326 1.275.749.749 0 0 1-.734-.215ZM11.5 7a4.499 4.499 0 1 0-8.997 0A4.499 4.499 0 0 0 11.5 7Z"></path>
</svg>
</template>

<template id="code-icon">
  <svg aria-hidden="true" height="16" viewBox="0 0 16 16" version="1.1" width="16" data-view-component="true" class="octicon octicon-code">
    <path d="m11.28 3.22 4.25 4.25a.75.75 0 0 1 0 1.06l-4.25 4.25a.749.749 0 0 1-1.275-.326.749.749 0 0 1 .215-.734L13.94 8l-3.72-3.72a.749.749 0 0 1 .326-1.275.749.749 0 0 1 .734.215Zm-6.56 0a.751.751 0 0 1 1.042.018.751.751 0 0 1 .018 1.042L2.06 8l3.72 3.72a.749.749 0 0 1-.326 1.275.749.749 0 0 1-.734-.215L.47 8.53a.75.75 0 0 1 0-1.06Z"></path>
</svg>
</template>

<template id="file-code-icon">
  <svg aria-hidden="true" height="16" viewBox="0 0 16 16" version="1.1" width="16" data-view-component="true" class="octicon octicon-file-code">
    <path d="M4 1.75C4 .784 4.784 0 5.75 0h5.586c.464 0 .909.184 1.237.513l2.914 2.914c.329.328.513.773.513 1.237v8.586A1.75 1.75 0 0 1 14.25 15h-9a.75.75 0 0 1 0-1.5h9a.25.25 0 0 0 .25-.25V6h-2.75A1.75 1.75 0 0 1 10 4.25V1.5H5.75a.25.25 0 0 0-.25.25v2.5a.75.75 0 0 1-1.5 0Zm1.72 4.97a.75.75 0 0 1 1.06 0l2 2a.75.75 0 0 1 0 1.06l-2 2a.749.749 0 0 1-1.275-.326.749.749 0 0 1 .215-.734l1.47-1.47-1.47-1.47a.75.75 0 0 1 0-1.06ZM3.28 7.78 1.81 9.25l1.47 1.47a.751.751 0 0 1-.018 1.042.751.751 0 0 1-1.042.018l-2-2a.75.75 0 0 1 0-1.06l2-2a.751.751 0 0 1 1.042.018.751.751 0 0 1 .018 1.042Zm8.22-6.218V4.25c0 .138.112.25.25.25h2.688l-.011-.013-2.914-2.914-.013-.011Z"></path>
</svg>
</template>

<template id="history-icon">
  <svg aria-hidden="true" height="16" viewBox="0 0 16 16" version="1.1" width="16" data-view-component="true" class="octicon octicon-history">
    <path d="m.427 1.927 1.215 1.215a8.002 8.002 0 1 1-1.6 5.685.75.75 0 1 1 1.493-.154 6.5 6.5 0 1 0 1.18-4.458l1.358 1.358A.25.25 0 0 1 3.896 6H.25A.25.25 0 0 1 0 5.75V2.104a.25.25 0 0 1 .427-.177ZM7.75 4a.75.75 0 0 1 .75.75v2.992l2.028.812a.75.75 0 0 1-.557 1.392l-2.5-1A.751.751 0 0 1 7 8.25v-3.5A.75.75 0 0 1 7.75 4Z"></path>
</svg>
</template>

<template id="repo-icon">
  <svg aria-hidden="true" height="16" viewBox="0 0 16 16" version="1.1" width="16" data-view-component="true" class="octicon octicon-repo">
    <path d="M2 2.5A2.5 2.5 0 0 1 4.5 0h8.75a.75.75 0 0 1 .75.75v12.5a.75.75 0 0 1-.75.75h-2.5a.75.75 0 0 1 0-1.5h1.75v-2h-8a1 1 0 0 0-.714 1.7.75.75 0 1 1-1.072 1.05A2.495 2.495 0 0 1 2 11.5Zm10.5-1h-8a1 1 0 0 0-1 1v6.708A2.486 2.486 0 0 1 4.5 9h8ZM5 12.25a.25.25 0 0 1 .25-.25h3.5a.25.25 0 0 1 .25.25v3.25a.25.25 0 0 1-.4.2l-1.45-1.087a.249.249 0 0 0-.3 0L5.4 15.7a.25.25 0 0 1-.4-.2Z"></path>
</svg>
</template>

<template id="bookmark-icon">
  <svg aria-hidden="true" height="16" viewBox="0 0 16 16" version="1.1" width="16" data-view-component="true" class="octicon octicon-bookmark">
    <path d="M3 2.75C3 1.784 3.784 1 4.75 1h6.5c.966 0 1.75.784 1.75 1.75v11.5a.75.75 0 0 1-1.227.579L8 11.722l-3.773 3.107A.751.751 0 0 1 3 14.25Zm1.75-.25a.25.25 0 0 0-.25.25v9.91l3.023-2.489a.75.75 0 0 1 .954 0l3.023 2.49V2.75a.25.25 0 0 0-.25-.25Z"></path>
</svg>
</template>

<template id="plus-circle-icon">
  <svg aria-hidden="true" height="16" viewBox="0 0 16 16" version="1.1" width="16" data-view-component="true" class="octicon octicon-plus-circle">
    <path d="M8 0a8 8 0 1 1 0 16A8 8 0 0 1 8 0ZM1.5 8a6.5 6.5 0 1 0 13 0 6.5 6.5 0 0 0-13 0Zm7.25-3.25v2.5h2.5a.75.75 0 0 1 0 1.5h-2.5v2.5a.75.75 0 0 1-1.5 0v-2.5h-2.5a.75.75 0 0 1 0-1.5h2.5v-2.5a.75.75 0 0 1 1.5 0Z"></path>
</svg>
</template>

<template id="circle-icon">
  <svg aria-hidden="true" height="16" viewBox="0 0 16 16" version="1.1" width="16" data-view-component="true" class="octicon octicon-dot-fill">
    <path d="M8 4a4 4 0 1 1 0 8 4 4 0 0 1 0-8Z"></path>
</svg>
</template>

<template id="trash-icon">
  <svg aria-hidden="true" height="16" viewBox="0 0 16 16" version="1.1" width="16" data-view-component="true" class="octicon octicon-trash">
    <path d="M11 1.75V3h2.25a.75.75 0 0 1 0 1.5H2.75a.75.75 0 0 1 0-1.5H5V1.75C5 .784 5.784 0 6.75 0h2.5C10.216 0 11 .784 11 1.75ZM4.496 6.675l.66 6.6a.25.25 0 0 0 .249.225h5.19a.25.25 0 0 0 .249-.225l.66-6.6a.75.75 0 0 1 1.492.149l-.66 6.6A1.748 1.748 0 0 1 10.595 15h-5.19a1.75 1.75 0 0 1-1.741-1.575l-.66-6.6a.75.75 0 1 1 1.492-.15ZM6.5 1.75V3h3V1.75a.25.25 0 0 0-.25-.25h-2.5a.25.25 0 0 0-.25.25Z"></path>
</svg>
</template>

<template id="team-icon">
  <svg aria-hidden="true" height="16" viewBox="0 0 16 16" version="1.1" width="16" data-view-component="true" class="octicon octicon-people">
    <path d="M2 5.5a3.5 3.5 0 1 1 5.898 2.549 5.508 5.508 0 0 1 3.034 4.084.75.75 0 1 1-1.482.235 4 4 0 0 0-7.9 0 .75.75 0 0 1-1.482-.236A5.507 5.507 0 0 1 3.102 8.05 3.493 3.493 0 0 1 2 5.5ZM11 4a3.001 3.001 0 0 1 2.22 5.018 5.01 5.01 0 0 1 2.56 3.012.749.749 0 0 1-.885.954.752.752 0 0 1-.549-.514 3.507 3.507 0 0 0-2.522-2.372.75.75 0 0 1-.574-.73v-.352a.75.75 0 0 1 .416-.672A1.5 1.5 0 0 0 11 5.5.75.75 0 0 1 11 4Zm-5.5-.5a2 2 0 1 0-.001 3.999A2 2 0 0 0 5.5 3.5Z"></path>
</svg>
</template>

<template id="project-icon">
  <svg aria-hidden="true" height="16" viewBox="0 0 16 16" version="1.1" width="16" data-view-component="true" class="octicon octicon-project">
    <path d="M1.75 0h12.5C15.216 0 16 .784 16 1.75v12.5A1.75 1.75 0 0 1 14.25 16H1.75A1.75 1.75 0 0 1 0 14.25V1.75C0 .784.784 0 1.75 0ZM1.5 1.75v12.5c0 .138.112.25.25.25h12.5a.25.25 0 0 0 .25-.25V1.75a.25.25 0 0 0-.25-.25H1.75a.25.25 0 0 0-.25.25ZM11.75 3a.75.75 0 0 1 .75.75v7.5a.75.75 0 0 1-1.5 0v-7.5a.75.75 0 0 1 .75-.75Zm-8.25.75a.75.75 0 0 1 1.5 0v5.5a.75.75 0 0 1-1.5 0ZM8 3a.75.75 0 0 1 .75.75v3.5a.75.75 0 0 1-1.5 0v-3.5A.75.75 0 0 1 8 3Z"></path>
</svg>
</template>

<template id="pencil-icon">
  <svg aria-hidden="true" height="16" viewBox="0 0 16 16" version="1.1" width="16" data-view-component="true" class="octicon octicon-pencil">
    <path d="M11.013 1.427a1.75 1.75 0 0 1 2.474 0l1.086 1.086a1.75 1.75 0 0 1 0 2.474l-8.61 8.61c-.21.21-.47.364-.756.445l-3.251.93a.75.75 0 0 1-.927-.928l.929-3.25c.081-.286.235-.547.445-.758l8.61-8.61Zm.176 4.823L9.75 4.81l-6.286 6.287a.253.253 0 0 0-.064.108l-.558 1.953 1.953-.558a.253.253 0 0 0 .108-.064Zm1.238-3.763a.25.25 0 0 0-.354 0L10.811 3.75l1.439 1.44 1.263-1.263a.25.25 0 0 0 0-.354Z"></path>
</svg>
</template>

        <div class="position-relative">
                <ul role="listbox" class="ActionListWrap QueryBuilder-ListWrap" aria-label="Suggestions" data-action="
                    combobox-commit:query-builder#comboboxCommit
                    mousedown:query-builder#resultsMousedown
                  " data-target="query-builder.resultsList" data-persist-list="false" id="query-builder-test-results"></ul>
        </div>
    </div>
    <div data-target="query-builder.screenReaderFeedback" aria-live="polite" aria-atomic="true" class="sr-only"></div>
</query-builder></form>
          <div class="d-flex flex-row color-fg-muted px-3 text-small color-bg-default search-feedback-prompt">
            <a target="_blank" href="https://docs.github.com/en/search-github/github-code-search/understanding-github-code-search-syntax" data-view-component="true" class="color-fg-accent text-normal ml-2">
              Search syntax tips
</a>            <div class="d-flex flex-1"></div>
          </div>
        </div>
</div>

    </div>
</modal-dialog></div>
  </div>
  <div data-action="click:qbsearch-input#retract" class="dark-backdrop position-fixed" hidden="" data-target="qbsearch-input.darkBackdrop"></div>
  <div class="color-fg-default">
    
<div class="Overlay--hidden Overlay-backdrop--center" data-modal-dialog-overlay="">
  <modal-dialog data-target="qbsearch-input.feedbackDialog" data-action="close:qbsearch-input#handleDialogClose cancel:qbsearch-input#handleDialogClose" role="dialog" id="feedback-dialog" aria-modal="true" aria-disabled="true" aria-describedby="feedback-dialog-title feedback-dialog-description" data-view-component="true" class="Overlay Overlay-whenNarrow Overlay--size-medium Overlay--motion-scaleFade">
    <div data-view-component="true" class="Overlay-header">
  <div class="Overlay-headerContentWrap">
    <div class="Overlay-titleWrap">
      <h1 class="Overlay-title " id="feedback-dialog-title">
        Provide feedback
      </h1>
    </div>
    <div class="Overlay-actionWrap">
      <button data-close-dialog-id="feedback-dialog" aria-label="Close" type="button" data-view-component="true" class="close-button Overlay-closeButton"><svg aria-hidden="true" height="16" viewBox="0 0 16 16" version="1.1" width="16" data-view-component="true" class="octicon octicon-x">
    <path d="M3.72 3.72a.75.75 0 0 1 1.06 0L8 6.94l3.22-3.22a.749.749 0 0 1 1.275.326.749.749 0 0 1-.215.734L9.06 8l3.22 3.22a.749.749 0 0 1-.326 1.275.749.749 0 0 1-.734-.215L8 9.06l-3.22 3.22a.751.751 0 0 1-1.042-.018.751.751 0 0 1-.018-1.042L6.94 8 3.72 4.78a.75.75 0 0 1 0-1.06Z"></path>
</svg></button>
    </div>
  </div>
</div>
      <div data-view-component="true" class="Overlay-body">        <!-- '"` --><!-- </textarea></xmp> --><form id="code-search-feedback-form" data-turbo="false" action="/search/feedback" accept-charset="UTF-8" method="post"><input type="hidden" data-csrf="true" name="authenticity_token" value="gLdSdAguCePWzYHsu2+s5NAX4h1JDhaEQPtiWT4z0sk3puQGrSwcgPvC27h86tkiaXeNrJB+g+A209RSU2G5zA==">
          <p>We read every piece of feedback, and take your input very seriously.</p>
          <textarea name="feedback" class="form-control width-full mb-2" style="height: 120px" id="feedback"></textarea>
          <input name="include_email" id="include_email" aria-label="Include my email address so I can be contacted" class="form-control mr-2" type="checkbox">
          <label for="include_email" style="font-weight: normal">Include my email address so I can be contacted</label>
</form></div>
      <div data-view-component="true" class="Overlay-footer Overlay-footer--alignEnd">          <button data-close-dialog-id="feedback-dialog" type="button" data-view-component="true" class="btn">    Cancel
</button>
          <button form="code-search-feedback-form" data-action="click:qbsearch-input#submitFeedback" type="submit" data-view-component="true" class="btn-primary btn">    Submit feedback
</button>
</div>
</modal-dialog></div>

    <custom-scopes data-target="qbsearch-input.customScopesManager">
    
<div class="Overlay--hidden Overlay-backdrop--center" data-modal-dialog-overlay="">
  <modal-dialog data-target="custom-scopes.customScopesModalDialog" data-action="close:qbsearch-input#handleDialogClose cancel:qbsearch-input#handleDialogClose" role="dialog" id="custom-scopes-dialog" aria-modal="true" aria-disabled="true" aria-describedby="custom-scopes-dialog-title custom-scopes-dialog-description" data-view-component="true" class="Overlay Overlay-whenNarrow Overlay--size-medium Overlay--motion-scaleFade">
    <div data-view-component="true" class="Overlay-header Overlay-header--divided">
  <div class="Overlay-headerContentWrap">
    <div class="Overlay-titleWrap">
      <h1 class="Overlay-title " id="custom-scopes-dialog-title">
        Saved searches
      </h1>
        <h2 id="custom-scopes-dialog-description" class="Overlay-description">Use saved searches to filter your results more quickly</h2>
    </div>
    <div class="Overlay-actionWrap">
      <button data-close-dialog-id="custom-scopes-dialog" aria-label="Close" type="button" data-view-component="true" class="close-button Overlay-closeButton"><svg aria-hidden="true" height="16" viewBox="0 0 16 16" version="1.1" width="16" data-view-component="true" class="octicon octicon-x">
    <path d="M3.72 3.72a.75.75 0 0 1 1.06 0L8 6.94l3.22-3.22a.749.749 0 0 1 1.275.326.749.749 0 0 1-.215.734L9.06 8l3.22 3.22a.749.749 0 0 1-.326 1.275.749.749 0 0 1-.734-.215L8 9.06l-3.22 3.22a.751.751 0 0 1-1.042-.018.751.751 0 0 1-.018-1.042L6.94 8 3.72 4.78a.75.75 0 0 1 0-1.06Z"></path>
</svg></button>
    </div>
  </div>
</div>
      <div data-view-component="true" class="Overlay-body">        <div data-target="custom-scopes.customScopesModalDialogFlash"></div>

        <div hidden="" class="create-custom-scope-form" data-target="custom-scopes.createCustomScopeForm">
        <!-- '"` --><!-- </textarea></xmp> --><form id="custom-scopes-dialog-form" data-turbo="false" action="/search/custom_scopes" accept-charset="UTF-8" method="post"><input type="hidden" data-csrf="true" name="authenticity_token" value="0roTysvc/umBajtiU6+IpTKUPSQy8vriHDfXhiZDP0SChkKtGKAUrZGji5iXQknD4wqgUkTJBKuFnsX7HX2wHA==">
          <div data-target="custom-scopes.customScopesModalDialogFlash"></div>

          <input type="hidden" id="custom_scope_id" name="custom_scope_id" data-target="custom-scopes.customScopesIdField">

          <div class="form-group">
            <label for="custom_scope_name">Name</label>
            <auto-check src="/search/custom_scopes/check_name" required="">
              <input type="text" name="custom_scope_name" id="custom_scope_name" data-target="custom-scopes.customScopesNameField" class="form-control" autocomplete="off" placeholder="github-ruby" required="" maxlength="50" spellcheck="false">
              <input type="hidden" data-csrf="true" value="WQ4Kt64fCCuVmqNrNCFlO7YwJtLM4LoHogp9BhqZj5+5tNIprXu3JrZoGTfDZXJuoiZ6230LMAhZpUZtE6Kr4w==">
            </auto-check>
          </div>

          <div class="form-group">
            <label for="custom_scope_query">Query</label>
            <input type="text" name="custom_scope_query" id="custom_scope_query" data-target="custom-scopes.customScopesQueryField" class="form-control" autocomplete="off" placeholder="(repo:mona/a OR repo:mona/b) AND lang:python" required="" maxlength="500">
          </div>

          <p class="text-small color-fg-muted">
            To see all available qualifiers, see our <a href="https://docs.github.com/en/search-github/github-code-search/understanding-github-code-search-syntax">documentation</a>.
          </p>
</form>        </div>

        <div data-target="custom-scopes.manageCustomScopesForm">
          <div data-target="custom-scopes.list"></div>
        </div>

</div>
      <div data-view-component="true" class="Overlay-footer Overlay-footer--alignEnd Overlay-footer--divided">          <button data-action="click:custom-scopes#customScopesCancel" type="button" data-view-component="true" class="btn">    Cancel
</button>
          <button form="custom-scopes-dialog-form" data-action="click:custom-scopes#customScopesSubmit" data-target="custom-scopes.customScopesSubmitButton" type="submit" data-view-component="true" class="btn-primary btn">    Create saved search
</button>
</div>
</modal-dialog></div>
    </custom-scopes>
  </div>
</qbsearch-input><input type="hidden" data-csrf="true" class="js-data-jump-to-suggestions-path-csrf" value="hYTxu8d8ZHTmCyWYcrGeM8HBUzTGC12dWCRIFPZOuZ/dYU+CCVXVoeAQvtFFvE2MswgN+uxuX1XYJKa7NyjC1Q==">


          <div class="position-relative mr-lg-3 d-lg-inline-block">
            <a href="/login?return_to=https%3A%2F%2Fgithub.com%2F%2Fscottbarnett97%2Fpython-exercises%2Fblob%2Fmain%2Fimport_exercises.ipynb" class="HeaderMenu-link HeaderMenu-link--sign-in flex-shrink-0 no-underline d-block d-lg-inline-block border border-lg-0 rounded rounded-lg-0 p-2 p-lg-0" data-hydro-click="{&quot;event_type&quot;:&quot;authentication.click&quot;,&quot;payload&quot;:{&quot;location_in_page&quot;:&quot;site header menu&quot;,&quot;repository_id&quot;:null,&quot;auth_type&quot;:&quot;SIGN_UP&quot;,&quot;originating_url&quot;:&quot;https://github.com/scottbarnett97/python-exercises/blob/main/import_exercises.ipynb&quot;,&quot;user_id&quot;:null}}" data-hydro-click-hmac="5e3801daeb4e31240009ea377c9b1ffc17cec25d402ebfb26671d99a3a0b95b1" data-ga-click="(Logged out) Header, clicked Sign in, text:sign-in">
              Sign in
            </a>
          </div>

            <a href="/signup?ref_cta=Sign+up&amp;ref_loc=header+logged+out&amp;ref_page=%2F%3Cuser-name%3E%2F%3Crepo-name%3E%2Fblob%2Fshow&amp;source=header-repo&amp;source_repo=scottbarnett97%2Fpython-exercises" class="HeaderMenu-link HeaderMenu-link--sign-up flex-shrink-0 d-none d-lg-inline-block no-underline border color-border-default rounded px-2 py-1" data-hydro-click="{&quot;event_type&quot;:&quot;authentication.click&quot;,&quot;payload&quot;:{&quot;location_in_page&quot;:&quot;site header menu&quot;,&quot;repository_id&quot;:null,&quot;auth_type&quot;:&quot;SIGN_UP&quot;,&quot;originating_url&quot;:&quot;https://github.com/scottbarnett97/python-exercises/blob/main/import_exercises.ipynb&quot;,&quot;user_id&quot;:null}}" data-hydro-click-hmac="5e3801daeb4e31240009ea377c9b1ffc17cec25d402ebfb26671d99a3a0b95b1" data-analytics-event="{&quot;category&quot;:&quot;Sign up&quot;,&quot;action&quot;:&quot;click to sign up for account&quot;,&quot;label&quot;:&quot;ref_page:/<user-name>/<repo-name>/blob/show;ref_cta:Sign up;ref_loc:header logged out&quot;}">
              Sign up
            </a>
        </div>
      </div>
    </div>
  </div>
</header>

      <div hidden="hidden" data-view-component="true" class="js-stale-session-flash flash flash-warn mb-3">
  
        <svg aria-hidden="true" height="16" viewBox="0 0 16 16" version="1.1" width="16" data-view-component="true" class="octicon octicon-alert">
    <path d="M6.457 1.047c.659-1.234 2.427-1.234 3.086 0l6.082 11.378A1.75 1.75 0 0 1 14.082 15H1.918a1.75 1.75 0 0 1-1.543-2.575Zm1.763.707a.25.25 0 0 0-.44 0L1.698 13.132a.25.25 0 0 0 .22.368h12.164a.25.25 0 0 0 .22-.368Zm.53 3.996v2.5a.75.75 0 0 1-1.5 0v-2.5a.75.75 0 0 1 1.5 0ZM9 11a1 1 0 1 1-2 0 1 1 0 0 1 2 0Z"></path>
</svg>
        <span class="js-stale-session-flash-signed-in" hidden="">You signed in with another tab or window. <a href="">Reload</a> to refresh your session.</span>
        <span class="js-stale-session-flash-signed-out" hidden="">You signed out in another tab or window. <a href="">Reload</a> to refresh your session.</span>
        <span class="js-stale-session-flash-switched" hidden="">You switched accounts on another tab or window. <a href="">Reload</a> to refresh your session.</span>

    <button class="flash-close js-flash-close" type="button" aria-label="Close">
      <svg aria-hidden="true" height="16" viewBox="0 0 16 16" version="1.1" width="16" data-view-component="true" class="octicon octicon-x">
    <path d="M3.72 3.72a.75.75 0 0 1 1.06 0L8 6.94l3.22-3.22a.749.749 0 0 1 1.275.326.749.749 0 0 1-.215.734L9.06 8l3.22 3.22a.749.749 0 0 1-.326 1.275.749.749 0 0 1-.734-.215L8 9.06l-3.22 3.22a.751.751 0 0 1-1.042-.018.751.751 0 0 1-.018-1.042L6.94 8 3.72 4.78a.75.75 0 0 1 0-1.06Z"></path>
</svg>
    </button>

  
</div>
    </div>

  <div id="start-of-content" class="show-on-focus"></div>








    <div id="js-flash-container" data-turbo-replace="">





  <template class="js-flash-template">
    
<div class="flash flash-full   {{ className }}">
  <div class="px-2">
    <button autofocus="" class="flash-close js-flash-close" type="button" aria-label="Dismiss this message">
      <svg aria-hidden="true" height="16" viewBox="0 0 16 16" version="1.1" width="16" data-view-component="true" class="octicon octicon-x">
    <path d="M3.72 3.72a.75.75 0 0 1 1.06 0L8 6.94l3.22-3.22a.749.749 0 0 1 1.275.326.749.749 0 0 1-.215.734L9.06 8l3.22 3.22a.749.749 0 0 1-.326 1.275.749.749 0 0 1-.734-.215L8 9.06l-3.22 3.22a.751.751 0 0 1-1.042-.018.751.751 0 0 1-.018-1.042L6.94 8 3.72 4.78a.75.75 0 0 1 0-1.06Z"></path>
</svg>
    </button>
    <div aria-atomic="true" role="alert" class="js-flash-alert">
      
      <div>{{ message }}</div>

    </div>
  </div>
</div>
  </template>
</div>


    
    <include-fragment class="js-notification-shelf-include-fragment" data-base-src="https://github.com/notifications/beta/shelf"></include-fragment>






  <div class="application-main " data-commit-hovercards-enabled="" data-discussion-hovercards-enabled="" data-issue-and-pr-hovercards-enabled="">
        <div itemscope="" itemtype="http://schema.org/SoftwareSourceCode" class="">
    <main id="js-repo-pjax-container">
      
      






  
  <div id="repository-container-header" class="pt-3 hide-full-screen" style="background-color: var(--color-page-header-bg);" data-turbo-replace="">

      <div class="d-flex flex-wrap flex-justify-end mb-3  px-3 px-md-4 px-lg-5" style="gap: 1rem;">

        <div class="flex-auto min-width-0 width-fit mr-3">
            
  <div class=" d-flex flex-wrap flex-items-center wb-break-word f3 text-normal">
      <svg aria-hidden="true" height="16" viewBox="0 0 16 16" version="1.1" width="16" data-view-component="true" class="octicon octicon-repo color-fg-muted mr-2">
    <path d="M2 2.5A2.5 2.5 0 0 1 4.5 0h8.75a.75.75 0 0 1 .75.75v12.5a.75.75 0 0 1-.75.75h-2.5a.75.75 0 0 1 0-1.5h1.75v-2h-8a1 1 0 0 0-.714 1.7.75.75 0 1 1-1.072 1.05A2.495 2.495 0 0 1 2 11.5Zm10.5-1h-8a1 1 0 0 0-1 1v6.708A2.486 2.486 0 0 1 4.5 9h8ZM5 12.25a.25.25 0 0 1 .25-.25h3.5a.25.25 0 0 1 .25.25v3.25a.25.25 0 0 1-.4.2l-1.45-1.087a.249.249 0 0 0-.3 0L5.4 15.7a.25.25 0 0 1-.4-.2Z"></path>
</svg>
    
    <span class="author flex-self-stretch" itemprop="author">
      <a class="url fn" rel="author" data-hovercard-type="user" data-hovercard-url="/users/scottbarnett97/hovercard" data-octo-click="hovercard-link-click" data-octo-dimensions="link_type:self" href="/scottbarnett97">
        scottbarnett97
</a>    </span>
    <span class="mx-1 flex-self-stretch color-fg-muted">/</span>
    <strong itemprop="name" class="mr-2 flex-self-stretch">
      <a data-pjax="#repo-content-pjax-container" data-turbo-frame="repo-content-turbo-frame" href="/scottbarnett97/python-exercises">python-exercises</a>
    </strong>

    <span></span><span class="Label Label--secondary v-align-middle mr-1">Public</span>
  </div>


        </div>

        <div id="repository-details-container" data-turbo-replace="">
            <ul class="pagehead-actions flex-shrink-0 d-none d-md-inline" style="padding: 2px 0;">
    
      

  <li>
            <a href="/login?return_to=%2Fscottbarnett97%2Fpython-exercises" rel="nofollow" data-hydro-click="{&quot;event_type&quot;:&quot;authentication.click&quot;,&quot;payload&quot;:{&quot;location_in_page&quot;:&quot;notification subscription menu watch&quot;,&quot;repository_id&quot;:null,&quot;auth_type&quot;:&quot;LOG_IN&quot;,&quot;originating_url&quot;:&quot;https://github.com/scottbarnett97/python-exercises/blob/main/import_exercises.ipynb&quot;,&quot;user_id&quot;:null}}" data-hydro-click-hmac="b08c5996c91bd2edff34e425401d540b228ca395041e9575584e9d351792870b" aria-label="You must be signed in to change notification settings" data-view-component="true" class="tooltipped tooltipped-s btn-sm btn">    <svg aria-hidden="true" height="16" viewBox="0 0 16 16" version="1.1" width="16" data-view-component="true" class="octicon octicon-bell mr-2">
    <path d="M8 16a2 2 0 0 0 1.985-1.75c.017-.137-.097-.25-.235-.25h-3.5c-.138 0-.252.113-.235.25A2 2 0 0 0 8 16ZM3 5a5 5 0 0 1 10 0v2.947c0 .05.015.098.042.139l1.703 2.555A1.519 1.519 0 0 1 13.482 13H2.518a1.516 1.516 0 0 1-1.263-2.36l1.703-2.554A.255.255 0 0 0 3 7.947Zm5-3.5A3.5 3.5 0 0 0 4.5 5v2.947c0 .346-.102.683-.294.97l-1.703 2.556a.017.017 0 0 0-.003.01l.001.006c0 .002.002.004.004.006l.006.004.007.001h10.964l.007-.001.006-.004.004-.006.001-.007a.017.017 0 0 0-.003-.01l-1.703-2.554a1.745 1.745 0 0 1-.294-.97V5A3.5 3.5 0 0 0 8 1.5Z"></path>
</svg>Notifications
</a>
  </li>

  <li>
          <a icon="repo-forked" id="fork-button" href="/login?return_to=%2Fscottbarnett97%2Fpython-exercises" rel="nofollow" data-hydro-click="{&quot;event_type&quot;:&quot;authentication.click&quot;,&quot;payload&quot;:{&quot;location_in_page&quot;:&quot;repo details fork button&quot;,&quot;repository_id&quot;:615129265,&quot;auth_type&quot;:&quot;LOG_IN&quot;,&quot;originating_url&quot;:&quot;https://github.com/scottbarnett97/python-exercises/blob/main/import_exercises.ipynb&quot;,&quot;user_id&quot;:null}}" data-hydro-click-hmac="63d6017e8df9af2b9dcc0ba8d3b52afc4434751db34c49f2abec04aa5f4d5fc3" data-view-component="true" class="btn-sm btn">    <svg aria-hidden="true" height="16" viewBox="0 0 16 16" version="1.1" width="16" data-view-component="true" class="octicon octicon-repo-forked mr-2">
    <path d="M5 5.372v.878c0 .414.336.75.75.75h4.5a.75.75 0 0 0 .75-.75v-.878a2.25 2.25 0 1 1 1.5 0v.878a2.25 2.25 0 0 1-2.25 2.25h-1.5v2.128a2.251 2.251 0 1 1-1.5 0V8.5h-1.5A2.25 2.25 0 0 1 3.5 6.25v-.878a2.25 2.25 0 1 1 1.5 0ZM5 3.25a.75.75 0 1 0-1.5 0 .75.75 0 0 0 1.5 0Zm6.75.75a.75.75 0 1 0 0-1.5.75.75 0 0 0 0 1.5Zm-3 8.75a.75.75 0 1 0-1.5 0 .75.75 0 0 0 1.5 0Z"></path>
</svg>Fork
    <span id="repo-network-counter" data-pjax-replace="true" data-turbo-replace="true" title="0" data-view-component="true" class="Counter">0</span>
</a>
  </li>

  <li>
        <div data-view-component="true" class="BtnGroup d-flex">
        <a href="/login?return_to=%2Fscottbarnett97%2Fpython-exercises" rel="nofollow" data-hydro-click="{&quot;event_type&quot;:&quot;authentication.click&quot;,&quot;payload&quot;:{&quot;location_in_page&quot;:&quot;star button&quot;,&quot;repository_id&quot;:615129265,&quot;auth_type&quot;:&quot;LOG_IN&quot;,&quot;originating_url&quot;:&quot;https://github.com/scottbarnett97/python-exercises/blob/main/import_exercises.ipynb&quot;,&quot;user_id&quot;:null}}" data-hydro-click-hmac="8160925dda19bbaae7a8a14f0e5dceb7d28a8f4bd332e0d41c81d12601d062be" aria-label="You must be signed in to star a repository" data-view-component="true" class="tooltipped tooltipped-s btn-sm btn BtnGroup-item">    <svg aria-hidden="true" height="16" viewBox="0 0 16 16" version="1.1" width="16" data-view-component="true" class="octicon octicon-star v-align-text-bottom d-inline-block mr-2">
    <path d="M8 .25a.75.75 0 0 1 .673.418l1.882 3.815 4.21.612a.75.75 0 0 1 .416 1.279l-3.046 2.97.719 4.192a.751.751 0 0 1-1.088.791L8 12.347l-3.766 1.98a.75.75 0 0 1-1.088-.79l.72-4.194L.818 6.374a.75.75 0 0 1 .416-1.28l4.21-.611L7.327.668A.75.75 0 0 1 8 .25Zm0 2.445L6.615 5.5a.75.75 0 0 1-.564.41l-3.097.45 2.24 2.184a.75.75 0 0 1 .216.664l-.528 3.084 2.769-1.456a.75.75 0 0 1 .698 0l2.77 1.456-.53-3.084a.75.75 0 0 1 .216-.664l2.24-2.183-3.096-.45a.75.75 0 0 1-.564-.41L8 2.694Z"></path>
</svg><span data-view-component="true" class="d-inline">
          Star
</span>          <span id="repo-stars-counter-star" aria-label="0 users starred this repository" data-singular-suffix="user starred this repository" data-plural-suffix="users starred this repository" data-turbo-replace="true" title="0" data-view-component="true" class="Counter js-social-count">0</span>
</a>        <button aria-label="You must be signed in to add this repository to a list" type="button" disabled="disabled" data-view-component="true" class="btn-sm btn BtnGroup-item px-2">    <svg aria-hidden="true" height="16" viewBox="0 0 16 16" version="1.1" width="16" data-view-component="true" class="octicon octicon-triangle-down">
    <path d="m4.427 7.427 3.396 3.396a.25.25 0 0 0 .354 0l3.396-3.396A.25.25 0 0 0 11.396 7H4.604a.25.25 0 0 0-.177.427Z"></path>
</svg>
</button></div>
  </li>


    

</ul>

        </div>
      </div>

        <div id="responsive-meta-container" data-turbo-replace="">
</div>


          <nav data-pjax="#js-repo-pjax-container" aria-label="Repository" data-view-component="true" class="js-repo-nav js-sidenav-container-pjax js-responsive-underlinenav overflow-hidden UnderlineNav px-3 px-md-4 px-lg-5">

  <ul data-view-component="true" class="UnderlineNav-body list-style-none">
      <li data-view-component="true" class="d-inline-flex">
  <a id="code-tab" href="/scottbarnett97/python-exercises" data-tab-item="i0code-tab" data-selected-links="repo_source repo_downloads repo_commits repo_releases repo_tags repo_branches repo_packages repo_deployments /scottbarnett97/python-exercises" data-pjax="#repo-content-pjax-container" data-turbo-frame="repo-content-turbo-frame" data-hotkey="g c" data-analytics-event="{&quot;category&quot;:&quot;Underline navbar&quot;,&quot;action&quot;:&quot;Click tab&quot;,&quot;label&quot;:&quot;Code&quot;,&quot;target&quot;:&quot;UNDERLINE_NAV.TAB&quot;}" aria-current="page" data-view-component="true" class="UnderlineNav-item no-wrap js-responsive-underlinenav-item js-selected-navigation-item selected">
    
              <svg aria-hidden="true" height="16" viewBox="0 0 16 16" version="1.1" width="16" data-view-component="true" class="octicon octicon-code UnderlineNav-octicon d-none d-sm-inline">
    <path d="m11.28 3.22 4.25 4.25a.75.75 0 0 1 0 1.06l-4.25 4.25a.749.749 0 0 1-1.275-.326.749.749 0 0 1 .215-.734L13.94 8l-3.72-3.72a.749.749 0 0 1 .326-1.275.749.749 0 0 1 .734.215Zm-6.56 0a.751.751 0 0 1 1.042.018.751.751 0 0 1 .018 1.042L2.06 8l3.72 3.72a.749.749 0 0 1-.326 1.275.749.749 0 0 1-.734-.215L.47 8.53a.75.75 0 0 1 0-1.06Z"></path>
</svg>
        <span data-content="Code">Code</span>
          <span id="code-repo-tab-count" data-pjax-replace="" data-turbo-replace="" title="Not available" data-view-component="true" class="Counter"></span>


    
</a></li>
      <li data-view-component="true" class="d-inline-flex">
  <a id="issues-tab" href="/scottbarnett97/python-exercises/issues" data-tab-item="i1issues-tab" data-selected-links="repo_issues repo_labels repo_milestones /scottbarnett97/python-exercises/issues" data-pjax="#repo-content-pjax-container" data-turbo-frame="repo-content-turbo-frame" data-hotkey="g i" data-analytics-event="{&quot;category&quot;:&quot;Underline navbar&quot;,&quot;action&quot;:&quot;Click tab&quot;,&quot;label&quot;:&quot;Issues&quot;,&quot;target&quot;:&quot;UNDERLINE_NAV.TAB&quot;}" data-view-component="true" class="UnderlineNav-item no-wrap js-responsive-underlinenav-item js-selected-navigation-item">
    
              <svg aria-hidden="true" height="16" viewBox="0 0 16 16" version="1.1" width="16" data-view-component="true" class="octicon octicon-issue-opened UnderlineNav-octicon d-none d-sm-inline">
    <path d="M8 9.5a1.5 1.5 0 1 0 0-3 1.5 1.5 0 0 0 0 3Z"></path><path d="M8 0a8 8 0 1 1 0 16A8 8 0 0 1 8 0ZM1.5 8a6.5 6.5 0 1 0 13 0 6.5 6.5 0 0 0-13 0Z"></path>
</svg>
        <span data-content="Issues">Issues</span>
          <span id="issues-repo-tab-count" data-pjax-replace="" data-turbo-replace="" title="0" hidden="hidden" data-view-component="true" class="Counter">0</span>


    
</a></li>
      <li data-view-component="true" class="d-inline-flex">
  <a id="pull-requests-tab" href="/scottbarnett97/python-exercises/pulls" data-tab-item="i2pull-requests-tab" data-selected-links="repo_pulls checks /scottbarnett97/python-exercises/pulls" data-pjax="#repo-content-pjax-container" data-turbo-frame="repo-content-turbo-frame" data-hotkey="g p" data-analytics-event="{&quot;category&quot;:&quot;Underline navbar&quot;,&quot;action&quot;:&quot;Click tab&quot;,&quot;label&quot;:&quot;Pull requests&quot;,&quot;target&quot;:&quot;UNDERLINE_NAV.TAB&quot;}" data-view-component="true" class="UnderlineNav-item no-wrap js-responsive-underlinenav-item js-selected-navigation-item">
    
              <svg aria-hidden="true" height="16" viewBox="0 0 16 16" version="1.1" width="16" data-view-component="true" class="octicon octicon-git-pull-request UnderlineNav-octicon d-none d-sm-inline">
    <path d="M1.5 3.25a2.25 2.25 0 1 1 3 2.122v5.256a2.251 2.251 0 1 1-1.5 0V5.372A2.25 2.25 0 0 1 1.5 3.25Zm5.677-.177L9.573.677A.25.25 0 0 1 10 .854V2.5h1A2.5 2.5 0 0 1 13.5 5v5.628a2.251 2.251 0 1 1-1.5 0V5a1 1 0 0 0-1-1h-1v1.646a.25.25 0 0 1-.427.177L7.177 3.427a.25.25 0 0 1 0-.354ZM3.75 2.5a.75.75 0 1 0 0 1.5.75.75 0 0 0 0-1.5Zm0 9.5a.75.75 0 1 0 0 1.5.75.75 0 0 0 0-1.5Zm8.25.75a.75.75 0 1 0 1.5 0 .75.75 0 0 0-1.5 0Z"></path>
</svg>
        <span data-content="Pull requests">Pull requests</span>
          <span id="pull-requests-repo-tab-count" data-pjax-replace="" data-turbo-replace="" title="0" hidden="hidden" data-view-component="true" class="Counter">0</span>


    
</a></li>
      <li data-view-component="true" class="d-inline-flex">
  <a id="actions-tab" href="/scottbarnett97/python-exercises/actions" data-tab-item="i3actions-tab" data-selected-links="repo_actions /scottbarnett97/python-exercises/actions" data-pjax="#repo-content-pjax-container" data-turbo-frame="repo-content-turbo-frame" data-hotkey="g a" data-analytics-event="{&quot;category&quot;:&quot;Underline navbar&quot;,&quot;action&quot;:&quot;Click tab&quot;,&quot;label&quot;:&quot;Actions&quot;,&quot;target&quot;:&quot;UNDERLINE_NAV.TAB&quot;}" data-view-component="true" class="UnderlineNav-item no-wrap js-responsive-underlinenav-item js-selected-navigation-item">
    
              <svg aria-hidden="true" height="16" viewBox="0 0 16 16" version="1.1" width="16" data-view-component="true" class="octicon octicon-play UnderlineNav-octicon d-none d-sm-inline">
    <path d="M8 0a8 8 0 1 1 0 16A8 8 0 0 1 8 0ZM1.5 8a6.5 6.5 0 1 0 13 0 6.5 6.5 0 0 0-13 0Zm4.879-2.773 4.264 2.559a.25.25 0 0 1 0 .428l-4.264 2.559A.25.25 0 0 1 6 10.559V5.442a.25.25 0 0 1 .379-.215Z"></path>
</svg>
        <span data-content="Actions">Actions</span>
          <span id="actions-repo-tab-count" data-pjax-replace="" data-turbo-replace="" title="Not available" data-view-component="true" class="Counter"></span>


    
</a></li>
      <li data-view-component="true" class="d-inline-flex">
  <a id="projects-tab" href="/scottbarnett97/python-exercises/projects" data-tab-item="i4projects-tab" data-selected-links="repo_projects new_repo_project repo_project /scottbarnett97/python-exercises/projects" data-pjax="#repo-content-pjax-container" data-turbo-frame="repo-content-turbo-frame" data-hotkey="g b" data-analytics-event="{&quot;category&quot;:&quot;Underline navbar&quot;,&quot;action&quot;:&quot;Click tab&quot;,&quot;label&quot;:&quot;Projects&quot;,&quot;target&quot;:&quot;UNDERLINE_NAV.TAB&quot;}" data-view-component="true" class="UnderlineNav-item no-wrap js-responsive-underlinenav-item js-selected-navigation-item">
    
              <svg aria-hidden="true" height="16" viewBox="0 0 16 16" version="1.1" width="16" data-view-component="true" class="octicon octicon-table UnderlineNav-octicon d-none d-sm-inline">
    <path d="M0 1.75C0 .784.784 0 1.75 0h12.5C15.216 0 16 .784 16 1.75v12.5A1.75 1.75 0 0 1 14.25 16H1.75A1.75 1.75 0 0 1 0 14.25ZM6.5 6.5v8h7.75a.25.25 0 0 0 .25-.25V6.5Zm8-1.5V1.75a.25.25 0 0 0-.25-.25H6.5V5Zm-13 1.5v7.75c0 .138.112.25.25.25H5v-8ZM5 5V1.5H1.75a.25.25 0 0 0-.25.25V5Z"></path>
</svg>
        <span data-content="Projects">Projects</span>
          <span id="projects-repo-tab-count" data-pjax-replace="" data-turbo-replace="" title="0" hidden="hidden" data-view-component="true" class="Counter">0</span>


    
</a></li>
      <li data-view-component="true" class="d-inline-flex">
  <a id="security-tab" href="/scottbarnett97/python-exercises/security" data-tab-item="i5security-tab" data-selected-links="security overview alerts policy token_scanning code_scanning /scottbarnett97/python-exercises/security" data-pjax="#repo-content-pjax-container" data-turbo-frame="repo-content-turbo-frame" data-hotkey="g s" data-analytics-event="{&quot;category&quot;:&quot;Underline navbar&quot;,&quot;action&quot;:&quot;Click tab&quot;,&quot;label&quot;:&quot;Security&quot;,&quot;target&quot;:&quot;UNDERLINE_NAV.TAB&quot;}" data-view-component="true" class="UnderlineNav-item no-wrap js-responsive-underlinenav-item js-selected-navigation-item">
    
              <svg aria-hidden="true" height="16" viewBox="0 0 16 16" version="1.1" width="16" data-view-component="true" class="octicon octicon-shield UnderlineNav-octicon d-none d-sm-inline">
    <path d="M7.467.133a1.748 1.748 0 0 1 1.066 0l5.25 1.68A1.75 1.75 0 0 1 15 3.48V7c0 1.566-.32 3.182-1.303 4.682-.983 1.498-2.585 2.813-5.032 3.855a1.697 1.697 0 0 1-1.33 0c-2.447-1.042-4.049-2.357-5.032-3.855C1.32 10.182 1 8.566 1 7V3.48a1.75 1.75 0 0 1 1.217-1.667Zm.61 1.429a.25.25 0 0 0-.153 0l-5.25 1.68a.25.25 0 0 0-.174.238V7c0 1.358.275 2.666 1.057 3.86.784 1.194 2.121 2.34 4.366 3.297a.196.196 0 0 0 .154 0c2.245-.956 3.582-2.104 4.366-3.298C13.225 9.666 13.5 8.36 13.5 7V3.48a.251.251 0 0 0-.174-.237l-5.25-1.68ZM8.75 4.75v3a.75.75 0 0 1-1.5 0v-3a.75.75 0 0 1 1.5 0ZM9 10.5a1 1 0 1 1-2 0 1 1 0 0 1 2 0Z"></path>
</svg>
        <span data-content="Security">Security</span>
          

    
</a></li>
      <li data-view-component="true" class="d-inline-flex">
  <a id="insights-tab" href="/scottbarnett97/python-exercises/pulse" data-tab-item="i6insights-tab" data-selected-links="repo_graphs repo_contributors dependency_graph dependabot_updates pulse people community /scottbarnett97/python-exercises/pulse" data-pjax="#repo-content-pjax-container" data-turbo-frame="repo-content-turbo-frame" data-analytics-event="{&quot;category&quot;:&quot;Underline navbar&quot;,&quot;action&quot;:&quot;Click tab&quot;,&quot;label&quot;:&quot;Insights&quot;,&quot;target&quot;:&quot;UNDERLINE_NAV.TAB&quot;}" data-view-component="true" class="UnderlineNav-item no-wrap js-responsive-underlinenav-item js-selected-navigation-item" style="visibility: hidden;">
    
              <svg aria-hidden="true" height="16" viewBox="0 0 16 16" version="1.1" width="16" data-view-component="true" class="octicon octicon-graph UnderlineNav-octicon d-none d-sm-inline">
    <path d="M1.5 1.75V13.5h13.75a.75.75 0 0 1 0 1.5H.75a.75.75 0 0 1-.75-.75V1.75a.75.75 0 0 1 1.5 0Zm14.28 2.53-5.25 5.25a.75.75 0 0 1-1.06 0L7 7.06 4.28 9.78a.751.751 0 0 1-1.042-.018.751.751 0 0 1-.018-1.042l3.25-3.25a.75.75 0 0 1 1.06 0L10 7.94l4.72-4.72a.751.751 0 0 1 1.042.018.751.751 0 0 1 .018 1.042Z"></path>
</svg>
        <span data-content="Insights">Insights</span>
          <span id="insights-repo-tab-count" data-pjax-replace="" data-turbo-replace="" title="Not available" data-view-component="true" class="Counter"></span>


    
</a></li>
</ul>
    <div style="" data-view-component="true" class="UnderlineNav-actions js-responsive-underlinenav-overflow position-absolute pr-3 pr-md-4 pr-lg-5 right-0">        <details data-view-component="true" class="details-overlay details-reset position-relative">
    <summary role="button" data-view-component="true" aria-haspopup="menu">          <div class="UnderlineNav-item mr-0 border-0">
            <svg aria-hidden="true" height="16" viewBox="0 0 16 16" version="1.1" width="16" data-view-component="true" class="octicon octicon-kebab-horizontal">
    <path d="M8 9a1.5 1.5 0 1 0 0-3 1.5 1.5 0 0 0 0 3ZM1.5 9a1.5 1.5 0 1 0 0-3 1.5 1.5 0 0 0 0 3Zm13 0a1.5 1.5 0 1 0 0-3 1.5 1.5 0 0 0 0 3Z"></path>
</svg>
            <span class="sr-only">More</span>
          </div>
</summary>
    <details-menu role="menu" data-view-component="true" class="dropdown-menu dropdown-menu-sw">          <ul>
              <li data-menu-item="i0code-tab" hidden="">
                <a role="menuitem" class="js-selected-navigation-item selected dropdown-item" aria-current="page" data-selected-links="repo_source repo_downloads repo_commits repo_releases repo_tags repo_branches repo_packages repo_deployments /scottbarnett97/python-exercises" href="/scottbarnett97/python-exercises">
                  Code
</a>              </li>
              <li data-menu-item="i1issues-tab" hidden="">
                <a role="menuitem" class="js-selected-navigation-item dropdown-item" data-selected-links="repo_issues repo_labels repo_milestones /scottbarnett97/python-exercises/issues" href="/scottbarnett97/python-exercises/issues">
                  Issues
</a>              </li>
              <li data-menu-item="i2pull-requests-tab" hidden="">
                <a role="menuitem" class="js-selected-navigation-item dropdown-item" data-selected-links="repo_pulls checks /scottbarnett97/python-exercises/pulls" href="/scottbarnett97/python-exercises/pulls">
                  Pull requests
</a>              </li>
              <li data-menu-item="i3actions-tab" hidden="">
                <a role="menuitem" class="js-selected-navigation-item dropdown-item" data-selected-links="repo_actions /scottbarnett97/python-exercises/actions" href="/scottbarnett97/python-exercises/actions">
                  Actions
</a>              </li>
              <li data-menu-item="i4projects-tab" hidden="">
                <a role="menuitem" class="js-selected-navigation-item dropdown-item" data-selected-links="repo_projects new_repo_project repo_project /scottbarnett97/python-exercises/projects" href="/scottbarnett97/python-exercises/projects">
                  Projects
</a>              </li>
              <li data-menu-item="i5security-tab" hidden="">
                <a role="menuitem" class="js-selected-navigation-item dropdown-item" data-selected-links="security overview alerts policy token_scanning code_scanning /scottbarnett97/python-exercises/security" href="/scottbarnett97/python-exercises/security">
                  Security
</a>              </li>
              <li data-menu-item="i6insights-tab">
                <a role="menuitem" class="js-selected-navigation-item dropdown-item" data-selected-links="repo_graphs repo_contributors dependency_graph dependabot_updates pulse people community /scottbarnett97/python-exercises/pulse" href="/scottbarnett97/python-exercises/pulse">
                  Insights
</a>              </li>
          </ul>
</details-menu>
</details></div>
</nav>

  </div>

  



<turbo-frame id="repo-content-turbo-frame" target="_top" data-turbo-action="advance" class="">
    <div id="repo-content-pjax-container" class="repository-content ">
    


    
      
    





<react-app app-name="react-code-view" initial-path="/scottbarnett97/python-exercises/blob/main/import_exercises.ipynb" style="min-height: calc(100vh - 62px)" data-ssr="false" data-lazy="false" data-alternate="false" data-catalyst="" class="loaded">
  
  <script type="application/json" data-target="react-app.embeddedData">{"payload":{"allShortcutsEnabled":false,"fileTree":{"":{"items":[{"name":"README.md","path":"README.md","contentType":"file"},{"name":"Untitled 2.ipynb","path":"Untitled 2.ipynb","contentType":"file"},{"name":"Untitled.ipynb","path":"Untitled.ipynb","contentType":"file"},{"name":"Untitled1.ipynb","path":"Untitled1.ipynb","contentType":"file"},{"name":"Untitled2.ipynb","path":"Untitled2.ipynb","contentType":"file"},{"name":"Untitled3.ipynb","path":"Untitled3.ipynb","contentType":"file"},{"name":"control_structures_exercises.ipynb","path":"control_structures_exercises.ipynb","contentType":"file"},{"name":"data_types_and_variables.ipynb","path":"data_types_and_variables.ipynb","contentType":"file"},{"name":"function_exercises.ipynb","path":"function_exercises.ipynb","contentType":"file"},{"name":"function_exercises.py","path":"function_exercises.py","contentType":"file"},{"name":"functions_exercise.py","path":"functions_exercise.py","contentType":"file"},{"name":"functions_exercises.py","path":"functions_exercises.py","contentType":"file"},{"name":"import_exercises.ipynb","path":"import_exercises.ipynb","contentType":"file"},{"name":"import_exercises.py","path":"import_exercises.py","contentType":"file"},{"name":"ledger.txt","path":"ledger.txt","contentType":"file"},{"name":"my_first_notebook.ipynb","path":"my_first_notebook.ipynb","contentType":"file"},{"name":"numpy_exercises.ipynb","path":"numpy_exercises.ipynb","contentType":"file"},{"name":"numpy_exercises.py","path":"numpy_exercises.py","contentType":"file"},{"name":"pandas_series.ipynb","path":"pandas_series.ipynb","contentType":"file"},{"name":"pandas_series_parts_2_and_3-Copy1.ipynb","path":"pandas_series_parts_2_and_3-Copy1.ipynb","contentType":"file"},{"name":"pandas_series_parts_2_and_3.ipynb","path":"pandas_series_parts_2_and_3.ipynb","contentType":"file"},{"name":"profiles.json","path":"profiles.json","contentType":"file"},{"name":"python_checkbook.ipynb","path":"python_checkbook.ipynb","contentType":"file"},{"name":"python_introduction_exercises.py","path":"python_introduction_exercises.py","contentType":"file"},{"name":"test.py","path":"test.py","contentType":"file"},{"name":"test_checkbook.py","path":"test_checkbook.py","contentType":"file"}],"totalCount":26}},"fileTreeProcessingTime":4.174441,"foldersToFetch":[],"reducedMotionEnabled":null,"repo":{"id":615129265,"defaultBranch":"main","name":"python-exercises","ownerLogin":"scottbarnett97","currentUserCanPush":false,"isFork":false,"isEmpty":false,"createdAt":"2023-03-17T02:25:20.000Z","ownerAvatar":"https://avatars.githubusercontent.com/u/126615545?v=4","public":true,"private":false,"isOrgOwned":false},"refInfo":{"name":"main","listCacheKey":"v0:1679019920.0","canEdit":false,"refType":"branch","currentOid":"feb31520757e3d3cb3d21c7e32dc1cb2030a6443"},"path":"import_exercises.ipynb","currentUser":null,"blob":{"rawBlob":"{\n \"cells\": [\n  {\n   \"cell_type\": \"markdown\",\n   \"id\": \"17f701b5\",\n   \"metadata\": {},\n   \"source\": [\n    \"# 1\\n\",\n    \"Import and test 3 of the functions from your functions exercise file. Import each function in a different way:\\n\",\n    \"\\n\",\n    \"    a. Run an interactive python session and import the module. Call the is_vowel function using the . syntax.\\n\",\n    \"    b. Create a file named import_exericses.py. Within this file, use from to import the calculate_tip function directly. Call this function with values you choose and print the result.\\n\",\n    \"    c. Create a jupyter notebook named import_exercises.ipynb. Use from to import the get_letter_grade function and give it an alias. Test this function in your notebook.\"\n   ]\n  },\n  {\n   \"cell_type\": \"code\",\n   \"execution_count\": 17,\n   \"id\": \"01375b53\",\n   \"metadata\": {},\n   \"outputs\": [],\n   \"source\": [\n    \"import functions_exercises as fex\"\n   ]\n  },\n  {\n   \"cell_type\": \"code\",\n   \"execution_count\": 18,\n   \"id\": \"c5ee03c9\",\n   \"metadata\": {},\n   \"outputs\": [\n    {\n     \"data\": {\n      \"text/plain\": [\n       \"True\"\n      ]\n     },\n     \"execution_count\": 18,\n     \"metadata\": {},\n     \"output_type\": \"execute_result\"\n    }\n   ],\n   \"source\": [\n    \"fex.is_two(2)\"\n   ]\n  },\n  {\n   \"cell_type\": \"code\",\n   \"execution_count\": 19,\n   \"id\": \"2507a569\",\n   \"metadata\": {},\n   \"outputs\": [\n    {\n     \"data\": {\n      \"text/plain\": [\n       \"'B'\"\n      ]\n     },\n     \"execution_count\": 19,\n     \"metadata\": {},\n     \"output_type\": \"execute_result\"\n    }\n   ],\n   \"source\": [\n    \"fex.get_letter_grade(88)\"\n   ]\n  },\n  {\n   \"cell_type\": \"code\",\n   \"execution_count\": 20,\n   \"id\": \"c975dfa4\",\n   \"metadata\": {},\n   \"outputs\": [\n    {\n     \"data\": {\n      \"text/plain\": [\n       \"True\"\n      ]\n     },\n     \"execution_count\": 20,\n     \"metadata\": {},\n     \"output_type\": \"execute_result\"\n    }\n   ],\n   \"source\": [\n    \"fex.is_vowel('e')\"\n   ]\n  },\n  {\n   \"cell_type\": \"code\",\n   \"execution_count\": 21,\n   \"id\": \"af0ee658\",\n   \"metadata\": {},\n   \"outputs\": [],\n   \"source\": [\n    \"from functions_exercises import get_letter_grade as glg\"\n   ]\n  },\n  {\n   \"cell_type\": \"code\",\n   \"execution_count\": 22,\n   \"id\": \"218d2a96\",\n   \"metadata\": {},\n   \"outputs\": [\n    {\n     \"data\": {\n      \"text/plain\": [\n       \"'B'\"\n      ]\n     },\n     \"execution_count\": 22,\n     \"metadata\": {},\n     \"output_type\": \"execute_result\"\n    }\n   ],\n   \"source\": [\n    \"glg(88)\"\n   ]\n  },\n  {\n   \"cell_type\": \"markdown\",\n   \"id\": \"03be52ce\",\n   \"metadata\": {},\n   \"source\": [\n    \"# 2\\n\",\n    \"Read about and use the itertools module from the python standard library to help you solve the following problems (Hint: wrap the itertools results in a list to see the results).\\n\",\n    \"\\n\",\n    \"    - How many different ways can you combine a single letter from \\\"abc\\\" with either 1, 2, or 3?\\n\",\n    \"    - How many different combinations are there of 2 letters from \\\"abcd\\\"?\\n\",\n    \"    - How many different permutations are there of 2 letters from \\\"abcd\\\"?\"\n   ]\n  },\n  {\n   \"cell_type\": \"code\",\n   \"execution_count\": 23,\n   \"id\": \"8d6e9e79\",\n   \"metadata\": {},\n   \"outputs\": [],\n   \"source\": [\n    \"import itertools as itt\"\n   ]\n  },\n  {\n   \"cell_type\": \"code\",\n   \"execution_count\": 24,\n   \"id\": \"1febfc00\",\n   \"metadata\": {},\n   \"outputs\": [\n    {\n     \"data\": {\n      \"text/plain\": [\n       \"9\"\n      ]\n     },\n     \"execution_count\": 24,\n     \"metadata\": {},\n     \"output_type\": \"execute_result\"\n    }\n   ],\n   \"source\": [\n    \"len(list(itt.product('abc','123')))\"\n   ]\n  },\n  {\n   \"cell_type\": \"code\",\n   \"execution_count\": 25,\n   \"id\": \"3b9f40cd\",\n   \"metadata\": {},\n   \"outputs\": [\n    {\n     \"data\": {\n      \"text/plain\": [\n       \"6\"\n      ]\n     },\n     \"execution_count\": 25,\n     \"metadata\": {},\n     \"output_type\": \"execute_result\"\n    }\n   ],\n   \"source\": [\n    \"len(list(itt.combinations('abcd',2)))\"\n   ]\n  },\n  {\n   \"cell_type\": \"code\",\n   \"execution_count\": 26,\n   \"id\": \"4b6b10a8\",\n   \"metadata\": {},\n   \"outputs\": [\n    {\n     \"data\": {\n      \"text/plain\": [\n       \"12\"\n      ]\n     },\n     \"execution_count\": 26,\n     \"metadata\": {},\n     \"output_type\": \"execute_result\"\n    }\n   ],\n   \"source\": [\n    \"len(list(itt.permutations('abcd',2)))\"\n   ]\n  },\n  {\n   \"cell_type\": \"markdown\",\n   \"id\": \"1aba09a3\",\n   \"metadata\": {},\n   \"source\": [\n    \"# 3\\n\",\n    \"Save this file as profiles.json inside of your exercises directory (right click -\u003e save file as...).\\n\",\n    \"\\n\",\n    \"Use the load function from the json module to open this file.\\n\",\n    \"\\n\",\n    \"\\n\",\n    \"import json\\n\",\n    \"\\n\",\n    \"json.load(open('profiles.json'))\\n\",\n    \"Your code should produce a list of dictionaries. Using this data, write some code that calculates and outputs the following information:\\n\",\n    \"\\n\",\n    \"  - Total number of users\\n\",\n    \"    - Number of active users\\n\",\n    \"    - Number of inactive users\\n\",\n    \"    - Grand total of balances for all users\\n\",\n    \"    - Average balance per user\\n\",\n    \"    - User with the lowest balance\\n\",\n    \"    - User with the highest balance\\n\",\n    \"    - Most common favorite fruit\\n\",\n    \"    - Least most common favorite fruit\\n\",\n    \"    - Total number of unread messages for all users\"\n   ]\n  },\n  {\n   \"cell_type\": \"code\",\n   \"execution_count\": 27,\n   \"id\": \"fd1847d9\",\n   \"metadata\": {},\n   \"outputs\": [],\n   \"source\": [\n    \"import json\\n\",\n    \"\\n\",\n    \"\\n\",\n    \"profiles = json.load(open('profiles.json'))\"\n   ]\n  },\n  {\n   \"cell_type\": \"code\",\n   \"execution_count\": 28,\n   \"id\": \"ed303936\",\n   \"metadata\": {},\n   \"outputs\": [\n    {\n     \"name\": \"stdout\",\n     \"output_type\": \"stream\",\n     \"text\": [\n      \"{'_id': '54e23c3e46ab53a440b580e8', 'index': 0, 'guid': '9962b468-ef3e-4993-b677-617469bc3008', 'isActive': False, 'balance': '$2,097.02', 'picture': 'http://placehold.it/32x32', 'age': 39, 'eyeColor': 'blue', 'name': 'Hebert Estes', 'gender': 'male', 'company': 'ANDRYX', 'email': 'hebertestes@andryx.com', 'phone': '+1 (866) 456-2268', 'address': '121 Emmons Avenue, Klondike, Kentucky, 5975', 'about': 'Sit cillum deserunt irure laboris tempor fugiat laboris. Amet commodo amet est incididunt. Dolore qui fugiat cillum pariatur dolore excepteur elit ipsum.\\\\r\\\\n', 'registered': '2014-11-10T01:44:03 +06:00', 'latitude': -80.157843, 'longitude': 161.93016, 'tags': ['sit', 'occaecat', 'non', 'ea', 'sit', 'laboris', 'exercitation'], 'friends': [{'id': 0, 'name': 'Tanisha Leonard'}, {'id': 1, 'name': 'Dennis Wilson'}, {'id': 2, 'name': 'Lupe Howe'}], 'greeting': 'Hello, Hebert Estes! You have 4 unread messages.', 'favoriteFruit': 'strawberry'}\\n\",\n      \"{'_id': '54e23c3ef5cc0d250968c212', 'index': 1, 'guid': '905f849d-49bf-4a57-b4f3-5d6e4bf1b04c', 'isActive': False, 'balance': '$3,654.02', 'picture': 'http://placehold.it/32x32', 'age': 30, 'eyeColor': 'green', 'name': 'Allison Wynn', 'gender': 'male', 'company': 'PHARMACON', 'email': 'allisonwynn@pharmacon.com', 'phone': '+1 (926) 525-3131', 'address': '724 Brevoort Place, Lodoga, Indiana, 3880', 'about': 'Esse quis cillum sunt occaecat ad et eu incididunt aliquip dolor. Adipisicing labore magna anim cillum nisi. Elit mollit consequat velit nulla cillum excepteur elit ullamco deserunt. Anim aliquip Lorem excepteur ad veniam et labore in qui ullamco. Occaecat sit do incididunt voluptate id magna ea amet.\\\\r\\\\n', 'registered': '2014-06-10T13:41:26 +05:00', 'latitude': 55.737207, 'longitude': -167.177561, 'tags': ['enim', 'officia', 'laboris', 'irure', 'veniam', 'occaecat', 'pariatur'], 'friends': [{'id': 0, 'name': 'Curry Cox'}, {'id': 1, 'name': 'Alma Dale'}, {'id': 2, 'name': 'Barbara Mayo'}], 'greeting': 'Hello, Allison Wynn! You have 19 unread messages.', 'favoriteFruit': 'apple'}\\n\",\n      \"{'_id': '54e23c3e09cc6875638cd36b', 'index': 2, 'guid': '1b042d48-9cfa-4db5-8b60-4104165591c3', 'isActive': True, 'balance': '$1,536.02', 'picture': 'http://placehold.it/32x32', 'age': 31, 'eyeColor': 'brown', 'name': 'Jacobs Floyd', 'gender': 'male', 'company': 'QUONK', 'email': 'jacobsfloyd@quonk.com', 'phone': '+1 (853) 537-3315', 'address': '941 Cox Place, Bluffview, Georgia, 5882', 'about': 'Deserunt adipisicing proident exercitation cillum anim consectetur labore exercitation. Commodo reprehenderit laborum enim exercitation. Ullamco nulla culpa aliqua nisi fugiat consectetur deserunt nostrud in eu.\\\\r\\\\n', 'registered': '2014-07-30T03:17:32 +05:00', 'latitude': 30.215667, 'longitude': 68.831905, 'tags': ['est', 'aute', 'laborum', 'sint', 'anim', 'sit', 'consectetur'], 'friends': [{'id': 0, 'name': 'Robles Chan'}, {'id': 1, 'name': 'Whitfield Strickland'}, {'id': 2, 'name': 'Lina Melton'}], 'greeting': 'Hello, Jacobs Floyd! You have 5 unread messages.', 'favoriteFruit': 'apple'}\\n\",\n      \"{'_id': '54e23c3e54e4094147a3b1da', 'index': 3, 'guid': '69eb3454-8acc-46f1-a636-c6df00dfb542', 'isActive': False, 'balance': '$3,919.64', 'picture': 'http://placehold.it/32x32', 'age': 20, 'eyeColor': 'green', 'name': 'Fay Hammond', 'gender': 'female', 'company': 'INRT', 'email': 'fayhammond@inrt.com', 'phone': '+1 (922) 429-2592', 'address': '518 Randolph Street, Whitestone, Arizona, 8189', 'about': 'Aliqua sunt exercitation quis cupidatat fugiat nulla laboris occaecat ut reprehenderit qui incididunt. Amet excepteur qui amet mollit sint enim velit est dolor eu. Velit labore ea aute ipsum consequat culpa cupidatat excepteur aliqua. Sit commodo id est deserunt commodo. Labore sit deserunt enim in dolore incididunt. Officia qui est veniam cillum consequat minim duis Lorem esse magna culpa cupidatat cupidatat enim. Amet eiusmod elit qui reprehenderit commodo quis.\\\\r\\\\n', 'registered': '2015-01-30T08:05:38 +06:00', 'latitude': 33.825844, 'longitude': -65.969538, 'tags': ['aliqua', 'esse', 'sint', 'pariatur', 'commodo', 'do', 'anim'], 'friends': [{'id': 0, 'name': 'Dudley Booker'}, {'id': 1, 'name': 'Esmeralda Tyler'}, {'id': 2, 'name': 'Rosa Hampton'}], 'greeting': 'Hello, Fay Hammond! You have 10 unread messages.', 'favoriteFruit': 'banana'}\\n\",\n      \"{'_id': '54e23c3e177caf5567ba87ac', 'index': 4, 'guid': '97962c85-7700-4ffa-a01e-2fcbc147fd81', 'isActive': False, 'balance': '$3,681.39', 'picture': 'http://placehold.it/32x32', 'age': 39, 'eyeColor': 'green', 'name': 'Chasity Marsh', 'gender': 'female', 'company': 'WAZZU', 'email': 'chasitymarsh@wazzu.com', 'phone': '+1 (976) 425-2362', 'address': '604 Just Court, Eastvale, Federated States Of Micronesia, 8644', 'about': 'Irure excepteur consequat esse qui tempor deserunt nulla fugiat. Ut excepteur do veniam dolore dolor proident sunt voluptate ad ipsum nisi. Lorem proident deserunt Lorem cupidatat dolor nulla qui id aliqua. Et nulla laborum deserunt tempor ad culpa. Ullamco occaecat adipisicing dolore laborum laborum duis aliqua nisi irure ex. Incididunt tempor Lorem quis dolore.\\\\r\\\\n', 'registered': '2014-07-31T06:03:19 +05:00', 'latitude': -31.660978, 'longitude': 37.559095, 'tags': ['aliquip', 'duis', 'irure', 'amet', 'aliquip', 'dolore', 'esse'], 'friends': [{'id': 0, 'name': 'Kristina Glover'}, {'id': 1, 'name': 'Ora Christian'}, {'id': 2, 'name': 'Jacklyn Joseph'}], 'greeting': 'Hello, Chasity Marsh! You have 9 unread messages.', 'favoriteFruit': 'apple'}\\n\",\n      \"{'_id': '54e23c3eaffbb506aa15ec1c', 'index': 5, 'guid': 'fc3e04d1-44c2-449e-891a-d4f8053d14a4', 'isActive': True, 'balance': '$1,694.42', 'picture': 'http://placehold.it/32x32', 'age': 30, 'eyeColor': 'brown', 'name': 'Camacho Cortez', 'gender': 'male', 'company': 'EARTHWAX', 'email': 'camachocortez@earthwax.com', 'phone': '+1 (869) 528-2019', 'address': '101 Haring Street, Nicut, Louisiana, 1473', 'about': 'Qui ad commodo elit voluptate cupidatat exercitation amet ea laborum sunt aliquip nisi irure. Veniam voluptate eiusmod sint aliquip ea. Voluptate voluptate Lorem nulla laborum eiusmod occaecat et nostrud sint in cillum reprehenderit magna nulla. Lorem id fugiat laborum qui mollit amet. Culpa officia ipsum nisi culpa in. Fugiat quis eu cupidatat non culpa in ea velit pariatur non in excepteur.\\\\r\\\\n', 'registered': '2014-03-17T12:04:00 +05:00', 'latitude': 74.434627, 'longitude': 69.527088, 'tags': ['et', 'sit', 'in', 'id', 'ullamco', 'elit', 'laborum'], 'friends': [{'id': 0, 'name': 'Sexton Tillman'}, {'id': 1, 'name': 'Boone Steele'}, {'id': 2, 'name': 'Elvia Ward'}], 'greeting': 'Hello, Camacho Cortez! You have 19 unread messages.', 'favoriteFruit': 'apple'}\\n\",\n      \"{'_id': '54e23c3e0fd8074c2ca52667', 'index': 6, 'guid': 'af8d9a03-fde9-4039-b20c-c4708d4cfc3c', 'isActive': False, 'balance': '$1,214.10', 'picture': 'http://placehold.it/32x32', 'age': 35, 'eyeColor': 'green', 'name': 'Avery Flynn', 'gender': 'male', 'company': 'TERSANKI', 'email': 'averyflynn@tersanki.com', 'phone': '+1 (966) 404-2471', 'address': '569 Oakland Place, Beyerville, Puerto Rico, 2395', 'about': 'Minim consequat anim ad et tempor et pariatur cillum ut. Ea Lorem consectetur sunt aliquip ea minim minim id dolore incididunt qui magna. Magna velit labore dolore voluptate ut aliquip esse qui est ipsum cupidatat duis enim. Sunt esse eiusmod cupidatat duis quis sunt anim dolore adipisicing enim dolore aliqua mollit. Commodo sit ad eiusmod reprehenderit.\\\\r\\\\n', 'registered': '2014-04-13T10:25:03 +05:00', 'latitude': -89.879409, 'longitude': 143.441709, 'tags': ['quis', 'esse', 'Lorem', 'minim', 'nostrud', 'voluptate', 'laborum'], 'friends': [{'id': 0, 'name': 'Ball Henson'}, {'id': 1, 'name': 'Dalton Mccoy'}, {'id': 2, 'name': 'Carolina Sharp'}], 'greeting': 'Hello, Avery Flynn! You have 13 unread messages.', 'favoriteFruit': 'banana'}\\n\",\n      \"{'_id': '54e23c3eb112d96e4204914d', 'index': 7, 'guid': '95f1c020-f9eb-4a29-b236-e766759d89d0', 'isActive': False, 'balance': '$2,930.31', 'picture': 'http://placehold.it/32x32', 'age': 23, 'eyeColor': 'blue', 'name': 'Michael Cash', 'gender': 'male', 'company': 'ORBIXTAR', 'email': 'michaelcash@orbixtar.com', 'phone': '+1 (996) 439-3660', 'address': '808 Duryea Court, Downsville, Northern Mariana Islands, 2154', 'about': 'Minim proident minim consectetur nostrud dolor reprehenderit. Ea est proident non do cillum eu est dolor Lorem id. Tempor enim incididunt consequat voluptate nulla ipsum voluptate id. Incididunt enim laboris nostrud in exercitation est culpa nulla velit.\\\\r\\\\n', 'registered': '2014-05-24T17:56:54 +05:00', 'latitude': -86.621367, 'longitude': -4.06197, 'tags': ['eu', 'sit', 'dolore', 'culpa', 'Lorem', 'in', 'esse'], 'friends': [{'id': 0, 'name': 'Rodgers Nolan'}, {'id': 1, 'name': 'Jewel Marks'}, {'id': 2, 'name': 'Sue Mejia'}], 'greeting': 'Hello, Michael Cash! You have 17 unread messages.', 'favoriteFruit': 'strawberry'}\\n\",\n      \"{'_id': '54e23c3ef30f14d0e5afddf3', 'index': 8, 'guid': 'bde2d56f-2488-40d0-a7d2-21019ee8a18b', 'isActive': False, 'balance': '$1,944.15', 'picture': 'http://placehold.it/32x32', 'age': 25, 'eyeColor': 'green', 'name': 'Madeleine Bray', 'gender': 'female', 'company': 'KIDSTOCK', 'email': 'madeleinebray@kidstock.com', 'phone': '+1 (820) 541-2969', 'address': '684 Stratford Road, Rosine, District Of Columbia, 7177', 'about': 'Ullamco ea esse ullamco commodo quis amet ut ad. Sint eiusmod ullamco minim nostrud amet in ex adipisicing velit cillum Lorem enim nostrud. Deserunt esse incididunt eiusmod commodo ullamco id pariatur tempor duis laboris Lorem. Laboris magna Lorem quis laborum ullamco. Dolor minim magna ut occaecat in consequat consequat in commodo pariatur voluptate pariatur dolore. Quis exercitation cillum labore cillum laborum. Dolore est reprehenderit anim reprehenderit consectetur sit quis ea ut veniam.\\\\r\\\\n', 'registered': '2014-08-11T08:54:06 +05:00', 'latitude': 45.118798, 'longitude': -7.698707, 'tags': ['id', 'magna', 'excepteur', 'excepteur', 'excepteur', 'duis', 'excepteur'], 'friends': [{'id': 0, 'name': 'Herrera Doyle'}, {'id': 1, 'name': 'Berger Fisher'}, {'id': 2, 'name': 'Chang Coffey'}], 'greeting': 'Hello, Madeleine Bray! You have 2 unread messages.', 'favoriteFruit': 'strawberry'}\\n\",\n      \"{'_id': '54e23c3ebd80e9c26b057fa3', 'index': 9, 'guid': '75991ca5-05ed-499e-bbb5-f057f86d05d7', 'isActive': True, 'balance': '$2,839.22', 'picture': 'http://placehold.it/32x32', 'age': 37, 'eyeColor': 'blue', 'name': 'Corine French', 'gender': 'female', 'company': 'INTRAWEAR', 'email': 'corinefrench@intrawear.com', 'phone': '+1 (987) 573-3164', 'address': '964 Clara Street, Snyderville, Oklahoma, 3627', 'about': 'Sint cillum laborum labore duis fugiat voluptate adipisicing. Ad culpa et et ea incididunt nulla excepteur officia. Cillum veniam amet ipsum reprehenderit do eiusmod aliqua aute nisi Lorem consectetur esse in incididunt.\\\\r\\\\n', 'registered': '2014-06-25T20:17:13 +05:00', 'latitude': -37.637422, 'longitude': 154.195523, 'tags': ['laboris', 'in', 'dolore', 'mollit', 'velit', 'laboris', 'excepteur'], 'friends': [{'id': 0, 'name': 'Greta Hill'}, {'id': 1, 'name': 'Cline Curry'}, {'id': 2, 'name': 'Branch Sawyer'}], 'greeting': 'Hello, Corine French! You have 18 unread messages.', 'favoriteFruit': 'banana'}\\n\",\n      \"{'_id': '54e23c3e6d89c09f5507e7dd', 'index': 10, 'guid': '87cffc18-3acf-40c5-8708-1bb93f1b68de', 'isActive': True, 'balance': '$2,467.31', 'picture': 'http://placehold.it/32x32', 'age': 29, 'eyeColor': 'blue', 'name': 'Trudy Cummings', 'gender': 'female', 'company': 'SPLINX', 'email': 'trudycummings@splinx.com', 'phone': '+1 (925) 403-2797', 'address': '558 Charles Place, Tedrow, California, 9832', 'about': 'Non id adipisicing deserunt non magna ex adipisicing sint esse sint. Laborum ea nostrud Lorem voluptate quis proident eu nisi exercitation in. Consequat occaecat proident officia anim.\\\\r\\\\n', 'registered': '2014-03-13T17:54:31 +05:00', 'latitude': -36.185131, 'longitude': -37.774906, 'tags': ['aute', 'occaecat', 'ea', 'pariatur', 'consectetur', 'magna', 'ea'], 'friends': [{'id': 0, 'name': 'Amber Gates'}, {'id': 1, 'name': 'Barron Walsh'}, {'id': 2, 'name': 'Nell Bolton'}], 'greeting': 'Hello, Trudy Cummings! You have 2 unread messages.', 'favoriteFruit': 'strawberry'}\\n\",\n      \"{'_id': '54e23c3e4192cf53edd67c99', 'index': 11, 'guid': '5a5496f1-a027-4c21-85da-c399234cd9a5', 'isActive': True, 'balance': '$3,304.99', 'picture': 'http://placehold.it/32x32', 'age': 21, 'eyeColor': 'brown', 'name': 'Peggy Mayer', 'gender': 'female', 'company': 'ACCUPRINT', 'email': 'peggymayer@accuprint.com', 'phone': '+1 (854) 428-2585', 'address': '830 Willmohr Street, Crenshaw, Missouri, 6032', 'about': 'Aliqua sit enim cillum aliquip ad proident excepteur in consectetur eiusmod. Ipsum sint cillum veniam eiusmod aute sunt et do est tempor. Lorem elit dolor dolore incididunt cillum. Enim occaecat minim sunt cillum est velit cillum deserunt tempor eu.\\\\r\\\\n', 'registered': '2014-09-14T07:06:49 +05:00', 'latitude': 48.323912, 'longitude': 22.184821, 'tags': ['commodo', 'esse', 'ad', 'ullamco', 'ea', 'sint', 'ipsum'], 'friends': [{'id': 0, 'name': 'Hopkins Mccall'}, {'id': 1, 'name': 'Nielsen Weeks'}, {'id': 2, 'name': 'Dale Knowles'}], 'greeting': 'Hello, Peggy Mayer! You have 13 unread messages.', 'favoriteFruit': 'strawberry'}\\n\",\n      \"{'_id': '54e23c3eedcc65f0ec3a5496', 'index': 12, 'guid': '759a21c4-5f9c-4189-9c50-c9d8a9f31037', 'isActive': False, 'balance': '$3,844.42', 'picture': 'http://placehold.it/32x32', 'age': 40, 'eyeColor': 'brown', 'name': 'Chan Hurley', 'gender': 'male', 'company': 'ZEAM', 'email': 'chanhurley@zeam.com', 'phone': '+1 (917) 475-3705', 'address': '915 Channel Avenue, Clinton, North Dakota, 6244', 'about': 'Voluptate exercitation ut anim ex adipisicing ut do officia incididunt fugiat cupidatat aliqua. Cillum ullamco irure dolore est consectetur non consequat. Nulla ullamco eu irure qui dolor magna ipsum id in enim voluptate aute. Officia aliqua dolore ut reprehenderit Lorem cillum. Cillum reprehenderit eu cillum aliqua sint eiusmod cupidatat culpa elit in. Fugiat voluptate reprehenderit amet anim qui nisi velit aliqua proident anim.\\\\r\\\\n', 'registered': '2014-03-01T14:51:23 +06:00', 'latitude': 85.901051, 'longitude': -74.986179, 'tags': ['minim', 'veniam', 'sit', 'aute', 'irure', 'non', 'eiusmod'], 'friends': [{'id': 0, 'name': 'Reese Grant'}, {'id': 1, 'name': 'Jenna Kinney'}, {'id': 2, 'name': 'Rhea May'}], 'greeting': 'Hello, Chan Hurley! You have 7 unread messages.', 'favoriteFruit': 'apple'}\\n\",\n      \"{'_id': '54e23c3eb813e66c6d33aa82', 'index': 13, 'guid': '6fd14a8e-3158-48eb-a7e1-93fe57b74746', 'isActive': True, 'balance': '$3,594.99', 'picture': 'http://placehold.it/32x32', 'age': 40, 'eyeColor': 'blue', 'name': 'Diaz Pena', 'gender': 'male', 'company': 'SUREPLEX', 'email': 'diazpena@sureplex.com', 'phone': '+1 (986) 511-3050', 'address': '184 Kingsway Place, Grantville, Michigan, 2421', 'about': 'Enim elit amet officia consectetur do Lorem reprehenderit cupidatat exercitation velit. Ex tempor esse consectetur dolore aute et. Cupidatat duis nulla in incididunt nulla ullamco non magna officia commodo anim. Labore quis ullamco est deserunt excepteur duis nostrud deserunt cillum proident. Non eiusmod consectetur pariatur deserunt irure quis exercitation ex incididunt quis dolore pariatur sunt irure. Eu do fugiat laboris tempor culpa.\\\\r\\\\n', 'registered': '2014-04-19T20:43:12 +05:00', 'latitude': 6.606991, 'longitude': 81.593748, 'tags': ['excepteur', 'elit', 'ullamco', 'excepteur', 'ad', 'quis', 'dolore'], 'friends': [{'id': 0, 'name': 'Mcmillan Knox'}, {'id': 1, 'name': 'Flossie Dixon'}, {'id': 2, 'name': 'Sears Carson'}], 'greeting': 'Hello, Diaz Pena! You have 13 unread messages.', 'favoriteFruit': 'strawberry'}\\n\",\n      \"{'_id': '54e23c3e502a2f526b689c3e', 'index': 14, 'guid': '459cc82d-7878-42cb-b9c6-073506380036', 'isActive': True, 'balance': '$2,940.24', 'picture': 'http://placehold.it/32x32', 'age': 40, 'eyeColor': 'brown', 'name': 'Heath Castaneda', 'gender': 'male', 'company': 'NETPLODE', 'email': 'heathcastaneda@netplode.com', 'phone': '+1 (944) 478-3741', 'address': '278 Village Road, Sunnyside, Massachusetts, 7496', 'about': 'Consectetur mollit cupidatat ex consectetur eiusmod ut. Cupidatat anim cupidatat cupidatat minim ipsum et quis amet proident pariatur. Do consectetur fugiat quis nisi non. Ut eu consequat consequat in ullamco eiusmod quis cillum sunt dolore anim. Non irure aliqua aliqua enim elit labore consequat.\\\\r\\\\n', 'registered': '2014-07-30T21:38:43 +05:00', 'latitude': 69.928876, 'longitude': 33.649878, 'tags': ['elit', 'commodo', 'ut', 'ullamco', 'ullamco', 'velit', 'ullamco'], 'friends': [{'id': 0, 'name': 'Dora Mack'}, {'id': 1, 'name': 'Christensen Camacho'}, {'id': 2, 'name': 'Castro Kelly'}], 'greeting': 'Hello, Heath Castaneda! You have 12 unread messages.', 'favoriteFruit': 'strawberry'}\\n\",\n      \"{'_id': '54e23c3e69d22e49c7fe62de', 'index': 15, 'guid': '33d2bbe5-d6f7-4844-88fc-b9f6af63b373', 'isActive': False, 'balance': '$3,062.41', 'picture': 'http://placehold.it/32x32', 'age': 38, 'eyeColor': 'brown', 'name': 'Greer Blankenship', 'gender': 'male', 'company': 'QUALITERN', 'email': 'greerblankenship@qualitern.com', 'phone': '+1 (957) 482-3874', 'address': '557 Ingraham Street, Brambleton, South Dakota, 8482', 'about': 'Non in excepteur nostrud consectetur. Qui non consectetur officia incididunt elit laboris exercitation exercitation est minim veniam ullamco dolore. Eu sit aute culpa ex sunt amet. Ut et amet Lorem sunt anim pariatur.\\\\r\\\\n', 'registered': '2014-03-30T21:39:41 +05:00', 'latitude': -71.093388, 'longitude': 65.740255, 'tags': ['enim', 'eiusmod', 'Lorem', 'reprehenderit', 'nisi', 'anim', 'sunt'], 'friends': [{'id': 0, 'name': 'Woods Norman'}, {'id': 1, 'name': 'Marilyn Haney'}, {'id': 2, 'name': 'Webster Nielsen'}], 'greeting': 'Hello, Greer Blankenship! You have 7 unread messages.', 'favoriteFruit': 'banana'}\\n\",\n      \"{'_id': '54e23c3e42676228c442a669', 'index': 16, 'guid': 'e44604f0-c7a8-4b89-bda3-0f4710ebe28a', 'isActive': False, 'balance': '$3,067.82', 'picture': 'http://placehold.it/32x32', 'age': 32, 'eyeColor': 'green', 'name': 'Coffey Hayes', 'gender': 'male', 'company': 'INQUALA', 'email': 'coffeyhayes@inquala.com', 'phone': '+1 (880) 451-3490', 'address': '490 Durland Place, Craig, Tennessee, 5034', 'about': 'Est esse irure Lorem ullamco veniam fugiat laborum veniam excepteur. Ad enim pariatur nostrud excepteur et nostrud velit dolore ex enim cillum in aliquip fugiat. Nulla laborum exercitation irure magna elit laborum magna ad excepteur. Cillum pariatur Lorem eiusmod ad dolore eiusmod veniam do minim laborum in dolor. Reprehenderit elit ad id voluptate Lorem Lorem dolor cupidatat excepteur. Proident minim ea aute nulla.\\\\r\\\\n', 'registered': '2014-04-01T23:04:39 +05:00', 'latitude': -30.662644, 'longitude': 59.806684, 'tags': ['duis', 'est', 'in', 'officia', 'nostrud', 'occaecat', 'mollit'], 'friends': [{'id': 0, 'name': 'Suarez Perry'}, {'id': 1, 'name': 'Marlene Sheppard'}, {'id': 2, 'name': 'Cohen Yates'}], 'greeting': 'Hello, Coffey Hayes! You have 19 unread messages.', 'favoriteFruit': 'strawberry'}\\n\",\n      \"{'_id': '54e23c3e4ac5969958013235', 'index': 17, 'guid': 'fa7e26df-d239-41e8-9aa9-be5e808b6f89', 'isActive': True, 'balance': '$2,646.76', 'picture': 'http://placehold.it/32x32', 'age': 24, 'eyeColor': 'brown', 'name': 'Leanne Hurst', 'gender': 'female', 'company': 'ACCIDENCY', 'email': 'leannehurst@accidency.com', 'phone': '+1 (820) 420-3317', 'address': '196 Columbus Place, Carbonville, New Jersey, 7513', 'about': 'Dolor occaecat dolore ut tempor. Veniam elit anim duis do pariatur. Qui excepteur nisi eiusmod mollit laboris fugiat commodo ipsum reprehenderit labore cillum. Aliquip laborum commodo nisi cupidatat labore nostrud exercitation adipisicing mollit eu magna proident ex Lorem. Nostrud magna sint sint consequat consectetur et sint.\\\\r\\\\n', 'registered': '2014-11-10T01:25:55 +06:00', 'latitude': 16.671695, 'longitude': 139.707959, 'tags': ['culpa', 'deserunt', 'tempor', 'quis', 'reprehenderit', 'incididunt', 'est'], 'friends': [{'id': 0, 'name': 'Farley Frank'}, {'id': 1, 'name': 'Pruitt Frye'}, {'id': 2, 'name': 'Simpson Cardenas'}], 'greeting': 'Hello, Leanne Hurst! You have 5 unread messages.', 'favoriteFruit': 'apple'}\\n\",\n      \"{'_id': '54e23c3ed945981ba2580614', 'index': 18, 'guid': 'e608dc5c-fee4-4086-971b-3ebd37bfa137', 'isActive': True, 'balance': '$2,227.79', 'picture': 'http://placehold.it/32x32', 'age': 22, 'eyeColor': 'brown', 'name': 'Ewing Larson', 'gender': 'male', 'company': 'ESCENTA', 'email': 'ewinglarson@escenta.com', 'phone': '+1 (943) 439-3760', 'address': '136 Beard Street, Wattsville, New Hampshire, 2803', 'about': 'Veniam eiusmod exercitation culpa mollit reprehenderit ullamco voluptate voluptate irure qui duis anim et. Laborum dolor quis do voluptate. In pariatur dolor id mollit et enim. Qui ex qui in cillum irure enim non reprehenderit irure et excepteur aliquip eu eu.\\\\r\\\\n', 'registered': '2014-07-21T19:17:41 +05:00', 'latitude': 15.903555, 'longitude': -159.721203, 'tags': ['Lorem', 'magna', 'dolor', 'aliquip', 'reprehenderit', 'eu', 'voluptate'], 'friends': [{'id': 0, 'name': 'Suzette Huffman'}, {'id': 1, 'name': 'Paige Santiago'}, {'id': 2, 'name': 'Dollie Fernandez'}], 'greeting': 'Hello, Ewing Larson! You have 16 unread messages.', 'favoriteFruit': 'strawberry'}\\n\"\n     ]\n    }\n   ],\n   \"source\": [\n    \"for i in profiles:\\n\",\n    \"    print(i)\"\n   ]\n  },\n  {\n   \"cell_type\": \"code\",\n   \"execution_count\": 29,\n   \"id\": \"f1703d4f\",\n   \"metadata\": {},\n   \"outputs\": [\n    {\n     \"data\": {\n      \"text/plain\": [\n       \"{'_id': '54e23c3e46ab53a440b580e8',\\n\",\n       \" 'index': 0,\\n\",\n       \" 'guid': '9962b468-ef3e-4993-b677-617469bc3008',\\n\",\n       \" 'isActive': False,\\n\",\n       \" 'balance': '$2,097.02',\\n\",\n       \" 'picture': 'http://placehold.it/32x32',\\n\",\n       \" 'age': 39,\\n\",\n       \" 'eyeColor': 'blue',\\n\",\n       \" 'name': 'Hebert Estes',\\n\",\n       \" 'gender': 'male',\\n\",\n       \" 'company': 'ANDRYX',\\n\",\n       \" 'email': 'hebertestes@andryx.com',\\n\",\n       \" 'phone': '+1 (866) 456-2268',\\n\",\n       \" 'address': '121 Emmons Avenue, Klondike, Kentucky, 5975',\\n\",\n       \" 'about': 'Sit cillum deserunt irure laboris tempor fugiat laboris. Amet commodo amet est incididunt. Dolore qui fugiat cillum pariatur dolore excepteur elit ipsum.\\\\r\\\\n',\\n\",\n       \" 'registered': '2014-11-10T01:44:03 +06:00',\\n\",\n       \" 'latitude': -80.157843,\\n\",\n       \" 'longitude': 161.93016,\\n\",\n       \" 'tags': ['sit', 'occaecat', 'non', 'ea', 'sit', 'laboris', 'exercitation'],\\n\",\n       \" 'friends': [{'id': 0, 'name': 'Tanisha Leonard'},\\n\",\n       \"  {'id': 1, 'name': 'Dennis Wilson'},\\n\",\n       \"  {'id': 2, 'name': 'Lupe Howe'}],\\n\",\n       \" 'greeting': 'Hello, Hebert Estes! You have 4 unread messages.',\\n\",\n       \" 'favoriteFruit': 'strawberry'}\"\n      ]\n     },\n     \"execution_count\": 29,\n     \"metadata\": {},\n     \"output_type\": \"execute_result\"\n    }\n   ],\n   \"source\": [\n    \"profiles[0]\\n\",\n    \"# this is going to list all elements of the first dictionary\\n\",\n    \"#this is called indexing\"\n   ]\n  },\n  {\n   \"cell_type\": \"code\",\n   \"execution_count\": 30,\n   \"id\": \"37ab961c\",\n   \"metadata\": {},\n   \"outputs\": [\n    {\n     \"ename\": \"NameError\",\n     \"evalue\": \"name 'balance' is not defined\",\n     \"output_type\": \"error\",\n     \"traceback\": [\n      \"\\u001b[0;31m---------------------------------------------------------------------------\\u001b[0m\",\n      \"\\u001b[0;31mNameError\\u001b[0m                                 Traceback (most recent call last)\",\n      \"Input \\u001b[0;32mIn [30]\\u001b[0m, in \\u001b[0;36m\u003ccell line: 1\u003e\\u001b[0;34m()\\u001b[0m\\n\\u001b[0;32m----\u003e 1\\u001b[0m (profiles[\\u001b[38;5;241m0\\u001b[39m])[\\u001b[43mbalance\\u001b[49m]\\n\",\n      \"\\u001b[0;31mNameError\\u001b[0m: name 'balance' is not defined\"\n     ]\n    }\n   ],\n   \"source\": [\n    \"(profiles[0])[balance]\\n\",\n    \"\\n\",\n    \"# this will take you to the dictionary-\u003e key -\u003e value\"\n   ]\n  },\n  {\n   \"cell_type\": \"code\",\n   \"execution_count\": 31,\n   \"id\": \"dc3e5659\",\n   \"metadata\": {},\n   \"outputs\": [\n    {\n     \"name\": \"stdout\",\n     \"output_type\": \"stream\",\n     \"text\": [\n      \"19\\n\"\n     ]\n    }\n   ],\n   \"source\": [\n    \"#  - Total number of users\\n\",\n    \"\\n\",\n    \"print(len(profiles))\"\n   ]\n  },\n  {\n   \"cell_type\": \"code\",\n   \"execution_count\": null,\n   \"id\": \"5a0a804a\",\n   \"metadata\": {},\n   \"outputs\": [],\n   \"source\": []\n  },\n  {\n   \"cell_type\": \"code\",\n   \"execution_count\": 32,\n   \"id\": \"8138e1a4\",\n   \"metadata\": {},\n   \"outputs\": [\n    {\n     \"name\": \"stdout\",\n     \"output_type\": \"stream\",\n     \"text\": [\n      \"9\\n\"\n     ]\n    }\n   ],\n   \"source\": [\n    \"# - Number of active users\\n\",\n    \"n=0\\n\",\n    \"for profile in profiles:\\n\",\n    \"    value = profile['isActive']\\n\",\n    \"    if value == True:\\n\",\n    \"        n+=1\\n\",\n    \"print(n)\"\n   ]\n  },\n  {\n   \"cell_type\": \"code\",\n   \"execution_count\": 33,\n   \"id\": \"2bfc71e3\",\n   \"metadata\": {},\n   \"outputs\": [\n    {\n     \"data\": {\n      \"text/plain\": [\n       \"9\"\n      ]\n     },\n     \"execution_count\": 33,\n     \"metadata\": {},\n     \"output_type\": \"execute_result\"\n    }\n   ],\n   \"source\": [\n    \"# alternate for number of active users\\n\",\n    \"active_users =[profile for profile in profiles if profile['isActive']==True]\\n\",\n    \"               \\n\",\n    \"len(active_users)\"\n   ]\n  },\n  {\n   \"cell_type\": \"code\",\n   \"execution_count\": 34,\n   \"id\": \"0caebe4d\",\n   \"metadata\": {},\n   \"outputs\": [\n    {\n     \"name\": \"stdout\",\n     \"output_type\": \"stream\",\n     \"text\": [\n      \"0\\n\",\n      \"0\\n\",\n      \"0\\n\",\n      \"0\\n\",\n      \"0\\n\",\n      \"0\\n\",\n      \"0\\n\",\n      \"0\\n\",\n      \"0\\n\",\n      \"0\\n\",\n      \"0\\n\",\n      \"0\\n\",\n      \"0\\n\",\n      \"0\\n\",\n      \"0\\n\",\n      \"0\\n\",\n      \"0\\n\",\n      \"0\\n\",\n      \"0\\n\"\n     ]\n    }\n   ],\n   \"source\": [\n    \"actlist = []\\n\",\n    \"for porfile in profiles:\\n\",\n    \"    if profile['isActive'] == True:\\n\",\n    \"        print(len(actlist))\"\n   ]\n  },\n  {\n   \"cell_type\": \"code\",\n   \"execution_count\": 35,\n   \"id\": \"e5e3d165\",\n   \"metadata\": {},\n   \"outputs\": [\n    {\n     \"name\": \"stdout\",\n     \"output_type\": \"stream\",\n     \"text\": [\n      \"10\\n\"\n     ]\n    }\n   ],\n   \"source\": [\n    \"#    - Number of inactive users\\n\",\n    \"n=0\\n\",\n    \"for profile in profiles:\\n\",\n    \"    value = profile['isActive']\\n\",\n    \"    if value == False:\\n\",\n    \"        n+=1\\n\",\n    \"print(n)\"\n   ]\n  },\n  {\n   \"cell_type\": \"code\",\n   \"execution_count\": 36,\n   \"id\": \"5b5299a9\",\n   \"metadata\": {},\n   \"outputs\": [\n    {\n     \"data\": {\n      \"text/plain\": [\n       \"52667.02\"\n      ]\n     },\n     \"execution_count\": 36,\n     \"metadata\": {},\n     \"output_type\": \"execute_result\"\n    }\n   ],\n   \"source\": [\n    \"#  - Grand total of balances for all users\\n\",\n    \"#totalbalance = 0\\n\",\n    \"#user_balances = []\\n\",\n    \"balance_ls =[]\\n\",\n    \"\\n\",\n    \"for profile in profiles:\\n\",\n    \"    value = profile['balance']\\n\",\n    \"    value = value.replace(\\\",\\\",\\\"\\\")\\n\",\n    \"    value = value.replace(\\\"$\\\",\\\"\\\")\\n\",\n    \"    value = float(value)\\n\",\n    \"    balance_ls.append(value)  \\n\",\n    \"sum(balance_ls)\\n\"\n   ]\n  },\n  {\n   \"cell_type\": \"code\",\n   \"execution_count\": 37,\n   \"id\": \"2c0bdb78\",\n   \"metadata\": {},\n   \"outputs\": [\n    {\n     \"data\": {\n      \"text/plain\": [\n       \"2771.0\"\n      ]\n     },\n     \"execution_count\": 37,\n     \"metadata\": {},\n     \"output_type\": \"execute_result\"\n    }\n   ],\n   \"source\": [\n    \"#    - Average balance per user\\n\",\n    \"\\n\",\n    \"balance_ls =[]\\n\",\n    \"\\n\",\n    \"for profile in profiles:\\n\",\n    \"    value = profile['balance']\\n\",\n    \"    value = value.replace(\\\",\\\",\\\"\\\")\\n\",\n    \"    value = value.replace(\\\"$\\\",\\\"\\\")\\n\",\n    \"    value = float(value)\\n\",\n    \"    balance_ls.append(value) \\n\",\n    \"sum(balance_ls) // len(balance_ls)\\n\"\n   ]\n  },\n  {\n   \"cell_type\": \"code\",\n   \"execution_count\": 38,\n   \"id\": \"008e50ad\",\n   \"metadata\": {},\n   \"outputs\": [\n    {\n     \"name\": \"stdout\",\n     \"output_type\": \"stream\",\n     \"text\": [\n      \"Avery Flynn\\n\"\n     ]\n    }\n   ],\n   \"source\": [\n    \"# User with the lowest balance\\n\",\n    \"\\n\",\n    \"balance_ls =[]\\n\",\n    \"\\n\",\n    \"for profile in profiles:\\n\",\n    \"    value = profile['balance']\\n\",\n    \"#  value = value.replace(\\\",\\\",\\\"\\\")\\n\",\n    \"#  value = value.replace(\\\"$\\\",\\\"\\\")\\n\",\n    \"#  value = float(value)\\n\",\n    \"    balance_ls.append(value)\\n\",\n    \"for profile in profiles:\\n\",\n    \"    if profile['balance'] == (min(balance_ls)):\\n\",\n    \"        print(profile['name'])\"\n   ]\n  },\n  {\n   \"cell_type\": \"code\",\n   \"execution_count\": null,\n   \"id\": \"d20eef7e\",\n   \"metadata\": {},\n   \"outputs\": [],\n   \"source\": []\n  },\n  {\n   \"cell_type\": \"code\",\n   \"execution_count\": null,\n   \"id\": \"c72939d0\",\n   \"metadata\": {},\n   \"outputs\": [],\n   \"source\": []\n  },\n  {\n   \"cell_type\": \"code\",\n   \"execution_count\": 39,\n   \"id\": \"f1ce6fc2\",\n   \"metadata\": {\n    \"scrolled\": true\n   },\n   \"outputs\": [],\n   \"source\": [\n    \"#     - Most common favorite fruit\\n\",\n    \"fruits = []\\n\",\n    \"for profile in profiles:\\n\",\n    \"    fruits.append(profile['favoriteFruit'])\"\n   ]\n  },\n  {\n   \"cell_type\": \"code\",\n   \"execution_count\": 40,\n   \"id\": \"4e70f524\",\n   \"metadata\": {},\n   \"outputs\": [\n    {\n     \"data\": {\n      \"text/plain\": [\n       \"{'apple', 'banana', 'strawberry'}\"\n      ]\n     },\n     \"execution_count\": 40,\n     \"metadata\": {},\n     \"output_type\": \"execute_result\"\n    }\n   ],\n   \"source\": [\n    \"set(fruits)\"\n   ]\n  },\n  {\n   \"cell_type\": \"code\",\n   \"execution_count\": 42,\n   \"id\": \"508724c0\",\n   \"metadata\": {},\n   \"outputs\": [\n    {\n     \"data\": {\n      \"text/plain\": [\n       \"'strawberry'\"\n      ]\n     },\n     \"execution_count\": 42,\n     \"metadata\": {},\n     \"output_type\": \"execute_result\"\n    }\n   ],\n   \"source\": [\n    \"#This is returning the **STRING** with the most # of characters\\n\",\n    \"max(fruits)\\n\"\n   ]\n  },\n  {\n   \"cell_type\": \"code\",\n   \"execution_count\": 43,\n   \"id\": \"b462a629\",\n   \"metadata\": {},\n   \"outputs\": [\n    {\n     \"data\": {\n      \"text/plain\": [\n       \"'strawberry'\"\n      ]\n     },\n     \"execution_count\": 43,\n     \"metadata\": {},\n     \"output_type\": \"execute_result\"\n    }\n   ],\n   \"source\": [\n    \"#This is returning the Fruit with the highest list count\\n\",\n    \"max(fruits, key=fruits.count)\"\n   ]\n  },\n  {\n   \"cell_type\": \"code\",\n   \"execution_count\": 44,\n   \"id\": \"f861975e\",\n   \"metadata\": {},\n   \"outputs\": [\n    {\n     \"data\": {\n      \"text/plain\": [\n       \"(6, 4, 9)\"\n      ]\n     },\n     \"execution_count\": 44,\n     \"metadata\": {},\n     \"output_type\": \"execute_result\"\n    }\n   ],\n   \"source\": [\n    \"#get counts for how many apples we have to double check\\n\",\n    \"fruits.count('apple'), fruits.count('banana'), fruits.count('strawberry')\"\n   ]\n  },\n  {\n   \"cell_type\": \"markdown\",\n   \"id\": \"47c9980d\",\n   \"metadata\": {},\n   \"source\": [\n    \"3.9) Least most common favorite fruit\"\n   ]\n  },\n  {\n   \"cell_type\": \"code\",\n   \"execution_count\": 45,\n   \"id\": \"9b4315f3\",\n   \"metadata\": {},\n   \"outputs\": [\n    {\n     \"data\": {\n      \"text/plain\": [\n       \"'banana'\"\n      ]\n     },\n     \"execution_count\": 45,\n     \"metadata\": {},\n     \"output_type\": \"execute_result\"\n    }\n   ],\n   \"source\": [\n    \"#This is returning the Fruit with the lowest list count\\n\",\n    \"min(fruits, key=fruits.count)\"\n   ]\n  },\n  {\n   \"cell_type\": \"markdown\",\n   \"id\": \"abd9de7b\",\n   \"metadata\": {},\n   \"source\": [\n    \"3.10) Total number of unread messages for all users\"\n   ]\n  },\n  {\n   \"cell_type\": \"code\",\n   \"execution_count\": 46,\n   \"id\": \"076b98a8\",\n   \"metadata\": {},\n   \"outputs\": [],\n   \"source\": [\n    \"#create a variable named messages that takes the greeting from profile and splits it on the space\\n\",\n    \"message = profile['greeting'].split(' ')\"\n   ]\n  },\n  {\n   \"cell_type\": \"code\",\n   \"execution_count\": 47,\n   \"id\": \"809cda13\",\n   \"metadata\": {},\n   \"outputs\": [\n    {\n     \"data\": {\n      \"text/plain\": [\n       \"['Hello,', 'Ewing', 'Larson!', 'You', 'have', '16', 'unread', 'messages.']\"\n      ]\n     },\n     \"execution_count\": 47,\n     \"metadata\": {},\n     \"output_type\": \"execute_result\"\n    }\n   ],\n   \"source\": [\n    \"#call the new variable so we can see what it looks like\\n\",\n    \"message\"\n   ]\n  },\n  {\n   \"cell_type\": \"code\",\n   \"execution_count\": 48,\n   \"id\": \"db592f23\",\n   \"metadata\": {},\n   \"outputs\": [\n    {\n     \"name\": \"stdout\",\n     \"output_type\": \"stream\",\n     \"text\": [\n      \"this is a number:  16\\n\"\n     ]\n    }\n   ],\n   \"source\": [\n    \"#here we are going to create a for loop with the new message variable we just created\\n\",\n    \"#we are saying that IF the word is a DIGIT\\n\",\n    \"#print \\\"this is a number\\\" and the number from word\\n\",\n    \"for word in message:\\n\",\n    \"    if word.isdigit():\\n\",\n    \"        print('this is a number: ', word)\"\n   ]\n  },\n  {\n   \"cell_type\": \"code\",\n   \"execution_count\": 49,\n   \"id\": \"25ed8768\",\n   \"metadata\": {},\n   \"outputs\": [\n    {\n     \"data\": {\n      \"text/plain\": [\n       \"210\"\n      ]\n     },\n     \"execution_count\": 49,\n     \"metadata\": {},\n     \"output_type\": \"execute_result\"\n    }\n   ],\n   \"source\": [\n    \"#we are starting with 0\\n\",\n    \"#using what we just learned above\\n\",\n    \"#splitting the greeting on spaces\\n\",\n    \"#if there is a digit in the greeting, we turn that into an integer\\n\",\n    \"#return the total number of unread messages for all users\\n\",\n    \"\\n\",\n    \"sum_messages = 0\\n\",\n    \"\\n\",\n    \"for profile in profiles:\\n\",\n    \"    message = profile['greeting'].split(' ')\\n\",\n    \"    for word in message:\\n\",\n    \"        if word.isdigit():\\n\",\n    \"            sum_messages = sum_messages + int(word)\\n\",\n    \"            \\n\",\n    \"sum_messages\"\n   ]\n  },\n  {\n   \"cell_type\": \"markdown\",\n   \"id\": \"4bf144a9\",\n   \"metadata\": {},\n   \"source\": [\n    \"Visual Representation of a for Loop Converted to List Comprehension\\n\",\n    \"image.png\\n\"\n   ]\n  },\n  {\n   \"attachments\": {\n    \"image.png\": {\n     \"image/png\": \"iVBORw0KGgoAAAANSUhEUgAAA/sAAAIqCAIAAAD0D81TAAAMPGlDQ1BJQ0MgUHJvZmlsZQAASImVVwdYU8kWnluSkEBoAQSkhN4EkRpASggt9N5shCRAKDEGgoodXVRw7SICNnRVRMFKsyN2FsXeFwsqyrpYsCtvUkDXfeV7k29m/vxz5j9nzp1bBgC14xyRKBdVByBPWCCODfanJ6ek0klPAQaU4U8LuHC4+SJmdHQ4gGWo/3t5dx0g0v6KvVTrn+P/tWjw+PlcAJBoiNN5+dw8iA8AgFdzReICAIhS3mxqgUiKYQVaYhggxIukOFOOq6U4XY73yGziY1kQtwOgpMLhiDMBUL0EeXohNxNqqPZD7CjkCYQAqNEh9snLm8yDOA1ia2gjgliqz0j/QSfzb5rpw5ocTuYwlq9FVpQCBPmiXM70/zMd/7vk5UqGfFjCqpIlDomVrhnm7WbO5DApVoG4T5geGQWxJsQfBDyZPcQoJUsSkiC3Rw24+SyYM6ADsSOPExAGsQHEQcLcyHAFn54hCGJDDHcIOk1QwI6HWBfiRfz8wDiFzSbx5FiFL7QxQ8xiKvizHLHMr9TXfUlOAlOh/zqLz1boY6pFWfFJEFMgNi8UJEZCrAqxQ35OXJjCZmxRFityyEYsiZXGbw5xLF8Y7C/XxwozxEGxCvvSvPyh9WKbsgTsSAXeV5AVHyLPD9bO5cjih2vBLvGFzIQhHX5+cvjQWnj8gED52rFnfGFCnELng6jAP1Y+F6eIcqMV9rgpPzdYyptC7JJfGKeYiycWwA0p18czRAXR8fI48aJsTmi0PB58OQgHLBAA6EACazqYDLKBoLOvqQ/+k48EAQ4Qg0zAB/YKZmhGkmxECNs4UAT+hIgP8ofn+ctG+aAQ8l+HWXlrDzJko4WyGTngCcR5IAzkwv8S2SzhsLdE8Bgygn9458DKhfHmwiod//f8EPudYUImXMFIhjzS1YYsiYHEAGIIMYhog+vjPrgXHg5bP1idcAbuMbSO7/aEJ4QuwkPCNUI34dYkQbH4pygjQDfUD1LkIv3HXOCWUNMV98e9oTpUxnVwfWCPu0A/TNwXenaFLEsRtzQr9J+0/7aCH66Gwo7sSEbJI8h+ZOufZ6raqroOq0hz/WN+5LGmD+ebNTzys3/WD9nnwT7sZ0tsEbYfO4OdwM5hh7EmQMeOYc1YB3ZEiod312PZ7hryFiuLJwfqCP7hb+jKSjOZ71jn2Ov4RT5WwJ8mfUYD1mTRdLEgM6uAzoRvBD6dLeQ6jKI7OTo5AyB9v8gfX29iZO8NRKfjOzf/DwC8jw0ODh76zoUeA2CvO7z9W75z1gz46lAG4GwLVyIulHO4tCHAp4QavNP0gBEwA9ZwPU7ADXgBPxAIQkEUiAcpYCKMPgvuczGYCmaCeaAElIHlYA2oBBvBFrAD7Ab7QBM4DE6A0+ACuASugTtw9/SAF6AfvAOfEQQhIVSEhughxogFYoc4IQzEBwlEwpFYJAVJQzIRISJBZiLzkTJkJVKJbEZqkb1IC3ICOYd0IbeQB0gv8hr5hGKoCqqFGqKW6GiUgTLRMDQenYBmolPQInQBuhStQGvQXWgjegK9gF5Du9EX6AAGMGVMBzPB7DEGxsKisFQsAxNjs7FSrByrweqxVnidr2DdWB/2ESfiNJyO28MdHIIn4Fx8Cj4bX4JX4jvwRrwdv4I/wPvxbwQqwYBgR/AksAnJhEzCVEIJoZywjXCQcAreSz2Ed0QiUYdoRXSH92IKMZs4g7iEuJ7YQDxO7CI+Ig6QSCQ9kh3JmxRF4pAKSCWkdaRdpGOky6Qe0gclZSVjJSelIKVUJaFSsVK50k6lo0qXlZ4qfSarky3InuQoMo88nbyMvJXcSr5I7iF/pmhQrCjelHhKNmUepYJSTzlFuUt5o6ysbKrsoRyjLFCeq1yhvEf5rPID5Y8qmiq2KiyV8SoSlaUq21WOq9xSeUOlUi2pftRUagF1KbWWepJ6n/pBlabqoMpW5anOUa1SbVS9rPpSjaxmocZUm6hWpFautl/tolqfOlndUp2lzlGfrV6l3qJ+Q31Ag6YxRiNKI09jicZOjXMazzRJmpaagZo8zQWaWzRPaj6iYTQzGovGpc2nbaWdovVoEbWstNha2VplWru1OrX6tTW1XbQTtadpV2kf0e7WwXQsddg6uTrLdPbpXNf5NMJwBHMEf8TiEfUjLo94rztS10+Xr1uq26B7TfeTHl0vUC9Hb4Vek949fVzfVj9Gf6r+Bv1T+n0jtUZ6jeSOLB25b+RtA9TA1iDWYIbBFoMOgwFDI8NgQ5HhOsOThn1GOkZ+RtlGq42OGvUa04x9jAXGq42PGT+na9OZ9Fx6Bb2d3m9iYBJiIjHZbNJp8tnUyjTBtNi0wfSeGcWMYZZhttqszazf3Ng8wnymeZ35bQuyBcMiy2KtxRmL95ZWlkmWCy2bLJ9Z6VqxrYqs6qzuWlOtfa2nWNdYX7Uh2jBscmzW21yyRW1dbbNsq2wv2qF2bnYCu/V2XaMIozxGCUfVjLphr2LPtC+0r7N/4KDjEO5Q7NDk8HK0+ejU0StGnxn9zdHVMddxq+OdMZpjQscUj2kd89rJ1onrVOV01ZnqHOQ8x7nZ+ZWLnQvfZYPLTVeaa4TrQtc2169u7m5it3q3Xndz9zT3avcbDC1GNGMJ46wHwcPfY47HYY+Pnm6eBZ77PP/ysvfK8drp9Wys1Vj+2K1jH3mbenO8N3t3+9B90nw2+XT7mvhyfGt8H/qZ+fH8tvk9Zdows5m7mC/9Hf3F/gf937M8WbNYxwOwgOCA0oDOQM3AhMDKwPtBpkGZQXVB/cGuwTOCj4cQQsJCVoTcYBuyuexadn+oe+is0PYwlbC4sMqwh+G24eLw1gg0IjRiVcTdSItIYWRTFIhiR62KuhdtFT0l+lAMMSY6pirmSeyY2JmxZ+JocZPidsa9i/ePXxZ/J8E6QZLQlqiWOD6xNvF9UkDSyqTu5NHJs5IvpOinCFKaU0mpianbUgfGBY5bM65nvOv4kvHXJ1hNmDbh3ET9ibkTj0xSm8SZtD+NkJaUtjPtCyeKU8MZSGenV6f3c1nctdwXPD/eal4v35u/kv80wztjZcazTO/MVZm9Wb5Z5Vl9ApagUvAqOyR7Y/b7nKic7TmDuUm5DXlKeWl5LUJNYY6wfbLR5GmTu0R2ohJR9xTPKWum9IvDxNvykfwJ+c0FWvBDvkNiLflF8qDQp7Cq8MPUxKn7p2lME07rmG47ffH0p0VBRb/NwGdwZ7TNNJk5b+aDWcxZm2cjs9Nnt80xm7NgTs/c4Lk75lHm5cz7vdixeGXx2/lJ81sXGC6Yu+DRL8G/1JWolohLbiz0WrhxEb5IsKhzsfPidYu/lfJKz5c5lpWXfVnCXXL+1zG/Vvw6uDRjaecyt2UblhOXC5dfX+G7YsdKjZVFKx+tiljVuJq+unT12zWT1pwrdynfuJayVrK2uyK8onmd+brl675UZlVeq/Kvaqg2qF5c/X49b/3lDX4b6jcabizb+GmTYNPNzcGbG2ssa8q3ELcUbnmyNXHrmd8Yv9Vu099Wtu3rduH27h2xO9pr3WtrdxrsXFaH1knqeneN33Vpd8Du5nr7+s0NOg1le8AeyZ7ne9P2Xt8Xtq9tP2N//QGLA9UHaQdLG5HG6Y39TVlN3c0pzV0toS1trV6tBw85HNp+2ORw1RHtI8uOUo4uODp4rOjYwHHR8b4TmScetU1qu3My+eTV9pj2zlNhp86eDjp98gzzzLGz3mcPn/M813Kecb7pgtuFxg7XjoO/u/5+sNOts/Gi+8XmSx6XWrvGdh297Hv5xJWAK6evsq9euBZ5ret6wvWbN8bf6L7Ju/nsVu6tV7cLb3++M/cu4W7pPfV75fcN7tf8YfNHQ7db95EHAQ86HsY9vPOI++jF4/zHX3oWPKE+KX9q/LT2mdOzw71BvZeej3ve80L04nNfyZ8af1a/tH554C+/vzr6k/t7XolfDb5e8kbvzfa3Lm/bBqIH7r/Le/f5fekHvQ87PjI+nvmU9Onp56lfSF8qvtp8bf0W9u3uYN7goIgj5sg+BTBY0YwMAF5vB4CaAgANns8o4+TnP1lB5GdWGQL/CcvPiLLiBkA9/H6P6YNfNzcA2LMVHr+gvtp4AKKpAMR7ANTZebgOndVk50ppIcJzwKbor+l56eDfFPmZ84e4f+6BVNUF/Nz/C18zfGsKa5wsAAAAOGVYSWZNTQAqAAAACAABh2kABAAAAAEAAAAaAAAAAAACoAIABAAAAAEAAAP7oAMABAAAAAEAAAIqAAAAACehB3oAAEAASURBVHgB7N0FnBXV38dx6dyFpbu7uxtBulFSEBBEJQwUUUKwUAwEFBUERAxAQRAUJJTu7u5cumPh+S7jc/7j3N3L3WTv3Q8vXjxnZs6cOfOe6//5nTPnnHnsMf4ggAACCCCAAAIIIIAAAggggAACCCCAAAIIIIAAAggggAACCCCAAAIIIIAAAggggAACCCCAAAIIIIAAAggggAACCCCAAAIIIIAAAggggAACCCCAAAIIIIAAAggggAACCCCAAAIIIIAAAggggAACCCCAAAIIIIAAAggggAACCCCAAAIIIIAAAggggAACCCCAAAIIIIAAAggggAACCCCAAAIIIIAAAggggAACCCCAAAIIIIAAAggggAACCCCAAAIIIIAAAggggAACCCCAAAIIIIAAAggggAACCCCAAAIIIIAAAggggAACCCCAAAIIIIAAAggggAACCCCAAAIIIIAAAggggAACCCCAAAIIIIAAAggggAACCCCAAAIIIIAAAggggAACCCCAAAIIIIAAAggggAACCCCAAAIIIIAAAggggAACCCCAAAIIIIAAAggggAACCCCAAAIIIIAAAggggAACCCCAAAIIIIAAAggggAACCCCAAAIIIIAAAggggAACCCCAAAIIIIAAAggggAACCCCAAAIIIIAAAggggAACCCCAAAIIIIAAAggggAACCCCAAAIIIIAAAggggAACCCCAAAIIIIAAAggggAACCCCAAAIIIIAAAggggAACCCCAAAIIIIAAAggggAACCCCAAAIIIIAAAggggAACCCCAAAIIIIAAAggggAACCCCAAAIIIIAAAggggAACCCCAAAIIIIAAAggggAACCCCAAAIIIIAAAggggAACCCCAAAIIIIAAAggggAACCCCAAAIIIIAAAggggAACCCCAAAIIIIAAAggggAACCCCAAAIIIIAAAggggAACCCCAAAIIIIAAAggggAACCCCAAAIIIIAAAggggAACCCCAAAIIIIAAAggggAACCCCAAAIIIIAAAggggAACCCCAAAIIIIAAAggggAACCCCAAAIIIIAAAggggAACCCCAAAIIIIAAAggggAACCCCAAAIIIIAAAggggAACCCCAAAIIIIAAAggggAACCCCAAAIIIIAAAggggAACCCCAAAIIIIAAAggggAACCCCAAAIIIIAAAggggAACCCCAAAIIIIAAAggggAACCCCAAAIIIIAAAggggAACCCCAAAIIIIAAAggggAACCCCAAAIIIIAAAggggAACCCCAAAIIIIAAAggggAACCCCAAAIIIIAAAggggAACCCCAAAIIIIAAAggggAACCCCAAAIIIIAAAggggAACCCCAAAIIIIAAAggggAACCCCAAAIIIIAAAggggAACCCCAAAIIIIAAAggggAACCCCAAAIIIIAAAggggAACCCCAAAIIIIAAAggggAACCCCAAAIIIIAAAggggAACCCCAAAIIIIAAAggggAACCCCAAAIIIIAAAggggAACCCCAAAIIIIAAAggggAACCCCAAAIIIIAAAggggAACCCCAAAIIIIAAAggggAACCCCAAAIIIIAAAggggAACCCCAAAIIIIAAAggggAACCCCAAAIIIIAAAggggAACCCCAAAIIIIAAAggggAACCCCAAAIIIIAAAggggAACCCCAAAIIIIAAAggggAACCCCAAAIIIIAAAggggAACCCCAAAIIIIAAAggggAACCCCAAAIIIIAAAggggAACCCCAAAIIIIAAAggggAACCCCAAAIIIIAAAggggAACCCCAAAIIIIAAAggggAACCCCAAAIIIIAAAggggAACCCCAAAIIIIAAAggggAACCCCAAAIIIIAAAggggAACCCCAAAIIIIAAAggggAACCCCAAAIIIIAAAggggAACCCCAAAIIIIAAAggggAACCCCAAAIIIIAAAggggAACCCCAAAIIIIAAAggggAACCCCAAAIIIIAAAggggAACCCCAAAIIIIAAAggggAACCCCAAAIIIIAAAggggAACCCCAAAIIIIAAAggggAACCCCAAAIIIIAAAggggAACCCCAAAIIIIAAAggggAACCCCAAAIIIIAAAggggAACCCCAAAIIIIAAAggggAACCCCAAAIIIIAAAggggAACCCCAAAIIIIAAAggggAACCCCAAAIIIIAAAggggAACCCCAAAIIIIAAAggggAACCCCAAAIIIIAAAggggAACCCCAAAIIIIAAAggggAACCCCAAAIIIIAAAggggAACCCCAAAIIIIAAAggggAACCCCAgC8JxPGWm0lVoFqigEzeUlvq6b0Ct68Entu2wHvrT80RQAABBBBAAAGHQHzHdozdTJQyY7L0eWJs9aiYzwjETZDYZ+6FG0EAAQQQQAABBCQQFwUEEEAAAQQQQAABBBDwYQGv6eOPsc/AL2niBAniXbh8/f79+2GtZNlC2Q+fPH/mwpWwnhjN+ePHi1s4V6acmdOcOHtx7xHV93o0VyB8l4sTJ06Af1Jz7q1bd67dvG02rUTcuHFS+v0vz+07d2+cd2RhEwEEEEAAAQQQ8G4BIv6IPr+xA9qXK5yj1nOfHD19IUxl1SqT/6s3O5wMvFS9+8fhaC2E6VoRyfxl/3ZVS+ZJlDCBVcitO3en/LH68x8XuUbPEblKVJybyj/pqon9TcnTF254Y/QMs2klsmdIPX9MH7Nz3srtXfuPMJskEEAAAQQQQAABHxAg4n9kD/H85Wt37gadv3QtJof70kmSOOGWfcfXbj905vyVisVyVSqeu0uTyrkzp3323e9jeM2tR3vu4tU5y7cpvWn3UdeHfenq9fG/LdP+NCn9mlYv7pqBPQgggAACCCCAgLcLEPE/sie4ac+xKt0+unTlxiOrgWcX7jxkosk45c81/skS//bJ89VL56tTvuD8VTvMoRibOBF4adi4OaFV7/zl6x9MnKejRfNkJuIPTYn9CCCAAAIIIODVAszcfZSPTx38QffuPcoahP3al6/dnPugy7xk/qxhP5szEEAAAQQQQAABBKJbwBf6+PNmS9eqdql82dLnyJT6xNlLuw6d2nXwpKJS14HmuTKnaVGrZKGcGbNlSH37zp19R8+O/XXJjgMnQ1RXse3rlS+UM0P61P6Xrt44eDxw//HAb2ctv3r9Voj5E8aP17ZeuYpFc+bLnuHIqfPjZi5dtmm/a84BXeprsq/Zr9pO+n2l2XRNVCias2n1EkVyB3+LQKNrJsxase/oGdds2tOjRdUcmdK8P+GPoKB7zWqWqFexcIrkSdbvOrJ43e4lG/aGeEr4diZNnFAnakhS+E7nLAQQQAABBBBAAIHoFPDuiF8LrTzfqnrPVtUTJoh/7tI1BeVZ0qXUPNrrN2/PWrrF4fhh7xbNa5ZUNKxw/MyFy7kypalfOX3dCoW6vTN52aZ9jswdG5Qf9Gwj7VSsv23/Cb+kiWqUyV+1ZN7RUxc7clqbmdKmHPnqUxoZsufwaa0PkzV9QKViuToM/HbN9kOO/I2qFE0b4Gd2Llq7y03E37tNrRdaVw+6d3//sbMaNN+qVsnGVYu+MXrmnGVbTQkmUaN0/jKFso/6edHQHk006sbaXzBnRo2/j8SIP21Aco3nUWUiMqSnW7MqL7WrbWrumtCrj2JthrnuZw8CCCCAAAIIIIBAWAW8O+J/tlmVPm1ra8nIfiN/MbG1OrYzpUlx6/Zdh8WqrQc37Dry+9KtV28Ed9Jrxcn+net1alRxwDP1GvQZbc+seH1gt4bHz1zs+f6UnYdOmUNpUia/dy/kJTjHvdVx1bYD1buP0EuG5EkS9Xu6brt65bo2rWxqZQrR2P04jwV/6rhAzgwzR/Q0+10TDSoX6fVUzR0HT/b+6OfDJ88pgxozX77R7oMXm6/fefjUucuup2jPy+3rlC2cY8jXsxeu2aUFdvSK4K9IGm0fL27c2uUKvNLh8fSp/MdM/VsNoRAr4MnOPUdOz/xns5uc97xtsJObe+EQAggggAACCCDwaAW8OOLPliGVAuKbt+60GTBOa1waR/XK66/ZNIlfF280aSXuBt0bPmlewypF82ZLrxjdagZYGYrny6Kl3Ocu32oP93Uo8OJVewn29NQF69/9dq7VHlBRI39cqIg/T9Z09jxW+kGe4GaD3ja4HjV7EsSP92rHurdu3+n14Y9HTl2w9qv98OF389/p2bRvu9r9R80wme2JmmXydRo8QdOCrZ1WU8GeIXzpacO7F82dOV68uFqEtNeHP/25cnv4yrHO0juHSHztEJGacC4CCCCAAAIIIODzAl48c7dZjRLqw574+0p7uB+mB6aR6PqelE7JnC6l/UQN+9FmvUpFsmUIsO93k544e4W9+18rwNy4dVsDYNyc4v6QBu7rVYNG4Ztw38r/54rgULtsoRyhnT74q9km3A8tTzj26xNjWk5UJ2ZOm6J8kZzJHgzlD0c5nIIAAggggAACCCAQzQJe3MefJ2taYWl8S1jJNDpF7weyZghI5Z8spV8Sna5pAPZCtuw9PnvJlsbViv01pu/aHYcXrd29YM0OR+Rtzx9i+satOxEJi7NnTK1i82dLP314D0f5GkOfOW1KvQQIce7suh1hBnGUH+Jm93e/1/4Mqf01taBDg/Ia3tNh4PiwmpiS9VLFL9n/pi+b/fZEuBty9kJII4AAAggggAACCPwn0vUuDi28owp7/qVbDdSpV7FQx4YVSuTLqnDZutnQviH16sjpK7bsf7phBfVn62//zk8s37x/5E+LQvyKU1S4aQqyir1+687N23cc5VtzAxQ0X7hy3XEoqjc1eWDAmJmaMN2yVqlX2tfp8/HU8F2xff1yGrPk5ty7QUEFWw1xk4FDCCCAAAIIIIAAAh4KeHHEr8V5dJOpUyTTOjae3O2gbg3VOX3l2s3v5qzULF4N3Tl97vLw3i2eqFjY9XQN0Zm+cIP+qje9XqXCLWqWrFIiT5mC2bsMnaRef9f8kb7HmjOglXzeGT830guPYIE//rlWEX+FYrnCXc7qbQc/+m6+m9Pv3Q95hrSbUziEAAIIIIAAAgggEKKAF0f8+4+erVQst1afdF0Px/VWS+TPaoX7tXp+cjEsn7k9fvbi+N+W6+8r7R9/rlX1rs2qRE/Ef+B4oO6iQI4MrvfyyPdcuhY8Mdr9zGP3ldRMg6iYbOD+ohxFAAEEEEAAAQRip4AXz9y1An2t7J4kUYKHPryS+YI/EPv7sq32cF8zawvlCv6ylSd/vpm5TNnyZAlh+R1PTg9rnp0HT2nNHw0oKlUgW1jPjer8FYsG9+5v/v/lgKL6cpSPAAIIIIAAAgggEBEBL474tUCkhtprLunHL7XSoHb3ChevBg95L18kh8mmlXB+fPdZ/as91kdkzaEQE5WL59b+nYdC/kBviKdEZOeV6zdH/rBQJWj1/ZyZgmcsPJI/mtOcPOl/bLWIkL42oA5+rZL0SKrERRFAAAEEEEAAAQTCJODFo3p0n2998dvEIZ3rlC80+7OMWrZS33XSx6EK5cyYP0f6lv2+si+xr9Xftb5krsxpF3zR958Ne5WnZP6sW/Ye09d2NYtUzQa7ml4aLPjipa37j2ue7r6jZ/NnT1+6YLYKRXNpDoC+PGXPGaXp7+au0ld+q5XKO2PEczMWb9p+4IR/siSqTL7s6SbMWjFrifOjwlFRmWol8455vc3uw6e1BNCZC1cK5cr4RIVCcePG/XDSPI3Fj4orUiYCCCCAAAIIIIBA5Ap4d8SvhXoa9hn9cofHn6pTRsN7LBrF5QrWteymPeLXNN8Xhv/w8Uutterl0w1Ta7F8vSJ4Y/QMLeqvsxwRf9oAP62QU7tsAf21ytSSPppEO/LHRbtsn+CN3CfhWppmD3cd9l37euX0XWFNQrAy6Jtcir+jbV7rtRu39h8P1GQJ/bUqsPvwqaHfzPFk7oTrHbEHAQQQQAABBBBAIPoF4kT/JcN3xYwVnkqWIa+bc7WcZY5MaY6duXDoxLnQsmmMinqp79+7r/5yfXM3tGzWfg340RsD/2SJAy9dPXrqQvQvhWmvntokubOkVS/7gWOBQfceUnP7iZGSFkWmtMGrhe49eub8gyWSIqXYqC5E6zitmth/677jLfqNfei1iubJ/OtHz81bub1r/xHHl0x8aH4yIIAAAggggAAC3iLg3X38duVjZy7qr32Pa/r2nbueL6ivFwieL/bveq3I3aOF8PU3csv0vLQYReF5ta2cKf2SNq1eXOnDp867Pn2/pIkbVyuqo5nTefp95bBWgPwIIIAAAggggMCjFfCdiP/ROnL1GCugFxQj+rZS9fR1BdeIP03K5G/3aBJjK0/FEEAAAQQQQACBiAsQ8Ufc0GtK0Jo/iRJ6+sQfzBbw7s9gXb52s9PgCebxnDl/xaRNQt9baP36V2bz4tXgTw3wBwEEEEAAAQQQ8CUBT+M/X7rnWHsvo19rky97eg9vv0TbYddu3vYwc8zMdudu0IotB9zXLXigFx8WcG/EUQQQQAABBBDwcgGvifhvXz4bN8F/Fob3cvlHUP2Px01L6Z/MwwtfPHXwblCQh5l9KZt+ab50O9wLAggggAACCCCAAAIIIIAAAggggAACCCCAAAIIIIAAAggggAACCHingNesxx83fpxEKbxmDJJ3/hio9aMRuHM96O6N6P7GwqO5Va6KAAIIIIAAAo9CwGti6MQp4+eoneZREHFNBKJW4OyOK2e3Xo3aa1A6AggggAACCMRigbix+N65dQQQQAABBBBAAAEEfF/AdyL+JImSlC5QvkGlZsXzlk6WJLlXPDpVOG2Ap8tlesUd2SupW9MN2veQRgABBBBAAAEEEIh+Aa8Z1eOepmCOoqNe/TZjmswmW48P2i/btNhsxsBEjVJ1xrw26WTg8Tq9yt2/H+q3ruLFjacGzO07t2/e9qaPQ8WJE+eHYbMzpcny4ohnFq+bFwP9o6dKCeInVFv0xq0bd+5698cNooeLqyCAAAIIIIBAVAj4SB//y+0GKNz/e/1fL3/Wfej4/t//MW7djlVR4RWJZZ6/fO7O3TsXrpxzE+7rcmUKVVw5fufL7d6MxEtHQ1G6qcCLZ+8G3b105UI0XC7GXuKpOk/r8TWv/mSMrSEVQwABBBBAAAGfF/CRPn6FxRevnO814pl7971mzZMt+zbUer7UpasXffVH1mFQkxTJU6ph46s3yH0hgAACCCCAAAJeIeALffwp/VIljJ9Qw2O8KNy3fhyKhoPu+ex3bXVrhPte8b8CVBIBBBBAAAEEfFvAi/v482cr1KFBNz2eZImT6d+0ARmGPfeJeVoDx75s0iaRI2PutnU7FcxZNF1Ahr1Hdm7cs27yH+NCHGCdN2uBpxt2X7N9+eylv5TIV6ZxlZYVilQ5cGLfht1rfl3046Vr4e+Yf/3pIcmT+psq7T68Q2OQzKY90e6JZx5UNXhqb4UiVc3dnb8U+OmP79lzmvTj5eo/Xq5B4ZzFrt28tnXfxvGzxpw6d8IcVSJ35rydG/dcvvnvDbvWPN/q5QI5ioz/bfRfa+ZmSZft+Vav6MSxv372x8rf7KeEKa3JCbXL1befMmLy0BC5GlVuUb5olSl/frvr0LbGVVtWLVGraO6SZy+enrVk+vRFU+wlhDvdrPqTZQtV0qNMntRPj1vU63etXr19uaNAzZSoWaZurTL1cmTMpR/GyXPH1+1Y+fXMzzX43pFTm+3rdS2Qo/Conz/UyxlVu275hulSZdiwe60mjSxa96c9f982b6ROmTZP5nza2aRa66J5S1lHdx3cNmXet/ac9nTTpk27du36+eefL1iwwL6fNAIIIIAAAgggEG4Br/kCV9I0CRzr8Vcv9fgXr30X2p0XbpPJcUjL+Azp/pGaB2fOn1JUlz97ocQJk2w/sOWlT589fvaoI3OVEjW/6j/l57++m7dq9tcDfowf79+mkcYO1Xy+9O07txz5Pd/8e+ymtCnTmfyae/DCR53Mpj3x+Svja5f9T/RsHT1y6lD9vpXsOZVOEC/BG8+889TjHW/dvrn36O6kiZPmypxXtX155HOrty0zmdVyGP/Wzz/On1gsTyn/ZCmyps+u/K3eqPvZS+MTJkioTU0tqN6jeIgxuinETeK5Fn17PfmaPUPtF8o4Wh3W0QGd32lfr8sbY3rXLltPrZTjZ46qAtbKRe9OePOHeRPshYQ1rRt597lPSxesoPcMh08euHztUt5sBfXo1cB4b+Jb9tKUc/Lbv+mJXLtxdf+xPQkSJMydJZ9eGe07urtl/zqah2DPrPSYfpNqlK7TrF+tHs371K/U1BydMPvLEVOGmU0l5n62PHuGnPY9VnrR2j97fdzFvt++Hv+hQ4eyZ8++adOmkiVL2vOQRgABBBBAAAEEwi3gxX38/2xYUKxdVt155rRZ/xi5Qr3vnd9uGRqEwrgPXhyl7nyzdIxCZDUA1A08os/Ytm81DPHEzOmyftL3q6WbFk38fax6iBUlKyqNSLivq9TqWUrr2CiRP3vhae//p1fYUYc+n3SLGyeuYvSvB/ygCPiDSYOsDCHO9NXrDoX7q7Yte330i4EXzyinup+H9xrz4Ytj1Dy4fvOavfAWNdpMmvPVyJ+HW/HrT+/M/WL6x3rdMWHgNEXJFYpWVTvHnt/z9FczRn4zc5SV/7shM/R6xP25g58drgZMy9fr7Dq8XU+kXb1nXus45JnGPSMS8SdMkEittewZc81ZPuOdbwco3FcdZJ4tQ06Hg/YfO3Pkr9Vz/lw5S93/VlWzpc8x9o0pebLmb1Wr/U9/TQqx/l2bvqCGykeT356/Zk6cx+KUK1x51daljpyNXqqqi3ao31V3pNnk0xf+++LC/dizn376qXfv3j///LOjNDYRQAABBBBAAIFwC3j3OH714Orv3XvBHbGKg61N61+HyCvt3tLgjY8mDzUrRd4JuvPml3237N1QLE/JJyo0duS3NqsUr7lo/fzeI7qs27nqyvXLy7f8vXj9/BBzer5TAd+/9XTpP3YUYt2R6925howpkgeoy/ncpcCXP+1uhfsqav7qORNmfZkmZdpnGvV0lHzk9KHR00Zo56a96/Xv7iM7Js75SrXasn+TNjWyxZHf8037UwixZeIoau32le0HNla4r/16IpPmfH32wmmt6akVLR05Pd98rnlfhftqtLw26gUr3Ne5qow6+1W4oxzt1ysFE+7raDDO1I+UKJE/1OZK7TL1nxveUWgnzh7TC6IZf/+kt0aOkv//QQdPJb9/7/8f+r0g9yz9+/f39/f/4IMPHKWxiQACCCCAAAIIhFvAuyN+D287aeJkGgKk4G/G386u04lzxqqQhpWbhVjUzoNbh3zdzzXCDjHzI9xZqWg1v6T+/2xc4BiNM3/176pVmYIVHHXbtn+z4nvtPHn2mP7dsnejlcHaTJYkeF5E9PyZuvD767eu2691IjC4SmlsA5/sRz1JP/l4B0XVH30/1JPMIebZcXCr9uvdUYhHtXPElKH2sVKhZQvf/rt3nUOJwlcOZyGAAAIIIIAAApaAF4/q8fwRajiHMu87tvvWnZuOs7Y+6NW2MjgOaXPLvo1WZOx6KEbtyZYhh+qjuP/Hd+bYKxY/XjxtakKqfac97QC5FYH5CfZiI5K25svGiRPOtmiAX6oA/9RqNmjtprBWI3kSv5yZ86RPlSFLuuw6N2H8RKGVoHnPoR1iPwIIIIAAAgggENMEYkXEnyVdcGft6XMnXfWtnZnTZnM95EV7rN7oazeuaRquvdqaX7x2x8qY/47CXucIpnNmyqMSjp0+4nk5qVOkafdEF83oyJD639ne7gfeeF4yORFAAAEEEEAAgZggECsi/guXz8taS9O4ivs92HnxanAG7/1z7tJZVf7XxT9oZLn33kWk1Pzc5UCVkypFGg9LS58q45Shs/TBZo3g0rTjvUd2aUS+Iv5FXwTPcOAPAggggAACCCDgAwKxIuLXXEw9Ki3G7/rAcj7YeeTkQddDXrRHHwpQbfNlL+RFdY6iqh49dej23dtaFlNzf0NcUN9x3ZfaDlC4P23h90O++d+iour1d2RjEwEEEEAAAQQQ8F6BcI6W9q4b1gotGtWtpTbLF6niqPmTj3fUns17Nzj2x6DN+/dVmVT+qd1UafOe9Vo5vn7FJlpd3k222HBIQ5g27l6bIH6C7s16e3K/xR58GMuxGGi1ko97cq4neawBQppa4Elm8iCAAAIIIIAAAlEhECsifsGNmvqh/n294xDN7DSOWsCnQeVm+niqtWKP2R+jEvoMrepTsWjw4u6hVUwvMfRtKa1Dr9X3I7LKTWjle9f+9ya8pe+IdW70nD7r+9Ca6+krT/nC/2sKtqnTaWj34KVL9RWzh57+0AyBDx5f5eI1HprTylCpUqVRo0bx+S0PuciGAAIIIIAAAp4IxIpRPYKYtXR6oyotKhWrrtVsfl/2q9ZQL5GvdLPqTymM/nDyELNquydk0Zzn6KnDp8+f1HDzH4b9/vvSX7TSfMn8ZfRV3QFf9LHXZPS0j0oXKK8e61+HL5i99Jc9R3ZoWX19RipftoL6yqzm79oz+3ZaizJpac7XOg4e3mt0wyrN9S2F85cC9c3dAjkK7z266/2JA+23L1J9kOHVDgMVlOtFULWStUT9wXeDX2j1Svr/n8hrzx/WtF4faZSRHs2Xr09esnFhoZxF9VWy35ZMG/fb6BCLmjhxYt68ecuVK1e+fPkQM7ATAQQQQAABBBAIq0Bsifg1uKLH++1faP1q50Y9erZ8yWI6evqwPsJl//pSWPmiIb++S/XW2JeHvzhagan+6opqAMxf9Z9VOLVTX5NtN7CRvsOlvm3do1Wxazev7T68PX68BNFQzxh1iSl/jtdjHdxtuL6hVq1kbatuh08d3L5/s6OeU+Z9mzFtlk4NulctUVOHtKynmlJqH7as2VaNpWRJkl+7cdVxSpg2T507oXcO/Tu9rWpYNTlwfK+blUNXrVqliH/lyljUQguTJ5kRQAABBBBAIBwCoQ4UCUdZUXpK0jQJctSOhPmUcePEzZkpd7pUGfce2Rn4YImbKK12ZBWueai5M+fTp8S0ksyxM0fcLx+pxTo1TVnvMQ6fOuA+Z2RVL8aWkzhhklyZ8/ol89dSPG7e5KQNSJ8nS/5DJ/a7fjo3Um5N60SpfBWlFoXaAI4yz+64cnbr/9oVGTJkOHXqlCMPmwgggAACCCCAQLgFYl3EH24pTkQgigQcEX8UXYViEUAAAQQQQCDWCsSWmbux9gFz4wgggAACCCCAAAKxXICIP5b/ALh9BBBAAAEEEEAAAR8XIOL38QfM7SGAAAIIIIAAAgjEcgEi/lj+A+D2EUAAAQQQQAABBHxcwGtm7sZNECdxQKxbZdLHf33c3gOBO9eC9BcMBBBAAAEEEEAAAQQQQAABBBBAAAEEEEAgzAJe08cf5juLyhMaVUmTNHG8qLwCZSMQrQJTF5yO1utxMQQQQAABBBCIRoHY8s3dyCXNmi6xf3LoIheV0hBAAAEEEEAAAQSiRICO6vCwli3onyhhyJOes+QsliBh4hvXLnlSbup02XPmK5c2U+57QUE3r1/25BRP8sSLlyBP4SpXL50NCrrjSf6YnydN+pz5ilZL6hdw+eKZ+/f+N+Q9brz4SZMH3L9/755tZzhuxy9lutwFK2bMVjBu3HjXrpx/7LH74SgkJp+i+8qSq3iOvGVu3bh688YV16ou33zRdSd7EEAAAQQQQMA3BOiojsznmDFrwReH/Hb71vV3e5e/dfOq+6IbtRtYue4zceL8O7DqxOEdnw9q6P4UD4/Wbfly9YbPbVn9+w9f9HJzSvwECRMkSHz71o0Y3jCo2fiFui1fsaCkNOHjzlcunbXuq/6Tr8vw0wF1z5484OZO3Rxq0GZAyYrN/FKmNXlOHds9c9LAQ3vWmj3enqhar1udFi8lTJTUupEzJ/ZP+rTruTOHvf2+qD8CCCCAAAIIeChAxO8hlEfZbly/rAD6xrXLd+/ccn9C5hxFqzzR5erlcyv+mnTm5L50GXOfP3PE/SmeH1VHuDKbsDi0E6s37Fmned8fxvTasub30PI88v3qmX6i1at7ty/74+cP9OKiwVP9n2j92vRx/VQx/4AMFWp1XL/sl3CH+yokcRK/s6cOrFr0/YXAY8n8UhUt2yBbnpLdXps8anCT08f3PPLbj3gF9DNr2PZNvbhYt2SaovxcBSsULlW3+xs/ff1B23OnD0W8fEpAAAEEEEAAgZgvQMQfmc/o4rnj779U8c7tmw/tNdcYEl14ydyvl/zxdWTW4EFZy+dP2Lp27uULvjAXs0SFJrqnxbNGnzi8XX/L12xXrFwDK+J/vFkfvSBZMOOziADOmDjg/v3/jeFZ+ue4tj0/L16hceMOg8cNbx+RkmPCuSlTZWrY9i29dBr/YccTR3aoSvpt1G35aq0mLzRsM+C7kd1jQiWpAwIIIIAAAghEtUDIg9Gj+qo+XL5G8D+0g1+3r4Hj+vd84NEoovCNcF84AWmz6F8N5rGgTh7ZodEpSZOl1Mj+MtVar1z4/aXzJyNiaA/3rXIWzhqlRNZcxSNSbAw5t1SVlhoNpfdIVrhv1Wr+LyP0/id/8Zp+Kf43limGVJhqIIAAAggggEBUCNDHHwmqtZq8mCptNlPQxfMnQut4rtn4+dTpcihn9nyl9W/5Gm0LFKtpnbhz08Lt6+dZ6XD8qxEp9Z/sbz9R3fy7t/xt32PSjdsPSpQ4eabshbWnfK32mhRrHTq0d926JVNNNpOIEydupTqdNCAkQ5YCFwOPH9y9+u85Yx0Nm0Il6xQqVWfFXxPjxk8gEM0enjftQwWaOfOX02aiJMlnTHjz5NGdpkwPE9cun1POVGmzWjFrQNqsQXfvaPRUs07D7ty6sXj2GA/L8TzblQfvRtSu0F/1jnt+YgzMWbpqK9Vq16ZFjrrt3vy32kslK7dYMvcrxyFtqpHw4Ycfpk+fvl+/fqdP+8KbItd7ZA8CCCCAAAKxSoCIPxIed8EStbPmLmEKOnlkZ2gRf4EStbPnKWVy5i1S1aTV7RqRiF8htWI4U5oSGp4eWsRfomJTtRCszLkLVnhMfx/8iRM3jmvEnzxFmnbPj85VoLzmJ5w5sTdtxly5C1UsUqbepM+6XQg8bp2ofzNlL6QKaOx7tQbdFZSnTJ0pRaoMP499qUOvL7XpH5C+dfcRnw8M89TkAztXlavRVrHpqeN7NDE6Q5b8h3av1aI6Rcs1XDhz5PWrF0wFIithNYR0I+EO99WaGjhmvfv6aHKwRZ0uc97eQx8yj2LiJ133bV/mvkDXo2qxpE6XLSjo7uF9GxxH1bTTw8qQJZ9jv7VZsWLFV199VektW7aMGDEixDzsRAABBBBAAAEvEiDij4SH9cWw4LETKihJshQDR7sL9ca+09rK2bzzu2WrP6VIbs/Wf6waaInJiFRFE38HPJPHKqFC7Y5NOgx2U9o7vcqqGrWb9a7dtPePX/beumaumzq06Pyewn2NDJn783t379zWiRoIrpcVzTu/9+2ITo6raFGdKaOfP7RnXd93/1R0/mz/HzRY/MyJfa9+uDhTtkKK+8M63Gjz6tllq7epWq9ryUrNkvun1uKSf0z9oF7rfor1l/w5znH1SNnM9qBJplsId2maxbFx+Qz3p5tZs1qV9aGZL18MT0e7NXJMw8ysn5aWMU2TPseR/RtVMaulZGVwrefmzZu3bduWJk2ahQsXuh5lDwIIIIAAAgh4nQARfyQ8MkVU1uTPe0F33RdnclpB2L37QRFcSN5+OVOUfcV6ewaTtqqhRey1R3U3J5oMJpEzf3mN1dm/c9Ws74dYOzXwfd70jxQWayyQFs9x9D1vWvnbrs2LlfP0sT3q5l/7z0/WMpeBpw5ky13SL0W6sEb8utz4jzqqm18fOlDgu2HZr4pT8xWt/vsPw27fvGZVKXL/1RsbFRiR9y0a7/TLt/8ZYeWmhgLxPLObclwP+T+YK3LjevCnIdJlyqM3CfETJNqwfMbUr1/W6xrt9E8RPJnE9c+1a9eKFi0aL168oKD/ffrANRt7EEAAAQQQQMBbBIj4veVJPZp6Fi3XQBfeuPxXx+W3rftDw4E0Rt8R8ZsBJBfOBQ/4sXqUldDof0X8iZIkc5TjyaYaJFo90+Rs/exHF8+d0JxdsycSEyUrNdfqnHrpsXfb0kgs9pEUpTdOuu6tG8HtIrWRFO4rUbh0Xb2luX0reGeS5Cn1b2h/CPdDk2E/AggggAACXidAxO91jyxaK5wmfXZdT0PztSym/cJWNJk2Q077TnvaMa/3zsM+UGA/101aHfDZ85aePu61RImTVW/4cobM+c+dPbJi/sTA0wfdnOXhocRJ/Rq2HaD+79++H+zhKaFl07KYoR2y9l+/dtGaJ6DPBofW125KuHolUOOpzKaHietXgic5JE6SXP9qXrg+a6CvQasxo9cm0tPO68FfF+YPAggggAACCPi+ABG/7z/jiNxhQJrgxTFvXr9y9+5/vil25+JNjbF56Ee+InJp13PVOa2wVZ+M3bFxQe+hs1Omznz6+N58xaqXqtz8i6EtNFvA9ZQw7Wn29DvJ/dPoQ8VXLwWG6URHZs3c7f/pcsdOx+Yv376hIU/amTZDrpfee8gaTeM/6rR32xJHCQ/dvHwp+ENsVttM0wbef6mSPvSmObtmZzQ/vodWmAwIIIAAAgggEEUCRPxRBOsjxV65FJg2Y+7ZU4YePbDpkd9S8QpNMmQt8P3o5yvXfUbh/tSvX92w/BeNLOox4Gd9jUuRekRqqCVES1Rs8teMz7asfsjKOQ+9it5v/DF1uPtsxw5stjIo7H5oZs2CcF9aiEevPPj0cuKk/nHjxtPIKM3WtcJ9ZU7ml1r/Wt9mDvFcdiKAAAIIIICALwkQ8fvS04z8ezl7cr8W6lGc/cgjfo1+qdPi5WMHt2xb+0fF2k9raMqODfN1wwd3r7l25by1wE64779Y+UYqfP2y6VrxM9yFmBO1Vs8/c8aaTfcJBeKeZ3ZflOOovv2sFVr1DkHjoKRkP6pmkjaFad9JGgEEEEAAAQR8VYBv7vrqk/Xgvh4sMJTM/9+F+UM8wVppp1qDZ/VFrRAzRNvOctWf0uryf077SFdMmizFrZtXb964Yl390oVT1tiV8FVGTZonu3+8Z+uSX8Z7usBO+C4U/Wet/Sf4e2rW6kPm6ury11Cou3dvb145y+wkgQACCCCAAAI+LEDE78MP9yG3Zg3qMB/cDTH3xhUztd6O+ombP/NevPgJQ8wTDTs15bRW0977dqywlgY6f/Zo4iR+qdPn0KW1BE36zPn0OYLwVUPnPt3n61NHd+kzAm5WKQ1f4Y/8rPVLp+vzZxUf72T/Qlyj9oOSJQ/YuWGBZg+HVsNevXoNGzbM398/tAzsRwABBBBAAAEvEmBUjxc9rEiuqvrvtSR//mI1O/Qau3/nCi14r+8BL/1z3OrFP9iv9OuEAV1f/a5M1VZZchbdtu5PxdYKtTNkza8l3j8f2OjO7Rv2zFGUrlyns1aXnzyyh1X+uqXTtMpk045Dlsz9plSVlvHixV+/7JdwXFojhbq8OlEj3ePEjdexz1eOEhbPHqMv/jp2etfmtSvnNEW4VbcPu746SdOdz505krtgRb3TCDx10HxgwfWOypYt+/nnn2t/YGDgyJGRMMzJ9RLsQQABBBBAAIHoFCDij07tmHUtjdH/4+f3n2jdr0iZJ/RXlTt5ZKfr+i3q//5kQJ2mHd8uUra+Jsha93D18rkTh7cn80t18cG6+1F6Y1o0s1rD57avn2/mEuzcuODv37+s0ainlpnXpfXZr5ULJ4ejDvHjJ0yRKqNOzJy9sOvp65YED4nx9j+a3Hzv3t36T/YvVbmF7iUo6K5aeprl7PqgzZ3u37//7Nmzfn5+GzcGf6CXPwgggAACCCDg7QJxvP0GHkn9e7bI4p/cRxpLSZMHpM+cV4HghcBj1uouoZGqR1zDe/wD0p8+viesn84NrcyI7PcPyKCa653DuTOHI1JOLDk3VdqsKdNkPnZgi/UdAMddD//ukH1PokSJkiRJcvFiqMN+7JlJI4AAAggggEAMFyDiD88D8qWIPzz3zzk+J+CI+H3u/rghBBBAAAEEYrUAM3dj9ePn5hFAAAEEEEAAAQR8XoCI3+cfMTeIAAIIIIAAAgggEKsFiPhj9ePn5hFAAAEEEEAAAQR8XoCI3+cfMTeIAAIIIIAAAgggEKsFfGTBmWh+hsfP3rp49U40X5TLIYAAAggggAACCCCAAAIIIIAAAggggAACCCDwHwFW5/wPR2zeSBk/bpK4jPKKzT8B7t3XBK4F3bscdM/X7or7QQABBBAIuwCjesJu5qNnlEuRNH+yRD56c9wWArFRYPOVG0suXI+Nd849I4AAAgj8V4A+3f96sIUAAggggAACCCCAgG8JEPH71vP00btJ7OeXPHWauPHiheP+cpYuG5A5SzhOjOZTdHdZixYv2+LJvJWq+qVJG81X96XLxU+YUL+WhEmTeXJTSVKkSOLv7z5n0hQp81WpFifGj3lLnS27+xvhKAIIIIBArBUg4o+1j96bbrzjp1+8t2FXpoKFw1rpXGUrvPTrH6/NXawoMKznRmf+Dp+M+XD7wX6/L9Sd9vpxxtDVW1u/86ECzeisg89cq1CtOvq1NO735kPvyD9dhj7Tfq//0uvuc3b/9ocXp/xa9eku7rOpjaH2g/s8UXc0XoIE+qk3H/RO1F2CkhFAAAEEvFeAiN97nx01f7jA9YsX7ty6pX+D7sTo1VQTJU12fMf2v74c+fOAVzf8PvPWtatVO3Z5dtzkuPGZafPwpxy+HOoRf+nXuZJfOHaU+xIunT51//79K4GB7rM9+813w7fsT5E+g/tsUXRUv/CZ7wyq0aWHWo9x4rAkQxQxUywCCCDgrQLEE9765Ki3JwKn9u4eVL6oAmhFbJ7kf1R5xj/X2Vx6+ZSJCZMkfWXWX7nLVSzX4slVU38wh0hEloCaUl2+nJAoWbJPmj6hgN59sROe7+KfLv3lM6fdZ3vkR9fNnJ40IKDVkPdP7N656KvRj7w+VAABBBBAIOYI0Mcfc54FNYkSgWsXzt+9fTtKio6yQm/fuL5uxlQVn6NU2Si7SKwuuH6fflmLFFOneOCRQ55AxPxw37qLJRO+2bNiacNX3siQN78n90UeBBBAAIFYIkAffyx50BG9zbQ5c1du93TG/AXT5cpz6dTJ4zu3Hd+5feOc325cuuQoOk22HOWfbKdwKk2OnPfuBp3ev3fhV6MObVjnyGZtqjQNX9GM1ZQZM928euX0/n1n9u/9Z8LXV8+fCzG/prdWavt0/qo1shQqcu7YkSUTv9kyb65rzkb93lSnrNl/5sD+BV+ONJuuiRylylR4sr2qoeH+RzZvXDJp3NGtm12zaU+1Z57NUqjonBHvXb94sUyL1iUaNNEojoPrVu/4e9HW+SHUJMRCPNmZKFlyZQu6EwltlXS585Zv3UbV1hO5e+uW3nv89cXIY9u2OKpR4an2ucqUXzB21K2rV6p0eCZXuQr+adPpwYWoUfu5Xulz5531wVBNNqjYpoPmS6i/XA4LvxoTePigo2RrM0vhopXbdxJywiTJjmzZuPyHSQfXrXHN2eaDT29dvzZj6Ft+adOpGnkqVNJv48SO7bOGDzt7cL9r/oz5ClTv0iNn6XI3Ll86tGHt4nFfuuZx7EmbI1edF/oeWLdmzS8/Ow6ZzZxlylV8qoPZVGL+6E9DvDXVs/FrbylDhrz59G/zgcNu37hhnbh62o/716y00vZ/hVarx4vZi5fUfywn9uzc9tefK3/63p5B6VrdX1DUPn3wG4VrPl6jW089tdnDh109F1iuVZtqnbvpvcT3L7/g+l+fTpz6Zr8BC5Y/9d6Ika0bO8pkEwEEEEAg1goQ8cfaRx+GG1fw0eCV/gkTJ7l28cLpvXsU4+YqW17jhjf+PtNRSquhH1R9uquG0Jw7ckhBSbqcuYvXa1i0bv2JL3TdNHe2I7Nil/YjRmnM8Y3Ll49u3ZQgSdJCNWoVefyJ+WM+c+S0NhWAthz8rsa6nN63R1Mk82Wrmq9S1a+7dti24E9Hfl00fZ7g8Mv6s3/tKjcRv+6u8esDVQ01ThQQa7WcUk1aTB/0umsQptIKVKmhGiqsVGBXqnFzq/xM+QvevHo1EiN+RYSlmgQXvvnPOdYlwv2vRnWXa/nUvaAgRauX9URy5SnZsGnxeo3Gdm6za8lie7F5yldSTkXV1To/q8WCjm7bnDxV6vKt25Zo0Pib7k/vWbbEnrlQjdp5K1Y5tmNrw1cGqJl0fMe2gExZMrUvWOyJhl8+/eSx7VvtmZWu1K5TyyHvaXbp2QP7FNCXbtpSf397b8jf48c6cuqKei2z+Y/fu3wxPlmq1Cd2bk+dJVva7DnzVa72dtXSmpJhz686Pzvuey22c/3SxdvXryn017Nb9fMUex7XdIWn2qnpuOKHSa6HzB5dscKT7cymEit//j7EiD+Jn789p/lV6JSD69e4RvzZipXs8uW3qbJkvXT65LkjR/KUr1z08XqFatb5rnePO7dumisWrF4rf5XqB9atbvrGYC0TlLNUmftBQfolazNB4sTZipZQR/70Qf1NfpM4c2DfvtUr9J+GWnqPbXK260w2EggggAACsUqAiD9WPe7w3GyVjl2avfm2wvfx3Tvt/GeRVYRirNTZcihSd5S4f80qBRxrZ0yzeh8VqSguqfviS83eHOqI+LV+YrsPR2qwxLjuTx/etMGUo775Ozf/7SI1O61El7ETlHNotbIKvDTSvX7ffupprv3ci64R/3t1qliTF1NlzjpoacivF6wyC1SrqbtTrP9tzy4nd+/UzmzFS3YfP+XJd0fsX7taLxwcdbA2H+/Zu2jdBjPeGbT5j9mPxYmTr2KV3cv+CTFnWHdKTKGeWiDq/V0ycdye5f+Js8NamvJrjIc6szfM+kVtEm1q/HrzN4dW79JdLZb361RxLVCXXjr5298/etd6gk0HDKnd48WOn4wZXKnkvbt3Hfk1ZHzuJx8s+uZLRduKobXQkOL4tsM/+6hRbXvOHCVLt3n/43NHj0x4vqt693VIL4t6TPhRdTiwdrW1x54/WUCqXj/NXPzNF5rKrGpocVWVrOBeb5n0dsLkVEuj06iv9VNUA0zjc9TOVDuw6RtD6vV51eRxTUjYagJtX/SX61GzR93/GhZvbT79+VelGjUzhxwJ/eD75kqvnc9PnqZmyeCKxc3EADW0HJkTJErc7Zvv1KD64bU+VsskcfLknUePUxu1Vo8X5n3+sSN/g5f7f9T4cU0vfmP+Ur06y1Ox8gf1qqfPlaf31FmFa9aZ/lgIEb9K2DJ/riL+Cq3b/kXE7wBlEwEEEIitAozjj61P3rP7Vne+QkB1549q08yE+zpVsb7rsBDtV6+/4lQz2OD+vXtzPn7/3JHD6tFMmSGj/ZoKrBUjKli3h/vK4GbA9MbZM8e0b2n1s2qk+9xPPwy6ezfE8cq6roIt/Q0Kcgap9jqoVaBwX9kUiVrhvo5qVM8vg9+IFz9+k9eDh2qE+KfYEw2+eqatQtLzx46eP3pEk2svnDgeYs4w7ew5edone088N/Gn5KlSfde35/TBIcdzYSpzzfSf1Jlthfs6UVH7zPcGXz57RoNhFGu6FqVId9pbr5knqG74w5s3pEifsXSTFq6Z54365M+RIxTuB5ccFDT5pecvnDyhcTt5KlS2Z2721jBtftf3ORPcS/un1/vKv+mAwfacJv3ja300ZMiqxoXjxxZ/86UOOZ51uVZt9ftUm2HGsIHWzGzl//mNl/V+wJTjmshUoJBuR208vUlwPWrfY/2E9K9+Tvb9rmkrp1UHc5YSrjlrPttT/yEs+PJz8yJCj2ZSnx4axqZmpJo6jlPU9NIPTFwa86bf5Mxhg66cPXNww1r9wP1DXxTIGi5VsMZ/2l2OktlEAAEEEIhVAkT8sepxh/lmNUYiiZ/fih+/U0dmmE9+cIKiJQ36VzJVlmz2EgIPH9Jmkcfrpc+T177fTfqfid/Yu5n1KuDqubPJUgZorIibs9wc0qUV/2loyoldO+zZ1EWqtkTu8pXsO+3p394dEvHed3uBVlpDVnRHChwVkqqPNorW41f77dSeXbqi44lYdVg9/SdHxVb8OFl7NMLEsV+bGqdu36kYd82DPfbMWvM+V5lyZw8fdIza37X07xtXrmj8vTrd7YUorVjcMcJecza03z43Q5uFa9fRv0u+G69/zR/prZ05zWy6JvTaRzsVN7seioY9GlKlqzjuTg0V/ZzUka/GkqMOZgLM+ePHdOjQxuAXVnqCV86eTpAoUWiLt14JPKts1p06CmQTAQQQQCB2CjCqJ3Y+d0/v2upV1fgWT0/4/3wK4zQuJU32HBq9o5hPu+MnSvT/B4P/rwbMaO5m5XadBixYoVhw28J5W+b/EdooGvuJ9rQ1RdIawGPf72E6TfZcypk6a/ZXfpvvPOX+fbUlkqYMcAwct7JpOLUzf2RsT+rVXcVoyMcTvV7R7MzCteqMbtfCvHyI4BX0RiVN9pxahF6j862+5PgJ//NEQiv/5IPmkN7ShJbBvt9qO6WyfeQ4bY6cypA8ILUrcvwECTQyR8P0H7pgzp0Hc2EdD1oPTiUf3+GcM2Cvj2s6IEsW7bxyLtD1UDTs0eRpXeXpkV8+dv8/VwvIlFnb6XLldkyuMJnu2ob4a6e+MmEOuSY0wVc7Nd4pqZ/fYxeuu2ZgDwIIIIBAbBMg4o9tTzxs96sRwzpB03A9P03d9jW6dM9Zprz6IK2zrNEOriVMHfDq/tUra3TtoXnA+tuk/6C9K5dplIj+dc0cFXtSZQ2OYm9fv37bZebAgfXBy8ho3EuIEX9UVMaUqQ5ajefReKSaXZ9r9tbQLzu2NofCkVCUXLxB4+qdn81Rsox5GRLaEwmx/EsP1qHXtOkQjzp2/pvZtlCS1VTQKCxX5EOb1ut0zUN1FOLhZooHVzGD5j08K1684P/Re+hAHQ9LC1M2NbTUka9g3SzmY04/fWCf/t65edPsiUhCY36s0+PHD+frr4hcnXMRQAABBGKgABF/DHwoMahKVleoX+q0Htap8etv1Xm+r754tWLKJE1mDTxy8OKpky0Hv6cFWFxLUNypyZH6q+UXtXqMlu7R8i8a5vHNsx13/r3QNX+k77lyNnjwgxoYWugw0guPYIHLv5+oiD9PuYp6WxKR8LTl2+9X69RN8y605umelcs0mEqLq3b4eHTx+o08rKHedSinh53i/2Z+MKrEKt8aYaIR/N906+jhFT3Mpo/gKobW2KebV654eIqyXThxTP/qRYrnp0RWTi0oZH0aYnTb5hF5pg+tj17jKI/WRLr8sLkKDy2KDAgggAACviFAxO8bzzGq7kLrYD72WMPMhYto1M1Dr6EhQAr31U/5Ts0KYep5vXjyhOJR/a3zfB9NFNYUxuiJ+DV9UzelofwPvbXoz6DoUBfVBOSIXFrfGbDCfdd1LT0vVkOzlFlzlD055d/MDwadW/n/Rc4f+ciK3bUEvsb2eFg3qz7njwVH/Bps5sntRG4eRflnDx3MmC+/Ru+c3hf824uiP9bdXTh+PIrKp1gEEEAAAa8TcM6Z87oboMJRKrBv1XKVX6NLD617+NALKb5Uni3z5tjDffXCZite6qHnWhkWjx+rWYmOJVk8PDcc2TQdWV3X+jJUoZqPh+P0KD1FM3dV/pEtmyLSGayRPCpkw+xf7WOTNP9Vtxxa5fW1Acehsi2f0h4zhdR+1DWzFr4Mzrx+rcmmlXY061TzB7Rwp9kZKYlDG4MHBbkuIpS3QhU35Z/YvUOtKX2XIGHSZG6yheOQNVbKfVviwNqVKrnuiy9NgFKmAABAAElEQVSHo3zPT9G3vZR5/5oVnp9CTgQQQAAB3xYg4vft5xvRu9OCKvoIlKJ2LRmuaazui7PCylzlKmqSqJVTCxH2njpbnZra1Ahm96frqNZc11hzfc7poTkjJYO+t6XVJ1WUVt/PVLBwpJQZjkK04opjWR61eTQaR0X9PW6smwLLNG/9zBfj9UWn0PJYT8S+VqYi7z7Tf9e/OkVfyXU9UUOJ9A0ys79onfqFa9VViOxYlsfKoNX681WpZjLr0w2ZCxU5c3D/9kX/mQn9y5ABytNi0DvZS3ja9jNlukksnzJJ7cMyzVtppVeTTZ9o0KRns+ma0ENf/9svmmSiz725Ho3IHmthWX1OwU0hcz7+4PqlS2Wbt9aH6txki+AhqyWmRWMjWA6nI4AAAgj4jACjenzmUUbVjejrsxny5C1YrWb/eUu03P7xnds1iVOBXZZCRUa1bW5fPl8D4vUZ0YCMmQYtWadRQFrxPVfZClpqRh9Iqtmtpwbr26uoVsHgZRu0tIsWHDyxa6eGZ+QqU14fMApeaP/j4GA3ev5ouXotiaM1E1+ZOW/NLz8d3rwxcXI/fR8qU4GCq6f+uOz7CdFQDd24Pjh1au9ufZ9VY04yFyxUomFTLb4+f/SnW//6I7QKJEicpO0Hn2raqzqVRz0VvOaj6x99QkErXabPnXfgP2t2LF6YpUjRnKXK6gMIWhCmascujidinb5h9gx9plexuz4uphMV/ceNG1cfVdBzcS1/09xZz0+evnfF0h2LF2QrVkJruWqBzlnvv+2YGayvEWuJz0ptO/adPmfNr1MPb1qvhZsy5SuYsUAhHdLi9K4le7Ln8plT+mSvQnzVQc9OY8P0JWCtqapfqf3Dt65Frfx5igJu3Zrjq3CuOcO0R1+61SsOff9Li6teOHlc1DlLl9UXJOyrLWkVnalv9dOnplsPG65vUetBqFWWIV8BDS1T60UfeQjTFUPM7Jc2Xf6qNU7u2eX40kWImdmJAAIIIBBLBIj4Y8mDDv9taojO8Po16vV9rVqnrgrcrYL0PaCjWzcnTZHCHvFreug3zz7defQ3WpdTw8c1oF99vZoUq05inZXiv1/gSp46rYJIRdv6ayqnCFXfcI3mSEWf39recn6TNwZXbt9Zf1UZTa9UlOb+612mzhFP3L19S681NNJGbSSrNA03Ur+4/ZNnrlfR5wiUTU2vED+FZuXXrNlx3Ts9PXJs2hy5qj+TS+CK0X/o18fqxVdg6lrs8h++03Ubv/aWvk2mozpl2sCBS/+75r05a86I94/v2K7PHlsL8OsHMKVfry3z5poMJvFT/5d2LVnUfNC7FZ9qr7/arwBXjRxrJqvJFtbEb++/rW8ea9SZ/urcs4cOfNOtg5oT7iN+iSnoVzX0xeXQVsMMa02UX69B8leupsFL1Z95VptaMEdtIddBWRtm/Xpi57Y2H3wmtAJVa1gX0lfqrJWLrM2I/Nv0jcH6su/0Qf0jUgjnIoAAAgj4mEAcH7sfbifcAnVTJ8+fLJH70wMyZ9F6neq/PLN/n6Mf15yoYTkKXtWFrzHoiurM/hATKlA9zclSBFw5d/bc0SPWOuIh5oyGnRrgniFf/qvnzikStX/qKxourUuIQivTx00Q/9Se3fZ2lJurB/eU5y9kPmQbWk5l0xNR6Hl02xY396WufXVR672N4lQVpeaHhv0c2bo5xFP0UkILKw2tVlafQNYCoFmKFL9/L0jtltB+FaZueiOhVyg3r1xWmyqC4b4pU687NF7o3NHDmjNgdrpPaN3V/vOWqlE3olFtNVTcZw7TUT1Hta9uXL6kjwxY3wwO7fSESZJmzF9AldcnBSKrDmrDPD952j/ffv3L28EjqTZfubGE9fhDewDsRwABBGKTABF/bHrabu/Vk4jfbQEc9G4BR8Tv/mbsEb/7nDH2qCaaKzjWiDINvNELkxhbT88rlqNk6Rd++PX49m3Bd/Tgi11E/J7rkRMBBBDwbQFm7vr28+XuEEAgZAGtPjSqTTMtlKmPSIScw6v26t1at28m71+zakyHVla471XVp7IIIIAAAlErwDj+qPWl9NgmkCZ7zoRJk3p4149k+JCHdYsN2TQX5bNWjYLu3PaBm9UIusl9e+5dtTzEUVg+cIPcAgIIIIBARASI+COix7kIOAXafzwqd9kKzr2hbA+qUEwrzIRyMLp3a6C//jx2/74nFw5TZk8KfFR5zjz4CtujunrkXldfuY7cAikNAQQQQMBnBBjH7zOPMqI3wjj+iAo+OL/I4/X806XzsKh1M6aHuOqlh6eTDQH3Aozjd+/DUQQQQCD2CBDxx55n/ZA7DYgfN0k85nU8RInDCHiRwNWge5fv3vOiClNVBBBAAAEEEEAAAQQQQAABBBBAAAEEEEAAAQQQQAABBBBAAAEEEEAAAQQQQAABBBBAAAEEEEAAAQQQQAABBBBAAAEEEEAAAQQQQAABBBBAAAEEEEAAAQQQQAABBBBAAAEEEEAAAQQQQAABBBBAAAEEEEAAAQQQQAABBBBAAAEEEEAAAQQQQAABBBBAAAEEEEAAAQQQQAABBBBAAAEEEEAAAQQQQAABBBBAAAEEEEAAAQQQQAABBBBAAAEEEEAAAQQQQAABBBBAAAEEEEAAAQQQQAABBBBAAAEEEEAAAQQQQAABBBBAAAEEEEAAAQQQQAABBBBAAAEEEEAAAQQQQAABBBBAAAEEEEAAAQQQQAABBBBAAAEEEEAAAQQQQAABBBBAAAEEEEAAAQQQQAABBBBAAAEEEEAAAQQQQAABBBBAAAEEEEAAAQQQQAABBBBAAAEEEEAAAQQQQAABBBBAAAEEEEAAAQQQQAABBBBAAAEEEEAAAQQQQAABBBBAAAEEEEAAAQQQQAABBBBAAAEEEEAAAQQQQAABBBBAAAEEEEAAAQQQQAABBBBAAAEEEEAAAQQQQAABBBBAAAEEEEAAAQQQQAABBBBAAAEEEEAAAQQQQMBHBOJ49X1069YtUaJE1i1cuXLlu+++C/F2MmXK1Lx5c3Pohx9+uHDhgtmMUYmGDRvmyJHDqtKmTZuWL19upXv06BE/fnwr/fvvvx8+fNhK8693CXTp0iVJkiRWnefNm7dv3z7vqr+jtp07d06WLJm1c8GCBbt373ZkYBMBBBBAAAEEEIiowPnz5+/b/rRo0SLEEqtXr27Ldb9AgQIhZosJOxXNm6p+8sknpkrXr183+xs1amT2hzURL1483b75kzBhwrCWQP6ICJw9e9Y8x6eeeioiRcWEc48dO2Zu5+mnn44JVaIOCCCAAAIIIOAq8G+3sesBb9zz+eef//XXX+rs98bKR0+d06RJs3PnTnOtIkWKbN++3WySQAABBBBAAAEEEPA9gbi+dEuZM2d+5513fOmOuBcEEEAAAQQQQAABBCIo4FN9/LJ44YUXNJp//fr1EXSJaadrcH+cOP9OuoixkxBiGhr1iWqBEiVKaJyYdZVLly5F9eUoHwEEEEAAAQTCJ+BrEb/ij6+++qpcuXL37t0Ln0jMPOvMmTMxs2LUKjYLBAYGxubb594RQAABBBDwFgFfi/jlXrp06RdffFFj+sP0DAICAtq1a1e0aNFixYplyZJFq45s3bpV7wp+/vnnu3fvOorSm4T06dNbO7/55pujR48+8cQTDRo0qFKlir+/v0bG68/IkSMjMUwfOHBgggQJrCt+//33e/bsMVXSakVa4efJJ5/MlSuXVauTJ0/u379fSxL9+eefQUFBVk7NEy1cuHDy5MnNiUoISnNJlZg8efLevXvth0JL582bV1OHixcvrv7dFClSHDhwQCdOmDBh9erVoZ0iE9nqFPFmy5ZN+WW7YcOGH3/88c6dO46zrHpaO6dPn75ly5ZKlSo1bty4WrVqmoSwbt26lStXfvvtt5rKrDxahalp06bCL1Wq1PHjx3ft2vXpp5/qFHuZyqCfhLXnjz/+0On169eXWPny5f38/FY9+DN79mydbj8rd+7cnTp1svbo+eopx40bt3Xr1lpsJ3/+/PPnz+/evbvJnzNnziZNmqgO+qOZrCpSV1m4cOGRI0dMntASVatWbdmyZY0aNfQc9bNR5T/77LPLly+HmD979uzNmjXTVUqWLKl3PuZCrms3vf7662YVHRWoOe5arqpOnTr6ieqHtGPHDl1IVq4XUrGqUvv27TXHQz+npEmTnjp1SgIzZsyYNm3atWvX7BV79dVX9XCtPb/++qtWl7IfVVoPSL9M/TelR582bVpdV49eODNnznTk1Oabb75plt4aMWKE6taqVavHH3+8cuXKaskLZ/PmzbqXq1evup7LHgQQQAABBBDwWQH7Wj0aVGCWDVGsoDH95rYfulaPoqgTJ06Y0+0JBf0KVU1RVkJRi8lTsWLFfv36mU2TUIGKrhwnPnQzrGv1KP5WWGku6kgoAlbrxbqowjXHUfumguCH1k0Z1NSxrxpkL0GLMyoedS1EJYdWQwWdZcqUcZwydepUU6zaCc8995waLWaPldi2bZsCTQW+6mN2HFLmIUOG2MtUsG7yvPTSS6+88ore/5g9VkLNHoW59rMUHJs8ilAVPc+ZM8fsUVPKZNbCqYpBzSGT0E41VEw2K+FYq0eNCrUnzSlWQkt2KkR2nKjNZ599VrPSHZm1qShcP2BH/tOnT5ucefLk+fDDD82mSahZ6Phtqwm0ZMkSk8GR0HAyx0/a/Vo9Xbt2vXjxoqMQa1PNITVQHXW2/yes363azK7nqimuhqvjRDYRQAABBBBAwJcF7BH/+++/r55IEyL88ssv5s7VgWr2K6G1Kc0hJd577z37Ude0+qHVC2s/xR7xq9vY9RRrj/q/zShn++lu0mGK+NUFq55p+9XV1HGEs4rqUqVKpStGPOIXqf1armmtAmRdy9zgW2+95ZrNvkfxbocOHUx+JewR/4oVK+yZ7WnF3wpA7XtMWgJ6IWDKtEf8ejdisjkSt27dsq/u6oj4NTnEnt9E/HoLYd/vSKv50adPH1MTJewRv9bjdzwsc7rrC5OffvrJHHVN6EJqydgvZI/43fxE165daz9r2bJl9sLVuhOLfY+aMfZGmpuIX2+i7Ce6ptVQUee9/er2iN9NnZcuXWo/izQCCCCAAAII+LiAPeIfMGCAejrtgYVZt95NxK/wxd6FrGEDGj/Tpk0bDSqw9/prYIOG/RhNe8SvK6oEBWQak6BeSUevs/3LX+Z0N4kwRfyKlc39qmNYo01Uskba1KtXT6G/OaTvlGm/xsZowIzGopj9SihM1E79yZgxo5ta6VDbtm3tJ/7zzz+KZXv27KnY9/bt2+aQvaGlYSH2Q+qYV++7rqX+Znuv/7lz59KlS2eubo/4VaxiYpWphythR/Spo3pGX3zxxdtvv+0IVTUExRRoj/iteqobWzfesWPHcePG2WuosTFm6JQ94nftqLYifn1/ytz4zZs3R48erTLVba+RYGa/EhrQYipjj/h1SGdNmjRJd6e7cLwo0Lsjc5b9QQthzJgxupDWv9ewKPuFNM7KnGKP+JVHZ6nRogvpXMeLAhN261WAKU0Vq1Wrlkb4aJiNaqL/LswhoZmrhBbxaySVya+Ens5rr72mNzajRo2yt9M0UMf+RQh7xK+zbty4MXHixDfeeOPLL79U88BeoBmmZWpCAgEEEEAAAQR8VsAR8es+f/vtNxMZHDp0yBrKHFrErw54jSY3+TXSQKOWDZaWxzl48KA5+vXXX5tDjohfg8LNIb1AsI/T+OCDD8whTxJhivg1R9lUT12q9vLV/DCHZs2aZQ7ptYDZr4SHAyTEYo/RNUNAg9pNmYMGDTJlqlc4ceLEOqRg0d5Dr5hPI0bMKRpzZe9ut1feEfFrVI856/nnnzcXUkLTJMw4ItVHUbg5av/4qyPi14wFe+UVm+odjjnRah3pivaI3zqq1ykK8QsVKqQbEaMmFZjWnZoN9gBdp48fP96UqSuaW7BH/PqdaC6BOaQBM+YUJfr27Wsd0msT3al1SFV1jKux/wbUADCl2SN+tUgrVKhgDqntZ7/Qyy+/bB165plnzH7Hx4Br165tDqn1awBDjPg1V8T+tk2/FvubLjVL1MYzpektkKmYPeIXqUZtmUNqfphTlNAvwRwigQACCCCAAAI+LuAa8WtiqL2v9KOPPhJBaBG/ojd7GKFNh5emaZoM6jU3R+0Rv+Jas99KaES7OUs9uOao+o9D+2PyhCni13xZcyF1iCoMSpIkiVWUAm5zrfjx/zc/O3wRv1562C+UMmVKU2El9FZB0bB6jq0/0tZOtZfMKUrYh4JY59rLVA+0qaQ94tewKCuz9a9es9jL1CRO+1F7R7iCaVOgPeJX17Vj3JFKsF/RPE1HxK8Q1vEaRO83TGX0IOw1UVrvN8xRhelZs2a1Mtgjfk11dZyl1yDmrOHDh1tHNXzf7LQ3HqyjBQsWNEODdNdit/bbI37XabKaQWHKtP4b0VmakGB2KqFPPqtVY5Wmf83PSQmzM8SIX6+YTDl6sqlTpzb5rYRe9ZgM6uY3R+0Rv17pmP1Wwt5EHDZsmOMomwgggAACCCDgRuB/saCbTF50SF3RgwcP1pgcq87qKHUNksztKCwzaQVbWkjEbFoJxYIaw6DoWZvq2VVzQuU78qxZs8axR3Gq+kStnVqfxEooSg5tHX0F6/Z3C47S3GzqpYR6na0M6lnXgA1FaZpmqrBVfeoaeGMtaOOmBA8PKaw0OefOnatRLmZTCQVq9nnS1iG7rUC0xo79FKU18Eb9uNagDv2rISWaZ+zI41j7RYCyMq0ax1H7YjvqVFbErwjYUaAaY2olOnZOmTJFi/BYOzUT2nHU2lTrQisg2Q/Zx+ro8WlOs/2o0spvNRJUE41CUZvBkSHEX45562J+OfYL6d5dL6ShTZa/7lotK73a8uRCplhzocWLFysQt37tKkGznDVwS8j6LekXpR+bh2tx2h+9wNWj76iPRj3pP1Jrp8DVhFCjyJEnRBzzdEydHWexiQACCCCAAAIhCvhaxK+b1GB6jXK2FiFRsKVhDxq+HOLNm+hKR13jJO3U6wLFK6anU/ldI34NcnAUbo/s7eMZHNkivqlQtWbNmnoRYYrSqGt1sVu97OpeVS+yekM1odZkCF/CPtfZvjCom9IeaqvqiU6NKKsQ5XeN+F2XN7UH8Wpp2CugAu2bIaZDfMr2ESx61mra6WWF43S9e3HsMRGz9msBSv1xZLBv2icqmP0e/nLsF9IMcsckclOalYjIhfRk9ZpIMwpM0K/ROxpaoz+9e/fWmwTNf9DPadGiRY6LOjYf+ujtT0Hhfr58+ew9/VZpHuI4Ls0mAggggAACCIQo8L/R2CEe9sadCgo1+FsBilV5jWC2jwW335F9vIFjoXGTTUG/SZvQ3+xRQr3O9s3oTKtHVgsgahCFhrBrvIrj0or+Nd1248aNVgPAcTRMm2aJT53lGg2HWFSk2IZYstmp2zdpJRyb9kMmbX+aZqd9vJZ2hhg0a/iKyW8lwtTNHGKZHv5yQvzVOSpjNiNyIRUyduxYNZX1WszearUKV/SvH5J6+tX3by4XYuKhj16/VU0tMOeGeIMe4phCSCCAAAIIIICAGwEf7OPX3erLROra10hr684d/a+mC9PeqawB7iEyZciQweyPSGe5RrDY56eaMpXQIftmWNNa5FF/NN5DMzK1qLzmOGr1FTO3UnG/hkRreIknAXFol1YvuAq3jtpBQsuv/dFp66YajkOOsfjWUfujV0PRNbjXTtcGoX4M1uJIKkSLyWjKuONa9k1NAbdvhiktSTNORtPHXUf/20tz/RSX/agnac1R0SpA+v1oJJJ+Tory9Q0sM5JKJXz88ceaC65VX0MrTRU2HyKw25r8CvHt774i8p+VKZMEAggggAACCLgR8M2IXzeskTxaGdN9eGofS6AlRDQU3tFTbu20+BQxRyQ00ZB6jTVy8yTCcciM/lfd1Ceq/lf90bRI3bXGnWsdTKtMRV2KTe0heFivpYme5hSzmKPZo4SaWGbkj147aD1Nu60CVtehMhrLYZ9Ea89vLzly0/Yla0zJ5cqVM2mF+56MDlJ+Vdh890o91mp0mUIiN6EL6dOzVplqe0TdhfT7Nw1F/Zy0VL/+aGaIfmb6tq6WQLXqoAazWgJuIn77o3QsYWSVYN+puQGuY7ciF5DSEEAAAQQQQMAHR/VYD1WzSx86/ECBrOlf18xax6egVM6LL75ofiIK9107es3R6E+ol1ThqaqkP2pO2DtTNQbasXyhieQc9TTD6B37HZv2ebca1W1fU1I5tayN9mjFHv3RyoyaAKqdCvvMwAyFjFr50VGm3VYDu13ndzryR8qmmhlPPPGEvSjN9NAaNWaP/U7NzhAT9qmlalvqxu3ZBK5lmlSa/ihnmIYA2ctR2n4hrSWqjw3bM+hC3377rXUhBejum7j2E13Tek1h/Zz0r+mkVzb9uoYOHbp3715zSmg/JyuDKmNyaq5t3bp1zaYSajDYJx/bM9uzkUYAAQQQQACBSBTw2YhfRhrNMn/+fDdYijLNGojKprVuNPDdWj1Gweu7776r7mpzer9+/Uw6JiTUr2yfQ6kF+O21MosFaae6Uc3bCUcHthpF+k5Z2bJlQxxLbQrUsj/6BqrZVGioblprcJTW2DHLOyqDvodqLYajEfMKE80pGgqiZYU0xEh71N+vz5z16tXLHI1OW62/VL9+fWtUieJjvY4oVqyYqYnn30+YPXu2FrGxTtRSOVp/xizBqXcaWo9fY2M0MEZ/1J7RopzmEmFNaHGkv//+2zpLo5JUf/MVAs2R1TgftaasC2k5INcJr55f7q+//jKZ1alvfVfB2pM7d25zUe3RFF6T0zWhxp59UVpVWK0sC1w/My1+ZdoAmnKjD2y5lsAeBBBAAAEEEEDgfwKu6/H/79iDlCIV9TRr0Iv9j32tScWgGu5iP6r8WrRE8bR9p2N1cPt6/FrB0HFRtSLMuWEdgxGm9fg12MNcSAlN0lUr5fXXX1dt9e7CHHKsFm//lpbJoyDYcReOTQV8CuJNfiU0GEPD0+1QWjzHjO3R6eo+t3+rVaeovaFvYynOs5dj/0CYzlKAaI5qIqmjGvZvCZtBNVYeNULMiUqYgNW+Hr/JoPnHWjPUbFqJOXPmmMvZ1+PXPZr99oQie/vXuzTkRjG3/tiLVQe5fbEd+3r8ZtiVKVOBsjnXHjTrF2t/oNZkA8eF9LsN7Zu7aseaS1gJ+5cczPK1egGi2poKqHwN6VFjTE9BE3nNftN6VFF6y2T2q4VjrqLJu+arYVYGgWs2iMlsJfT1ZXOKEvb1+F0/Vm3/wLCeqf1E0ggggAACCCDgXsCX+/h15xpt/M4777ghUAyqwNE+cEKRooYi2MctKIA2k4DdFBX9h6ZPn66+WHNdBXyavaBeaoWS5jNJ6h52jPDRN1DNKZ4nNCW0SZMm9sVJNVJF33syUJLURAX7bAFF9i1atDAd4bqW3p8orLTP2tQ8VPuLFM/rE76cWtTIejGiQTg5c+a0F6L3GPaY1X4otLS+4aBGl751ZWXQSw8tamRf10gBtIbHqH0YWgke7leQLUnTf68L6a2C/UKaf6IBP44PFHhYuMmmhq4esRmLpfL1CkhBuUY9mW+u6QfgGBZlTrcn9PZMN27/MQhczW+TRxG/XqmZVfnNfhIIIIAAAgggEBUCPh7xi0xjTuy9kq6IikvUPfzKK6/YP+GkbOpJ1fgEBS7qInVdrNC1nEeyR6NlGjZsqM5p135odalqyIQG7ZgYzqqhdg4aNCgcq8coVlavttZrd3zESlATJ05UKO/ordfl1OKqVq2ahuyrw9juo1PErnBZq8tHZMSLvUxP0prdocVMtY6T3UQV+Pzzz9WpH465BBrgpKE16iZ3fBxAff9amkkThTWX2pOKPTSPXv7oQur4d3z+TBdSE04Xcj+A7aHlWxn0wSwtyqQ3ABrK7zhFY8PU5V+lShV7q8+Rx765evVqNUHfe+89x8RctQM130Bzf/WrsD8F+7mkEUAAAQQQQCByBYK/JssfIxAQEKCgVh2o6u9UO8GLIhKNkFYfaqZMmTRNVp3Bar3Ye1jNDdoTmgOq1XLUSa+hMgp21e1qP+o+rQ5gLdyuPnu1K/THEyhNjZCtBrsrvz5vrP5v95eIrKMaAdKtWzerNL2usYa4aMSR6q9ufg2FcrPsTJjqoGnQGsCjhSz1PkTzXB2heZiKcp9Zhpp7oAdtXSgqmqPqktebLv2c9AtRi0jfD9Z/Dmaau/vquR7VVwL06PUTVSEa1hXuclxLZg8CCCCAAAIIIIAAAo/Zx/FrLDgiCCCAAAIIIIBAbBPw/VE9se2Jcr8IIIAAAggggAACCNgFiPjtGqQRQAABBBBAAAEEEPA1ASJ+X3ui3A8CCCCAAAIIIIAAAnaB+PYN0gj4noDG7uvjytZ9aUK2790gd4QAAggggAACCCCAAAIIIIAAAggggAACCCCAAAIIIIAAAggggAACCCCAAAIIIIAAAggggAACCCCAAAIIIIAAAggggAACCCCAAAIIIIAAAggggAACCCCAAAIIIIAAAggggAACCCCAAAIIIIAAAggggAACCCCAAAIIIIAAAggggAACCCCAAAIIIIAAAggggAACCCCAAAIIIIAAAggggAACCCCAAAIIIIAAAggggAACCCCAAAIIIIAAAggggAACCCCAAAIIIIAAAggggAACCCCAAAIIIIAAAggggAACCCCAAAIIIIAAAggggAACCCCAAAIIIIAAAggggAACCCCAAAIIIIAAAggggAACCCCAAAIIIIAAAggggAACCCCAAAIIIIAAAggggAACCCCAAAIIIIAAAggggAACCCCAAAIIIIAAAggggAACCCCAAAIIIIAAAggggAACCCCAAAIIIIAAAggggAACCCCAAAIIIIAAAggggAACCCCAAAIIIIAAAggggAACCCCAAAIIIIAAAggggAACCCCAAAIIIIAAAggggAACCCCAAAIIIIAAAggggAACCCCAAAIIIIAAAggggAACCCCAAAIIIIAAAggggAACCCCAAAIIIIAAAggggAACCCCAAAIIIIAAAggggAACCCCAAAIIIIAAAggggAACCCCAAAIIIIAAAggggAACCCCAAAIIIIAAAggggAACCCCAAAIIIIAAAggggAACCCCAAAIIIIAAAggggAACCCCAAAIIIIAAAggggAACCCCAAAIIIIAAAggggAACCCCAAAIIIIAAAggggAACCCCAAAIIIIAAAggggAACCCCAAAIIIIAAAggggAACCCCAAAIIIIAAAggggAACCCCAAAIIIIAAAggggAACCCCAAAIIIIAAAggggAACCCCAAAIIIIAAAggggAACCCCAAAIIIIAAAggggAACCCCAAAIIIIAAAggggAACCCCAAAIIIIAAAggggAACCCCAAAIIIIAAAggggAACCCCAAAIIIIAAAggggAACCCCAAAIIIIAAAggggAACCCCAAAIIIIAAAggggAACCCCAAAIIIIAAAggggAACCCCAAAIIIIAAAggggAACCCCAAAIIIIAAAggggAACCCCAAAIIIIAAAggggAACCCCAAAIIIIAAAggggAACCCCAAAIIIIAAAggggAACCCCAAAIIIIAAAggggAACCCCAAAIIIIAAAggggAACCCCAAAIIIIAAAggggAACCCCAAAIIIIAAAggggAACCCCAAAIIIIAAAggggAACCCCAAAIIIIAAAggggAACCCCAAAIIIIAAAggggAACCCCAAAIIIIAAAggggAACCCCAAAIIIIAAAggggAACCCCAAAIIIIAAAggggAACCCCAAAIIIIAAAggggAACCCDgPQJxvKeq/9Y0femmiQMyeV21qXA0CARuW3Dt1F5dSL8Q/U5Cu+LVk7vPbV9kHW2XMWW8x7zvvwL7rd29f//HUxetPemL+/tlTmw/ShoBnxS4denO0eUXzK01r5EuTcoEZpMEAt4u8P2fp27cDEqZq2yKXGVCuxf9PzL9v7PQjrIfAYdAfMf2/7V3H+BVFH0bxl9q6CWUQCih9yq99yKiICACCohgQREEFWyoWEGwoijyAYoCCoJIUUCaSpXeew+9EwgllO9JFsdxk5ycVBK8c+XC2d2Z2dnfOch/Z2dmE/9myrSZUmfMnvjbSQsTXiB5Sh/npMlSpPLwJUl55pBpW9aUKVIkS/IRv7mclGmT+2RKen+pTftJIOClwI2QG3bOLBlSZsuc2t5DGoEkLZA87N+lFD7pPPxbljzVrX/ykvSV0vgEEyA4iC11xnRpUqVKceZ88M2bN6NbV5VSAfuPnD5+Jii6BRM4f8oUyUsX8i+YJ9vhE+d2HlB7gxO4ATE7XbJkybJmSmfKXrkScvHyVbMZYaJIjVpHd2y/cOpkhEeT+s5M6TOXKFAmW+bsB47u3R244/LVy4n8ivQJVitde+u+Tecu/NObm8jbHK3m5fMrkDl95k171kerFJmjJZDZ1z+zb64Du9Z4Uyp9xmz++UumTZ/5+JHdJ47suX4tiv9jeFOnk6dAsSqnjx84f/aY90USc84MmbIHFKt8/VrI/p2rLl08ZzdVhtdCrly5fMHeGd20T9qMeQqUyZTF79TxfUcPbg+5eim6NST+/DlyF/YPKH00cPuxwEj76TOkS+ubOb25lnNBl67f+Ne9rjlEAoEoBYj4oySKIsMXL3WqWrpAo54fHTwWvaCkQeXiI19+6MjJc/Wf+DAGdwtRNCvuDo94sWOdCkV8Ut96Yn415Nr4X//69PsFUUbPcdeEGNbkmyndsrEDTOEp89e89Pk0sxk+Ual12y6ffHls1853G9UMf9TsSZ4ypU/69NcuXwm5ktgjZtNmJWqWrTu094jMGbI6O/WVazOg8c6D2+w8iS3dvlHngd3f27hrbceBLT20LWWKVOnSpNMNzNWQKx6yJbZD6dKknzJ4rv5s91Kzbfs2JbbmJVh7fFKl8UntE3z54rXr1+L8pClSpHpm0PT0GX1HDe60Z9tyz/VXqNH6/kfeSe2T1smmcPbdPtWCL94aMue5rOejxcs3eKTv6HNnjg7pV8vD/+2TJ0/hkyb9tWtXQxL33bgup+OTn/ikzaCrvnD+1LefPmFuqErd1bRz7y8n/98LaxZP8WwS2dGKNVs3vO+ZbH4FdMPv5NEpZk9+f/WfkyMrkuT2Fy5Vs8OTH+uuyWl58IWzk77qt33DovAX8t4rvTvef7fZ37b/yI27/nlGbfaTQMAbASJ+b5TiJc/p8xdDrl0/fe6ih38A4uXE0aw0rU/qDbsOrdyy//jpoBrlCtUqV6jbfTUL5c3++DvjE3nLnQs9dfbCrCWh4dS6HQc9X3rQyRM3rl8/f+K452xlGjXt/tU3cz/7aNbQdz3nTFRHX+z6lsL9GX9Omb/yV79suXNl80/k4b70Tp47fuPGjZNno/hEWtZu8/aTH34w/u2xM79IVOaeG6Ow7tyFsymSp7gQfN5zzjv7aO8H+3e954knBz+8eP3COL/S69dDFC+mSZsxysA9Veo0LR8amCJFyuULxu/c9IdvzoDUqdNEWcrLBl88f1r3D/rT8/8z9RzgsRcnLJv/7fRvX/ey5oTP5pMmwwM9hgadPzn+s6f0MOS+zoPadX//o5eb3rx5QzF607bPHTu0c+2Sn2LcsOQpUume589fR504uidlytSFSlQvW7VFu+5DVH+M7yJi3Jj4KFiweNUufUbpm7Z26bSDu9f5FyhdrmrLh3t/OX74U9vW35pgZs47f/FfwckzabNRlRIF/LOZ/SQQiIEAEX8M0OKmyPodgXUeG6aHdHFTXbzV0m3QN6buCbP/ypQ+zbQPeta7q1iTqiXmrthqDiXaxOGT594e/Ys3zdux+I/XqpW7I4f0ZM+Ss1CeItv3b3lpRG9vKBJJnvkrZzd8utKpcycSSXvithnXroe07FfXJ3Wa83HRixy3bbuTahv+Wkv1RgdHNTAsV97i6TNk3bpu/s/jBsb55QfuXf9e35qXgv81+iXOz5IwFRYtU0fPTJbMHbtz82KdUf39d9Vqkytf8SMHtlaseb9fnqLfDe+p6DzGjVmz+Ee7O3/5gu9q7Ohy38Nv3PvQa+uXz4jDcVYxbmEsCz7QY5ieI/04eoC5zM2r5nTuM7LNo+8N7lvzxo3rdv3Tfl34x97QPXn9shLx2zKkYyCQPAZlKBJXAurgT3Jj8s5fvPxrWJd5heL54soh8dQTdOL4zTtxlGSOLDmFfOhEFE85Es8HYVqiDn7P3aImZ1JMXAm5TLgf3x+cuvmjDPfVhoxhf0fOnAiMp/ZcDDp1Ix6GLcVTaz1UmzV7Hh09fGCLk+fw/tBElmx5NICq8f19D+5Zt3n1HA/FozwU/u/7snnjNFVAD2py+heJsngiz6BHFllz5N23Y5UJ99Vgde1vWfNbxsw5SlRolMjbT/OStMCd0MdfNH/Odg3vKpY/Z4B/6NTSbfuO6ldRafiB5oXyZG/ToGLJgrkCcme7cvXarsDjI6f+uWXPkQg/QlX7UPOqyuznm+nchct7D5/cc+jEmOlLLwRHPFY4VcoUHZtVqVG2ULEAvwNHT//ftMVL1u8OX/PL3Zprsq/Zv3Xf0XGzPI0urV62YKu65UsXDl2QVAP4xs5YuutgxF2ej99fp6B/tve+nn39+o3WDSo0q14qc4Z0a7btX7hqxx9rQ9esjKufdGlC18TQkKS4qvD21vPAO0NTpv5nlY/9a1cvnTAuwiY1fOJpvyLFfPOE3uqUbtQ0U04/J9uZQ4GzPx4aYZG77mtTpkmzfGXKBZ87t2/tqnmff6KxQ3bOvGXK1enafeOcXw5v39q8z/M5CxWZO/zDLQvn5SxcpPmzL+QuVmLWsPc2/TbbLuJ9umqpmvfWaav86uPXn0XzlXjriQ+c4mcvnNEwmPBVlSlc4f56D5YsUCZzhix6JvDXlqU/zBsX/t9gFaxcsnqrug/MXTHrz3ULapWv36JGqwrFKm/bv3nt9pWT5n8X4yH1Ghjw5uPD7Ib9tXnpjEjGBPds288/e56AXIWUv2n1lnqO4RTcc2hXZCN87q/foXb5+rrAk+dOrt+5atS0z1wxd8XiVdrU7zBrybSjpw4/1bafRkB9PnmYHIrnL/Vk2775cuYf+t1bK8J6N+1Gep9uVbd95ZLV7PwDRz5nb5p0p2bd1M7Pf/zgxJlj7Ro+VKNs3RIFSuu2bcKcMXr6YbLFOJEyRcr2jTuXL1pJXwzNhdh+YLM+8eWbFm/avc5Vp4baN6vesnaFBvn9Cmrm98Hj+xevWzDul1ERjrx/ut1zGjP29phXUqdKrW9I02ot0/ikXbPtrwWr5/y1eYld8xs93k+RIkXZwhW1s0uLx3UK5+iyjX/+stTTlBu7kgjTZau0KFaunn3o53GvaTqpvcdJl6l8d/Hy9ZXOljNAfxYsUbVt9yHOoVNH9y2a9YWTjtmfLTq8rHEvpuzRg9vUNW427UT1Rp01UTVj5tC/p4VL1jRt0ECg2ZNvtcfOr7RGzJep3Fylrl4JPrhn/e+zRp47fdjOkyN3obotnti56c+92/9q3LpP7vyl/vjlq02rfs2aPW+j1n3yFiy7cMaI9cun20W8SWuUlLL55rjV4+MkLgadrtqgo24GpowZ4E0l0c1z/uxxSWbI6Bvdgoktf6U67dSk8KN3tq1fqE+zcp12W9bMTWxtpj13jEDSjviTJ0/Ws229nu3qpk6VUv3lew6fzJszi+bRBl++OuPPDa4Pacgzbe5vUEHR8IFjp4+dPl/IP/vdNcs0rVbqsXe+W7xulytz5xbVBva4RzvPXbi0affhjOl86lcqpgmsn01a5MrpbPrnyPLxc+3LFsmzY/8xrQ+Tzy9rzXKFOr829q/N+1z576ldNkfWjGbnwlXbPUT8vTs0eKpdves3bu4OPKGlgNo2rNiyTtmXP582a3HowHTXT/3KxSqXDBg+aeGgJ+7VqBvnqO5YNP4+DiP+HFkzNK5WUiHgb7EY0tOjVa1nO3nqzNCjj/IdI4hHXZccJ5tV27ZPnfafJX1SpvaJLOIvWa9RsVp1nJPmKVlav046cNOG8BF/Kp80D773QZW27a9evnRk29Z0WbLUf/SJu1q2Hv1kt32rV5qW++bNV719p+AzZ1oOeDVVmjTZ8xfoOvyrYfc2eeLricmSJc+WL3+XT798pWLJkMuXTBHvE4XyFFWAa/Ln8wvQr7N55NSh8BF/57t79Ov0aqqUqQKPHzgTdLpB5aYKoxtVad5/+NPaNPU4iYL+RVT5/qN7dW8w+Onhzs6A3IWK5Cvx3ezRrszebyb7XzK7zSqo8e6RRfwNKjUtVbCsU3nZwhX066RXbF4SPuLXHNl3e37SuOrdwZeDdx7cmjOrX7eWPZtVu/eZDx7dvn+zaWGB3IXVAIX7LWu3TZ48eZ4c+d5/ZkTXQW1GDBh3/fp1/xx5NQG6Qc+K1//98N0UjzKhOwrXBUYW8dcoU6dB5Wa6pxrS67NKJarpNiZjukzVStfSb69h3RatjlVkoFWb3nnyo+IBpUKuhew9vOvi5QsNKzW7u0YrfStcEX+FopV17VroSSsm7T6068KlIDVGN5O6A3ns3Y7hr7dh5eaq9oMJb3/c9/90W+hk0Md04NheV8Tfqt4DqVLeutmuWa6uqUofUCwj/ryFyleu84CpUImZE96OMOJX4GvnzJ2vpH6dguqIjWXEX77avZmy+plmKKqLLOIvXLKGAj4nZ07/wvp10qdPHAwf8SdPkVJDXKo3fFhXdOzQjtQ+6Wo06qxzTRzxzK4t/9xTZczip0tTntrNuqfLkEW3NO0f/1D5H+o1IlUqH9+c+TUcX/cD3jwAMZeghBbnuX79WulKzdYtnZYqdVoN8lEH/OkTBzRhd9fmxbu3LLUzx0laUyyy5yqof3QC97r/Wfe+/l5vTPfLe+ufxQhL6XKmjHnROfTq8FXOvOQIc2rnoplfzJ/2SWRHPex3vl26B3Plkar2+OUt7trPJgJxKJC0I/4erWr36djw8Imz/T+damLrzBnS+mfPrC58F9OKTXvWbj8w48+NFy+F9vRoxckBXZt1bVnjpUea3/PsZ3Zmxeuvdm9x6PjZpwZPUB+8OZQ9S4YbN26aTTsx6pWHl2/aW/+JD/SQIX1an/5dmnRsVrV7q1qmVSazxu4rptFmiQK5fhr2pNkfPtGiVple7Rts2Xukz7AftIinMuhmRivnvPf0/au3Hjh66nz4ItrTr1PjKqUKDBo1c95f29KkTlm9TKG5K249fo0wv/c7UyRP3qhK8X4PN9FDj88nL9KNkPdlXTl3HDj+8+/rXTvtTd3k2Jvxmh5QOrSHWD+FqlZ/5ntPPYsjHm6nHuiyzVo8+sWY30Z88suw95yCEXaBN+n1rML9zfPnjn/umYtnQj++Km3adxr2qZYD0lpA1678q7tR3fy/fvz+gpGf95o4tUj1Ws/PnDft7df+mvJDv59+1UOAItVrbl003zlXtP78/rdvJs//TkUUoo0ZOPmXJdPMOP7wbdZiPgO6DDobdPqZYd3W7gj950ch8od9Rqpnd2D3wf0+fjzCU5cuVL5nm77Tfv/h+9/GHTi6764SVbXoSoQ5vdx54+aN8g/ldzLXqdjos+cj7hN1MnR4pYU+kdb12g96fNiHE975ZtZIZ3/4q9P+Zzu8pHB/9rLpg/5vQFDYZNmOTR95pds7g5/+tO2AJjqvU9b589F7nxo87vWfFv0w/s3ppQuVm/Tur6999fwfa+f9+N5c3dXoqjd4t9qjXaeTHvR//d8afSuwmDt8hZ9v7vB57D0f9f1q4651dz9b6+CxfWl90uqxhtr2aMuesYn4s2TMOuqlifrzu19HfzTxXQ0u0hmTJ0uuW8TjZ47ZZ1d6V+D2WYun/vT7D1v2bnQO6cnDVy9NVMRfr2Lj39fOc+V3Nl/s8max/CVfH/XC72vmZUyXsWqpWjOXTHXlrNy1iPY899DALi0ee/r9rmbmruuzcJXyZnP2pMFzJr/v5Oz91iy/PJGGenN+HDp3ygfKWaFGqwceG6ae8rlThjkFI/wWeXN2k2dwv1r6fmpTkVzvN2ea/eETEz5/Wnf4hUrW6P7COI1cn/HdICdPhG2o2eQRhfu7ty77YWTfoLB57Yq/tfbLg09+NKx/Q9eymJVqP7Bk7hhdZpc+X5Ws2Pjp136aP3344tmjNUVYU0iLlK61YYWnhoVvqm5Cfp/1ZcP7evX/4E/NrE2RMvVPX79cpe6DWnlmzo+36MKXis2evAXLaZ6rVrG8FIs57pqhcdi6sQ/fnv3W32hNGNBtRvg8Zs+Rvwc1mT1eJjJmyaGcwUGhK/uJLn+Rigd2rgkbeHZWe5yHPF5WRTYEoiuQhCP+/Ll8n3mwvtZI7PjKaK1xaa5cvfL6NZsmMXXhOpNW4tr1G++Pm6sed43eUYzu3AY4GcoXzav/Tf+ydJMd7uvQybMX7Brs9KR5q98d+6tzP6CqPp64QBF/4byhf7ddP2F5QsNZz32EGiP03MNNrlwNeeb97826n7p/GDrut7d63tenY6OXPot4MQT19Hd942tNC3bO69wquNoQg81Jgx8rW1gjNZOrMc8M/X7OsljdReiZQxw+dojB5dhFtD6Ps3kjqnFKGuKvT+5mWH6lTUG7Nied2S9Xg8efOn0o8Otej18NvhUBr5w6KX+5CnW7PVany6MLR31hlzq0dfP8L0K7yfetXa2If++qFcsmfqvNAxvWKeI3w4fsIl6mna+Z8+dNtT2Snml94fs99KrqfOWLvk64r7Ri917DHvn146VNq92jsR/rd64Of9ImVVt8OfXjzyYPdQ7FJgw1lZtGuiaxmQwmERoa3tRfpdBgXbGRKWgymIRG/mgEi7rJXxrRJ+TvRdYnzv26bJGK99Vpp3uGqYu+N5mVWLVthXOztHnPekX8imvnLJ+h/Rq2pIhfzwfszNFKh7bz5q2vXITxnKs23aK8Maq/M37m0pVLI378QANgCuct6soWrc0BnQdlzeT79cwvh41/yxQUpoJ7s2kS6tR/5+vQ74b50RsS9AilX6dXNI4rsoi/Zrl63d5stz0sMNJkjL2Hd5viJnHraxl2r6W0h4/PFPEyIVgxO5k9I5uc+gut/JpyGuW3zss2OLU5r2mJsk6nGc5Af6U95Nfglob39tLQmgmfPW2WEtLQ+d9/+apRq2fqtnj8t6kf2i1U77uzRxGtIv6jh3ZoGRxl0Coxivi14L2d2cu0Kjy0b6N697UAkQagHzm4tf/Q3zetmh2bPngPpy4ZNrp9c+weakWrS37G+Ft3XB5aFYNDWn1VLytQQc3h1oOa54fM1/yHk8f2ffhi48thNzOpUvukSZfxcnBQDCqnCAJRCiThmbut65fXIvHfzFpmh/tRXrCdQSPR9T4p7dFYIHu/RuFrs3mN0urst/d7SH8zc5nd/a8Xcl26clUDYDwU8XyoTGF/nX31tgMm3Hfyz162WQm9uiuy4m+MnGnC/cjyxGC/rkjLiapgnhyZq5UumD5sKH8M6vmPFNEo/9Rp0m6YM8uE+86Fr/slNGosXM293r8mDzgZTgceVEJx/63NQ6F3bmnSx/yL5NQT5Z8aolMioPS+I7tdAZwCTWeIjsZ7RFjJH2vnm3A/wgyJZGejKs00bH32sp9NuO80TGNmlKj09+AT09oNf9/eHD4Z+hFs2LnGOeRspgtbidxkjtfE+Nlj7OHyeu3A6XMntdCqRt7H7LxptAxl7TZ6yqFbtZjVoFJb923UnxryFFkNr37Z1wn3I8vA/pgJFClVK236TFq73YT7Tj2bVv6qhIJ4V7UKzZ37h7MnD+mQAn0nw5lToZta/t+V38tNBfqaGjFzwlt6y0H9e3qmTpPeeVTiZXHvs2k8T40mXfXyskUzR3hfKnHmTJMuk/PMR89h/POXVrivdmb3K5ArXwl9RiFXQx/8pkv/r2gkcV4IrUqiAkm4j79I3pxC1/iW6NJrdEr+XFnz+fn6Zk6XJWPoAG5NA7Ar0fLzmgZwb51yv33eR+vQa6i9xqy7Im87f4TpS1dCYhMWB+T2VbXF8/tNHuIeTaEeoDw5sughQIRzZ1dt3R9he2K584l3x6uGXNky9e7Q8OEW1RpXLfHQwDHRNTFt0EMVrfJpNiNMxPhGLsLaEnhn9oCCOmO5pi0K3lXFPrUzRThnwVuDdO1DTto12udaQr3kKyBXaIO37AkN41w/zqju/LkKuPY7m2vCDUiNMNtt36kpp2rDvXXa1anQ0G5MWp/Q/wMUyH1rZJd9yEnrRWv2zith/yrbexI+fTns/aNO6BCDs2vojsruPLBNnffRLa6BQAVzF86e1a90wXIqmypV6shq0FTdyA6xPzYCejWVihcpVfOp16ba9SRPHvqvWPaw77m936RD/v1NjnBWg8nsfUJrHNVo3GXNkqmnju2r07xHgeJVNaxfY+LtGQXe1xY+Z6vOb2rs0E/fvBrLBmslHK30H75+syfkSrC5icqUNZcGWZlD4ROXLwVdif5fH8noEZJmB/mkyag7sVPH92tyhV7tfPTgVnX5q4NfJ7oYNuAn/BnZg0DsBf4V6ca+uoSsoWCe7DrdwbD+eG/Oq3/kmtUopSm5FYrlU7jsFFH0HGHZFz6ZsnT97i731KhWpqB+NeJfm598vzDKtzhFWFsMdubJEfp4IVjhxtUQV/GVW/ZpT4a0PmeCgl2H4ntTkwc0b1iSmkOsQUfPfjApZmfUIkjPd27ioey169dLPTDIQ4ZEfsg3X2jf5+WLF1wzbrW5a/mSyxciHR52u64rb87QofNH/73Wh9MYzWFVIk9YhtvVvNif1z+sN/ripSD1kdu1aXPllmUnzroHr9t57rC0pibrirTejvfXpb78h+/u0aJmay3U45SK7P+c3tdJzpgJaKUdFbxyOdjpErYqubJn2woNS7L2JESyUave+hdh3k+fdO7zVYnyDdQZr3sALcyvl8jGYCEgV4u1hJFmGiyd943mBLsORXfz0ee/UVe6h1K6aZk86nknQ993Zqs/3kPmBdM/c42e8pDZHNJwrYvnT2kov57SaLXWj15uVrBYFc3i1d+mdGGn07uWXdMwTFkSCMReIAlH/KfOKWzy882cYfehk95ADOzeQp3TQRcva22cFZv2aujOsVPnB/duo1UswxfXEJ0pC9bqV73pzWuWvr9+hVoVilQqGdD9rXHq9Q+fP873hF3d/xas3PbOmNBntYnq5/s5KxXxa9nQGLdqxea9Q7/1tNLIzQScuRvjq/BQMOjECR39Y+woZzi+h5yJ5JCzFE+miB4oa5EWNfJcEu95cl7j9dW04XOjOU8xkXxAcdiM02GrK2bLdCt2j7Jmrd35zetT9TXQrZGmR+85vFM3gf7Z82pOc5RlyRDnAhfOh/57t+rPSc5w/DivP1oVqou6ct32y+d/q8WFFO6vWDhBQ30yZMqm2dJ3tx+wYcWM2NwZFildu2Wngds3/D7Tmm0SrebZmRfPHet5cU/NcDD55037RA8WzGb4hD3NN/xRD3uCzh1XxK/R/CeP7tXbxMyTEL3UTKWcedgeinMIgdgIJOGIXwtW1ixXWKtPOn3enhXUr++E+416fnQ2onm9kRU/dOLs6J+X6LffQ42fbFtXy+8kTMS/OzD0f+tazyeyht3G/c7EaM2zi3EbNNMgPiYbxLg9cV7w2O7QFyD4l4jgZjLOzxUnFWqZHdUT4eCWAmELBe4/uidOTnS7KtEClDq1Vo8h4t9zKPTLWTR/CXXNehOQaTkjhfvDJ70/8qdPzMfnlzUx/q/JNO8OTpw4EjoHOrfH7uoEu/zGbfpqsM3CGZ9r+SCdVIP71Y0ddO7E/p1rSldq7jposwAAJi1JREFUmilrbtcrArxvWE7/op2e+uxY4I4JI3qpTu8LRpbTfuNVZHnM/sgWUTUZYpzQekH+AaU13cJZjtPU40zAOBiL5UdNVSQQiEzA00i1yMokkv3Owpc9WtdO6+NpcJ7T2grFQ5+Ezly80Q73NbO2VMHcXl6O3qilnEXyhU4eSIAfvUTswqUrGlB0V4nQ4RaJ6qd62dBBz+t3BiaqViVYY5wgKYNvNg9n3Lsq9EFttQc6xGaZHQ/1x/mh3Yd2XLx0QYt4OkM+7PrbN+qszfV/T121DyWStPOJaPEZD+1ZrQEP//tfhyZdInyO4aHgnXfo+JmjB47u1aqgeqtXlFenu4Iyhctr8PHEud/YmetWbGRvxibtfHy+mTz9hYpN/UmorFbTUmszhC3nElmzD+xaq+Xwy1a9xxnQH1m2BNivQTJ6CYAW+tTrt5wXjZ3/e2nX82eOqgEauxKzZmgFoW7PjdXyNV9/2O1q7Fb7jVkD4q/Uyj9Ch8I6qw/ZZylRvqE21yz+0d5JGoG4FUjCEb8WiFy6Ybfmkg57tp1mgnp2ORd0SRkUQJtsWgln4js9nNV4nJfImkMRJmqWDx38unXvkQiPxvnOoODLn0xcoGrf69Vab9KN8/q9rFBzmjOk+5etFhHS2wbUwf/NzOVeVnKHZTt/PHTMd4l6of+Djuzn0JZNy38Y75M+Q9fhI9Nn9RSJRlZDAu9XuD9mxhcK7wY++q4WfTdnb9uwU5VSNQ4c26cV983OxJY4GTYKv1a5+h4apohfy/Jkyeir1fczpM3oIed/4dCbo1/SZfbt+LJewuD5ehWOXwgO0lzDqqVqODn1Jen94ICn2j2nTb2xwXNxb46eCFtRXq9t9ibznZ3HGdShkesepo1qtc2lc8dqzMmDT3ykEfO3EaRZuxf09q4/Z/+f2qBF+vWnXgDstCdP2MTuMydi0ivkkybDI8+NSeWTdswHXfW44DZeYHyc+sCuNccO7dQy/JqiYOrXjVOJCg3PnTm6c1NoxyI/CMSTQMp4qjdhqh34xfSxr3dtUq3kjI+emr10s5ba9MuWSeN8igfkatt/pL3EvlZ/1zzXQnmya/md39fsLFUod8Vi+TbsCtTbdjs1r6rbBrvBemjw2+fPbtp9aN2OwF0HjxcL8KtUIr86tjUHQG+esnPGa/rbX5brLb917yo6deiTPy1ct3nPYb1cTI0plt9v7IylM/7YEK9ndyqvW7HIZ/07bN9/fNXWfSfOXNAjkabVS+qff73KQHMhEqABifAUR3Zs1xu1fPPk7f3jjLUzpuUqWrxgpSp7Vq748bUX7dZOf+/NgIqVtLh+/9mLVk+bcmT71iz+efxLlMxdvOT4fr0OblxvZ04M6XG/jGxS9e5qZWp/N2i61p7XaG+9V7VFrdZaGeadsa/YC0QmhtbabdCbofSWVr3nddTLE+evmlMifymtE79g9ZxPfxhiZxsy7vUSAaXUOf3j4Lla5F6DWzSdt2i+4kXzlXx6aFe938rOfGenl2/6c/T0EY/e23PkSxP0Wa/ftSb40oXiAaW1QquWZx09/XP78vXCY72cWO/9/WPdAmXTa9H06t/XRj735hMf5Irq9WF2PZGlV28N7TtoXuM+3Uus27GqXJG79PFpENGsJRG/ciSyeu6A/Yqbz50+ktk3d8+BU9Yu/UkLUwYUuev44V2Tvgq9vzI/GmWuJXHyFSrf+81Z65ZNO3Jgq0L/XHmL652yGvKu5TJNzvhLBBStrIH7sya+48w03bB8RtM2z+ltAFruJnf+knkCSusVATGbhNqux/t6Ma0oWnUe5Gr/lrXzls0b59qZ5DYnj3qu+wvf6q3JxcrW1WKpuk0qXr7BlcsXJ47oHSfjl5IcCA1OMIGkHfFrdciWz37e76FG7ZtU1vAeR01x+cbdh7JmTGtH/KfOXew1ZKKeBgTkztblnmxaLF8L22vZmVb1KqiUXiJri+fImvHy1ZCGVUro19mvjq4FK7d/+v2CbftC+3cT5kezh3u8/a1uSPReYU1CcE6qpXu27z/mPAdPgGZcvHR1z6GTuonSr3M6nf3NUbO8mTuRAM27LafQEvsT+z/badjwwlWq61dt0CL6J/bucTUm+OyZYS0bt+g3QO/TbfRkL+fo5aCgwC0bU/mkcWVODJt6u1On1+57scug++s/qE5cp0nb92958fNndh7clhhaGFkbNO34zdEDXus+WG+B1a+yadTKoeMHXPmPnT7SZkDjfp1ebdOgQ49Wtz6R8xfP6X1SGRJwfX1Xq27X5kcT31myfqHG6CvU1q+aoaE7mu0Q/tbu0x/ez5Y5h95TpretKdv+I3te+vyZJRt+f6Hz6zl9b/1vITZXsWnP+s9//ODJNs9qLSD9qqrNezbo3c+xqTOJltUbuH4cPUCd94rm9aur0DiZTavmuC7n6pXgL99uV79lz7p3P167WXfnqEJGhf5a49GVOZ42mz/wgm5Oli/41qn//NljCmTb9Qh9s6/2aOnJ6d++EbNTazawCvrmyKdfVw0njt4J3UyH9m0aNaRT+8c/1NgeZ3iPFujUe4tdI/td184mArEXSBb7KhK4hjy1O6fLUSD8SfUWrQL+2QOPndl35FT4o84ejVFRL7XCZfWX6527kWVz9mvAj+4EMqZPc+rsBd1aJPxSmHbz9OxCb/A9cSZoT+BJ5w2j9tH4TovCP0foa0F2Hjx++lzoe7gS58/RlT8FBW5S29JmD8hbp0u2zOmXjR2wcdchPfCxG3z+wPpjq6c7e57Oly1Fspj8LfBJn169+yl90pw5HHj6oDu4tE+nnsts+QtkDyhwcv++k/vj/l+sazdvjjh46zufp3qWLAXS2WePQVpvqiqct3jmDFkU7p+7cCYGNdyWIhqrUyRv8RQpUuglWUfCXjYUWTP0iegVvHly5N13ZM+hsNEIkeX8L+xPnzZD4TzFUqdKHfaoJNK/3VqgU+9k2HFg66lzJ+ODReP49aKAkGshgccPOAsreT7LpVNX9/z2T0u6tfT3y/av8Yeeiyfmo6lSp/HTJ+KT7uypw2dOHvTcv6PFOvUo4MzJQC2H7zlnAlyy3hfrH1Dm0sWzmnHr4bXBCdCSJHGKdBmy+ucvdTRwu7P+kqvNwycduHjperaS9XxLhPZiDO/fQesK6t8y/Ytmch5b/fP5AwnxtN+ckUSSFkjaffw2feDxs/q194RPXw255v2C+oryY/yGqfCnjuUeLSSq31hWEuPiiYoiulehl6y1qhfaW7b/yGnvP/0oz3Ll4sX969ZEmU0Z9M+wAv34iPW9OXsM8qiXd/v+zTEoeHuL6H1S63au8qYN+kT0dmH9epP5js+jKRwbdkX9TdatUbzeHWkUmbNs6B0PHuUFalH2QK/XbFGsr98o60yYDJeDg/ZsXZYw57oDzqJZEGZ1zsgup3bVCuVrVNFRZ85hZNnYj4A3AndOxO/N1ZLnPyig/1EO7dNWFz5l/po4jPj/g5JcMgIIIIBAQgo82KpZx/vvTsgzcq47WICI/w7+cN2XpjV/fFJ7+4lrtu5tf0bsvoBobp+/ePmRN742hY6dDjJpEggggAACCCRygQ++/HbqitB1kJwfLSXyd5L/IhBtAW/jv2hXTIHEJzD8hQ5a6sfLdlXs9PbFy1e9zJw4s4Vcu750g3tCbeJsKq1CAAEEEEDAJbDv4OHz6QNdO9lEIGYCRPwxc0uSpYZPWpglg7fTOq+EXEuSF0mjEUAAAQQQQAABBP4tkPQi/kvH91y7dNvmsP5bL4ltTb7TJ/WHBN+aun39ygUPKxhcPvVPl8m24Csp/heTtXoSz2d//eZN05jgEyH/+1+w2SSBwJ0qEHLhun1puwIvnTirLz8/CNwhAteuh/6P/cq5Yx7+LQu5mGTWUrtDPhUuAwEEEEAAAQQQQAABBBBAAAEEEEAAAQQQQAABBBBAAAEEEEAAAQQQQAABBBBAAAEEEEAAAQQQQAABBBBAAAEEEEAAAQQQQAABBBBAAAEEEEAAAQQQQAABBBBAAAEEEEAAAQQQQAABBBBAAAEEEEAAAQQQQAABBBBAAAEEEEAAAQQQQAABBBBAAAEEEEAAAQQQQAABBBBAAAEEEEAAAQQQQAABBBBAAAEEEEAAAQQQQAABBBBAAAEEEEAAAQQQQAABBBBAAAEEEEAAAQQQQAABBBBAAAEEEEAAAQQQQAABBBBAAAEEEEAAAQQQQAABBBBAAAEEEEAAAQQQQAABBBBAAAEEEEAAAQQQQAABBBBAAAEEEEAAAQQQQAABBBBAAAEEEEAAAQQQQAABBBBAAAEEEEAAAQQQQAABBBBAAAEEEEAAAQQQQAABBBBAAAEEEEAAAQQQQAABBBBAAAEEEEAAAQQQQAABBBBAAAEEEEAAAQQQQAABBBBAAAEEEEAAAQQQQAABBBBAAAEEEEAAAQQQQAABBBBAAAEEEEAAAQQQQAABBBBAAAEEEEAAAQQQQAABBBBAAAEEEEAAAQQQQAABBBBAAAEEEEAAAQQQQAABBBBAAAEEEEAAAQQQQAABBBBAAAEEEEAAAQQQQAABBBBAAAEEEEAAAQQQQAABBBBAAAEEEEAAAQQQQAABBBBAAAEEEEAAAQQSXCBZgp8xLk/Yo0cPHx8fp8ajR49OmTIlytrvuuuuGjVqONmOHTv2448/RlmEDIlQoFy5cnXq1HEadurUqe+//z4RNtL7JpUuXbp+/fpO/nPnzn333XfelyUnAggggAACCCBwJwucPn365t8/y5Yt8+ZSX3zxxb9L3Pzrr7+8KRJZnly5cpX4+ydPnjyRZWN/fAj06dPHfI4bN26Mj1MkZJ2PP/64uZxdu3Yl5Kk5FwIIIIAAAgjc8QLJ7/grjL8LHDRo0Na/fz788MP4OxE1I4AAAggggAACCCAQYwEi/hjTURABBBBAAAEEEEAAgSQgkDIJtDFOm/jpp5+OHTvWqTIkJCRO66YyBGIo8O233/78889O4WvXrsWwFoohgAACCCCAAAIRCfznIv7gsJ+IKNiHwG0TuBT2c9tOz4kRQAABBBBA4I4W+M9F/FrgpUmTJs5neujQoZEjR9qfb7FixR5++GHl8fPzy5o1q2YGHz58eOHChd98840yOzl16Omnn1a6cuXKpmyZMmXefPNNbR48eHDUqFFmv4dEihQp2rRpo0oqVKhQsmTJkydP7tmzZ/HixSp+8eLFyAqqbY0aNdJKNWXLlr18+bImrepnxowZmzZtchXJmTNnr169nJ2qXA83MmfO3LFjx7p161arVu3AgQOauPzTTz8tX75ceZIlSyaWZs2aNW3aNFWqVGrJ7Nmzv/zyy6tXr5pqM2XK9PzzzzubOvW7776bPXv2xx57TLWVL19+9+7dqkrtV0FTxEloWmrevHmd9Ndff63KCxQo8Nxzz9WuXdvX17d58+aaDeEcVTNat25dvXp1LalUtGjRLVu2aEK2fhYsWHDjxg1Xta5NNa979+5a8Uae+/btU1mt3TRv3jxXNvtEarlOpA9dmdV450TXr1+3i1StWrVly5bOnnXr1k2dOjVfvnz6ktSqVUsfwf79+zdv3izGuXPn2qWcdI4cOTp06NCiRQt/f3+lL1y4cOTIkTVr1ugp04YNG+z8+hrcd999zh596z7++GP7qJNWhpo1a+qkWtjnxIkTzkc/efLkwMBAV2Zlk6qzc9WqVdOnTw8ICHDarLJ79+7V9WqVKqm6CrKJAAIIIIAAAggkOoG4Xatn6NChZr0UV0IDLRShOtevkMt11N5U1OgNU8GCBRUc2wVNWtG5idTtqrJkyTJmzBiTzU4oLn/rrbfMQqVOKd2EmDzbtm3TykIKWM0eJ6Hr0gqnyZMnHz16tOuQNhUamkhddSrSNXnOnDmjTUXqZo9JKKZPnTq13fIVK1aYo7pdUeSqBy1mj7lxUlSqmyuz307oliZDhgx2na61erJly6bQ1i6itG4S3nvvPbuUk86fP7+CXVdmZ3PmzJmuE+nuzuTUjZ/uzXRTZ/Y4CZ3o/fff1+2Kfa4HH3xQn4srp9mcMGFCypT/3G97XqtHMnPmzDFl7YSW8nzyySddp9Z31eTRPa2+sbrTMHuchNr89ttv2w0mjQACCCCAAAIIJEaBOIz4tfCOHRIpVlNHu71HaScQj33Er152BWquyl2bTzzxhC2ueF0PGVx5XJvqPLaDfjvi15sHtOajK7+zqY7nadOmRXhIOxVommbYEb/6+NW9HVmpP//80w767Yi/d+/erjjYifj17MKzydq1a+0lUO2IXyG4HnFE1hjzSMe5ED1Y8Hyi9evX2/c5dsS/cuVKda5HdqK7777bWKlfX3dTJqeeG5w/f95sOgkF/Sa/h4hfPkFBQa6yrk3XayXsiF/PLuy/Jq6CDRo0MG0ggQACCCCAAAIIJEYBO5TxsnM9svX4NQ7EBEPKo9BZ/aalSpUaN26c2a8+bylobIy6b/WjESPm0NKlS52d6sP2LKWeXY2pMAV1CRpv06lTp08++cSOoRUvauiOqeqHH34wRTThWMNCunXrpjsQV7DujCxyStkRv1NWkbEeBQwbNkwDUUxtJqHROK+99prGFJ09e9bsVEJ3OE6FdsTvZFBONV4jhV599VUFynYpjfYxjbcjfj0csLMprYg2TZo0O3bsMPs13Kh///5t27YdMGCA3Tk9adIkU6cd8TsFdcMzZMiQN954Q5+FqUqJWbNmmVL6WLdv326OKoJ3TqQ/7RPZAbQd8TsF9ahEPfqvv/76kiVLTFVK2HdHiubNIX12+s6oDQLUFZn96mU39zCRRfz6tuhWxxTRvcpnn32mb4sa/Mcff5j9Smj4kLlMO+J38qxevdrB0Q2AXcpMFzZlSSCAAAIIIIAAAolLIK4iflcsq1Hm5jo1ml+vdDVBkh2Fa7yE2a+ozhTxnLBDVfX7mjEtKqVxO3a0rTDaqUqdx+ZEuhPQ6H/7FPY9zJUrV/ROMOeoK+JXpJsxY0bnkIa8azC9qVOJwYMHmzrVC24f0p2Mc8ilpKZWqlTJlEqfPv3vv/9uCmpYvxm1Ykf8TgbdVzRs2FBDcTTZQOG+blRMQUXbmkhgqi1UqJDpLFdPeeHChZ1DNqPKaji7OZ0mSMyfP99UqFFSpjbdD5j9GpFvn0gfun0izSJwSrkifruUTmQPthGIOZE98kcButmvhD2aSwNynEORRfx27K767W+LxmLpxs9cjt457dxXqEK7lDJMnDhRTXVOJKVFixbZpZz9/IkAAggggAACCCRSgbiK+BVHmhhIid9++00THM01K1pSaOj82AOmYxbx253ZmvxqzuIkBg4cqCEczo+ZAms/Z9AsTFcRbdr91q+88oqTwRXxa+KmXVB98+aS9dBAM2jto/b9gDr+nUOuiN++SXAyuMY7NW7c2Nnvivhfeukl+1xKHz9+3DRGg+xdRxVkm6MjRoxwjroifj2NsUupw9sUUcIMMdLoJrPfvq9zyupmwxzVrGVnpyvit2/5lKFdu3amiBJp06Z1Sin+Nvv1iYvCfHMUqf/9bUqltJM/sojfnpwQHlx3bvbYs/vvv9+pzRXxFy9e3Nnv/KlvgmmbbqLMzYCdhzQCCCCAAAII3EkC/8wdvJOuKrrXog5pjajR/EinoOIzjQvXGB4NnHDWb9m5c2d064wwv0JPdVqbQ+PHjzdpJ6FRN/px7VTsbvZE+DBBw13MAwH7XsWUUkJjUexNrUFkNtUhrXsns6mE5gxobrGzR33w9iGTtsfYODu1eoyWoDExsbrJwy+Vo5jb9X5iTVHQOjZODbrVuffee80pnIQGApk9WsbHpE1CUa8GSplNJXTHYm9qTSFdr54n6MfZryL33HOPnUdpu5M+whPpEYprjR3XiXQhWgRJVWlmsAY7OfXLQfeQelKkZyD6OulPjbHRkB7X2cNv6n5AE4XN/vAfvZ4R6bbQPPPRR69Vg0x+J6GBQLohtHfabdYp9KRFd1x2BtIIIIAAAgggcIcJEPHf+kAVNilKM+MitFchr366du2qtCJ+reSjVWhi+dIuBX92l6o3NxKKycxAHbVE8w30p+vH3hlZxO+K6jSCxVSioNCknYRCW9ee8Jv2Sc1RzQ82Eb99b2MyKPZ1VW7mCSiPxh1pnLrJHD5hQnb7kDrU7U2l7ZsEbTrm9ok0Bin+TqQzaoKyHOzPQoG1vmP60VENNPriiy9052PfY2i/60dfv3Tp0pmdEYLbO+3TmVJe4pj8JBBAAAEEEEDgzhO4Najgzruw6F6R5n1qXXYNs3Gm57qKK1L/6quvNOrDjtddebzZtBeB0XI3WrUmylKKTc1YEWVW53T4Ilpvx+xUf7ZJe5nQGA9XzvB7XBm0aZ/UHFWvs0lHGJ2HXzzedPCbgh4SEWbW26s8FDGHoiWjE5lxOKYGL0+k/IrpNeZeI4KcebemBiehlmj4liYoR3g5JrNuEkxaiZh99N632T4XaQQQQAABBBC4kwTo4//n01QvuAbB66dIkSJaQFM/mjJrh61aSP7RRx/18gVb/9RrpdQFbrY0WsaZqmv2RJjQQBeNsTGLuuj9X+GzaWCM2WneZmX2xFMid+7cGgrlqtxunjO+xZXBviVwDtkN1tH27du7irg29dDDmyExrlLa1EsJzE6pPvDAA2YzwoRO5HobV4TZItupOzrNOtCPvkL16tXTfGi9FUt3lSa/biO15o/WXDJ7XAnXaBzZavyVK89t+ehdbWATAQQQQAABBBK5ABF/6Aek4fVmpRf1uysu149ed6WYT8Mw1LuvFXucD1KhW2wifg2hVte4eceT3ttqrx2pU+h0Oq9zLgV8eims0lpM00T8NWrUsFeBdHJqp5NwMpt0vCZ0UlfEL0O9wtacVIYm7SGhQFwRvKiVR1NR1fPtGpPjoWy0DsnTTFTV8CFNitXY+mjV4GVmPQgyL0bQ6CndSWopIf2oeJUqVTQ2zMwz1tfJQ50abaVHIua5kMDDR/y35aP30GYOIYAAAggggEAiFGBUT+iHooVfNGTC+bHnlSoS1Uie77//3nxyTmBqNk0i/Aoz5pCd0GgZDR8ye5566imTdhIvvPCC5hI4P3qPlbNTsanJpi5he2y39isibN26tclgZzY74yOhISsuDa2gb/fxa36qN+fVsBNN+TU5O3fubNJOQmGxLsr50VKkrqPeb6rT3Z53G/5EegvY3+dZFX5BIe9PpFm/f3+bLurlAHZBvQHAfg1w+IFDdmal1R6zR98WF7geQ9mTE+zMphQJBBBAAAEEEEAgaQvYq3Oq+9aEWREmqlatqqu1V69Xd7Jz/RUqVDDrFapHVqN6jIvG0NuvQDILqCuDa4FLRcA6RcWKFU3ZCBM1a9bUjYQ5nV68pbE9yqlgzrWoogJQpwY9YbBXe9QKQs6yQooXy5cvr+m/pjbdTpiZBq7VOe3hSar2+eeft0u5mqr5teaoWULUtTqnMug9U061Wm5SS0OK3ZSaMWOGqdNenTPCSLpp06amoAb2KBZ3QmH1xGv5S42Jd47KzaxdY6/Oad8wOCfVgBlToRJqubNfqzCZ/RrYo2nZ5kS6XTHv09WJzCxYe3VOewCSU6Em15oKldCm9utZh7rnnf36WroWBdIzHFNE66469US2OqeeBmiis53fGfqvT1nXYn//7ftS+4ukb69zCvOnDE2FSmh0ljlEAgEEEEAAAQQQSHQCdsRjBzERpp31FiOM+BX2KZgzpRS5KizT61G1ArodT6s32rwBShY9evQwRUzCm1f/amy3ya+EBn7o7Ip07Z1mPXgH3bXAvHJqgIcJhZ2Cqsd+JVYCRPzOeTV6x471nZ12S6KM+HWNWuvTKej8qbFPWnBTI6zsnSY+Vv6YRfwqqMjYrlMtD3+i7777zmHXnzGI+FXKDusV9OvVtlo+VW82cL2m18wliCziV1X268mclgtctyv2VWgclP10hYjffHwkEEAAAQQQQCDJC8RVxC8IDZS3g3s7nHLS6mpt0aKFTaaRPK6YWzm9ifi1/I4mA4Q/hdmjdULNS6PMGfv16xccHGzyuBJ6NOGa8xrfEb9CWN0CuZqhTe10vWXWm4hfzzFcsbirZgXNtkmMI36dSI8mXJXbm3rHmX2imEX8GsevGRp2teHT5tVm+og9RPxqzEcffaTbhvA1OHv0vdW0YPM9UYKI39YgjQACCCCAAAKM47/1HdB6OAqb3n77bSVcXwvF+nr5Uf369X/55Rf7kNai0cgKBXbRXaRf/cqPPfaYhrKsX79ekZxdp6b2Klxu1KhR+IU7NcFAg7Z//fVXhdR2ET0cUOe3hn+EfyWWnS3O0zLR5dvTc/WQQWP3BaWQOrqnUy+1nmNoDI8zkdcurnfWKuzWofAmdjYv0zqRhDWGJ8IT9erVK05OpO+MJmFrVX575oDTQoXpixYtevDBB9V5702bddV9+/bVYDDdOLm+aRqGNGTIEC38v3jxYm+qIg8CCCCAAAII/DcFkv03L9vDVWuEdPHixf39/bXuocZOHDlyRBGn5zclaRS7r6+vVuBRcKa+dkV7Hup3HdI8AQ0Z17hzvRRWnbX2q3BdOc2mRvxrcJG68DUVVe8GDr9+i8kZtwmNhrcX3NRCk2qwTqHxJFpTSCPXNS1VTyFif1JNTXZMhKnlgHRToSg59tWGr8E5kaZt6FmNXmUVTyfSm8g0u1rfKN0R6eukFz548ymHb6326JumL6fu7tRgffTyiTAbOxFAAAEEEEAAAQQQiImAa+au7lJiUgtlEEAAAQQQQAABBBJWgFE9CevN2RBAAAEEEEAAAQQQSFgBIv6E9eZsCCCAAAIIIIAAAggkrAARf8J6czYEEEAAAQQQQAABBBJWIGXCno6zJWEBrXKjxWfMBWihGJMmgQACCCCAAAIIIIAAAggggAACCCCAAAIIIIAAAggggAACCCCAAAIIIIAAAggggAACCCCAAAIIIIAAAggggAACCCCAAAIIIIAAAggggAACCCCAAAIIIIAAAggggAACCCCAAAIIIIAAAggggAACCCCAAAIIIIAAAggggAACCCCAAAIIIIAAAggggAACCCCAAAIIIIAAAggggAACCCCAAAIIIIAAAggggAACCCCAAAIIIIAAAggggAACCCCAAAIIIIAAAggggAACCCCAAAIIIIAAAggggAACCCCAAAIIIIAAAggggAACCCCAAAIIIIAAAggggAACCCCAAAIIIIAAAggggAACCCCAAAIIIIAAAggggAACCCCAAAIIIIAAAggggAACCCCAAAIIIIAAAggggAACCCCAAAIIIIAAAggggAACCCCAAAIIIIAAAggggAACCCCAAAIIIIAAAggggAACCCCAAAIIIIAAAggggAACCCCAAAIIIIAAAggggAACCCCAAAIIIIAAAggggAACCCCAAAIIIIAAAggggAACCCCAAAIIIIAAAggggAACCCCAAAIIIIAAAggggAACCCCAAAIIIIAAAggggAACCCCAAAIIIIAAAggggAACCCCAAAIIIIAAAggggAACCCCAAAIIIIAAAggggAACCCCAAAIIIIAAAggggAACCCCAAAIIIIAAAggggAACCCCAAAIIIIAAAggggAACCCCAAAIIIIAAAggggAACCCCAAAIIIIAAAggggAACCCCAAAIIIIAAAggggAACCCCAAAIIIIAAAggggAACCCCAAAIIIIAAAggggAACCCCAAAIIIIAAAggggAACCCCAAAIIIIAAAggggAACCCCAAAIIIIAAAggggAACCCCAAAIIIIAAAggggAACCCCAAAIIIIAAAggggAACCCCAAAIIIIAAAggggAACCCCAAAIIIIAAAggggAACCCCAAAIIIIAAAggggAACCCCAAAIIIIAAAggggAACCCCAAAIIIIAAAggggAACCCCAAAIIIIAAAggggAACCCCAAAIIIIAAAggggAACCCCAAAIIIIAAAggggAACCCCAAAIIIIAAAggggAACCCCAAAIIIIAAAggggAACCCCAAAIIIIAAAggggAACCCCAAAIIIIAAAggggAACCCCAAAIIIIAAAggggAACCCCAAAIIIIAAAggggAACCCCAAAIIIIAAAggggAACCCCAAAIIIIAAAggggAACCCCAAAIIIIAAAggggAACCCCAAAIIIIAAAggggAACCCCAAAIIIIAAAggggAACCCCAAAIIIIAAAggggAACCCCAAAIIIIAAAggggAACCCCAAAIIIIAAAggggAACCCCAAAIIIIAAAggggAACCCCAAAIIIIAAAggggAACCCCAAAIIIIAAAggggAACCCCAAAIIIIAAAggggAACCCCAAAIIIIAAAggggAACCCCAAAIIIIAAAggggAACCCCAAAIIIIAAAggggAACCCCAAAIIIIAAAggggAACCCCAAAIIIIAAAggggAACCCCAAAIIIIAAAggggAACCCCAAAIIIIAAAggggAACCCCAAAIIIIAAAggggAACCCCAAAIIIIAAAggggAACCCCAAAIIIIAAAggggAACCCCAAAIIIIAAAggggAACCCCAAAIIIIAAAggggAACCCCAAAIIIIAAAggggAACCCCAAAIIIIAAAggggAACCCCAAAIIIIAAAggggAACCCCAAAIIIIAAAggggAACCCCAAAIIIIAAAggggAACCCCAAAIIIIAAAggggAACCCCAAAIIIIAAAggggAACCCCAAAIIIIAAAggggAACCCCAAAIIIIAAAggggAACCCCAAAIIIIAAAggggAACCCCAAAIIIIAAAggggAACCCCAAAIIIIAAAggggAACCCCAAAIIIIAAAggggAACCCCAAAIIIIAAAggggAACCCCAAAIIIIAAAggggAACCCCAAAIIIIAAAggggAACCCCAAAIIIIAAAggggAACCCCAAAIIIIAAAggggAACCCCAAAIIIIAAAggggAACCCCAAAIIIIAAAggggAACCCCAAAIIIIAAAggggAACCCCAAAIIIIAAAggggAACCCCAAAIIIIAAAggggAACCCCAAAIIIIAAAggggAACCCCQiAT+H8cgUXP69EhlAAAAAElFTkSuQmCC\"\n    }\n   },\n   \"cell_type\": \"markdown\",\n   \"id\": \"995b2614\",\n   \"metadata\": {},\n   \"source\": [\n    \"![image.png](attachment:image.png)\"\n   ]\n  },\n  {\n   \"cell_type\": \"code\",\n   \"execution_count\": null,\n   \"id\": \"c7b2a5a6\",\n   \"metadata\": {},\n   \"outputs\": [],\n   \"source\": []\n  }\n ],\n \"metadata\": {\n  \"kernelspec\": {\n   \"display_name\": \"Python 3 (ipykernel)\",\n   \"language\": \"python\",\n   \"name\": \"python3\"\n  },\n  \"language_info\": {\n   \"codemirror_mode\": {\n    \"name\": \"ipython\",\n    \"version\": 3\n   },\n   \"file_extension\": \".py\",\n   \"mimetype\": \"text/x-python\",\n   \"name\": \"python\",\n   \"nbconvert_exporter\": \"python\",\n   \"pygments_lexer\": \"ipython3\",\n   \"version\": \"3.9.13\"\n  }\n },\n \"nbformat\": 4,\n \"nbformat_minor\": 5\n}\n","colorizedLines":null,"stylingDirectives":null,"csv":null,"csvError":null,"dependabotInfo":{"showConfigurationBanner":false,"configFilePath":null,"networkDependabotPath":"/scottbarnett97/python-exercises/network/updates","dismissConfigurationNoticePath":"/settings/dismiss-notice/dependabot_configuration_notice","configurationNoticeDismissed":null,"repoAlertsPath":"/scottbarnett97/python-exercises/security/dependabot","repoSecurityAndAnalysisPath":"/scottbarnett97/python-exercises/settings/security_analysis","repoOwnerIsOrg":false,"currentUserCanAdminRepo":false},"displayName":"import_exercises.ipynb","displayUrl":"https://notebooks.githubusercontent.com/view/ipynb?browser=chrome\u0026bypass_fastly=true\u0026color_mode=auto\u0026commit=feb31520757e3d3cb3d21c7e32dc1cb2030a6443\u0026device=unknown_device\u0026docs_host=https%3A%2F%2Fdocs.github.com\u0026enc_url=68747470733a2f2f7261772e67697468756275736572636f6e74656e742e636f6d2f73636f74746261726e65747439372f707974686f6e2d6578657263697365732f666562333135323037353765336433636233643231633765333264633163623230333061363434332f696d706f72745f6578657263697365732e6970796e62\u0026logged_in=false\u0026nwo=scottbarnett97%2Fpython-exercises\u0026path=import_exercises.ipynb\u0026platform=mac\u0026repository_id=615129265\u0026repository_type=Repository\u0026version=114","headerInfo":{"blobSize":"99.2 KB","deleteInfo":{"deletePath":null,"deleteTooltip":"You must be signed in to make or propose changes"},"editInfo":{"editTooltip":"You must be signed in to make or propose changes"},"ghDesktopPath":"https://desktop.github.com","gitLfsPath":null,"onBranch":true,"shortPath":"f498cf9","siteNavLoginPath":"/login?return_to=https%3A%2F%2Fgithub.com%2F%2Fscottbarnett97%2Fpython-exercises%2Fblob%2Fmain%2Fimport_exercises.ipynb","isCSV":false,"isRichtext":false,"toc":null,"lineInfo":{"truncatedLoc":"885","truncatedSloc":"885"},"mode":"file"},"image":false,"isCodeownersFile":null,"isValidLegacyIssueTemplate":false,"issueTemplateHelpUrl":"https://docs.github.com/articles/about-issue-and-pull-request-templates","issueTemplate":null,"discussionTemplate":null,"language":"Jupyter Notebook","large":false,"loggedIn":false,"newDiscussionPath":"/scottbarnett97/python-exercises/discussions/new","newIssuePath":"/scottbarnett97/python-exercises/issues/new","planSupportInfo":{"repoIsFork":null,"repoOwnedByCurrentUser":null,"requestFullPath":"/scottbarnett97/python-exercises/blob/main/import_exercises.ipynb","showFreeOrgGatedFeatureMessage":null,"showPlanSupportBanner":null,"upgradeDataAttributes":null,"upgradePath":null},"publishBannersInfo":{"dismissActionNoticePath":"/settings/dismiss-notice/publish_action_from_dockerfile","dismissStackNoticePath":"/settings/dismiss-notice/publish_stack_from_file","releasePath":"/scottbarnett97/python-exercises/releases/new?marketplace=true","showPublishActionBanner":false,"showPublishStackBanner":false},"renderImageOrRaw":false,"richText":null,"renderedFileInfo":{"identityUUID":"8d39a439-b3a5-43b1-93ad-9b070dab062f","renderFileType":"ipynb","size":101541},"tabSize":8,"topBannersInfo":{"overridingGlobalFundingFile":false,"globalPreferredFundingPath":null,"repoOwner":"scottbarnett97","repoName":"python-exercises","showInvalidCitationWarning":false,"citationHelpUrl":"https://docs.github.com/en/github/creating-cloning-and-archiving-repositories/creating-a-repository-on-github/about-citation-files","showDependabotConfigurationBanner":false,"actionsOnboardingTip":null},"truncated":false,"viewable":true,"workflowRedirectUrl":null,"symbols":{"timedOut":false,"notAnalyzed":true,"symbols":[]}},"csrf_tokens":{"/scottbarnett97/python-exercises/branches":{"post":"V1NNWR8CQtsf-Rdzzzc5xkHSy0gLpuWk6OCULmFUVa-uTeyTKuQoUzFdKJv3Quo1VDtgzWonNY3Ix7j8YbHJ7g"}}},"title":"python-exercises/import_exercises.ipynb at main · scottbarnett97/python-exercises","locale":"en","appPayload":{"helpUrl":"https://docs.github.com","findFileWorkerPath":"/assets-cdn/worker/find-file-worker-848bb9a5da17.js","findInFileWorkerPath":"/assets-cdn/worker/find-in-file-worker-c9b8ff248bc9.js","githubDevUrl":null,"enabled_features":{"virtualize_file_tree":true,"react_repos_overview":false,"repos_new_shortcut_enabled":true,"blob_navigation_cursor":true,"code_nav_ui_events":false,"ref_selector_v2":false,"codeview_codemirror_next_editors":false,"blob_firefox_separate_characters":true,"column_symbol_auto_select":false,"copilot_conversational_ux":false}}}</script>
  <div data-target="react-app.reactRoot"><div color="fg.default" font-family="normal" data-portal-root="true" data-color-mode="auto" data-light-theme="light" data-dark-theme="dark" class="BaseStyles__Base-sc-nfjs56-0 ffgjwS"><div id="__primerPortalRoot__" style="z-index: 10; position: absolute; width: 100%;"></div><meta data-hydrostats="publish">    <button hidden="" data-testid="header-permalink-button" data-hotkey="y,Y" data-hotkey-scope="read-only-cursor-text-area"></button><button hidden="" data-hotkey="y,Y"></button><div class="Box-sc-g0xbh4-0"><div class="Box-sc-g0xbh4-0 fSWWem" style="--sticky-pane-height: calc(100vh - (max(220.5px, 0px)));"><div class="Box-sc-g0xbh4-0 kPPmzM"><div class="Box-sc-g0xbh4-0 cIAPDV"><div tabindex="0" class="Box-sc-g0xbh4-0 gvCnwW"><div class="Box-sc-g0xbh4-0 bmoGdi"><div class="Box-sc-g0xbh4-0 eUyHuk"></div><div class="Box-sc-g0xbh4-0 hfkJif"><div role="separator" class="Box-sc-g0xbh4-0 ekKrwo"></div></div><div class="Box-sc-g0xbh4-0 gNdDUH" style="--pane-width: 320px;"><span class="_VisuallyHidden__VisuallyHidden-sc-11jhm7a-0 rTZSs"><form><label for=":r0:-width-input">Pane width</label><p id=":r0:-input-hint">Use a value between 32% and 36%</p><input id=":r0:-width-input" aria-describedby=":r0:-input-hint" name="pane-width" inputmode="numeric" pattern="[0-9]*" autocorrect="off" autocomplete="off" type="text" value="0"><button type="submit">Change width</button></form></span></div></div></div><main class="Box-sc-g0xbh4-0 emFMJu"><div class="Box-sc-g0xbh4-0"></div><div class="Box-sc-g0xbh4-0 hlUAHL"><div data-selector="repos-split-pane-content" tabindex="0" class="Box-sc-g0xbh4-0 iStsmI"><div class="Box-sc-g0xbh4-0 eIgvIk"><div id="StickyHeader" class="Box-sc-g0xbh4-0 bDwCYs"><div class="Box-sc-g0xbh4-0 rmFvl"><div class="Box-sc-g0xbh4-0 dyczTK"><div class="Box-sc-g0xbh4-0 cpXcux"><div class="Box-sc-g0xbh4-0 iPEkxH"><h2 class="Heading__StyledHeading-sc-1c1dgg0-0 fNPcqd"><button data-component="IconButton" data-testid="expand-file-tree-button" aria-label="Side panel" aria-expanded="false" aria-controls="repos-file-tree" data-hotkey="Meta+b" class="types__StyledButton-sc-ws60qy-0 kdDXXs react-tree-toggle-button-with-indicator" data-no-visuals="true"><svg aria-hidden="true" focusable="false" role="img" class="octicon octicon-sidebar-collapse" viewBox="0 0 16 16" width="16" height="16" fill="currentColor" style="display: inline-block; user-select: none; vertical-align: text-bottom; overflow: visible;"><path d="M6.823 7.823a.25.25 0 0 1 0 .354l-2.396 2.396A.25.25 0 0 1 4 10.396V5.604a.25.25 0 0 1 .427-.177Z"></path><path d="M1.75 0h12.5C15.216 0 16 .784 16 1.75v12.5A1.75 1.75 0 0 1 14.25 16H1.75A1.75 1.75 0 0 1 0 14.25V1.75C0 .784.784 0 1.75 0ZM1.5 1.75v12.5c0 .138.112.25.25.25H9.5v-13H1.75a.25.25 0 0 0-.25.25ZM11 14.5h3.25a.25.25 0 0 0 .25-.25V1.75a.25.25 0 0 0-.25-.25H11Z"></path></svg></button><button hidden="" data-testid="" data-hotkey="Meta+b" data-hotkey-scope="read-only-cursor-text-area"></button></h2></div><div class="Box-sc-g0xbh4-0 AaBxc"><button type="button" id="branch-picker-1688766838613" aria-haspopup="true" tabindex="0" data-hotkey="w" aria-label="main branch" data-testid="anchor-button" class="types__StyledButton-sc-ws60qy-0 rbNwZ ref-selector-class"><span data-component="buttonContent" class="Box-sc-g0xbh4-0 kkrdEu"><span data-component="text"><div class="Box-sc-g0xbh4-0 cFPoqW"><div class="Box-sc-g0xbh4-0 kYlvBX"><svg aria-hidden="true" focusable="false" role="img" class="octicon octicon-git-branch" viewBox="0 0 16 16" width="16" height="16" fill="currentColor" style="display: inline-block; user-select: none; vertical-align: text-bottom; overflow: visible;"><path d="M9.5 3.25a2.25 2.25 0 1 1 3 2.122V6A2.5 2.5 0 0 1 10 8.5H6a1 1 0 0 0-1 1v1.128a2.251 2.251 0 1 1-1.5 0V5.372a2.25 2.25 0 1 1 1.5 0v1.836A2.493 2.493 0 0 1 6 7h4a1 1 0 0 0 1-1v-.628A2.25 2.25 0 0 1 9.5 3.25Zm-6 0a.75.75 0 1 0 1.5 0 .75.75 0 0 0-1.5 0Zm8.25-.75a.75.75 0 1 0 0 1.5.75.75 0 0 0 0-1.5ZM4.25 12a.75.75 0 1 0 0 1.5.75.75 0 0 0 0-1.5Z"></path></svg></div><div class="Box-sc-g0xbh4-0 dKmYfk"><span class="Text-sc-17v1xeu-0 bOMzPg">&nbsp;main</span></div></div></span><span data-component="trailingVisual" class="Box-sc-g0xbh4-0 trpoQ"><svg aria-hidden="true" focusable="false" role="img" class="octicon octicon-triangle-down" viewBox="0 0 16 16" width="16" height="16" fill="currentColor" style="display: inline-block; user-select: none; vertical-align: text-bottom; overflow: visible;"><path d="m4.427 7.427 3.396 3.396a.25.25 0 0 0 .354 0l3.396-3.396A.25.25 0 0 0 11.396 7H4.604a.25.25 0 0 0-.177.427Z"></path></svg></span></span></button><button hidden="" data-hotkey="w" data-hotkey-scope="read-only-cursor-text-area"></button></div><div class="Box-sc-g0xbh4-0 cPtPLh"><div class="Box-sc-g0xbh4-0 eTvGbF"><nav data-testid="breadcrumbs" aria-labelledby="breadcrumb-heading" id="breadcrumb" class="Box-sc-g0xbh4-0 kzRgrI"><h2 class="Heading__StyledHeading-sc-1c1dgg0-0 cgQnMS sr-only" data-testid="screen-reader-heading" id="breadcrumb-heading">Breadcrumbs</h2><ol class="Box-sc-g0xbh4-0 cmAPIB"><li class="Box-sc-g0xbh4-0 jwXCBK"><a sx="[object Object]" data-testid="breadcrumbs-repo-link" class="Link__StyledLink-sc-14289xe-0 eVjWum" href="/scottbarnett97/python-exercises/tree/main">python-exercises</a></li></ol></nav><div data-testid="breadcrumbs-filename" class="Box-sc-g0xbh4-0 jwXCBK"><span aria-hidden="true" class="Text-sc-17v1xeu-0 ivLLle">/</span><h1 tabindex="-1" id="file-name-id" class="Heading__StyledHeading-sc-1c1dgg0-0 diwsLq">import_exercises.ipynb</h1></div><button data-component="IconButton" aria-label="Copy path" data-testid="breadcrumb-copy-path-button" data-size="small" data-no-visuals="true" class="types__StyledButton-sc-ws60qy-0 ggLZZB"><svg aria-hidden="true" focusable="false" role="img" class="octicon octicon-copy" viewBox="0 0 16 16" width="16" height="16" fill="currentColor" style="display: inline-block; user-select: none; vertical-align: text-bottom; overflow: visible;"><path d="M0 6.75C0 5.784.784 5 1.75 5h1.5a.75.75 0 0 1 0 1.5h-1.5a.25.25 0 0 0-.25.25v7.5c0 .138.112.25.25.25h7.5a.25.25 0 0 0 .25-.25v-1.5a.75.75 0 0 1 1.5 0v1.5A1.75 1.75 0 0 1 9.25 16h-7.5A1.75 1.75 0 0 1 0 14.25Z"></path><path d="M5 1.75C5 .784 5.784 0 6.75 0h7.5C15.216 0 16 .784 16 1.75v7.5A1.75 1.75 0 0 1 14.25 11h-7.5A1.75 1.75 0 0 1 5 9.25Zm1.75-.25a.25.25 0 0 0-.25.25v7.5c0 .138.112.25.25.25h7.5a.25.25 0 0 0 .25-.25v-7.5a.25.25 0 0 0-.25-.25Z"></path></svg></button></div></div></div><div class="Box-sc-g0xbh4-0 gtBUEp"><div class="d-flex gap-2"> <div class="Box-sc-g0xbh4-0 kfYOBR"><span class="TextInputWrapper__TextInputBaseWrapper-sc-1mqhpbi-0 TextInputWrapper-sc-1mqhpbi-1 cgNHBf cuQjCh TextInput-wrapper" aria-busy="false"><span class="TextInput-icon"><svg aria-hidden="true" focusable="false" role="img" class="octicon octicon-search" viewBox="0 0 16 16" width="16" height="16" fill="currentColor" style="display: inline-block; user-select: none; vertical-align: text-bottom; overflow: visible;"><path d="M10.68 11.74a6 6 0 0 1-7.922-8.982 6 6 0 0 1 8.982 7.922l3.04 3.04a.749.749 0 0 1-.326 1.275.749.749 0 0 1-.734-.215ZM11.5 7a4.499 4.499 0 1 0-8.997 0A4.499 4.499 0 0 0 11.5 7Z"></path></svg></span><input type="text" aria-label="Go to file" role="combobox" aria-controls="file-results-list" aria-expanded="false" aria-haspopup="dialog" autocorrect="off" spellcheck="false" placeholder="Go to file" data-component="input" class="UnstyledTextInput-sc-14ypya-0 cDLBls" value=""><span class="TextInput-icon"></span></span></div><button type="button" data-hotkey="b,B,Meta+/ Meta+b" data-no-visuals="true" class="types__StyledButton-sc-ws60qy-0 RvMXq"><span data-component="buttonContent" class="Box-sc-g0xbh4-0 kkrdEu"><span data-component="text">Blame</span></span></button><button hidden="" data-testid="" data-hotkey="b,B,Meta+/ Meta+b" data-hotkey-scope="read-only-cursor-text-area"></button><button data-component="IconButton" aria-label="More file actions" class="types__StyledButton-sc-ws60qy-0 iQeSuo js-blob-dropdown-click" title="More file actions" data-testid="more-file-actions-button" id=":r3:" aria-haspopup="true" tabindex="0" data-no-visuals="true"><svg aria-hidden="true" focusable="false" role="img" class="octicon octicon-kebab-horizontal" viewBox="0 0 16 16" width="16" height="16" fill="currentColor" style="display: inline-block; user-select: none; vertical-align: text-bottom; overflow: visible;"><path d="M8 9a1.5 1.5 0 1 0 0-3 1.5 1.5 0 0 0 0 3ZM1.5 9a1.5 1.5 0 1 0 0-3 1.5 1.5 0 0 0 0 3Zm13 0a1.5 1.5 0 1 0 0-3 1.5 1.5 0 0 0 0 3Z"></path></svg></button> </div></div></div></div></div></div><div class="Box-sc-g0xbh4-0 bhAUGf"> <div class="Box-sc-g0xbh4-0 cMYnca"></div><div class="Box-sc-g0xbh4-0"></div>   </div><div class="Box-sc-g0xbh4-0 fwKaNR">   <div class="Box-sc-g0xbh4-0 kLxXov"><div class="Box-sc-g0xbh4-0 eYedVD"><h2 class="Heading__StyledHeading-sc-1c1dgg0-0 cgQnMS sr-only" data-testid="screen-reader-heading">Latest commit</h2><div class="Skeleton Skeleton--text" data-testid="loading" style="width: 120px;">&nbsp;</div><div class="Box-sc-g0xbh4-0 jGfYmh"><div data-testid="latest-commit-details" class="Box-sc-g0xbh4-0 lhFvfi"></div><h2 class="Heading__StyledHeading-sc-1c1dgg0-0 cgQnMS sr-only" data-testid="screen-reader-heading">History</h2><a aria-label="History" class="types__StyledButton-sc-ws60qy-0 eCYGTT react-last-commit-history-group" href="/scottbarnett97/python-exercises/commits/main/import_exercises.ipynb" data-size="small"><span data-component="buttonContent" class="Box-sc-g0xbh4-0 kkrdEu"><span data-component="leadingVisual" class="Box-sc-g0xbh4-0 trpoQ"><svg aria-hidden="true" focusable="false" role="img" class="octicon octicon-history" viewBox="0 0 16 16" width="16" height="16" fill="currentColor" style="display: inline-block; user-select: none; vertical-align: text-bottom; overflow: visible;"><path d="m.427 1.927 1.215 1.215a8.002 8.002 0 1 1-1.6 5.685.75.75 0 1 1 1.493-.154 6.5 6.5 0 1 0 1.18-4.458l1.358 1.358A.25.25 0 0 1 3.896 6H.25A.25.25 0 0 1 0 5.75V2.104a.25.25 0 0 1 .427-.177ZM7.75 4a.75.75 0 0 1 .75.75v2.992l2.028.812a.75.75 0 0 1-.557 1.392l-2.5-1A.751.751 0 0 1 7 8.25v-3.5A.75.75 0 0 1 7.75 4Z"></path></svg></span><span data-component="text"><span class="Text-sc-17v1xeu-0 ghRVGj">History</span></span></span></a><div class="Box-sc-g0xbh4-0 bqgLjk"></div><a aria-label="History" class="types__StyledButton-sc-ws60qy-0 eCYGTT react-last-commit-history-icon" href="/scottbarnett97/python-exercises/commits/main/import_exercises.ipynb"><span data-component="buttonContent" class="Box-sc-g0xbh4-0 kkrdEu"><span data-component="leadingVisual" class="Box-sc-g0xbh4-0 trpoQ"><svg aria-hidden="true" focusable="false" role="img" class="octicon octicon-history" viewBox="0 0 16 16" width="16" height="16" fill="currentColor" style="display: inline-block; user-select: none; vertical-align: text-bottom; overflow: visible;"><path d="m.427 1.927 1.215 1.215a8.002 8.002 0 1 1-1.6 5.685.75.75 0 1 1 1.493-.154 6.5 6.5 0 1 0 1.18-4.458l1.358 1.358A.25.25 0 0 1 3.896 6H.25A.25.25 0 0 1 0 5.75V2.104a.25.25 0 0 1 .427-.177ZM7.75 4a.75.75 0 0 1 .75.75v2.992l2.028.812a.75.75 0 0 1-.557 1.392l-2.5-1A.751.751 0 0 1 7 8.25v-3.5A.75.75 0 0 1 7.75 4Z"></path></svg></span></span></a></div></div></div><div class="Box-sc-g0xbh4-0 bSdwWB react-code-size-details-banner"><div class="Box-sc-g0xbh4-0 react-code-size-details-banner"><div class="Box-sc-g0xbh4-0 bZpGqz text-mono"><div title="99.2 KB" data-testid="blob-size" class="Truncate__StyledTruncate-sc-23o1d2-0 fUpWeN"><span class="Text-sc-17v1xeu-0 gPDEWA">885 lines (885 loc) · 99.2 KB</span></div></div></div></div><div class="Box-sc-g0xbh4-0 izfgQu"><div class="Box-sc-g0xbh4-0 cQgThc"><div class="Box-sc-g0xbh4-0 gBKNLX react-blob-view-header-sticky" id="repos-sticky-header"><div class="Box-sc-g0xbh4-0 ePiodO"><div class="Box-sc-g0xbh4-0 kQJlnf"><div class="Box-sc-g0xbh4-0 nSWSp"><div class="Box-sc-g0xbh4-0 lhFvfi"><div class="Box-sc-g0xbh4-0 doiYd"><button type="button" id="branch-picker-1688766838622" aria-haspopup="true" tabindex="0" data-hotkey="w" aria-label="main branch" data-testid="anchor-button" class="types__StyledButton-sc-ws60qy-0 rbNwZ ref-selector-class"><span data-component="buttonContent" class="Box-sc-g0xbh4-0 kkrdEu"><span data-component="text"><div class="Box-sc-g0xbh4-0 cFPoqW"><div class="Box-sc-g0xbh4-0 kYlvBX"><svg aria-hidden="true" focusable="false" role="img" class="octicon octicon-git-branch" viewBox="0 0 16 16" width="16" height="16" fill="currentColor" style="display: inline-block; user-select: none; vertical-align: text-bottom; overflow: visible;"><path d="M9.5 3.25a2.25 2.25 0 1 1 3 2.122V6A2.5 2.5 0 0 1 10 8.5H6a1 1 0 0 0-1 1v1.128a2.251 2.251 0 1 1-1.5 0V5.372a2.25 2.25 0 1 1 1.5 0v1.836A2.493 2.493 0 0 1 6 7h4a1 1 0 0 0 1-1v-.628A2.25 2.25 0 0 1 9.5 3.25Zm-6 0a.75.75 0 1 0 1.5 0 .75.75 0 0 0-1.5 0Zm8.25-.75a.75.75 0 1 0 0 1.5.75.75 0 0 0 0-1.5ZM4.25 12a.75.75 0 1 0 0 1.5.75.75 0 0 0 0-1.5Z"></path></svg></div><div class="Box-sc-g0xbh4-0 dKmYfk"><span class="Text-sc-17v1xeu-0 bOMzPg">&nbsp;main</span></div></div></span><span data-component="trailingVisual" class="Box-sc-g0xbh4-0 trpoQ"><svg aria-hidden="true" focusable="false" role="img" class="octicon octicon-triangle-down" viewBox="0 0 16 16" width="16" height="16" fill="currentColor" style="display: inline-block; user-select: none; vertical-align: text-bottom; overflow: visible;"><path d="m4.427 7.427 3.396 3.396a.25.25 0 0 0 .354 0l3.396-3.396A.25.25 0 0 0 11.396 7H4.604a.25.25 0 0 0-.177.427Z"></path></svg></span></span></button><button hidden="" data-hotkey="w" data-hotkey-scope="read-only-cursor-text-area"></button></div><div class="Box-sc-g0xbh4-0 jKPiSV"><div class="Box-sc-g0xbh4-0 iZJewz"><nav data-testid="breadcrumbs" aria-labelledby="sticky-breadcrumb-heading" id="sticky-breadcrumb" class="Box-sc-g0xbh4-0 kzRgrI"><h2 class="Heading__StyledHeading-sc-1c1dgg0-0 cgQnMS sr-only" data-testid="screen-reader-heading" id="sticky-breadcrumb-heading">Breadcrumbs</h2><ol class="Box-sc-g0xbh4-0 cmAPIB"><li class="Box-sc-g0xbh4-0 jwXCBK"><a sx="[object Object]" data-testid="breadcrumbs-repo-link" class="Link__StyledLink-sc-14289xe-0 eVjWum" href="/scottbarnett97/python-exercises/tree/main">python-exercises</a></li></ol></nav><div data-testid="breadcrumbs-filename" class="Box-sc-g0xbh4-0 jwXCBK"><span aria-hidden="true" class="Text-sc-17v1xeu-0 dZAxGI">/</span><h1 tabindex="-1" id="sticky-file-name-id" class="Heading__StyledHeading-sc-1c1dgg0-0 jAEDJk">import_exercises.ipynb</h1></div></div></div></div><button type="button" data-size="small" class="types__StyledButton-sc-ws60qy-0 ilBLPF"><span data-component="buttonContent" class="Box-sc-g0xbh4-0 kkrdEu"><span data-component="leadingVisual" class="Box-sc-g0xbh4-0 trpoQ"><svg aria-hidden="true" focusable="false" role="img" class="octicon octicon-arrow-up" viewBox="0 0 16 16" width="16" height="16" fill="currentColor" style="display: inline-block; user-select: none; vertical-align: text-bottom; overflow: visible;"><path d="M3.47 7.78a.75.75 0 0 1 0-1.06l4.25-4.25a.75.75 0 0 1 1.06 0l4.25 4.25a.751.751 0 0 1-.018 1.042.751.751 0 0 1-1.042.018L9 4.81v7.44a.75.75 0 0 1-1.5 0V4.81L4.53 7.78a.75.75 0 0 1-1.06 0Z"></path></svg></span><span data-component="text">Top</span></span></button></div></div><div class="Box-sc-g0xbh4-0 bEZxjx"><h2 class="Heading__StyledHeading-sc-1c1dgg0-0 cgQnMS sr-only" data-testid="screen-reader-heading">File metadata and controls</h2><div class="Box-sc-g0xbh4-0 bfkNRF"><ul aria-label="File view" class="SegmentedControl__SegmentedControlList-sc-1rzig82-0 iYVwMz"><li class="Box-sc-g0xbh4-0 fXBLEV"><button aria-current="true" data-hotkey="Meta+/ Meta+p" class="SegmentedControlButton__SegmentedControlButtonStyled-sc-8lkgxl-0 bDmUQT"><span class="segmentedControl-content"><div class="Box-sc-g0xbh4-0 segmentedControl-text">Preview</div></span></button></li><li class="Box-sc-g0xbh4-0 jkTWSe"><button aria-current="false" data-hotkey="Meta+/ Meta+c" class="SegmentedControlButton__SegmentedControlButtonStyled-sc-8lkgxl-0 fzMylw"><span class="segmentedControl-content"><div class="Box-sc-g0xbh4-0 segmentedControl-text">Code</div></span></button></li><li class="Box-sc-g0xbh4-0 jkTWSe"><button aria-current="false" data-hotkey="b,B,Meta+/ Meta+b" class="SegmentedControlButton__SegmentedControlButtonStyled-sc-8lkgxl-0 hBvGcq"><span class="segmentedControl-content"><div class="Box-sc-g0xbh4-0 segmentedControl-text">Blame</div></span></button></li></ul><button hidden="" data-testid="" data-hotkey="Meta+/ Meta+c" data-hotkey-scope="read-only-cursor-text-area"></button><button hidden="" data-testid="" data-hotkey="b,B,Meta+/ Meta+b" data-hotkey-scope="read-only-cursor-text-area"></button><button hidden="" data-testid="" data-hotkey="Meta+/ Meta+p" data-hotkey-scope="read-only-cursor-text-area"></button><div class="Box-sc-g0xbh4-0 react-code-size-details-in-header"><div class="Box-sc-g0xbh4-0 bZpGqz text-mono"><div title="99.2 KB" data-testid="blob-size" class="Truncate__StyledTruncate-sc-23o1d2-0 fUpWeN"><span class="Text-sc-17v1xeu-0 gPDEWA">885 lines (885 loc) · 99.2 KB</span></div></div></div></div><div class="Box-sc-g0xbh4-0 iBylDf"><button hidden="" data-testid="" data-hotkey="Meta+Shift+." data-hotkey-scope="read-only-cursor-text-area"></button><button hidden="" data-hotkey="Meta+Shift+."></button><button hidden="" data-testid="" data-hotkey="Meta+Shift+," data-hotkey-scope="read-only-cursor-text-area"></button><button hidden="" data-hotkey="Meta+Shift+,"></button><div class="Box-sc-g0xbh4-0 kSGBPx react-blob-header-edit-and-raw-actions"><div class="ButtonGroup-sc-1gxhls1-0 cjbBGq"><a href="/scottbarnett97/python-exercises/raw/main/import_exercises.ipynb" data-testid="raw-button" data-hotkey="Meta+/ Meta+r" data-size="small" data-no-visuals="true" class="types__StyledButton-sc-ws60qy-0 FKJZl"><span data-component="buttonContent" class="Box-sc-g0xbh4-0 kkrdEu"><span data-component="text">Raw</span></span></a><button data-component="IconButton" aria-label="Copy raw content" data-testid="copy-raw-button" data-hotkey="Meta+Shift+c" data-size="small" data-no-visuals="true" class="types__StyledButton-sc-ws60qy-0 kDtVkY"><svg aria-hidden="true" focusable="false" role="img" class="octicon octicon-copy" viewBox="0 0 16 16" width="16" height="16" fill="currentColor" style="display: inline-block; user-select: none; vertical-align: text-bottom; overflow: visible;"><path d="M0 6.75C0 5.784.784 5 1.75 5h1.5a.75.75 0 0 1 0 1.5h-1.5a.25.25 0 0 0-.25.25v7.5c0 .138.112.25.25.25h7.5a.25.25 0 0 0 .25-.25v-1.5a.75.75 0 0 1 1.5 0v1.5A1.75 1.75 0 0 1 9.25 16h-7.5A1.75 1.75 0 0 1 0 14.25Z"></path><path d="M5 1.75C5 .784 5.784 0 6.75 0h7.5C15.216 0 16 .784 16 1.75v7.5A1.75 1.75 0 0 1 14.25 11h-7.5A1.75 1.75 0 0 1 5 9.25Zm1.75-.25a.25.25 0 0 0-.25.25v7.5c0 .138.112.25.25.25h7.5a.25.25 0 0 0 .25-.25v-7.5a.25.25 0 0 0-.25-.25Z"></path></svg></button><span role="tooltip" aria-label="Download raw file" class="Tooltip__TooltipBase-sc-uha8qm-0 hFFfJn tooltipped-n"><button data-component="IconButton" aria-label="Download raw content" data-testid="download-raw-button" data-hotkey="Meta+Shift+s" data-size="small" data-no-visuals="true" class="types__StyledButton-sc-ws60qy-0 dNIOnL"><svg aria-hidden="true" focusable="false" role="img" class="octicon octicon-download" viewBox="0 0 16 16" width="16" height="16" fill="currentColor" style="display: inline-block; user-select: none; vertical-align: text-bottom; overflow: visible;"><path d="M2.75 14A1.75 1.75 0 0 1 1 12.25v-2.5a.75.75 0 0 1 1.5 0v2.5c0 .138.112.25.25.25h10.5a.25.25 0 0 0 .25-.25v-2.5a.75.75 0 0 1 1.5 0v2.5A1.75 1.75 0 0 1 13.25 14Z"></path><path d="M7.25 7.689V2a.75.75 0 0 1 1.5 0v5.689l1.97-1.969a.749.749 0 1 1 1.06 1.06l-3.25 3.25a.749.749 0 0 1-1.06 0L4.22 6.78a.749.749 0 1 1 1.06-1.06l1.97 1.969Z"></path></svg></button></span></div><button hidden="" data-testid="raw-button-shortcut" data-hotkey="Meta+/ Meta+r" data-hotkey-scope="read-only-cursor-text-area"></button><button hidden="" data-testid="copy-raw-button-shortcut" data-hotkey="Meta+Shift+c" data-hotkey-scope="read-only-cursor-text-area"></button><button hidden="" data-testid="download-raw-button-shortcut" data-hotkey="Meta+Shift+s" data-hotkey-scope="read-only-cursor-text-area"></button></div><div class="Box-sc-g0xbh4-0 react-blob-header-edit-and-raw-actions-combined"><button data-component="IconButton" aria-label="Edit and raw actions" class="types__StyledButton-sc-ws60qy-0 gpOPJf js-blob-dropdown-click" title="More file actions" data-testid="more-file-actions-button" id=":r5:" aria-haspopup="true" tabindex="0" data-size="small" data-no-visuals="true"><svg aria-hidden="true" focusable="false" role="img" class="octicon octicon-kebab-horizontal" viewBox="0 0 16 16" width="16" height="16" fill="currentColor" style="display: inline-block; user-select: none; vertical-align: text-bottom; overflow: visible;"><path d="M8 9a1.5 1.5 0 1 0 0-3 1.5 1.5 0 0 0 0 3ZM1.5 9a1.5 1.5 0 1 0 0-3 1.5 1.5 0 0 0 0 3Zm13 0a1.5 1.5 0 1 0 0-3 1.5 1.5 0 0 0 0 3Z"></path></svg></button></div></div></div></div><div class="Box-sc-g0xbh4-0"></div></div><div class="Box-sc-g0xbh4-0 flDsrw"><section aria-labelledby="file-name-id" class="Box-sc-g0xbh4-0 cJzElx"><div class="Box-sc-g0xbh4-0 civZtx"><div data-hpc="true" data-host="https://notebooks.githubusercontent.com" data-type="ipynb" class="Box-sc-g0xbh4-0 A-dWTO"><svg height="64px" width="64px" viewBox="0 0 16 16" fill="none" sx="[object Object]" class="Spinner__StyledSpinner-sc-1knt686-0 hcssAX"><circle cx="8" cy="8" r="7" stroke="currentColor" stroke-opacity="0.25" stroke-width="2" vector-effect="non-scaling-stroke"></circle><path d="M15 8a7.002 7.002 0 00-7-7" stroke="currentColor" stroke-width="2" stroke-linecap="round" vector-effect="non-scaling-stroke"></path></svg><iframe src="https://notebooks.githubusercontent.com/view/ipynb?browser=chrome&amp;bypass_fastly=true&amp;color_mode=auto&amp;commit=feb31520757e3d3cb3d21c7e32dc1cb2030a6443&amp;device=unknown_device&amp;docs_host=https%3A%2F%2Fdocs.github.com&amp;enc_url=68747470733a2f2f7261772e67697468756275736572636f6e74656e742e636f6d2f73636f74746261726e65747439372f707974686f6e2d6578657263697365732f666562333135323037353765336433636233643231633765333264633163623230333061363434332f696d706f72745f6578657263697365732e6970796e62&amp;logged_in=false&amp;nwo=scottbarnett97%2Fpython-exercises&amp;path=import_exercises.ipynb&amp;platform=mac&amp;repository_id=615129265&amp;repository_type=Repository&amp;version=114#8d39a439-b3a5-43b1-93ad-9b070dab062f" sandbox="allow-scripts allow-same-origin allow-top-navigation" name="8d39a439-b3a5-43b1-93ad-9b070dab062f" title="File display" class="Box-sc-g0xbh4-0 WPecd">Viewer requires iframe.</iframe></div></div></section></div><div class="Popover js-hovercard-content position-absolute" tabindex="0" style="display: none; outline: none;"><div class="Popover-message Popover-message--bottom-left Popover-message--large Box color-shadow-large" style="width: 360px;"></div></div></div></div>   </div></div></div><div class="Box-sc-g0xbh4-0"></div></main></div></div></div><div id="find-result-marks-container" class="Box-sc-g0xbh4-0 aZrVR"></div><button hidden="" data-testid="" data-hotkey="Meta+F6,Meta+Shift+F6" data-hotkey-scope="read-only-cursor-text-area"></button><button hidden="" data-hotkey="Meta+F6,Meta+Shift+F6"></button></div>    </div><script type="application/json" id="__PRIMER_DATA__">{"resolvedServerColorMode":"day"}</script></div>
</react-app>




  </div>

</turbo-frame>

    </main>
  </div>

  </div>

          <footer class="footer width-full container-xl p-responsive" role="contentinfo" hidden="">
  <h2 class="sr-only">Footer</h2>

  <div class="position-relative d-flex flex-items-center pb-2 f6 color-fg-muted color-border-muted flex-column-reverse flex-lg-row flex-wrap flex-lg-nowrap mt-0 pt-6">
    <div class="list-style-none d-flex flex-wrap col-0 col-lg-2 flex-justify-start flex-lg-justify-between mb-2 mb-lg-0">
      <div class="mt-2 mt-lg-0 d-flex flex-items-center">
        <a aria-label="Homepage" title="GitHub" class="footer-octicon mr-2" href="https://github.com">
          <svg aria-hidden="true" height="24" viewBox="0 0 16 16" version="1.1" width="24" data-view-component="true" class="octicon octicon-mark-github">
    <path d="M8 0c4.42 0 8 3.58 8 8a8.013 8.013 0 0 1-5.45 7.59c-.4.08-.55-.17-.55-.38 0-.27.01-1.13.01-2.2 0-.75-.25-1.23-.54-1.48 1.78-.2 3.65-.88 3.65-3.95 0-.88-.31-1.59-.82-2.15.08-.2.36-1.02-.08-2.12 0 0-.67-.22-2.2.82-.64-.18-1.32-.27-2-.27-.68 0-1.36.09-2 .27-1.53-1.03-2.2-.82-2.2-.82-.44 1.1-.16 1.92-.08 2.12-.51.56-.82 1.28-.82 2.15 0 3.06 1.86 3.75 3.64 3.95-.23.2-.44.55-.51 1.07-.46.21-1.61.55-2.33-.66-.15-.24-.6-.83-1.23-.82-.67.01-.27.38.01.53.34.19.73.9.82 1.13.16.45.68 1.31 2.69.94 0 .67.01 1.3.01 1.49 0 .21-.15.45-.55.38A7.995 7.995 0 0 1 0 8c0-4.42 3.58-8 8-8Z"></path>
</svg>
</a>        <span>
        © 2023 GitHub, Inc.
        </span>
      </div>
    </div>

    <nav aria-label="Footer" class="col-12 col-lg-8">
      <h3 class="sr-only" id="sr-footer-heading">Footer navigation</h3>
      <ul class="list-style-none d-flex flex-wrap col-12 flex-justify-center flex-lg-justify-between mb-2 mb-lg-0" aria-labelledby="sr-footer-heading">
          <li class="mr-3 mr-lg-0"><a href="https://docs.github.com/site-policy/github-terms/github-terms-of-service" data-analytics-event="{&quot;category&quot;:&quot;Footer&quot;,&quot;action&quot;:&quot;go to terms&quot;,&quot;label&quot;:&quot;text:terms&quot;}">Terms</a></li>
          <li class="mr-3 mr-lg-0"><a href="https://docs.github.com/site-policy/privacy-policies/github-privacy-statement" data-analytics-event="{&quot;category&quot;:&quot;Footer&quot;,&quot;action&quot;:&quot;go to privacy&quot;,&quot;label&quot;:&quot;text:privacy&quot;}">Privacy</a></li>
          <li class="mr-3 mr-lg-0"><a data-analytics-event="{&quot;category&quot;:&quot;Footer&quot;,&quot;action&quot;:&quot;go to security&quot;,&quot;label&quot;:&quot;text:security&quot;}" href="https://github.com/security">Security</a></li>
          <li class="mr-3 mr-lg-0"><a href="https://www.githubstatus.com/" data-analytics-event="{&quot;category&quot;:&quot;Footer&quot;,&quot;action&quot;:&quot;go to status&quot;,&quot;label&quot;:&quot;text:status&quot;}">Status</a></li>
          <li class="mr-3 mr-lg-0"><a data-ga-click="Footer, go to help, text:Docs" href="https://docs.github.com">Docs</a></li>
          <li class="mr-3 mr-lg-0"><a href="https://support.github.com?tags=dotcom-footer" data-analytics-event="{&quot;category&quot;:&quot;Footer&quot;,&quot;action&quot;:&quot;go to contact&quot;,&quot;label&quot;:&quot;text:contact&quot;}">Contact GitHub</a></li>
          <li class="mr-3 mr-lg-0"><a href="https://github.com/pricing" data-analytics-event="{&quot;category&quot;:&quot;Footer&quot;,&quot;action&quot;:&quot;go to Pricing&quot;,&quot;label&quot;:&quot;text:Pricing&quot;}">Pricing</a></li>
        <li class="mr-3 mr-lg-0"><a href="https://docs.github.com" data-analytics-event="{&quot;category&quot;:&quot;Footer&quot;,&quot;action&quot;:&quot;go to api&quot;,&quot;label&quot;:&quot;text:api&quot;}">API</a></li>
        <li class="mr-3 mr-lg-0"><a href="https://services.github.com" data-analytics-event="{&quot;category&quot;:&quot;Footer&quot;,&quot;action&quot;:&quot;go to training&quot;,&quot;label&quot;:&quot;text:training&quot;}">Training</a></li>
          <li class="mr-3 mr-lg-0"><a href="https://github.blog" data-analytics-event="{&quot;category&quot;:&quot;Footer&quot;,&quot;action&quot;:&quot;go to blog&quot;,&quot;label&quot;:&quot;text:blog&quot;}">Blog</a></li>
          <li><a data-ga-click="Footer, go to about, text:about" href="https://github.com/about">About</a></li>
      </ul>
    </nav>
  </div>

  <div class="d-flex flex-justify-center pb-6">
    <span class="f6 color-fg-muted"></span>
  </div>
</footer>




  <div id="ajax-error-message" class="ajax-error-message flash flash-error" hidden="">
    <svg aria-hidden="true" height="16" viewBox="0 0 16 16" version="1.1" width="16" data-view-component="true" class="octicon octicon-alert">
    <path d="M6.457 1.047c.659-1.234 2.427-1.234 3.086 0l6.082 11.378A1.75 1.75 0 0 1 14.082 15H1.918a1.75 1.75 0 0 1-1.543-2.575Zm1.763.707a.25.25 0 0 0-.44 0L1.698 13.132a.25.25 0 0 0 .22.368h12.164a.25.25 0 0 0 .22-.368Zm.53 3.996v2.5a.75.75 0 0 1-1.5 0v-2.5a.75.75 0 0 1 1.5 0ZM9 11a1 1 0 1 1-2 0 1 1 0 0 1 2 0Z"></path>
</svg>
    <button type="button" class="flash-close js-ajax-error-dismiss" aria-label="Dismiss error">
      <svg aria-hidden="true" height="16" viewBox="0 0 16 16" version="1.1" width="16" data-view-component="true" class="octicon octicon-x">
    <path d="M3.72 3.72a.75.75 0 0 1 1.06 0L8 6.94l3.22-3.22a.749.749 0 0 1 1.275.326.749.749 0 0 1-.215.734L9.06 8l3.22 3.22a.749.749 0 0 1-.326 1.275.749.749 0 0 1-.734-.215L8 9.06l-3.22 3.22a.751.751 0 0 1-1.042-.018.751.751 0 0 1-.018-1.042L6.94 8 3.72 4.78a.75.75 0 0 1 0-1.06Z"></path>
</svg>
    </button>
    You can’t perform that action at this time.
  </div>

    <template id="site-details-dialog">
  <details class="details-reset details-overlay details-overlay-dark lh-default color-fg-default hx_rsm" open="">
    <summary role="button" aria-label="Close dialog"></summary>
    <details-dialog class="Box Box--overlay d-flex flex-column anim-fade-in fast hx_rsm-dialog hx_rsm-modal">
      <button class="Box-btn-octicon m-0 btn-octicon position-absolute right-0 top-0" type="button" aria-label="Close dialog" data-close-dialog="">
        <svg aria-hidden="true" height="16" viewBox="0 0 16 16" version="1.1" width="16" data-view-component="true" class="octicon octicon-x">
    <path d="M3.72 3.72a.75.75 0 0 1 1.06 0L8 6.94l3.22-3.22a.749.749 0 0 1 1.275.326.749.749 0 0 1-.215.734L9.06 8l3.22 3.22a.749.749 0 0 1-.326 1.275.749.749 0 0 1-.734-.215L8 9.06l-3.22 3.22a.751.751 0 0 1-1.042-.018.751.751 0 0 1-.018-1.042L6.94 8 3.72 4.78a.75.75 0 0 1 0-1.06Z"></path>
</svg>
      </button>
      <div class="octocat-spinner my-6 js-details-dialog-spinner"></div>
    </details-dialog>
  </details>
</template>

    <div class="Popover js-hovercard-content position-absolute" style="display: none; outline: none;" tabindex="0">
  <div class="Popover-message Popover-message--bottom-left Popover-message--large Box color-shadow-large" style="width:360px;"></div>
</div>

    <template id="snippet-clipboard-copy-button">
  <div class="zeroclipboard-container position-absolute right-0 top-0">
    <clipboard-copy aria-label="Copy" class="ClipboardButton btn js-clipboard-copy m-2 p-0 tooltipped-no-delay" data-copy-feedback="Copied!" data-tooltip-direction="w">
      <svg aria-hidden="true" height="16" viewBox="0 0 16 16" version="1.1" width="16" data-view-component="true" class="octicon octicon-copy js-clipboard-copy-icon m-2">
    <path d="M0 6.75C0 5.784.784 5 1.75 5h1.5a.75.75 0 0 1 0 1.5h-1.5a.25.25 0 0 0-.25.25v7.5c0 .138.112.25.25.25h7.5a.25.25 0 0 0 .25-.25v-1.5a.75.75 0 0 1 1.5 0v1.5A1.75 1.75 0 0 1 9.25 16h-7.5A1.75 1.75 0 0 1 0 14.25Z"></path><path d="M5 1.75C5 .784 5.784 0 6.75 0h7.5C15.216 0 16 .784 16 1.75v7.5A1.75 1.75 0 0 1 14.25 11h-7.5A1.75 1.75 0 0 1 5 9.25Zm1.75-.25a.25.25 0 0 0-.25.25v7.5c0 .138.112.25.25.25h7.5a.25.25 0 0 0 .25-.25v-7.5a.25.25 0 0 0-.25-.25Z"></path>
</svg>
      <svg aria-hidden="true" height="16" viewBox="0 0 16 16" version="1.1" width="16" data-view-component="true" class="octicon octicon-check js-clipboard-check-icon color-fg-success d-none m-2">
    <path d="M13.78 4.22a.75.75 0 0 1 0 1.06l-7.25 7.25a.75.75 0 0 1-1.06 0L2.22 9.28a.751.751 0 0 1 .018-1.042.751.751 0 0 1 1.042-.018L6 10.94l6.72-6.72a.75.75 0 0 1 1.06 0Z"></path>
</svg>
    </clipboard-copy>
  </div>
</template>
<template id="snippet-clipboard-copy-button-unpositioned">
  <div class="zeroclipboard-container">
    <clipboard-copy aria-label="Copy" class="ClipboardButton btn btn-invisible js-clipboard-copy m-2 p-0 tooltipped-no-delay d-flex flex-justify-center flex-items-center" data-copy-feedback="Copied!" data-tooltip-direction="w">
      <svg aria-hidden="true" height="16" viewBox="0 0 16 16" version="1.1" width="16" data-view-component="true" class="octicon octicon-copy js-clipboard-copy-icon">
    <path d="M0 6.75C0 5.784.784 5 1.75 5h1.5a.75.75 0 0 1 0 1.5h-1.5a.25.25 0 0 0-.25.25v7.5c0 .138.112.25.25.25h7.5a.25.25 0 0 0 .25-.25v-1.5a.75.75 0 0 1 1.5 0v1.5A1.75 1.75 0 0 1 9.25 16h-7.5A1.75 1.75 0 0 1 0 14.25Z"></path><path d="M5 1.75C5 .784 5.784 0 6.75 0h7.5C15.216 0 16 .784 16 1.75v7.5A1.75 1.75 0 0 1 14.25 11h-7.5A1.75 1.75 0 0 1 5 9.25Zm1.75-.25a.25.25 0 0 0-.25.25v7.5c0 .138.112.25.25.25h7.5a.25.25 0 0 0 .25-.25v-7.5a.25.25 0 0 0-.25-.25Z"></path>
</svg>
      <svg aria-hidden="true" height="16" viewBox="0 0 16 16" version="1.1" width="16" data-view-component="true" class="octicon octicon-check js-clipboard-check-icon color-fg-success d-none">
    <path d="M13.78 4.22a.75.75 0 0 1 0 1.06l-7.25 7.25a.75.75 0 0 1-1.06 0L2.22 9.28a.751.751 0 0 1 .018-1.042.751.751 0 0 1 1.042-.018L6 10.94l6.72-6.72a.75.75 0 0 1 1.06 0Z"></path>
</svg>
    </clipboard-copy>
  </div>
</template>




    </div>

    <div id="js-global-screen-reader-notice" class="sr-only" aria-live="polite">python-exercises/import_exercises.ipynb at main · scottbarnett97/python-exercises · GitHub</div>
  




</body></html>